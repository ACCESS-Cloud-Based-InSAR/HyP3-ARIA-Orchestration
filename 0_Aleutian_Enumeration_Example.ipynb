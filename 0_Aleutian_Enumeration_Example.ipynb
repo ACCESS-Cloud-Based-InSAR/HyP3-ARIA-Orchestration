{
 "cells": [
  {
   "cell_type": "markdown",
   "metadata": {},
   "source": [
    "This is to demonstrate how to use the `s1-enumerator` to get a full time series of GUNWs.\n",
    "\n",
    "We are going basically take each month in acceptable date range and increment by a month and make sure the temporal window is large enough to ensure connectivity across data gaps."
   ]
  },
  {
   "cell_type": "code",
   "execution_count": 1,
   "metadata": {
    "ExecuteTime": {
     "end_time": "2022-01-21T01:20:27.309580Z",
     "start_time": "2022-01-21T01:20:27.292039Z"
    }
   },
   "outputs": [],
   "source": [
    "%load_ext autoreload\n",
    "%autoreload 2"
   ]
  },
  {
   "cell_type": "code",
   "execution_count": 2,
   "metadata": {
    "ExecuteTime": {
     "end_time": "2022-01-21T01:20:29.132256Z",
     "start_time": "2022-01-21T01:20:27.311376Z"
    }
   },
   "outputs": [],
   "source": [
    "from s1_enumerator import get_aoi_dataframe,  distill_all_pairs, enumerate_ifgs, get_s1_coverage_tiles, enumerate_ifgs_from_stack, get_s1_stack_by_dataframe\n",
    "import concurrent\n",
    "from s1_enumerator import duplicate_gunw_found\n",
    "from tqdm import tqdm\n",
    "from shapely.geometry import Point\n",
    "import datetime\n",
    "import pandas as pd\n",
    "import geopandas as gpd\n",
    "import matplotlib.pyplot as plt\n",
    "from dateutil.relativedelta import relativedelta\n",
    "import networkx as nx\n",
    "import boto3\n"
   ]
  },
  {
   "cell_type": "code",
   "execution_count": 3,
   "metadata": {
    "ExecuteTime": {
     "end_time": "2022-01-21T01:20:29.185842Z",
     "start_time": "2022-01-21T01:20:29.134452Z"
    }
   },
   "outputs": [
    {
     "data": {
      "image/svg+xml": [
       "<svg xmlns=\"http://www.w3.org/2000/svg\" xmlns:xlink=\"http://www.w3.org/1999/xlink\" width=\"100.0\" height=\"100.0\" viewBox=\"-166.3690834 53.908103600000004 4.815406800000005 2.535987799999994\" preserveAspectRatio=\"xMinYMin meet\"><g transform=\"matrix(1,0,0,-1,0,110.352195)\"><path fill-rule=\"evenodd\" fill=\"#66cc99\" stroke=\"#555555\" stroke-width=\"0.0963081360000001\" opacity=\"0.6\" d=\"M -166.190735,55.864071 L -162.209351,56.265743 L -161.732025,54.483067 L -165.537231,54.086452 L -166.190735,55.864071 z\" /></g></svg>"
      ],
      "text/plain": [
       "<shapely.geometry.polygon.Polygon at 0x7fdbc8326790>"
      ]
     },
     "execution_count": 3,
     "metadata": {},
     "output_type": "execute_result"
    }
   ],
   "source": [
    "df_aoi = gpd.read_file('aois/Aleutians_pathNumber124.geojson')\n",
    "aoi = df_aoi.geometry.unary_union\n",
    "aoi"
   ]
  },
  {
   "cell_type": "code",
   "execution_count": 4,
   "metadata": {
    "ExecuteTime": {
     "end_time": "2022-01-21T01:20:29.227423Z",
     "start_time": "2022-01-21T01:20:29.190102Z"
    }
   },
   "outputs": [
    {
     "data": {
      "text/html": [
       "<div>\n",
       "<style scoped>\n",
       "    .dataframe tbody tr th:only-of-type {\n",
       "        vertical-align: middle;\n",
       "    }\n",
       "\n",
       "    .dataframe tbody tr th {\n",
       "        vertical-align: top;\n",
       "    }\n",
       "\n",
       "    .dataframe thead th {\n",
       "        text-align: right;\n",
       "    }\n",
       "</style>\n",
       "<table border=\"1\" class=\"dataframe\">\n",
       "  <thead>\n",
       "    <tr style=\"text-align: right;\">\n",
       "      <th></th>\n",
       "      <th>aoi_name</th>\n",
       "      <th>path_number</th>\n",
       "      <th>min_days_backward</th>\n",
       "      <th>month_range_lower</th>\n",
       "      <th>month_range_upper</th>\n",
       "      <th>num_neighbors_ref</th>\n",
       "      <th>geometry</th>\n",
       "    </tr>\n",
       "  </thead>\n",
       "  <tbody>\n",
       "    <tr>\n",
       "      <th>0</th>\n",
       "      <td>Aleutians</td>\n",
       "      <td>124</td>\n",
       "      <td>364</td>\n",
       "      <td>6</td>\n",
       "      <td>10</td>\n",
       "      <td>3</td>\n",
       "      <td>POLYGON Z ((-166.19073 55.86407 0.00000, -162....</td>\n",
       "    </tr>\n",
       "    <tr>\n",
       "      <th>1</th>\n",
       "      <td>Aleutians</td>\n",
       "      <td>124</td>\n",
       "      <td>0</td>\n",
       "      <td>6</td>\n",
       "      <td>10</td>\n",
       "      <td>3</td>\n",
       "      <td>POLYGON Z ((-166.19073 55.86407 0.00000, -162....</td>\n",
       "    </tr>\n",
       "  </tbody>\n",
       "</table>\n",
       "</div>"
      ],
      "text/plain": [
       "    aoi_name  path_number  min_days_backward  month_range_lower  \\\n",
       "0  Aleutians          124                364                  6   \n",
       "1  Aleutians          124                  0                  6   \n",
       "\n",
       "   month_range_upper  num_neighbors_ref  \\\n",
       "0                 10                  3   \n",
       "1                 10                  3   \n",
       "\n",
       "                                            geometry  \n",
       "0  POLYGON Z ((-166.19073 55.86407 0.00000, -162....  \n",
       "1  POLYGON Z ((-166.19073 55.86407 0.00000, -162....  "
      ]
     },
     "execution_count": 4,
     "metadata": {},
     "output_type": "execute_result"
    }
   ],
   "source": [
    "df_aoi"
   ]
  },
  {
   "cell_type": "markdown",
   "metadata": {},
   "source": [
    "# Parameters"
   ]
  },
  {
   "cell_type": "code",
   "execution_count": 5,
   "metadata": {
    "ExecuteTime": {
     "end_time": "2022-01-21T01:20:29.259171Z",
     "start_time": "2022-01-21T01:20:29.229220Z"
    }
   },
   "outputs": [],
   "source": [
    "today = datetime.datetime.now()\n",
    "\n",
    "START_YEAR = 2016\n",
    "END_YEAR = today.year\n",
    "MONTHS_OF_INTEREST = [6, 7, 8, 9, 10]"
   ]
  },
  {
   "cell_type": "code",
   "execution_count": 6,
   "metadata": {
    "ExecuteTime": {
     "end_time": "2022-01-21T01:20:29.292246Z",
     "start_time": "2022-01-21T01:20:29.261028Z"
    }
   },
   "outputs": [
    {
     "data": {
      "text/plain": [
       "[datetime.datetime(2021, 10, 1, 0, 0),\n",
       " datetime.datetime(2021, 9, 1, 0, 0),\n",
       " datetime.datetime(2021, 8, 1, 0, 0)]"
      ]
     },
     "execution_count": 6,
     "metadata": {},
     "output_type": "execute_result"
    }
   ],
   "source": [
    "reference_dates = [datetime.datetime(year, month, 1) \n",
    "                   for year in range(START_YEAR, END_YEAR + 1)\n",
    "                   for month in MONTHS_OF_INTEREST\n",
    "                   if datetime.datetime(year, month, 1) < today]\n",
    "reference_dates = list(reversed(reference_dates))\n",
    "reference_dates[:3]"
   ]
  },
  {
   "cell_type": "code",
   "execution_count": 7,
   "metadata": {
    "ExecuteTime": {
     "end_time": "2022-01-21T01:20:29.326703Z",
     "start_time": "2022-01-21T01:20:29.295136Z"
    }
   },
   "outputs": [
    {
     "data": {
      "text/plain": [
       "[datetime.datetime(2021, 10, 1, 0, 0),\n",
       " datetime.datetime(2021, 9, 1, 0, 0),\n",
       " datetime.datetime(2021, 8, 1, 0, 0)]"
      ]
     },
     "execution_count": 7,
     "metadata": {},
     "output_type": "execute_result"
    }
   ],
   "source": [
    "secondary_dates = [ref_date + relativedelta(months=1) for ref_date in reference_dates]\n",
    "secondary_dates = secondary_dates[1:] + reference_dates[-1:]\n",
    "secondary_dates[:3]"
   ]
  },
  {
   "cell_type": "code",
   "execution_count": 8,
   "metadata": {
    "ExecuteTime": {
     "end_time": "2022-01-21T01:20:29.361736Z",
     "start_time": "2022-01-21T01:20:29.329253Z"
    }
   },
   "outputs": [
    {
     "name": "stdout",
     "output_type": "stream",
     "text": [
      "############################\n",
      "2021-10-01  to  2021-10-01\n",
      "or: days backward 0\n",
      "############################\n",
      "2021-09-01  to  2021-09-01\n",
      "or: days backward 0\n",
      "############################\n",
      "2021-08-01  to  2021-08-01\n",
      "or: days backward 0\n",
      "############################\n",
      "2021-07-01  to  2021-07-01\n",
      "or: days backward 0\n",
      "############################\n",
      "2021-06-01  to  2020-11-01\n",
      "or: days backward 212\n",
      "############################\n",
      "2020-10-01  to  2020-10-01\n",
      "or: days backward 0\n"
     ]
    }
   ],
   "source": [
    "for ref, sec in zip(reference_dates[:6], secondary_dates):\n",
    "    print('############################')\n",
    "    print(ref.date(), ' to ', sec.date())\n",
    "    print('or: days backward', (ref - sec).days)"
   ]
  },
  {
   "cell_type": "code",
   "execution_count": 9,
   "metadata": {
    "ExecuteTime": {
     "end_time": "2022-01-21T01:20:29.398992Z",
     "start_time": "2022-01-21T01:20:29.363531Z"
    }
   },
   "outputs": [
    {
     "data": {
      "text/plain": [
       "[124]"
      ]
     },
     "execution_count": 9,
     "metadata": {},
     "output_type": "execute_result"
    }
   ],
   "source": [
    "path_numbers = df_aoi.path_number.unique().tolist()\n",
    "path_numbers"
   ]
  },
  {
   "cell_type": "markdown",
   "metadata": {},
   "source": [
    "# Generate tiles used for coverage\n",
    "\n",
    "This function just does a geometric query based on each frame and using one pass from the start date."
   ]
  },
  {
   "cell_type": "code",
   "execution_count": 10,
   "metadata": {
    "ExecuteTime": {
     "end_time": "2022-01-21T01:20:32.411553Z",
     "start_time": "2022-01-21T01:20:29.400780Z"
    }
   },
   "outputs": [],
   "source": [
    "df_coverage_tiles = get_s1_coverage_tiles(aoi,\n",
    "                                          # the date is used to get coverage tiles for extracting stack.\n",
    "                                          # Recent data has reliable coverage.\n",
    "                                          start_date=datetime.datetime(2021, 1, 1))"
   ]
  },
  {
   "cell_type": "markdown",
   "metadata": {},
   "source": [
    "# Generate a stack\n",
    "\n",
    "Using all the tiles that are needed to cover the AOI."
   ]
  },
  {
   "cell_type": "code",
   "execution_count": 11,
   "metadata": {
    "ExecuteTime": {
     "end_time": "2022-01-21T01:20:36.868000Z",
     "start_time": "2022-01-21T01:20:32.412954Z"
    }
   },
   "outputs": [
    {
     "name": "stderr",
     "output_type": "stream",
     "text": [
      "Downloading stack for 1 tiles: 100%|██████████| 1/1 [00:04<00:00,  4.37s/it]\n"
     ]
    }
   ],
   "source": [
    "df_stack = get_s1_stack_by_dataframe(df_coverage_tiles,\n",
    "                                     path_numbers=path_numbers)"
   ]
  },
  {
   "cell_type": "markdown",
   "metadata": {},
   "source": [
    "Filter by month."
   ]
  },
  {
   "cell_type": "code",
   "execution_count": 12,
   "metadata": {
    "ExecuteTime": {
     "end_time": "2022-01-21T01:20:36.910909Z",
     "start_time": "2022-01-21T01:20:36.869823Z"
    }
   },
   "outputs": [
    {
     "data": {
      "text/plain": [
       "(47, 27)"
      ]
     },
     "execution_count": 12,
     "metadata": {},
     "output_type": "execute_result"
    }
   ],
   "source": [
    "df_stack_month = df_stack[df_stack.start_date.dt.month.isin(MONTHS_OF_INTEREST)]\n",
    "df_stack_month.shape"
   ]
  },
  {
   "cell_type": "code",
   "execution_count": 13,
   "metadata": {
    "ExecuteTime": {
     "end_time": "2022-01-21T01:22:01.615745Z",
     "start_time": "2022-01-21T01:20:36.912542Z"
    }
   },
   "outputs": [
    {
     "name": "stderr",
     "output_type": "stream",
     "text": [
      "100%|██████████| 30/30 [01:24<00:00,  2.82s/it]\n"
     ]
    }
   ],
   "source": [
    "ifg_pairs = []\n",
    "\n",
    "for ref_date, sec_date in zip(tqdm(reference_dates), (secondary_dates)):\n",
    "    min_days_backward = (ref_date - sec_date).days\n",
    "    temporal_window_days=364 * 3\n",
    "    temp = enumerate_ifgs_from_stack(df_stack_month,\n",
    "                                     aoi,\n",
    "                                     ref_date,\n",
    "                                     enumeration_type='tile',\n",
    "                                     min_days_backward=(ref_date - sec_date).days,\n",
    "                                     num_neighbors_ref=3,\n",
    "                                     num_neighbors_sec=3,\n",
    "                                     temporal_window_days=temporal_window_days,\n",
    "                                     )\n",
    "    ifg_pairs += temp"
   ]
  },
  {
   "cell_type": "markdown",
   "metadata": {},
   "source": [
    "The numer of GUNWs will be the number of rows i.e.:"
   ]
  },
  {
   "cell_type": "markdown",
   "metadata": {},
   "source": [
    "# Get Dataframe"
   ]
  },
  {
   "cell_type": "code",
   "execution_count": 14,
   "metadata": {
    "ExecuteTime": {
     "end_time": "2022-01-21T01:22:01.835633Z",
     "start_time": "2022-01-21T01:22:01.617323Z"
    }
   },
   "outputs": [
    {
     "data": {
      "text/html": [
       "<div>\n",
       "<style scoped>\n",
       "    .dataframe tbody tr th:only-of-type {\n",
       "        vertical-align: middle;\n",
       "    }\n",
       "\n",
       "    .dataframe tbody tr th {\n",
       "        vertical-align: top;\n",
       "    }\n",
       "\n",
       "    .dataframe thead th {\n",
       "        text-align: right;\n",
       "    }\n",
       "</style>\n",
       "<table border=\"1\" class=\"dataframe\">\n",
       "  <thead>\n",
       "    <tr style=\"text-align: right;\">\n",
       "      <th></th>\n",
       "      <th>reference</th>\n",
       "      <th>secondary</th>\n",
       "      <th>reference_date</th>\n",
       "      <th>secondary_date</th>\n",
       "      <th>path_number</th>\n",
       "      <th>geometry</th>\n",
       "    </tr>\n",
       "  </thead>\n",
       "  <tbody>\n",
       "    <tr>\n",
       "      <th>0</th>\n",
       "      <td>[S1B_IW_SLC__1SDV_20211007T044004_20211007T044...</td>\n",
       "      <td>[S1B_IW_SLC__1SDV_20210925T044004_20210925T044...</td>\n",
       "      <td>2021-10-07</td>\n",
       "      <td>2021-09-25</td>\n",
       "      <td>124</td>\n",
       "      <td>POLYGON ((-165.42274 53.75625, -165.42274 53.7...</td>\n",
       "    </tr>\n",
       "    <tr>\n",
       "      <th>1</th>\n",
       "      <td>[S1B_IW_SLC__1SDV_20211007T044004_20211007T044...</td>\n",
       "      <td>[S1B_IW_SLC__1SDV_20210913T044003_20210913T044...</td>\n",
       "      <td>2021-10-07</td>\n",
       "      <td>2021-09-13</td>\n",
       "      <td>124</td>\n",
       "      <td>POLYGON ((-161.64831 54.15131, -161.64830 54.1...</td>\n",
       "    </tr>\n",
       "    <tr>\n",
       "      <th>2</th>\n",
       "      <td>[S1B_IW_SLC__1SDV_20211007T044004_20211007T044...</td>\n",
       "      <td>[S1B_IW_SLC__1SDV_20210901T044003_20210901T044...</td>\n",
       "      <td>2021-10-07</td>\n",
       "      <td>2021-09-01</td>\n",
       "      <td>124</td>\n",
       "      <td>POLYGON ((-165.42264 53.75599, -165.42264 53.7...</td>\n",
       "    </tr>\n",
       "    <tr>\n",
       "      <th>3</th>\n",
       "      <td>[S1B_IW_SLC__1SDV_20211019T044004_20211019T044...</td>\n",
       "      <td>[S1B_IW_SLC__1SDV_20210925T044004_20210925T044...</td>\n",
       "      <td>2021-10-19</td>\n",
       "      <td>2021-09-25</td>\n",
       "      <td>124</td>\n",
       "      <td>POLYGON ((-162.12128 55.93492, -162.12128 55.9...</td>\n",
       "    </tr>\n",
       "    <tr>\n",
       "      <th>4</th>\n",
       "      <td>[S1B_IW_SLC__1SDV_20211019T044004_20211019T044...</td>\n",
       "      <td>[S1B_IW_SLC__1SDV_20210913T044003_20210913T044...</td>\n",
       "      <td>2021-10-19</td>\n",
       "      <td>2021-09-13</td>\n",
       "      <td>124</td>\n",
       "      <td>POLYGON ((-161.64837 54.15157, -161.64837 54.1...</td>\n",
       "    </tr>\n",
       "  </tbody>\n",
       "</table>\n",
       "</div>"
      ],
      "text/plain": [
       "                                           reference  \\\n",
       "0  [S1B_IW_SLC__1SDV_20211007T044004_20211007T044...   \n",
       "1  [S1B_IW_SLC__1SDV_20211007T044004_20211007T044...   \n",
       "2  [S1B_IW_SLC__1SDV_20211007T044004_20211007T044...   \n",
       "3  [S1B_IW_SLC__1SDV_20211019T044004_20211019T044...   \n",
       "4  [S1B_IW_SLC__1SDV_20211019T044004_20211019T044...   \n",
       "\n",
       "                                           secondary reference_date  \\\n",
       "0  [S1B_IW_SLC__1SDV_20210925T044004_20210925T044...     2021-10-07   \n",
       "1  [S1B_IW_SLC__1SDV_20210913T044003_20210913T044...     2021-10-07   \n",
       "2  [S1B_IW_SLC__1SDV_20210901T044003_20210901T044...     2021-10-07   \n",
       "3  [S1B_IW_SLC__1SDV_20210925T044004_20210925T044...     2021-10-19   \n",
       "4  [S1B_IW_SLC__1SDV_20210913T044003_20210913T044...     2021-10-19   \n",
       "\n",
       "  secondary_date  path_number  \\\n",
       "0     2021-09-25          124   \n",
       "1     2021-09-13          124   \n",
       "2     2021-09-01          124   \n",
       "3     2021-09-25          124   \n",
       "4     2021-09-13          124   \n",
       "\n",
       "                                            geometry  \n",
       "0  POLYGON ((-165.42274 53.75625, -165.42274 53.7...  \n",
       "1  POLYGON ((-161.64831 54.15131, -161.64830 54.1...  \n",
       "2  POLYGON ((-165.42264 53.75599, -165.42264 53.7...  \n",
       "3  POLYGON ((-162.12128 55.93492, -162.12128 55.9...  \n",
       "4  POLYGON ((-161.64837 54.15157, -161.64837 54.1...  "
      ]
     },
     "execution_count": 14,
     "metadata": {},
     "output_type": "execute_result"
    }
   ],
   "source": [
    "df_pairs = distill_all_pairs(ifg_pairs)\n",
    "df_pairs.head()"
   ]
  },
  {
   "cell_type": "code",
   "execution_count": 15,
   "metadata": {
    "ExecuteTime": {
     "end_time": "2022-01-21T01:22:01.864236Z",
     "start_time": "2022-01-21T01:22:01.837120Z"
    }
   },
   "outputs": [
    {
     "data": {
      "text/plain": [
       "\"# of GUNWs: ' 270\""
      ]
     },
     "execution_count": 15,
     "metadata": {},
     "output_type": "execute_result"
    }
   ],
   "source": [
    "f\"# of GUNWs: ' {df_pairs.shape[0]}\""
   ]
  },
  {
   "cell_type": "markdown",
   "metadata": {
    "ExecuteTime": {
     "end_time": "2022-01-21T00:51:53.374968Z",
     "start_time": "2022-01-21T00:51:53.344139Z"
    }
   },
   "source": [
    "# Deduplication Pt. 1"
   ]
  },
  {
   "cell_type": "code",
   "execution_count": 16,
   "metadata": {
    "ExecuteTime": {
     "end_time": "2022-01-21T01:22:01.891887Z",
     "start_time": "2022-01-21T01:22:01.865804Z"
    }
   },
   "outputs": [],
   "source": [
    "import hashlib\n",
    "import json\n",
    "\n",
    "\n",
    "def get_gunw_hash_id(reference_ids: list, secondary_ids: list) -> str:\n",
    "    all_ids = json.dumps([' '.join(sorted(reference_ids)),\n",
    "                          ' '.join(sorted(secondary_ids))\n",
    "                          ]).encode('utf8')\n",
    "    hash_id = hashlib.md5(all_ids).hexdigest()\n",
    "    return hash_id"
   ]
  },
  {
   "cell_type": "code",
   "execution_count": 17,
   "metadata": {
    "ExecuteTime": {
     "end_time": "2022-01-21T01:22:01.934998Z",
     "start_time": "2022-01-21T01:22:01.893637Z"
    }
   },
   "outputs": [
    {
     "data": {
      "text/html": [
       "<div>\n",
       "<style scoped>\n",
       "    .dataframe tbody tr th:only-of-type {\n",
       "        vertical-align: middle;\n",
       "    }\n",
       "\n",
       "    .dataframe tbody tr th {\n",
       "        vertical-align: top;\n",
       "    }\n",
       "\n",
       "    .dataframe thead th {\n",
       "        text-align: right;\n",
       "    }\n",
       "</style>\n",
       "<table border=\"1\" class=\"dataframe\">\n",
       "  <thead>\n",
       "    <tr style=\"text-align: right;\">\n",
       "      <th></th>\n",
       "      <th>reference</th>\n",
       "      <th>secondary</th>\n",
       "      <th>reference_date</th>\n",
       "      <th>secondary_date</th>\n",
       "      <th>path_number</th>\n",
       "      <th>geometry</th>\n",
       "      <th>hash_id</th>\n",
       "    </tr>\n",
       "  </thead>\n",
       "  <tbody>\n",
       "    <tr>\n",
       "      <th>0</th>\n",
       "      <td>[S1B_IW_SLC__1SDV_20211007T044004_20211007T044...</td>\n",
       "      <td>[S1B_IW_SLC__1SDV_20210925T044004_20210925T044...</td>\n",
       "      <td>2021-10-07</td>\n",
       "      <td>2021-09-25</td>\n",
       "      <td>124</td>\n",
       "      <td>POLYGON ((-165.42274 53.75625, -165.42274 53.7...</td>\n",
       "      <td>e22ec5227f1bd9e4ec0e8c6ea39e3193</td>\n",
       "    </tr>\n",
       "    <tr>\n",
       "      <th>1</th>\n",
       "      <td>[S1B_IW_SLC__1SDV_20211007T044004_20211007T044...</td>\n",
       "      <td>[S1B_IW_SLC__1SDV_20210913T044003_20210913T044...</td>\n",
       "      <td>2021-10-07</td>\n",
       "      <td>2021-09-13</td>\n",
       "      <td>124</td>\n",
       "      <td>POLYGON ((-161.64831 54.15131, -161.64830 54.1...</td>\n",
       "      <td>7cf59cc878955270732a75cdedacc5ca</td>\n",
       "    </tr>\n",
       "    <tr>\n",
       "      <th>2</th>\n",
       "      <td>[S1B_IW_SLC__1SDV_20211007T044004_20211007T044...</td>\n",
       "      <td>[S1B_IW_SLC__1SDV_20210901T044003_20210901T044...</td>\n",
       "      <td>2021-10-07</td>\n",
       "      <td>2021-09-01</td>\n",
       "      <td>124</td>\n",
       "      <td>POLYGON ((-165.42264 53.75599, -165.42264 53.7...</td>\n",
       "      <td>a74c05b42dcbb61190bb9e98356a6729</td>\n",
       "    </tr>\n",
       "    <tr>\n",
       "      <th>3</th>\n",
       "      <td>[S1B_IW_SLC__1SDV_20211019T044004_20211019T044...</td>\n",
       "      <td>[S1B_IW_SLC__1SDV_20210925T044004_20210925T044...</td>\n",
       "      <td>2021-10-19</td>\n",
       "      <td>2021-09-25</td>\n",
       "      <td>124</td>\n",
       "      <td>POLYGON ((-162.12128 55.93492, -162.12128 55.9...</td>\n",
       "      <td>65e9b8a828214a792fc38e4cb49f9f96</td>\n",
       "    </tr>\n",
       "    <tr>\n",
       "      <th>4</th>\n",
       "      <td>[S1B_IW_SLC__1SDV_20211019T044004_20211019T044...</td>\n",
       "      <td>[S1B_IW_SLC__1SDV_20210913T044003_20210913T044...</td>\n",
       "      <td>2021-10-19</td>\n",
       "      <td>2021-09-13</td>\n",
       "      <td>124</td>\n",
       "      <td>POLYGON ((-161.64837 54.15157, -161.64837 54.1...</td>\n",
       "      <td>dd3478c1013ce318d7349d971be9f8ce</td>\n",
       "    </tr>\n",
       "  </tbody>\n",
       "</table>\n",
       "</div>"
      ],
      "text/plain": [
       "                                           reference  \\\n",
       "0  [S1B_IW_SLC__1SDV_20211007T044004_20211007T044...   \n",
       "1  [S1B_IW_SLC__1SDV_20211007T044004_20211007T044...   \n",
       "2  [S1B_IW_SLC__1SDV_20211007T044004_20211007T044...   \n",
       "3  [S1B_IW_SLC__1SDV_20211019T044004_20211019T044...   \n",
       "4  [S1B_IW_SLC__1SDV_20211019T044004_20211019T044...   \n",
       "\n",
       "                                           secondary reference_date  \\\n",
       "0  [S1B_IW_SLC__1SDV_20210925T044004_20210925T044...     2021-10-07   \n",
       "1  [S1B_IW_SLC__1SDV_20210913T044003_20210913T044...     2021-10-07   \n",
       "2  [S1B_IW_SLC__1SDV_20210901T044003_20210901T044...     2021-10-07   \n",
       "3  [S1B_IW_SLC__1SDV_20210925T044004_20210925T044...     2021-10-19   \n",
       "4  [S1B_IW_SLC__1SDV_20210913T044003_20210913T044...     2021-10-19   \n",
       "\n",
       "  secondary_date  path_number  \\\n",
       "0     2021-09-25          124   \n",
       "1     2021-09-13          124   \n",
       "2     2021-09-01          124   \n",
       "3     2021-09-25          124   \n",
       "4     2021-09-13          124   \n",
       "\n",
       "                                            geometry  \\\n",
       "0  POLYGON ((-165.42274 53.75625, -165.42274 53.7...   \n",
       "1  POLYGON ((-161.64831 54.15131, -161.64830 54.1...   \n",
       "2  POLYGON ((-165.42264 53.75599, -165.42264 53.7...   \n",
       "3  POLYGON ((-162.12128 55.93492, -162.12128 55.9...   \n",
       "4  POLYGON ((-161.64837 54.15157, -161.64837 54.1...   \n",
       "\n",
       "                            hash_id  \n",
       "0  e22ec5227f1bd9e4ec0e8c6ea39e3193  \n",
       "1  7cf59cc878955270732a75cdedacc5ca  \n",
       "2  a74c05b42dcbb61190bb9e98356a6729  \n",
       "3  65e9b8a828214a792fc38e4cb49f9f96  \n",
       "4  dd3478c1013ce318d7349d971be9f8ce  "
      ]
     },
     "execution_count": 17,
     "metadata": {},
     "output_type": "execute_result"
    }
   ],
   "source": [
    "def hasher(row):\n",
    "    return get_gunw_hash_id(row['reference'], row['secondary'])\n",
    "\n",
    "df_pairs['hash_id'] = df_pairs.apply(hasher, axis=1)\n",
    "df_pairs.head()"
   ]
  },
  {
   "cell_type": "code",
   "execution_count": 18,
   "metadata": {
    "ExecuteTime": {
     "end_time": "2022-01-21T01:22:01.964509Z",
     "start_time": "2022-01-21T01:22:01.936684Z"
    }
   },
   "outputs": [
    {
     "data": {
      "text/plain": [
       "'# of duplicated entries: 130'"
      ]
     },
     "execution_count": 18,
     "metadata": {},
     "output_type": "execute_result"
    }
   ],
   "source": [
    "f\"# of duplicated entries: {df_pairs.duplicated(subset=['hash_id']).sum()}\""
   ]
  },
  {
   "cell_type": "code",
   "execution_count": 19,
   "metadata": {
    "ExecuteTime": {
     "end_time": "2022-01-21T01:22:01.997062Z",
     "start_time": "2022-01-21T01:22:01.966017Z"
    }
   },
   "outputs": [
    {
     "data": {
      "text/plain": [
       "'# of UNIQUE GUNWs: 140'"
      ]
     },
     "execution_count": 19,
     "metadata": {},
     "output_type": "execute_result"
    }
   ],
   "source": [
    "df_pairs = df_pairs.drop_duplicates(subset=['hash_id']).reset_index(drop=True)\n",
    "f\"# of UNIQUE GUNWs: {df_pairs.shape[0]}\""
   ]
  },
  {
   "cell_type": "markdown",
   "metadata": {
    "ExecuteTime": {
     "end_time": "2022-01-21T00:54:06.533180Z",
     "start_time": "2022-01-21T00:54:06.503673Z"
    }
   },
   "source": [
    "# Update types for Graphical Analysis"
   ]
  },
  {
   "cell_type": "code",
   "execution_count": 20,
   "metadata": {
    "ExecuteTime": {
     "end_time": "2022-01-21T01:22:02.035744Z",
     "start_time": "2022-01-21T01:22:01.998570Z"
    }
   },
   "outputs": [
    {
     "data": {
      "text/html": [
       "<div>\n",
       "<style scoped>\n",
       "    .dataframe tbody tr th:only-of-type {\n",
       "        vertical-align: middle;\n",
       "    }\n",
       "\n",
       "    .dataframe tbody tr th {\n",
       "        vertical-align: top;\n",
       "    }\n",
       "\n",
       "    .dataframe thead th {\n",
       "        text-align: right;\n",
       "    }\n",
       "</style>\n",
       "<table border=\"1\" class=\"dataframe\">\n",
       "  <thead>\n",
       "    <tr style=\"text-align: right;\">\n",
       "      <th></th>\n",
       "      <th>reference</th>\n",
       "      <th>secondary</th>\n",
       "      <th>reference_date</th>\n",
       "      <th>secondary_date</th>\n",
       "      <th>path_number</th>\n",
       "      <th>geometry</th>\n",
       "      <th>hash_id</th>\n",
       "    </tr>\n",
       "  </thead>\n",
       "  <tbody>\n",
       "    <tr>\n",
       "      <th>0</th>\n",
       "      <td>[S1B_IW_SLC__1SDV_20211007T044004_20211007T044...</td>\n",
       "      <td>[S1B_IW_SLC__1SDV_20210925T044004_20210925T044...</td>\n",
       "      <td>2021-10-07</td>\n",
       "      <td>2021-09-25</td>\n",
       "      <td>124</td>\n",
       "      <td>POLYGON ((-165.42274 53.75625, -165.42274 53.7...</td>\n",
       "      <td>e22ec5227f1bd9e4ec0e8c6ea39e3193</td>\n",
       "    </tr>\n",
       "    <tr>\n",
       "      <th>1</th>\n",
       "      <td>[S1B_IW_SLC__1SDV_20211007T044004_20211007T044...</td>\n",
       "      <td>[S1B_IW_SLC__1SDV_20210913T044003_20210913T044...</td>\n",
       "      <td>2021-10-07</td>\n",
       "      <td>2021-09-13</td>\n",
       "      <td>124</td>\n",
       "      <td>POLYGON ((-161.64831 54.15131, -161.64830 54.1...</td>\n",
       "      <td>7cf59cc878955270732a75cdedacc5ca</td>\n",
       "    </tr>\n",
       "    <tr>\n",
       "      <th>2</th>\n",
       "      <td>[S1B_IW_SLC__1SDV_20211007T044004_20211007T044...</td>\n",
       "      <td>[S1B_IW_SLC__1SDV_20210901T044003_20210901T044...</td>\n",
       "      <td>2021-10-07</td>\n",
       "      <td>2021-09-01</td>\n",
       "      <td>124</td>\n",
       "      <td>POLYGON ((-165.42264 53.75599, -165.42264 53.7...</td>\n",
       "      <td>a74c05b42dcbb61190bb9e98356a6729</td>\n",
       "    </tr>\n",
       "    <tr>\n",
       "      <th>3</th>\n",
       "      <td>[S1B_IW_SLC__1SDV_20211019T044004_20211019T044...</td>\n",
       "      <td>[S1B_IW_SLC__1SDV_20210925T044004_20210925T044...</td>\n",
       "      <td>2021-10-19</td>\n",
       "      <td>2021-09-25</td>\n",
       "      <td>124</td>\n",
       "      <td>POLYGON ((-162.12128 55.93492, -162.12128 55.9...</td>\n",
       "      <td>65e9b8a828214a792fc38e4cb49f9f96</td>\n",
       "    </tr>\n",
       "    <tr>\n",
       "      <th>4</th>\n",
       "      <td>[S1B_IW_SLC__1SDV_20211019T044004_20211019T044...</td>\n",
       "      <td>[S1B_IW_SLC__1SDV_20210913T044003_20210913T044...</td>\n",
       "      <td>2021-10-19</td>\n",
       "      <td>2021-09-13</td>\n",
       "      <td>124</td>\n",
       "      <td>POLYGON ((-161.64837 54.15157, -161.64837 54.1...</td>\n",
       "      <td>dd3478c1013ce318d7349d971be9f8ce</td>\n",
       "    </tr>\n",
       "  </tbody>\n",
       "</table>\n",
       "</div>"
      ],
      "text/plain": [
       "                                           reference  \\\n",
       "0  [S1B_IW_SLC__1SDV_20211007T044004_20211007T044...   \n",
       "1  [S1B_IW_SLC__1SDV_20211007T044004_20211007T044...   \n",
       "2  [S1B_IW_SLC__1SDV_20211007T044004_20211007T044...   \n",
       "3  [S1B_IW_SLC__1SDV_20211019T044004_20211019T044...   \n",
       "4  [S1B_IW_SLC__1SDV_20211019T044004_20211019T044...   \n",
       "\n",
       "                                           secondary reference_date  \\\n",
       "0  [S1B_IW_SLC__1SDV_20210925T044004_20210925T044...     2021-10-07   \n",
       "1  [S1B_IW_SLC__1SDV_20210913T044003_20210913T044...     2021-10-07   \n",
       "2  [S1B_IW_SLC__1SDV_20210901T044003_20210901T044...     2021-10-07   \n",
       "3  [S1B_IW_SLC__1SDV_20210925T044004_20210925T044...     2021-10-19   \n",
       "4  [S1B_IW_SLC__1SDV_20210913T044003_20210913T044...     2021-10-19   \n",
       "\n",
       "  secondary_date  path_number  \\\n",
       "0     2021-09-25          124   \n",
       "1     2021-09-13          124   \n",
       "2     2021-09-01          124   \n",
       "3     2021-09-25          124   \n",
       "4     2021-09-13          124   \n",
       "\n",
       "                                            geometry  \\\n",
       "0  POLYGON ((-165.42274 53.75625, -165.42274 53.7...   \n",
       "1  POLYGON ((-161.64831 54.15131, -161.64830 54.1...   \n",
       "2  POLYGON ((-165.42264 53.75599, -165.42264 53.7...   \n",
       "3  POLYGON ((-162.12128 55.93492, -162.12128 55.9...   \n",
       "4  POLYGON ((-161.64837 54.15157, -161.64837 54.1...   \n",
       "\n",
       "                            hash_id  \n",
       "0  e22ec5227f1bd9e4ec0e8c6ea39e3193  \n",
       "1  7cf59cc878955270732a75cdedacc5ca  \n",
       "2  a74c05b42dcbb61190bb9e98356a6729  \n",
       "3  65e9b8a828214a792fc38e4cb49f9f96  \n",
       "4  dd3478c1013ce318d7349d971be9f8ce  "
      ]
     },
     "execution_count": 20,
     "metadata": {},
     "output_type": "execute_result"
    }
   ],
   "source": [
    "df_pairs['reference_date'] = pd.to_datetime(df_pairs['reference_date'])\n",
    "df_pairs['secondary_date'] = pd.to_datetime(df_pairs['secondary_date'])\n",
    "df_pairs.head()"
   ]
  },
  {
   "cell_type": "markdown",
   "metadata": {},
   "source": [
    "# Visualize a Date Graph from Time Series\n",
    "\n",
    "We can put this into a network Directed Graph and use some simple network functions to check connectivity.\n",
    "\n",
    "We are going to use just dates for nodes, though you could use `(ref_date, slc_id)` for nodes and then inspect connected components."
   ]
  },
  {
   "cell_type": "code",
   "execution_count": 21,
   "metadata": {
    "ExecuteTime": {
     "end_time": "2022-01-21T01:22:02.065853Z",
     "start_time": "2022-01-21T01:22:02.037178Z"
    }
   },
   "outputs": [
    {
     "data": {
      "text/plain": [
       "[(Timestamp('2021-10-07 00:00:00'), Timestamp('2021-09-25 00:00:00')),\n",
       " (Timestamp('2021-10-07 00:00:00'), Timestamp('2021-09-13 00:00:00')),\n",
       " (Timestamp('2021-10-07 00:00:00'), Timestamp('2021-09-01 00:00:00')),\n",
       " (Timestamp('2021-10-19 00:00:00'), Timestamp('2021-09-25 00:00:00')),\n",
       " (Timestamp('2021-10-19 00:00:00'), Timestamp('2021-09-13 00:00:00')),\n",
       " (Timestamp('2021-10-19 00:00:00'), Timestamp('2021-09-01 00:00:00')),\n",
       " (Timestamp('2021-10-31 00:00:00'), Timestamp('2021-09-25 00:00:00')),\n",
       " (Timestamp('2021-10-31 00:00:00'), Timestamp('2021-09-13 00:00:00')),\n",
       " (Timestamp('2021-10-31 00:00:00'), Timestamp('2021-09-01 00:00:00')),\n",
       " (Timestamp('2021-09-01 00:00:00'), Timestamp('2021-08-08 00:00:00')),\n",
       " (Timestamp('2021-09-01 00:00:00'), Timestamp('2020-10-24 00:00:00')),\n",
       " (Timestamp('2021-09-01 00:00:00'), Timestamp('2020-10-12 00:00:00')),\n",
       " (Timestamp('2021-09-13 00:00:00'), Timestamp('2021-08-08 00:00:00')),\n",
       " (Timestamp('2021-09-13 00:00:00'), Timestamp('2020-10-24 00:00:00')),\n",
       " (Timestamp('2021-09-13 00:00:00'), Timestamp('2020-10-12 00:00:00'))]"
      ]
     },
     "execution_count": 21,
     "metadata": {},
     "output_type": "execute_result"
    }
   ],
   "source": [
    "list(zip(df_pairs.reference_date, df_pairs.secondary_date))[:15]"
   ]
  },
  {
   "cell_type": "code",
   "execution_count": 22,
   "metadata": {
    "ExecuteTime": {
     "end_time": "2022-01-21T01:22:02.097591Z",
     "start_time": "2022-01-21T01:22:02.070558Z"
    }
   },
   "outputs": [
    {
     "data": {
      "text/plain": [
       "[Timestamp('2015-08-22 00:00:00'),\n",
       " Timestamp('2015-09-15 00:00:00'),\n",
       " Timestamp('2015-10-09 00:00:00'),\n",
       " Timestamp('2016-06-05 00:00:00')]"
      ]
     },
     "execution_count": 22,
     "metadata": {},
     "output_type": "execute_result"
    }
   ],
   "source": [
    "unique_dates = df_pairs.reference_date.tolist() + df_pairs.secondary_date.tolist()\n",
    "unique_dates = sorted(list(set(unique_dates)))\n",
    "unique_dates[:4]"
   ]
  },
  {
   "cell_type": "code",
   "execution_count": 23,
   "metadata": {
    "ExecuteTime": {
     "end_time": "2022-01-21T01:22:02.126231Z",
     "start_time": "2022-01-21T01:22:02.100280Z"
    }
   },
   "outputs": [],
   "source": [
    "date2node = {date: k for (k, date) in enumerate(unique_dates)}\n",
    "node2date = {k: date for (date, k) in date2node.items()}"
   ]
  },
  {
   "cell_type": "code",
   "execution_count": 24,
   "metadata": {
    "ExecuteTime": {
     "end_time": "2022-01-21T01:22:02.153805Z",
     "start_time": "2022-01-21T01:22:02.127723Z"
    }
   },
   "outputs": [],
   "source": [
    "G = nx.DiGraph()\n",
    "\n",
    "edges = [(date2node[ref_date], date2node[sec_date]) \n",
    "         for (ref_date, sec_date) in zip(df_pairs.reference_date, df_pairs.secondary_date)]\n",
    "G.add_edges_from(edges)"
   ]
  },
  {
   "cell_type": "code",
   "execution_count": 25,
   "metadata": {
    "ExecuteTime": {
     "end_time": "2022-01-21T01:22:02.899952Z",
     "start_time": "2022-01-21T01:22:02.155299Z"
    }
   },
   "outputs": [
    {
     "data": {
      "image/png": "[encoded data removed]",
      "text/plain": [
       "<Figure size 432x288 with 1 Axes>"
      ]
     },
     "metadata": {},
     "output_type": "display_data"
    }
   ],
   "source": [
    "nx.draw(G)"
   ]
  },
  {
   "cell_type": "markdown",
   "metadata": {},
   "source": [
    "This function checks there is a path from the first date to the last one."
   ]
  },
  {
   "cell_type": "code",
   "execution_count": 26,
   "metadata": {
    "ExecuteTime": {
     "end_time": "2022-01-21T01:22:02.929726Z",
     "start_time": "2022-01-21T01:22:02.901461Z"
    }
   },
   "outputs": [
    {
     "data": {
      "text/plain": [
       "True"
      ]
     },
     "execution_count": 26,
     "metadata": {},
     "output_type": "execute_result"
    }
   ],
   "source": [
    "nx.has_path(G, \n",
    "            target=date2node[unique_dates[0]],\n",
    "            source=date2node[unique_dates[-1]])"
   ]
  },
  {
   "cell_type": "markdown",
   "metadata": {},
   "source": [
    "The y-axis is created purely for display so doesn't really indicated anything but flow by month."
   ]
  },
  {
   "cell_type": "code",
   "execution_count": 27,
   "metadata": {
    "ExecuteTime": {
     "end_time": "2022-01-21T01:22:05.260177Z",
     "start_time": "2022-01-21T01:22:02.931211Z"
    }
   },
   "outputs": [
    {
     "data": {
      "text/plain": [
       "<matplotlib.legend.Legend at 0x7fdbb938cdf0>"
      ]
     },
     "execution_count": 27,
     "metadata": {},
     "output_type": "execute_result"
    },
    {
     "data": {
      "image/png": "[encoded data removed]",
      "text/plain": [
       "<Figure size 1080x360 with 1 Axes>"
      ]
     },
     "metadata": {
      "needs_background": "light"
     },
     "output_type": "display_data"
    }
   ],
   "source": [
    "fig, ax = plt.subplots(figsize=(15, 5))\n",
    "\n",
    "increment = [date.month + date.day for date in unique_dates]\n",
    "\n",
    "# source: https://stackoverflow.com/a/27852570\n",
    "scat = ax.scatter(unique_dates, increment)\n",
    "position = scat.get_offsets().data\n",
    "\n",
    "pos = {date2node[date]: position[k] for (k, date) in enumerate(unique_dates)}\n",
    "nx.draw_networkx_edges(G, pos=pos, ax=ax)\n",
    "ax.grid('on')\n",
    "ax.tick_params(axis='x',\n",
    "               which='major',\n",
    "               labelbottom=True,\n",
    "               labelleft=True)\n",
    "ymin, ymax = ax.get_ylim()\n",
    "for y in range(2015, 2022):\n",
    "    label = 'Oct to Nov' if y == 2016 else None\n",
    "    ax.fill_between([datetime.datetime(y, 6, 1), datetime.datetime(y, 11, 1)], \n",
    "                    ymin, ymax, \n",
    "                    alpha=.5, color='green', zorder=0, label=label)\n",
    "plt.legend()"
   ]
  },
  {
   "cell_type": "markdown",
   "metadata": {},
   "source": [
    "# Deduplication Pt. 2"
   ]
  },
  {
   "cell_type": "markdown",
   "metadata": {
    "ExecuteTime": {
     "end_time": "2022-01-20T02:08:12.635432Z",
     "start_time": "2022-01-20T02:08:12.601357Z"
    }
   },
   "source": [
    "# Check CMR"
   ]
  },
  {
   "cell_type": "code",
   "execution_count": 28,
   "metadata": {
    "ExecuteTime": {
     "end_time": "2022-01-21T01:22:23.561465Z",
     "start_time": "2022-01-21T01:22:05.261686Z"
    }
   },
   "outputs": [
    {
     "name": "stderr",
     "output_type": "stream",
     "text": [
      "  0%|          | 0/140 [00:00<?, ?it/s]/Users/cmarshak/bekaert-team/s1-enumerator/s1_enumerator/formatter.py:17: UserWarning: Dataframe is empty! Check inputs.\n",
      "  warn('Dataframe is empty! Check inputs.')\n",
      "100%|██████████| 140/140 [00:18<00:00,  7.68it/s]\n"
     ]
    }
   ],
   "source": [
    "from s1_enumerator import duplicate_gunw_found\n",
    "import concurrent\n",
    "from tqdm import tqdm\n",
    "\n",
    "n = df_pairs.shape[0]\n",
    "with concurrent.futures.ThreadPoolExecutor(max_workers=15) as executor:\n",
    "    results = list(tqdm(executor.map(duplicate_gunw_found, df_pairs.to_dict('records')), total=n))"
   ]
  },
  {
   "cell_type": "code",
   "execution_count": 29,
   "metadata": {
    "ExecuteTime": {
     "end_time": "2022-01-21T01:22:23.610446Z",
     "start_time": "2022-01-21T01:22:23.564166Z"
    }
   },
   "outputs": [
    {
     "name": "stdout",
     "output_type": "stream",
     "text": [
      "existing_gunws:  0\n",
      "Total pairs 140\n"
     ]
    }
   ],
   "source": [
    "df_pairs['existing_gunw'] = [r != '' for r in results]\n",
    "df_pairs['existing_gunw_id'] = results\n",
    "total_existing_gunws = df_pairs['existing_gunw'].sum()\n",
    "print('existing_gunws: ', total_existing_gunws)\n",
    "print('Total pairs', df_pairs.shape[0])"
   ]
  },
  {
   "cell_type": "code",
   "execution_count": 30,
   "metadata": {
    "ExecuteTime": {
     "end_time": "2022-01-21T01:22:23.654030Z",
     "start_time": "2022-01-21T01:22:23.613272Z"
    }
   },
   "outputs": [
    {
     "name": "stdout",
     "output_type": "stream",
     "text": [
      "after filtering, total pairs:  140\n"
     ]
    }
   ],
   "source": [
    "df_pairs_filtered = df_pairs[~df_pairs['existing_gunw']].reset_index(drop=True)\n",
    "# df_pairs_filtered.drop_duplicates(subset=['hash_id'], inplace=True)\n",
    "print('after filtering, total pairs: ', df_pairs_filtered.shape[0])"
   ]
  },
  {
   "cell_type": "markdown",
   "metadata": {},
   "source": [
    "# Check Hyp3 Account\n",
    "\n",
    "Two parts:\n",
    "\n",
    "1. check s3 bucket\n",
    "2. check running/pending jobs"
   ]
  },
  {
   "cell_type": "code",
   "execution_count": 32,
   "metadata": {
    "ExecuteTime": {
     "end_time": "2022-01-21T01:26:40.585120Z",
     "start_time": "2022-01-21T01:26:33.043354Z"
    }
   },
   "outputs": [],
   "source": [
    "import hyp3_sdk\n",
    "\n",
    "# uses .netrc; add `prompt=True` to prompt for credentials; \n",
    "hyp3_isce = hyp3_sdk.HyP3('https://hyp3-isce.asf.alaska.edu/')\n",
    "pending_jobs = hyp3_isce.find_jobs(status_code='PENDING') +  hyp3_isce.find_jobs(status_code='RUNNING')\n",
    "all_jobs = hyp3_isce.find_jobs()"
   ]
  },
  {
   "cell_type": "code",
   "execution_count": 33,
   "metadata": {
    "ExecuteTime": {
     "end_time": "2022-01-21T01:26:40.615632Z",
     "start_time": "2022-01-21T01:26:40.586949Z"
    }
   },
   "outputs": [
    {
     "name": "stdout",
     "output_type": "stream",
     "text": [
      "40 HyP3 Jobs: 30 succeeded, 0 failed, 10 running, 0 pending.\n"
     ]
    }
   ],
   "source": [
    "print(all_jobs)"
   ]
  },
  {
   "cell_type": "markdown",
   "metadata": {},
   "source": [
    "## a) Get existing products in s3 bucket"
   ]
  },
  {
   "cell_type": "code",
   "execution_count": 34,
   "metadata": {
    "ExecuteTime": {
     "end_time": "2022-01-21T01:26:40.648085Z",
     "start_time": "2022-01-21T01:26:40.617919Z"
    }
   },
   "outputs": [
    {
     "data": {
      "text/plain": [
       "{'job_id': '5f8aa59f-5432-4413-aed4-dad5de0c39f5',\n",
       " 'job_type': 'INSAR_ISCE_TEST',\n",
       " 'request_time': '2022-01-21T01:15:06+00:00',\n",
       " 'status_code': 'RUNNING',\n",
       " 'user_id': 'cmarshak',\n",
       " 'name': 'test-aleutian-95-new',\n",
       " 'job_parameters': {'granules': ['S1B_IW_SLC__1SDV_20211007T044004_20211007T044023_029025_0376A1_DA5E'],\n",
       "  'secondary_granules': ['S1B_IW_SLC__1SDV_20210925T044004_20210925T044034_028850_03715E_25A4']}}"
      ]
     },
     "execution_count": 34,
     "metadata": {},
     "output_type": "execute_result"
    }
   ],
   "source": [
    "job_data = [j.to_dict() for j in all_jobs]\n",
    "job_data[0]"
   ]
  },
  {
   "cell_type": "markdown",
   "metadata": {},
   "source": [
    "Get bucket (there is only one)"
   ]
  },
  {
   "cell_type": "code",
   "execution_count": 35,
   "metadata": {
    "ExecuteTime": {
     "end_time": "2022-01-21T01:26:40.679219Z",
     "start_time": "2022-01-21T01:26:40.650335Z"
    }
   },
   "outputs": [
    {
     "data": {
      "text/plain": [
       "30"
      ]
     },
     "execution_count": 35,
     "metadata": {},
     "output_type": "execute_result"
    }
   ],
   "source": [
    "job_data_s3 = list(filter(lambda job: 'files' in job.keys(), job_data))\n",
    "len(job_data_s3)"
   ]
  },
  {
   "cell_type": "code",
   "execution_count": 36,
   "metadata": {
    "ExecuteTime": {
     "end_time": "2022-01-21T01:26:40.710714Z",
     "start_time": "2022-01-21T01:26:40.680933Z"
    }
   },
   "outputs": [
    {
     "data": {
      "text/plain": [
       "'hyp3-isce-contentbucket-4xpualmsjg98'"
      ]
     },
     "execution_count": 36,
     "metadata": {},
     "output_type": "execute_result"
    }
   ],
   "source": [
    "bucket = job_data_s3[0]['files'][0]['s3']['bucket']\n",
    "bucket"
   ]
  },
  {
   "cell_type": "markdown",
   "metadata": {},
   "source": [
    "Get all keys"
   ]
  },
  {
   "cell_type": "code",
   "execution_count": 37,
   "metadata": {
    "ExecuteTime": {
     "end_time": "2022-01-21T01:26:40.741326Z",
     "start_time": "2022-01-21T01:26:40.712179Z"
    }
   },
   "outputs": [
    {
     "data": {
      "text/plain": [
       "'aec9b305-8978-4f19-8882-b7a0c04060d3/S1-GUNW-A-R-095-20211005-20210923-045624-170W_52N-9fc7-v2_0_5.nc'"
      ]
     },
     "execution_count": 37,
     "metadata": {},
     "output_type": "execute_result"
    }
   ],
   "source": [
    "job_keys = [job['files'][0]['s3']['key'] for job in job_data_s3]\n",
    "job_keys[0]"
   ]
  },
  {
   "cell_type": "code",
   "execution_count": 38,
   "metadata": {
    "ExecuteTime": {
     "end_time": "2022-01-21T01:26:42.591818Z",
     "start_time": "2022-01-21T01:26:40.742835Z"
    }
   },
   "outputs": [
    {
     "data": {
      "text/plain": [
       "[s3.ObjectSummary(bucket_name='hyp3-isce-contentbucket-4xpualmsjg98', key='023c328a-9855-44c7-8638-33593dc18239/S1-GUNW-A-R-095-20210806-20191028-045622-170W_52N-06a4-v2_0_5.nc'),\n",
       " s3.ObjectSummary(bucket_name='hyp3-isce-contentbucket-4xpualmsjg98', key='08a986f3-d561-415f-9b84-5acdb9902f79/S1-GUNW-A-R-064-20210723-20210711-015000-119W_33N-f4d6-v2_0_5/S1-GUNW-A-R-064-20210723-20210711-015000-119W_33N-f4d6-v2_0_5.nc'),\n",
       " s3.ObjectSummary(bucket_name='hyp3-isce-contentbucket-4xpualmsjg98', key='12be622e-69cd-4e3c-b2aa-2c0be25ea1f9/S1-GUNW-A-R-095-20210806-20201010-045622-170W_52N-4553-v2_0_5.nc'),\n",
       " s3.ObjectSummary(bucket_name='hyp3-isce-contentbucket-4xpualmsjg98', key='1b261aa2-87fe-4301-895e-4f89c4ea02ba/S1-GUNW-A-R-095-20211017-20191028-045624-170W_52N-9996-v2_0_5.nc'),\n",
       " s3.ObjectSummary(bucket_name='hyp3-isce-contentbucket-4xpualmsjg98', key='1efe1fc4-036f-413b-9730-9d0508a29b7e/S1-GUNW-A-R-095-20210830-20201010-045623-170W_52N-1401-v2_0_5.nc'),\n",
       " s3.ObjectSummary(bucket_name='hyp3-isce-contentbucket-4xpualmsjg98', key='33751a23-154d-4d60-be82-3b5a8b3abfcc/S1-GUNW-A-R-095-20210911-20201010-045623-170W_52N-a82c-v2_0_5.nc'),\n",
       " s3.ObjectSummary(bucket_name='hyp3-isce-contentbucket-4xpualmsjg98', key='3bbcdd71-bb09-42d0-91d5-1f9b94e5116f/S1-GUNW-A-R-095-20211005-20210830-045624-170W_52N-f8dd-v2_0_5.nc'),\n",
       " s3.ObjectSummary(bucket_name='hyp3-isce-contentbucket-4xpualmsjg98', key='3f53a79d-d4be-4e48-b02a-44d5de6df901/S1-GUNW-A-R-095-20210818-20191028-045622-170W_52N-dc43-v2_0_5.nc'),\n",
       " s3.ObjectSummary(bucket_name='hyp3-isce-contentbucket-4xpualmsjg98', key='4450a60d-ca2d-4945-b177-a4526664c27f/S1-GUNW-A-R-095-20210818-20201022-045622-170W_52N-d4ef-v2_0_5.nc'),\n",
       " s3.ObjectSummary(bucket_name='hyp3-isce-contentbucket-4xpualmsjg98', key='51e1eb59-4284-43a9-a833-63c08f4a6515/S1-GUNW-A-R-095-20210923-20191028-045624-170W_52N-fdb0-v2_0_5.nc')]"
      ]
     },
     "execution_count": 38,
     "metadata": {},
     "output_type": "execute_result"
    }
   ],
   "source": [
    "s3 = boto3.resource('s3')\n",
    "prod_bucket = s3.Bucket(bucket)\n",
    "\n",
    "objects = list(prod_bucket.objects.all())\n",
    "ncs = list(filter(lambda x: x.key.endswith('.nc'), objects))\n",
    "ncs[:10]"
   ]
  },
  {
   "cell_type": "markdown",
   "metadata": {},
   "source": [
    "Need to physically check if the products are not there (could have been deleted!)"
   ]
  },
  {
   "cell_type": "code",
   "execution_count": 39,
   "metadata": {
    "ExecuteTime": {
     "end_time": "2022-01-21T01:26:42.624928Z",
     "start_time": "2022-01-21T01:26:42.594612Z"
    }
   },
   "outputs": [
    {
     "data": {
      "text/plain": [
       "5"
      ]
     },
     "execution_count": 39,
     "metadata": {},
     "output_type": "execute_result"
    }
   ],
   "source": [
    "nc_keys = [nc_ob.key for nc_ob in ncs]\n",
    "jobs_with_prods_in_s3 = [job for (k, job) in enumerate(job_data_s3) if job_keys[k] in nc_keys]\n",
    "len(jobs_with_prods_in_s3)"
   ]
  },
  {
   "cell_type": "code",
   "execution_count": 40,
   "metadata": {
    "ExecuteTime": {
     "end_time": "2022-01-21T01:26:42.658660Z",
     "start_time": "2022-01-21T01:26:42.627442Z"
    }
   },
   "outputs": [
    {
     "data": {
      "text/plain": [
       "[(['S1B_IW_SLC__1SDV_20211005T045609_20211005T045639_028996_0375C6_4753'],\n",
       "  ['S1B_IW_SLC__1SDV_20210923T045609_20210923T045639_028821_037082_B57B']),\n",
       " (['S1B_IW_SLC__1SDV_20211017T045609_20211017T045639_029171_037B2F_DE3D'],\n",
       "  ['S1B_IW_SLC__1SDV_20210911T045609_20210911T045638_028646_036B2C_D71C'])]"
      ]
     },
     "execution_count": 40,
     "metadata": {},
     "output_type": "execute_result"
    }
   ],
   "source": [
    "slcs = [(job['job_parameters']['granules'],\n",
    "         job['job_parameters']['secondary_granules']) \n",
    "        for job in jobs_with_prods_in_s3]\n",
    "slcs[:2]"
   ]
  },
  {
   "cell_type": "code",
   "execution_count": 41,
   "metadata": {
    "ExecuteTime": {
     "end_time": "2022-01-21T01:26:42.689919Z",
     "start_time": "2022-01-21T01:26:42.660242Z"
    }
   },
   "outputs": [
    {
     "data": {
      "text/plain": [
       "'9fc7424d3392c1252360ca4dd41a8c7b'"
      ]
     },
     "execution_count": 41,
     "metadata": {},
     "output_type": "execute_result"
    }
   ],
   "source": [
    "hash_ids_of_prods_in_s3 = [get_gunw_hash_id(*slc) for slc in slcs]\n",
    "hash_ids_of_prods_in_s3[0]"
   ]
  },
  {
   "cell_type": "code",
   "execution_count": 42,
   "metadata": {
    "ExecuteTime": {
     "end_time": "2022-01-21T01:26:42.721187Z",
     "start_time": "2022-01-21T01:26:42.691441Z"
    }
   },
   "outputs": [
    {
     "data": {
      "text/plain": [
       "'We are removing 0 GUNWs for submission'"
      ]
     },
     "execution_count": 42,
     "metadata": {},
     "output_type": "execute_result"
    }
   ],
   "source": [
    "f\"We are removing {df_pairs_filtered['hash_id'].isin(hash_ids_of_prods_in_s3).sum()} GUNWs for submission\""
   ]
  },
  {
   "cell_type": "code",
   "execution_count": 43,
   "metadata": {
    "ExecuteTime": {
     "end_time": "2022-01-21T01:26:42.755647Z",
     "start_time": "2022-01-21T01:26:42.722599Z"
    }
   },
   "outputs": [
    {
     "data": {
      "text/plain": [
       "'Current # of GUNWs: 140'"
      ]
     },
     "execution_count": 43,
     "metadata": {},
     "output_type": "execute_result"
    }
   ],
   "source": [
    "items = hash_ids_of_prods_in_s3\n",
    "df_pairs_filtered = df_pairs_filtered[~df_pairs_filtered['hash_id'].isin(items)].reset_index(drop=True)\n",
    "f\"Current # of GUNWs: {df_pairs_filtered.shape[0]}\""
   ]
  },
  {
   "cell_type": "markdown",
   "metadata": {},
   "source": [
    "## b) Running or Pending Jobs"
   ]
  },
  {
   "cell_type": "code",
   "execution_count": 44,
   "metadata": {
    "ExecuteTime": {
     "end_time": "2022-01-21T01:26:42.786823Z",
     "start_time": "2022-01-21T01:26:42.757303Z"
    }
   },
   "outputs": [],
   "source": [
    "pending_job_data = [j.to_dict() for j in pending_jobs]\n",
    "pending_slcs = [(job['job_parameters']['granules'],\n",
    "                 job['job_parameters']['secondary_granules']) \n",
    "                 for job in pending_job_data]"
   ]
  },
  {
   "cell_type": "code",
   "execution_count": 45,
   "metadata": {
    "ExecuteTime": {
     "end_time": "2022-01-21T01:26:42.818590Z",
     "start_time": "2022-01-21T01:26:42.788661Z"
    }
   },
   "outputs": [
    {
     "data": {
      "text/plain": [
       "['e22ec5227f1bd9e4ec0e8c6ea39e3193',\n",
       " 'dd3478c1013ce318d7349d971be9f8ce',\n",
       " '65e9b8a828214a792fc38e4cb49f9f96',\n",
       " 'a74c05b42dcbb61190bb9e98356a6729']"
      ]
     },
     "execution_count": 45,
     "metadata": {},
     "output_type": "execute_result"
    }
   ],
   "source": [
    "hash_ids_of_pending_jobs = [get_gunw_hash_id(*slc) for slc in pending_slcs]\n",
    "hash_ids_of_pending_jobs[:4]"
   ]
  },
  {
   "cell_type": "code",
   "execution_count": 46,
   "metadata": {
    "ExecuteTime": {
     "end_time": "2022-01-21T01:26:42.850295Z",
     "start_time": "2022-01-21T01:26:42.820409Z"
    }
   },
   "outputs": [
    {
     "data": {
      "text/plain": [
       "'We are removing 5 GUNWs for submission'"
      ]
     },
     "execution_count": 46,
     "metadata": {},
     "output_type": "execute_result"
    }
   ],
   "source": [
    "items = hash_ids_of_pending_jobs\n",
    "f\"We are removing {df_pairs_filtered['hash_id'].isin(items).sum()} GUNWs for submission\""
   ]
  },
  {
   "cell_type": "code",
   "execution_count": 47,
   "metadata": {
    "ExecuteTime": {
     "end_time": "2022-01-21T01:26:42.885546Z",
     "start_time": "2022-01-21T01:26:42.851995Z"
    }
   },
   "outputs": [
    {
     "data": {
      "text/plain": [
       "'Current # of GUNWs: 135'"
      ]
     },
     "execution_count": 47,
     "metadata": {},
     "output_type": "execute_result"
    }
   ],
   "source": [
    "items = hash_ids_of_pending_jobs\n",
    "df_pairs_filtered = df_pairs_filtered[~df_pairs_filtered['hash_id'].isin(items)].reset_index(drop=True)\n",
    "f\"Current # of GUNWs: {df_pairs_filtered.shape[0]}\""
   ]
  },
  {
   "cell_type": "markdown",
   "metadata": {},
   "source": [
    "# Submit jobs to Hyp3"
   ]
  },
  {
   "cell_type": "code",
   "execution_count": 48,
   "metadata": {
    "ExecuteTime": {
     "end_time": "2022-01-21T01:26:42.918999Z",
     "start_time": "2022-01-21T01:26:42.887127Z"
    }
   },
   "outputs": [
    {
     "data": {
      "text/plain": [
       "{'reference': ['S1B_IW_SLC__1SDV_20211019T044004_20211019T044034_029200_037C15_C422'],\n",
       " 'secondary': ['S1B_IW_SLC__1SDV_20210901T044003_20210901T044033_028500_03669B_A68C'],\n",
       " 'reference_date': Timestamp('2021-10-19 00:00:00'),\n",
       " 'secondary_date': Timestamp('2021-09-01 00:00:00'),\n",
       " 'path_number': 124,\n",
       " 'geometry': <shapely.geometry.polygon.Polygon at 0x7fdb88853430>,\n",
       " 'hash_id': '70873e485ea27ace665d7fc88f57ee1c',\n",
       " 'existing_gunw': False,\n",
       " 'existing_gunw_id': ''}"
      ]
     },
     "execution_count": 48,
     "metadata": {},
     "output_type": "execute_result"
    }
   ],
   "source": [
    "records_to_submit = df_pairs_filtered.to_dict('records')\n",
    "records_to_submit[0]"
   ]
  },
  {
   "cell_type": "code",
   "execution_count": 49,
   "metadata": {
    "ExecuteTime": {
     "end_time": "2022-01-21T01:26:45.932722Z",
     "start_time": "2022-01-21T01:26:42.920771Z"
    }
   },
   "outputs": [],
   "source": [
    "import hyp3_sdk\n",
    "\n",
    "# uses .netrc; add `prompt=True` to prompt for credentials; \n",
    "hyp3_isce = hyp3_sdk.HyP3('https://hyp3-isce.asf.alaska.edu/')"
   ]
  },
  {
   "cell_type": "markdown",
   "metadata": {},
   "source": [
    "The below puts the records in a format that we can submit to the Hyp3 API.\n",
    "\n",
    "**Note 1**: there is an index in the records to submit to ensure we don't over submit jobs for generating GUNWs. \\\n",
    "**Note 2**: uncomment the code to *actually* submit the jobs."
   ]
  },
  {
   "cell_type": "code",
   "execution_count": 50,
   "metadata": {
    "ExecuteTime": {
     "end_time": "2022-01-21T01:26:48.773315Z",
     "start_time": "2022-01-21T01:26:45.934340Z"
    }
   },
   "outputs": [],
   "source": [
    "import hyp3_sdk\n",
    "\n",
    "# uses .netrc; add `prompt=True` to prompt for credentials; \n",
    "hyp3_isce = hyp3_sdk.HyP3('https://hyp3-isce.asf.alaska.edu/')\n",
    "\n",
    "job_dicts = [{'name': 'test-aleutian-95-new',\n",
    "              'job_type': 'INSAR_ISCE_TEST',\n",
    "              'job_parameters': {'granules': r['reference'],\n",
    "                                 'secondary_granules': r['secondary']}} \n",
    "             # NOTE THERE IS AN INDEX - this is to submit only a subset of Jobs\n",
    "             for r in records_to_submit[:5]]\n",
    "\n",
    "\n",
    "# UNCOMMENT TO SUBMIT\n",
    "# submitted_jobs = hyp3_isce.submit_prepared_jobs(job_dicts)"
   ]
  },
  {
   "cell_type": "code",
   "execution_count": 51,
   "metadata": {
    "ExecuteTime": {
     "end_time": "2022-01-21T01:26:49.206236Z",
     "start_time": "2022-01-21T01:26:48.774793Z"
    }
   },
   "outputs": [
    {
     "name": "stdout",
     "output_type": "stream",
     "text": [
      "40 HyP3 Jobs: 30 succeeded, 0 failed, 10 running, 0 pending.\n"
     ]
    }
   ],
   "source": [
    "jobs = hyp3_isce.find_jobs()\n",
    "print(jobs)"
   ]
  },
  {
   "cell_type": "code",
   "execution_count": 52,
   "metadata": {
    "ExecuteTime": {
     "end_time": "2022-01-21T01:26:49.235493Z",
     "start_time": "2022-01-21T01:26:49.207811Z"
    }
   },
   "outputs": [],
   "source": [
    "# jobs.download_files()"
   ]
  }
 ],
 "metadata": {
  "interpreter": {
   "hash": "8d8f500daa9bf167d031a7ee53ec5418ea1a519591c0a1a22c03ecd26311e773"
  },
  "kernelspec": {
   "display_name": "Python 3",
   "language": "python",
   "name": "python3"
  },
  "language_info": {
   "codemirror_mode": {
    "name": "ipython",
    "version": 3
   },
   "file_extension": ".py",
   "mimetype": "text/x-python",
   "name": "python",
   "nbconvert_exporter": "python",
   "pygments_lexer": "ipython3",
   "version": "3.8.5"
  }
 },
 "nbformat": 4,
 "nbformat_minor": 2
}
