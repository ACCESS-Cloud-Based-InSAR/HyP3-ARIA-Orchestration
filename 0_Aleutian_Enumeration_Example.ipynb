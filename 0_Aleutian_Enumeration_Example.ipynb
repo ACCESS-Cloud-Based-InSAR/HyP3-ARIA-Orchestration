{
 "cells": [
  {
   "cell_type": "markdown",
   "metadata": {},
   "source": [
    "This is to demonstrate how to use the `s1-enumerator` to get a full time series of GUNWs.\n",
    "\n",
    "We are going basically take each month in acceptable date range and increment by a month and make sure the temporal window is large enough to ensure connectivity across data gaps."
   ]
  },
  {
   "cell_type": "code",
   "execution_count": 1,
   "metadata": {
    "ExecuteTime": {
     "end_time": "2022-01-26T20:33:19.456820Z",
     "start_time": "2022-01-26T20:33:19.440973Z"
    }
   },
   "outputs": [],
   "source": [
    "%load_ext autoreload\n",
    "%autoreload 2"
   ]
  },
  {
   "cell_type": "code",
   "execution_count": 2,
   "metadata": {
    "ExecuteTime": {
     "end_time": "2022-01-26T20:33:20.609757Z",
     "start_time": "2022-01-26T20:33:19.458712Z"
    }
   },
   "outputs": [],
   "source": [
    "from s1_enumerator import get_aoi_dataframe,  distill_all_pairs, enumerate_ifgs, get_s1_coverage_tiles, enumerate_ifgs_from_stack, get_s1_stack_by_dataframe\n",
    "import concurrent\n",
    "from s1_enumerator import duplicate_gunw_found\n",
    "from tqdm import tqdm\n",
    "from shapely.geometry import Point\n",
    "import datetime\n",
    "import pandas as pd\n",
    "import geopandas as gpd\n",
    "import matplotlib.pyplot as plt\n",
    "from dateutil.relativedelta import relativedelta\n",
    "import networkx as nx\n",
    "import boto3\n"
   ]
  },
  {
   "cell_type": "code",
   "execution_count": 3,
   "metadata": {
    "ExecuteTime": {
     "end_time": "2022-01-26T20:33:20.662349Z",
     "start_time": "2022-01-26T20:33:20.614595Z"
    }
   },
   "outputs": [
    {
     "data": {
      "image/svg+xml": [
       "<svg xmlns=\"http://www.w3.org/2000/svg\" xmlns:xlink=\"http://www.w3.org/1999/xlink\" width=\"100.0\" height=\"100.0\" viewBox=\"-166.3690834 53.908103600000004 4.815406800000005 2.535987799999994\" preserveAspectRatio=\"xMinYMin meet\"><g transform=\"matrix(1,0,0,-1,0,110.352195)\"><path fill-rule=\"evenodd\" fill=\"#66cc99\" stroke=\"#555555\" stroke-width=\"0.0963081360000001\" opacity=\"0.6\" d=\"M -166.190735,55.864071 L -162.209351,56.265743 L -161.732025,54.483067 L -165.537231,54.086452 L -166.190735,55.864071 z\" /></g></svg>"
      ],
      "text/plain": [
       "<shapely.geometry.polygon.Polygon at 0x7f8a20a75a90>"
      ]
     },
     "execution_count": 3,
     "metadata": {},
     "output_type": "execute_result"
    }
   ],
   "source": [
    "df_aoi = gpd.read_file('aois/Aleutians_pathNumber124.geojson')\n",
    "aoi = df_aoi.geometry.unary_union\n",
    "aoi"
   ]
  },
  {
   "cell_type": "code",
   "execution_count": 4,
   "metadata": {
    "ExecuteTime": {
     "end_time": "2022-01-26T20:33:20.700437Z",
     "start_time": "2022-01-26T20:33:20.663935Z"
    }
   },
   "outputs": [
    {
     "data": {
      "text/html": [
       "<div>\n",
       "<style scoped>\n",
       "    .dataframe tbody tr th:only-of-type {\n",
       "        vertical-align: middle;\n",
       "    }\n",
       "\n",
       "    .dataframe tbody tr th {\n",
       "        vertical-align: top;\n",
       "    }\n",
       "\n",
       "    .dataframe thead th {\n",
       "        text-align: right;\n",
       "    }\n",
       "</style>\n",
       "<table border=\"1\" class=\"dataframe\">\n",
       "  <thead>\n",
       "    <tr style=\"text-align: right;\">\n",
       "      <th></th>\n",
       "      <th>aoi_name</th>\n",
       "      <th>path_number</th>\n",
       "      <th>min_days_backward</th>\n",
       "      <th>month_range_lower</th>\n",
       "      <th>month_range_upper</th>\n",
       "      <th>num_neighbors_ref</th>\n",
       "      <th>geometry</th>\n",
       "    </tr>\n",
       "  </thead>\n",
       "  <tbody>\n",
       "    <tr>\n",
       "      <th>0</th>\n",
       "      <td>Aleutians</td>\n",
       "      <td>124</td>\n",
       "      <td>364</td>\n",
       "      <td>6</td>\n",
       "      <td>10</td>\n",
       "      <td>3</td>\n",
       "      <td>POLYGON Z ((-166.19073 55.86407 0.00000, -162....</td>\n",
       "    </tr>\n",
       "    <tr>\n",
       "      <th>1</th>\n",
       "      <td>Aleutians</td>\n",
       "      <td>124</td>\n",
       "      <td>0</td>\n",
       "      <td>6</td>\n",
       "      <td>10</td>\n",
       "      <td>3</td>\n",
       "      <td>POLYGON Z ((-166.19073 55.86407 0.00000, -162....</td>\n",
       "    </tr>\n",
       "  </tbody>\n",
       "</table>\n",
       "</div>"
      ],
      "text/plain": [
       "    aoi_name  path_number  min_days_backward  month_range_lower  \\\n",
       "0  Aleutians          124                364                  6   \n",
       "1  Aleutians          124                  0                  6   \n",
       "\n",
       "   month_range_upper  num_neighbors_ref  \\\n",
       "0                 10                  3   \n",
       "1                 10                  3   \n",
       "\n",
       "                                            geometry  \n",
       "0  POLYGON Z ((-166.19073 55.86407 0.00000, -162....  \n",
       "1  POLYGON Z ((-166.19073 55.86407 0.00000, -162....  "
      ]
     },
     "execution_count": 4,
     "metadata": {},
     "output_type": "execute_result"
    }
   ],
   "source": [
    "df_aoi"
   ]
  },
  {
   "cell_type": "markdown",
   "metadata": {},
   "source": [
    "Currently, there is a lot of data in each of the rows above. We really only need the AOI `geometry` and the `path_number`."
   ]
  },
  {
   "cell_type": "markdown",
   "metadata": {},
   "source": [
    "# Parameters\n",
    "\n",
    "This is what the operator is going to have to change. Will provide some comments."
   ]
  },
  {
   "cell_type": "code",
   "execution_count": 5,
   "metadata": {
    "ExecuteTime": {
     "end_time": "2022-01-26T20:33:20.729834Z",
     "start_time": "2022-01-26T20:33:20.702152Z"
    }
   },
   "outputs": [],
   "source": [
    "today = datetime.datetime.now()\n",
    "\n",
    "# Earliest year for reference frames\n",
    "START_YEAR = 2016\n",
    "# Latest year for reference frames\n",
    "END_YEAR = today.year\n",
    "# Adjust depending on seasonality\n",
    "# For annual IFGs, select a single months of interest and you will get what you want.\n",
    "MONTHS_OF_INTEREST = [6, 7, 8, 9, 10]"
   ]
  },
  {
   "cell_type": "markdown",
   "metadata": {},
   "source": [
    "Below, we select the boundary for minimum reference dates."
   ]
  },
  {
   "cell_type": "code",
   "execution_count": 6,
   "metadata": {
    "ExecuteTime": {
     "end_time": "2022-01-26T20:33:20.762927Z",
     "start_time": "2022-01-26T20:33:20.731632Z"
    }
   },
   "outputs": [
    {
     "data": {
      "text/plain": [
       "[datetime.datetime(2021, 10, 1, 0, 0),\n",
       " datetime.datetime(2021, 9, 1, 0, 0),\n",
       " datetime.datetime(2021, 8, 1, 0, 0)]"
      ]
     },
     "execution_count": 6,
     "metadata": {},
     "output_type": "execute_result"
    }
   ],
   "source": [
    "min_reference_dates = [datetime.datetime(year, month, 1) \n",
    "                       for year in range(START_YEAR, END_YEAR + 1)\n",
    "                       for month in MONTHS_OF_INTEREST\n",
    "                       if datetime.datetime(year, month, 1) < today]\n",
    "min_reference_dates = list(reversed(min_reference_dates))\n",
    "min_reference_dates[:3]"
   ]
  },
  {
   "cell_type": "markdown",
   "metadata": {},
   "source": [
    "The maximum secondary dates for enumeration are going to be a month after the previous `min_reference_date`. What we are going to do is: *select 3 SLCs before and after the 1st of the month*. When we reach the earliest month of interest in a given year, we select secondaries occuring before the latest occuring month of interest in the previous calendar year (at the end of that month). Here the number of neighnbors (i.e. 3) is arbitrary and can be changed below. We found this parameter useful to making sure the graph was connected. So, don't change it unless you are careful.\n",
    "\n",
    "In the setup above and below, we are thus picking three dates occuring before one item of the `max_secondary_dates` and three dates after one item of `min_reference_dates`. "
   ]
  },
  {
   "cell_type": "code",
   "execution_count": 7,
   "metadata": {
    "ExecuteTime": {
     "end_time": "2022-01-26T20:33:20.794025Z",
     "start_time": "2022-01-26T20:33:20.764539Z"
    }
   },
   "outputs": [
    {
     "data": {
      "text/plain": [
       "[datetime.datetime(2021, 10, 1, 0, 0),\n",
       " datetime.datetime(2021, 9, 1, 0, 0),\n",
       " datetime.datetime(2021, 8, 1, 0, 0)]"
      ]
     },
     "execution_count": 7,
     "metadata": {},
     "output_type": "execute_result"
    }
   ],
   "source": [
    "max_secondary_dates = [ref_date + relativedelta(months=1) for ref_date in min_reference_dates]\n",
    "max_secondary_dates = max_secondary_dates[1:] + min_reference_dates[-1:]\n",
    "max_secondary_dates[:3]"
   ]
  },
  {
   "cell_type": "code",
   "execution_count": 8,
   "metadata": {
    "ExecuteTime": {
     "end_time": "2022-01-26T20:33:20.830429Z",
     "start_time": "2022-01-26T20:33:20.797641Z"
    }
   },
   "outputs": [
    {
     "name": "stdout",
     "output_type": "stream",
     "text": [
      "############################\n",
      "2021-10-01  to  2021-10-01\n",
      "or: days backward 0\n",
      "############################\n",
      "2021-09-01  to  2021-09-01\n",
      "or: days backward 0\n",
      "############################\n",
      "2021-08-01  to  2021-08-01\n",
      "or: days backward 0\n",
      "############################\n",
      "2021-07-01  to  2021-07-01\n",
      "or: days backward 0\n",
      "############################\n",
      "2021-06-01  to  2020-11-01\n",
      "or: days backward 212\n",
      "############################\n",
      "2020-10-01  to  2020-10-01\n",
      "or: days backward 0\n"
     ]
    }
   ],
   "source": [
    "for ref, sec in zip(min_reference_dates[:6], max_secondary_dates):\n",
    "    print('############################')\n",
    "    print(ref.date(), ' to ', sec.date())\n",
    "    print('or: days backward', (ref - sec).days)"
   ]
  },
  {
   "cell_type": "code",
   "execution_count": 9,
   "metadata": {
    "ExecuteTime": {
     "end_time": "2022-01-26T20:33:20.871551Z",
     "start_time": "2022-01-26T20:33:20.834020Z"
    }
   },
   "outputs": [
    {
     "data": {
      "text/plain": [
       "[124]"
      ]
     },
     "execution_count": 9,
     "metadata": {},
     "output_type": "execute_result"
    }
   ],
   "source": [
    "path_numbers = df_aoi.path_number.unique().tolist()\n",
    "path_numbers"
   ]
  },
  {
   "cell_type": "markdown",
   "metadata": {},
   "source": [
    "# Generate tiles used for coverage\n",
    "\n",
    "This function just does a geometric query based on each frame and using one pass from the start date."
   ]
  },
  {
   "cell_type": "code",
   "execution_count": 10,
   "metadata": {
    "ExecuteTime": {
     "end_time": "2022-01-26T20:33:23.206558Z",
     "start_time": "2022-01-26T20:33:20.872995Z"
    }
   },
   "outputs": [],
   "source": [
    "df_coverage_tiles = get_s1_coverage_tiles(aoi,\n",
    "                                          # the date is used to get coverage tiles for extracting stack.\n",
    "                                          # Recent data has reliable coverage.\n",
    "                                          start_date=datetime.datetime(2021, 1, 1))"
   ]
  },
  {
   "cell_type": "code",
   "execution_count": 11,
   "metadata": {
    "ExecuteTime": {
     "end_time": "2022-01-26T20:33:23.235943Z",
     "start_time": "2022-01-26T20:33:23.208050Z"
    }
   },
   "outputs": [],
   "source": [
    "## Uncomment if you want to inspect the dataframe\n",
    "# df_coverage_tiles.to_file('coverage_tiles.geojson', driver='GeoJSON', index=False)"
   ]
  },
  {
   "cell_type": "code",
   "execution_count": 12,
   "metadata": {
    "ExecuteTime": {
     "end_time": "2022-01-26T20:33:23.406706Z",
     "start_time": "2022-01-26T20:33:23.237597Z"
    }
   },
   "outputs": [
    {
     "data": {
      "text/plain": [
       "<matplotlib.legend.Legend at 0x7f89d1113880>"
      ]
     },
     "execution_count": 12,
     "metadata": {},
     "output_type": "execute_result"
    },
    {
     "data": {
      "image/png": "[encoded data removed]",
      "text/plain": [
       "<Figure size 432x288 with 1 Axes>"
      ]
     },
     "metadata": {
      "needs_background": "light"
     },
     "output_type": "display_data"
    }
   ],
   "source": [
    "fig, ax = plt.subplots()\n",
    "\n",
    "df_coverage_tiles.plot(ax=ax, alpha=.5, color='green', label='Frames interesecting tile')\n",
    "df_aoi.exterior.plot(color='black', ax=ax, label='AOI')\n",
    "plt.legend()"
   ]
  },
  {
   "cell_type": "markdown",
   "metadata": {},
   "source": [
    "For the Aleutians above, note there is:\n",
    "\n",
    "1. Above the coverage was 12 days + 1 after January 1 2021. It will used to generate an entire collection of frames below.\n",
    "2. the track we are interested doesn't \"jiggle\" above the AOI because of the restriction to 12 days + 1 (see below when we make the stack, for more frames \"jiggling\").\n",
    "3. the other tracks have some more \"jiggle\" or \"seams\" partially because of how the frames fell during this limited time period.\n",
    "\n",
    "For larger frames, piecemealing the queries ensures that 1000 product limit that ASF imposes will no prevent us from collecting all the data we need over the AOI.\n",
    "\n",
    "# Generate a stack\n",
    "\n",
    "Using all the tiles that are needed to cover the AOI we make a geometric query based on the frame. We now include only the path we are interested in."
   ]
  },
  {
   "cell_type": "code",
   "execution_count": 13,
   "metadata": {
    "ExecuteTime": {
     "end_time": "2022-01-26T20:33:26.046933Z",
     "start_time": "2022-01-26T20:33:23.408258Z"
    }
   },
   "outputs": [
    {
     "name": "stderr",
     "output_type": "stream",
     "text": [
      "Downloading stack for 1 tiles: 100%|██████████| 1/1 [00:02<00:00,  2.57s/it]\n"
     ]
    }
   ],
   "source": [
    "df_stack = get_s1_stack_by_dataframe(df_coverage_tiles,\n",
    "                                     path_numbers=path_numbers)"
   ]
  },
  {
   "cell_type": "code",
   "execution_count": 14,
   "metadata": {
    "ExecuteTime": {
     "end_time": "2022-01-26T20:33:26.080329Z",
     "start_time": "2022-01-26T20:33:26.048785Z"
    }
   },
   "outputs": [
    {
     "data": {
      "text/plain": [
       "'We have 131 frames in our stack'"
      ]
     },
     "execution_count": 14,
     "metadata": {},
     "output_type": "execute_result"
    }
   ],
   "source": [
    "f'We have {df_stack.shape[0]} frames in our stack'"
   ]
  },
  {
   "cell_type": "code",
   "execution_count": 15,
   "metadata": {
    "ExecuteTime": {
     "end_time": "2022-01-26T20:33:26.322384Z",
     "start_time": "2022-01-26T20:33:26.081992Z"
    }
   },
   "outputs": [
    {
     "data": {
      "text/plain": [
       "<matplotlib.legend.Legend at 0x7f8a006c1190>"
      ]
     },
     "execution_count": 15,
     "metadata": {},
     "output_type": "execute_result"
    },
    {
     "data": {
      "image/png": "[encoded data removed]",
      "text/plain": [
       "<Figure size 432x288 with 1 Axes>"
      ]
     },
     "metadata": {
      "needs_background": "light"
     },
     "output_type": "display_data"
    }
   ],
   "source": [
    "fig, ax = plt.subplots()\n",
    "\n",
    "df_stack.plot(ax=ax, alpha=.5, color='green', label='Frames interesecting tile')\n",
    "df_aoi.exterior.plot(color='black', ax=ax, label='AOI')\n",
    "plt.legend()"
   ]
  },
  {
   "cell_type": "markdown",
   "metadata": {},
   "source": [
    "Note, we now see the frames cover the entire AOI as we expect. Next, we filter the stack by month to ensure we only have SLCs we need."
   ]
  },
  {
   "cell_type": "code",
   "execution_count": 16,
   "metadata": {
    "ExecuteTime": {
     "end_time": "2022-01-26T20:33:26.356073Z",
     "start_time": "2022-01-26T20:33:26.324043Z"
    }
   },
   "outputs": [
    {
     "data": {
      "text/plain": [
       "(47, 27)"
      ]
     },
     "execution_count": 16,
     "metadata": {},
     "output_type": "execute_result"
    }
   ],
   "source": [
    "df_stack_month = df_stack[df_stack.start_date.dt.month.isin(MONTHS_OF_INTEREST)]\n",
    "df_stack_month.shape"
   ]
  },
  {
   "cell_type": "code",
   "execution_count": 17,
   "metadata": {
    "ExecuteTime": {
     "end_time": "2022-01-26T20:34:46.809308Z",
     "start_time": "2022-01-26T20:33:26.357590Z"
    }
   },
   "outputs": [
    {
     "name": "stderr",
     "output_type": "stream",
     "text": [
      "100%|██████████| 30/30 [01:20<00:00,  2.68s/it]\n"
     ]
    }
   ],
   "source": [
    "ifg_pairs = []\n",
    "\n",
    "for min_ref_date, max_sec_date in zip(tqdm(min_reference_dates), (max_secondary_dates)):\n",
    "    # Mostly this is 0 unless we get to our earliest month of interest in the calendar year\n",
    "    min_days_backward = (min_ref_date - max_sec_date).days\n",
    "    # because of s1 availability/gaps, we just make this huge so that we can look up slcs in the stack\n",
    "    # occuring in previous years - the gaps can cause temporal jumps that you have to be mindful of\n",
    "    # That's why we have neighbors being 3.\n",
    "    temporal_window_days=364 * 3\n",
    "    temp = enumerate_ifgs_from_stack(df_stack_month,\n",
    "                                     aoi,\n",
    "                                     min_ref_date,\n",
    "                                     # options are 'tile' and 'path'\n",
    "                                     # 'path' processes multiple references simultaneously\n",
    "                                     enumeration_type='tile',\n",
    "                                     min_days_backward=min_days_backward,\n",
    "                                     num_neighbors_ref=3,\n",
    "                                     num_neighbors_sec=3,\n",
    "                                     temporal_window_days=temporal_window_days,\n",
    "                                     )\n",
    "    ifg_pairs += temp"
   ]
  },
  {
   "cell_type": "code",
   "execution_count": 18,
   "metadata": {
    "ExecuteTime": {
     "end_time": "2022-01-26T20:34:46.839854Z",
     "start_time": "2022-01-26T20:34:46.810852Z"
    }
   },
   "outputs": [
    {
     "data": {
      "text/plain": [
       "'The number of GUNWs (likely lots of duplicates) is 270'"
      ]
     },
     "execution_count": 18,
     "metadata": {},
     "output_type": "execute_result"
    }
   ],
   "source": [
    "f'The number of GUNWs (likely lots of duplicates) is {len(ifg_pairs)}'"
   ]
  },
  {
   "cell_type": "markdown",
   "metadata": {},
   "source": [
    "# Get Dataframe"
   ]
  },
  {
   "cell_type": "code",
   "execution_count": 19,
   "metadata": {
    "ExecuteTime": {
     "end_time": "2022-01-26T20:34:47.116319Z",
     "start_time": "2022-01-26T20:34:46.841614Z"
    }
   },
   "outputs": [
    {
     "data": {
      "text/html": [
       "<div>\n",
       "<style scoped>\n",
       "    .dataframe tbody tr th:only-of-type {\n",
       "        vertical-align: middle;\n",
       "    }\n",
       "\n",
       "    .dataframe tbody tr th {\n",
       "        vertical-align: top;\n",
       "    }\n",
       "\n",
       "    .dataframe thead th {\n",
       "        text-align: right;\n",
       "    }\n",
       "</style>\n",
       "<table border=\"1\" class=\"dataframe\">\n",
       "  <thead>\n",
       "    <tr style=\"text-align: right;\">\n",
       "      <th></th>\n",
       "      <th>reference</th>\n",
       "      <th>secondary</th>\n",
       "      <th>reference_date</th>\n",
       "      <th>secondary_date</th>\n",
       "      <th>path_number</th>\n",
       "      <th>geometry</th>\n",
       "    </tr>\n",
       "  </thead>\n",
       "  <tbody>\n",
       "    <tr>\n",
       "      <th>0</th>\n",
       "      <td>[S1B_IW_SLC__1SDV_20211007T044004_20211007T044...</td>\n",
       "      <td>[S1B_IW_SLC__1SDV_20210925T044004_20210925T044...</td>\n",
       "      <td>2021-10-07</td>\n",
       "      <td>2021-09-25</td>\n",
       "      <td>124</td>\n",
       "      <td>POLYGON ((-165.42274 53.75625, -165.42274 53.7...</td>\n",
       "    </tr>\n",
       "    <tr>\n",
       "      <th>1</th>\n",
       "      <td>[S1B_IW_SLC__1SDV_20211007T044004_20211007T044...</td>\n",
       "      <td>[S1B_IW_SLC__1SDV_20210913T044003_20210913T044...</td>\n",
       "      <td>2021-10-07</td>\n",
       "      <td>2021-09-13</td>\n",
       "      <td>124</td>\n",
       "      <td>POLYGON ((-161.64831 54.15131, -161.64830 54.1...</td>\n",
       "    </tr>\n",
       "    <tr>\n",
       "      <th>2</th>\n",
       "      <td>[S1B_IW_SLC__1SDV_20211007T044004_20211007T044...</td>\n",
       "      <td>[S1B_IW_SLC__1SDV_20210901T044003_20210901T044...</td>\n",
       "      <td>2021-10-07</td>\n",
       "      <td>2021-09-01</td>\n",
       "      <td>124</td>\n",
       "      <td>POLYGON ((-165.42264 53.75599, -165.42264 53.7...</td>\n",
       "    </tr>\n",
       "    <tr>\n",
       "      <th>3</th>\n",
       "      <td>[S1B_IW_SLC__1SDV_20211019T044004_20211019T044...</td>\n",
       "      <td>[S1B_IW_SLC__1SDV_20210925T044004_20210925T044...</td>\n",
       "      <td>2021-10-19</td>\n",
       "      <td>2021-09-25</td>\n",
       "      <td>124</td>\n",
       "      <td>POLYGON ((-162.12128 55.93492, -162.12128 55.9...</td>\n",
       "    </tr>\n",
       "    <tr>\n",
       "      <th>4</th>\n",
       "      <td>[S1B_IW_SLC__1SDV_20211019T044004_20211019T044...</td>\n",
       "      <td>[S1B_IW_SLC__1SDV_20210913T044003_20210913T044...</td>\n",
       "      <td>2021-10-19</td>\n",
       "      <td>2021-09-13</td>\n",
       "      <td>124</td>\n",
       "      <td>POLYGON ((-161.64837 54.15157, -161.64837 54.1...</td>\n",
       "    </tr>\n",
       "  </tbody>\n",
       "</table>\n",
       "</div>"
      ],
      "text/plain": [
       "                                           reference  \\\n",
       "0  [S1B_IW_SLC__1SDV_20211007T044004_20211007T044...   \n",
       "1  [S1B_IW_SLC__1SDV_20211007T044004_20211007T044...   \n",
       "2  [S1B_IW_SLC__1SDV_20211007T044004_20211007T044...   \n",
       "3  [S1B_IW_SLC__1SDV_20211019T044004_20211019T044...   \n",
       "4  [S1B_IW_SLC__1SDV_20211019T044004_20211019T044...   \n",
       "\n",
       "                                           secondary reference_date  \\\n",
       "0  [S1B_IW_SLC__1SDV_20210925T044004_20210925T044...     2021-10-07   \n",
       "1  [S1B_IW_SLC__1SDV_20210913T044003_20210913T044...     2021-10-07   \n",
       "2  [S1B_IW_SLC__1SDV_20210901T044003_20210901T044...     2021-10-07   \n",
       "3  [S1B_IW_SLC__1SDV_20210925T044004_20210925T044...     2021-10-19   \n",
       "4  [S1B_IW_SLC__1SDV_20210913T044003_20210913T044...     2021-10-19   \n",
       "\n",
       "  secondary_date  path_number  \\\n",
       "0     2021-09-25          124   \n",
       "1     2021-09-13          124   \n",
       "2     2021-09-01          124   \n",
       "3     2021-09-25          124   \n",
       "4     2021-09-13          124   \n",
       "\n",
       "                                            geometry  \n",
       "0  POLYGON ((-165.42274 53.75625, -165.42274 53.7...  \n",
       "1  POLYGON ((-161.64831 54.15131, -161.64830 54.1...  \n",
       "2  POLYGON ((-165.42264 53.75599, -165.42264 53.7...  \n",
       "3  POLYGON ((-162.12128 55.93492, -162.12128 55.9...  \n",
       "4  POLYGON ((-161.64837 54.15157, -161.64837 54.1...  "
      ]
     },
     "execution_count": 19,
     "metadata": {},
     "output_type": "execute_result"
    }
   ],
   "source": [
    "df_pairs = distill_all_pairs(ifg_pairs)\n",
    "df_pairs.head()"
   ]
  },
  {
   "cell_type": "code",
   "execution_count": 20,
   "metadata": {
    "ExecuteTime": {
     "end_time": "2022-01-26T20:34:47.146266Z",
     "start_time": "2022-01-26T20:34:47.117927Z"
    }
   },
   "outputs": [
    {
     "data": {
      "text/plain": [
       "\"# of GUNWs: ' 270\""
      ]
     },
     "execution_count": 20,
     "metadata": {},
     "output_type": "execute_result"
    }
   ],
   "source": [
    "f\"# of GUNWs: ' {df_pairs.shape[0]}\""
   ]
  },
  {
   "cell_type": "markdown",
   "metadata": {
    "ExecuteTime": {
     "end_time": "2022-01-21T00:51:53.374968Z",
     "start_time": "2022-01-21T00:51:53.344139Z"
    }
   },
   "source": [
    "# Deduplication Pt. 1\n",
    "\n",
    "A `GUNW` is uniquely determined by the reference and secondary IDs. We contanenate these sorted lists and generate a lossy hash to deduplicate products we may have introduced from the enumeration above."
   ]
  },
  {
   "cell_type": "code",
   "execution_count": 21,
   "metadata": {
    "ExecuteTime": {
     "end_time": "2022-01-26T20:34:47.176882Z",
     "start_time": "2022-01-26T20:34:47.147987Z"
    }
   },
   "outputs": [],
   "source": [
    "import hashlib\n",
    "import json\n",
    "\n",
    "\n",
    "def get_gunw_hash_id(reference_ids: list, secondary_ids: list) -> str:\n",
    "    all_ids = json.dumps([' '.join(sorted(reference_ids)),\n",
    "                          ' '.join(sorted(secondary_ids))\n",
    "                          ]).encode('utf8')\n",
    "    hash_id = hashlib.md5(all_ids).hexdigest()\n",
    "    return hash_id"
   ]
  },
  {
   "cell_type": "code",
   "execution_count": 22,
   "metadata": {
    "ExecuteTime": {
     "end_time": "2022-01-26T20:34:47.221558Z",
     "start_time": "2022-01-26T20:34:47.178701Z"
    }
   },
   "outputs": [
    {
     "data": {
      "text/html": [
       "<div>\n",
       "<style scoped>\n",
       "    .dataframe tbody tr th:only-of-type {\n",
       "        vertical-align: middle;\n",
       "    }\n",
       "\n",
       "    .dataframe tbody tr th {\n",
       "        vertical-align: top;\n",
       "    }\n",
       "\n",
       "    .dataframe thead th {\n",
       "        text-align: right;\n",
       "    }\n",
       "</style>\n",
       "<table border=\"1\" class=\"dataframe\">\n",
       "  <thead>\n",
       "    <tr style=\"text-align: right;\">\n",
       "      <th></th>\n",
       "      <th>reference</th>\n",
       "      <th>secondary</th>\n",
       "      <th>reference_date</th>\n",
       "      <th>secondary_date</th>\n",
       "      <th>path_number</th>\n",
       "      <th>geometry</th>\n",
       "      <th>hash_id</th>\n",
       "    </tr>\n",
       "  </thead>\n",
       "  <tbody>\n",
       "    <tr>\n",
       "      <th>0</th>\n",
       "      <td>[S1B_IW_SLC__1SDV_20211007T044004_20211007T044...</td>\n",
       "      <td>[S1B_IW_SLC__1SDV_20210925T044004_20210925T044...</td>\n",
       "      <td>2021-10-07</td>\n",
       "      <td>2021-09-25</td>\n",
       "      <td>124</td>\n",
       "      <td>POLYGON ((-165.42274 53.75625, -165.42274 53.7...</td>\n",
       "      <td>e22ec5227f1bd9e4ec0e8c6ea39e3193</td>\n",
       "    </tr>\n",
       "    <tr>\n",
       "      <th>1</th>\n",
       "      <td>[S1B_IW_SLC__1SDV_20211007T044004_20211007T044...</td>\n",
       "      <td>[S1B_IW_SLC__1SDV_20210913T044003_20210913T044...</td>\n",
       "      <td>2021-10-07</td>\n",
       "      <td>2021-09-13</td>\n",
       "      <td>124</td>\n",
       "      <td>POLYGON ((-161.64831 54.15131, -161.64830 54.1...</td>\n",
       "      <td>7cf59cc878955270732a75cdedacc5ca</td>\n",
       "    </tr>\n",
       "    <tr>\n",
       "      <th>2</th>\n",
       "      <td>[S1B_IW_SLC__1SDV_20211007T044004_20211007T044...</td>\n",
       "      <td>[S1B_IW_SLC__1SDV_20210901T044003_20210901T044...</td>\n",
       "      <td>2021-10-07</td>\n",
       "      <td>2021-09-01</td>\n",
       "      <td>124</td>\n",
       "      <td>POLYGON ((-165.42264 53.75599, -165.42264 53.7...</td>\n",
       "      <td>a74c05b42dcbb61190bb9e98356a6729</td>\n",
       "    </tr>\n",
       "    <tr>\n",
       "      <th>3</th>\n",
       "      <td>[S1B_IW_SLC__1SDV_20211019T044004_20211019T044...</td>\n",
       "      <td>[S1B_IW_SLC__1SDV_20210925T044004_20210925T044...</td>\n",
       "      <td>2021-10-19</td>\n",
       "      <td>2021-09-25</td>\n",
       "      <td>124</td>\n",
       "      <td>POLYGON ((-162.12128 55.93492, -162.12128 55.9...</td>\n",
       "      <td>65e9b8a828214a792fc38e4cb49f9f96</td>\n",
       "    </tr>\n",
       "    <tr>\n",
       "      <th>4</th>\n",
       "      <td>[S1B_IW_SLC__1SDV_20211019T044004_20211019T044...</td>\n",
       "      <td>[S1B_IW_SLC__1SDV_20210913T044003_20210913T044...</td>\n",
       "      <td>2021-10-19</td>\n",
       "      <td>2021-09-13</td>\n",
       "      <td>124</td>\n",
       "      <td>POLYGON ((-161.64837 54.15157, -161.64837 54.1...</td>\n",
       "      <td>dd3478c1013ce318d7349d971be9f8ce</td>\n",
       "    </tr>\n",
       "  </tbody>\n",
       "</table>\n",
       "</div>"
      ],
      "text/plain": [
       "                                           reference  \\\n",
       "0  [S1B_IW_SLC__1SDV_20211007T044004_20211007T044...   \n",
       "1  [S1B_IW_SLC__1SDV_20211007T044004_20211007T044...   \n",
       "2  [S1B_IW_SLC__1SDV_20211007T044004_20211007T044...   \n",
       "3  [S1B_IW_SLC__1SDV_20211019T044004_20211019T044...   \n",
       "4  [S1B_IW_SLC__1SDV_20211019T044004_20211019T044...   \n",
       "\n",
       "                                           secondary reference_date  \\\n",
       "0  [S1B_IW_SLC__1SDV_20210925T044004_20210925T044...     2021-10-07   \n",
       "1  [S1B_IW_SLC__1SDV_20210913T044003_20210913T044...     2021-10-07   \n",
       "2  [S1B_IW_SLC__1SDV_20210901T044003_20210901T044...     2021-10-07   \n",
       "3  [S1B_IW_SLC__1SDV_20210925T044004_20210925T044...     2021-10-19   \n",
       "4  [S1B_IW_SLC__1SDV_20210913T044003_20210913T044...     2021-10-19   \n",
       "\n",
       "  secondary_date  path_number  \\\n",
       "0     2021-09-25          124   \n",
       "1     2021-09-13          124   \n",
       "2     2021-09-01          124   \n",
       "3     2021-09-25          124   \n",
       "4     2021-09-13          124   \n",
       "\n",
       "                                            geometry  \\\n",
       "0  POLYGON ((-165.42274 53.75625, -165.42274 53.7...   \n",
       "1  POLYGON ((-161.64831 54.15131, -161.64830 54.1...   \n",
       "2  POLYGON ((-165.42264 53.75599, -165.42264 53.7...   \n",
       "3  POLYGON ((-162.12128 55.93492, -162.12128 55.9...   \n",
       "4  POLYGON ((-161.64837 54.15157, -161.64837 54.1...   \n",
       "\n",
       "                            hash_id  \n",
       "0  e22ec5227f1bd9e4ec0e8c6ea39e3193  \n",
       "1  7cf59cc878955270732a75cdedacc5ca  \n",
       "2  a74c05b42dcbb61190bb9e98356a6729  \n",
       "3  65e9b8a828214a792fc38e4cb49f9f96  \n",
       "4  dd3478c1013ce318d7349d971be9f8ce  "
      ]
     },
     "execution_count": 22,
     "metadata": {},
     "output_type": "execute_result"
    }
   ],
   "source": [
    "def hasher(row):\n",
    "    return get_gunw_hash_id(row['reference'], row['secondary'])\n",
    "\n",
    "df_pairs['hash_id'] = df_pairs.apply(hasher, axis=1)\n",
    "df_pairs.head()"
   ]
  },
  {
   "cell_type": "code",
   "execution_count": 23,
   "metadata": {
    "ExecuteTime": {
     "end_time": "2022-01-26T20:34:47.253046Z",
     "start_time": "2022-01-26T20:34:47.223446Z"
    }
   },
   "outputs": [
    {
     "data": {
      "text/plain": [
       "'# of duplicated entries: 130'"
      ]
     },
     "execution_count": 23,
     "metadata": {},
     "output_type": "execute_result"
    }
   ],
   "source": [
    "f\"# of duplicated entries: {df_pairs.duplicated(subset=['hash_id']).sum()}\""
   ]
  },
  {
   "cell_type": "code",
   "execution_count": 24,
   "metadata": {
    "ExecuteTime": {
     "end_time": "2022-01-26T20:34:47.288701Z",
     "start_time": "2022-01-26T20:34:47.254529Z"
    }
   },
   "outputs": [
    {
     "data": {
      "text/plain": [
       "'# of UNIQUE GUNWs: 140'"
      ]
     },
     "execution_count": 24,
     "metadata": {},
     "output_type": "execute_result"
    }
   ],
   "source": [
    "df_pairs = df_pairs.drop_duplicates(subset=['hash_id']).reset_index(drop=True)\n",
    "f\"# of UNIQUE GUNWs: {df_pairs.shape[0]}\""
   ]
  },
  {
   "cell_type": "markdown",
   "metadata": {},
   "source": [
    "# Viewing GUNW pairs"
   ]
  },
  {
   "cell_type": "code",
   "execution_count": 25,
   "metadata": {
    "ExecuteTime": {
     "end_time": "2022-01-26T20:34:48.692684Z",
     "start_time": "2022-01-26T20:34:47.290616Z"
    }
   },
   "outputs": [
    {
     "data": {
      "image/png": "[encoded data removed]",
      "text/plain": [
       "<Figure size 432x288 with 2 Axes>"
      ]
     },
     "metadata": {
      "needs_background": "light"
     },
     "output_type": "display_data"
    },
    {
     "data": {
      "image/png": "[encoded data removed]",
      "text/plain": [
       "<Figure size 432x288 with 2 Axes>"
      ]
     },
     "metadata": {
      "needs_background": "light"
     },
     "output_type": "display_data"
    },
    {
     "data": {
      "image/png": "[encoded data removed]",
      "text/plain": [
       "<Figure size 432x288 with 2 Axes>"
      ]
     },
     "metadata": {
      "needs_background": "light"
     },
     "output_type": "display_data"
    },
    {
     "data": {
      "image/png": "[encoded data removed]",
      "text/plain": [
       "<Figure size 432x288 with 2 Axes>"
      ]
     },
     "metadata": {
      "needs_background": "light"
     },
     "output_type": "display_data"
    },
    {
     "data": {
      "image/png": "[encoded data removed]",
      "text/plain": [
       "<Figure size 432x288 with 2 Axes>"
      ]
     },
     "metadata": {
      "needs_background": "light"
     },
     "output_type": "display_data"
    }
   ],
   "source": [
    "# start index\n",
    "M = 0\n",
    "# number of pairs to view\n",
    "N = 5\n",
    "\n",
    "for J in range(M, M + N):\n",
    "    pair = ifg_pairs[J]\n",
    "\n",
    "    fig, axs = plt.subplots(1, 2, sharey=True, sharex=True)\n",
    "\n",
    "    df_ref_plot = pair['reference']\n",
    "    df_sec_plot = pair['secondary']\n",
    "\n",
    "    df_ref_plot.plot(column='start_date_str', \n",
    "                     legend=True, \n",
    "                     ax=axs[0], alpha=.15)\n",
    "    df_aoi.exterior.plot(ax=axs[0], alpha=.5, color='black')\n",
    "    axs[0].set_title('Reference')\n",
    "\n",
    "    df_sec_plot.plot(column='start_date_str', \n",
    "                     legend=True, \n",
    "                     ax=axs[1], alpha=.15)\n",
    "    df_aoi.exterior.plot(ax=axs[1], alpha=.5, color='black')\n",
    "    \n",
    "    axs[0].set_title(f'Reference {J}')\n",
    "    axs[1].set_title('Secondary')"
   ]
  },
  {
   "cell_type": "markdown",
   "metadata": {
    "ExecuteTime": {
     "end_time": "2022-01-21T00:54:06.533180Z",
     "start_time": "2022-01-21T00:54:06.503673Z"
    }
   },
   "source": [
    "# Update types for Graphical Analysis\n",
    "\n",
    "We want to do some basic visualization to support the understanding if we traverse time correctly. We do some simple standard pandas manipulation."
   ]
  },
  {
   "cell_type": "code",
   "execution_count": 26,
   "metadata": {
    "ExecuteTime": {
     "end_time": "2022-01-26T20:34:48.738198Z",
     "start_time": "2022-01-26T20:34:48.698474Z"
    }
   },
   "outputs": [
    {
     "data": {
      "text/html": [
       "<div>\n",
       "<style scoped>\n",
       "    .dataframe tbody tr th:only-of-type {\n",
       "        vertical-align: middle;\n",
       "    }\n",
       "\n",
       "    .dataframe tbody tr th {\n",
       "        vertical-align: top;\n",
       "    }\n",
       "\n",
       "    .dataframe thead th {\n",
       "        text-align: right;\n",
       "    }\n",
       "</style>\n",
       "<table border=\"1\" class=\"dataframe\">\n",
       "  <thead>\n",
       "    <tr style=\"text-align: right;\">\n",
       "      <th></th>\n",
       "      <th>reference</th>\n",
       "      <th>secondary</th>\n",
       "      <th>reference_date</th>\n",
       "      <th>secondary_date</th>\n",
       "      <th>path_number</th>\n",
       "      <th>geometry</th>\n",
       "      <th>hash_id</th>\n",
       "    </tr>\n",
       "  </thead>\n",
       "  <tbody>\n",
       "    <tr>\n",
       "      <th>0</th>\n",
       "      <td>[S1B_IW_SLC__1SDV_20211007T044004_20211007T044...</td>\n",
       "      <td>[S1B_IW_SLC__1SDV_20210925T044004_20210925T044...</td>\n",
       "      <td>2021-10-07</td>\n",
       "      <td>2021-09-25</td>\n",
       "      <td>124</td>\n",
       "      <td>POLYGON ((-165.42274 53.75625, -165.42274 53.7...</td>\n",
       "      <td>e22ec5227f1bd9e4ec0e8c6ea39e3193</td>\n",
       "    </tr>\n",
       "    <tr>\n",
       "      <th>1</th>\n",
       "      <td>[S1B_IW_SLC__1SDV_20211007T044004_20211007T044...</td>\n",
       "      <td>[S1B_IW_SLC__1SDV_20210913T044003_20210913T044...</td>\n",
       "      <td>2021-10-07</td>\n",
       "      <td>2021-09-13</td>\n",
       "      <td>124</td>\n",
       "      <td>POLYGON ((-161.64831 54.15131, -161.64830 54.1...</td>\n",
       "      <td>7cf59cc878955270732a75cdedacc5ca</td>\n",
       "    </tr>\n",
       "    <tr>\n",
       "      <th>2</th>\n",
       "      <td>[S1B_IW_SLC__1SDV_20211007T044004_20211007T044...</td>\n",
       "      <td>[S1B_IW_SLC__1SDV_20210901T044003_20210901T044...</td>\n",
       "      <td>2021-10-07</td>\n",
       "      <td>2021-09-01</td>\n",
       "      <td>124</td>\n",
       "      <td>POLYGON ((-165.42264 53.75599, -165.42264 53.7...</td>\n",
       "      <td>a74c05b42dcbb61190bb9e98356a6729</td>\n",
       "    </tr>\n",
       "    <tr>\n",
       "      <th>3</th>\n",
       "      <td>[S1B_IW_SLC__1SDV_20211019T044004_20211019T044...</td>\n",
       "      <td>[S1B_IW_SLC__1SDV_20210925T044004_20210925T044...</td>\n",
       "      <td>2021-10-19</td>\n",
       "      <td>2021-09-25</td>\n",
       "      <td>124</td>\n",
       "      <td>POLYGON ((-162.12128 55.93492, -162.12128 55.9...</td>\n",
       "      <td>65e9b8a828214a792fc38e4cb49f9f96</td>\n",
       "    </tr>\n",
       "    <tr>\n",
       "      <th>4</th>\n",
       "      <td>[S1B_IW_SLC__1SDV_20211019T044004_20211019T044...</td>\n",
       "      <td>[S1B_IW_SLC__1SDV_20210913T044003_20210913T044...</td>\n",
       "      <td>2021-10-19</td>\n",
       "      <td>2021-09-13</td>\n",
       "      <td>124</td>\n",
       "      <td>POLYGON ((-161.64837 54.15157, -161.64837 54.1...</td>\n",
       "      <td>dd3478c1013ce318d7349d971be9f8ce</td>\n",
       "    </tr>\n",
       "  </tbody>\n",
       "</table>\n",
       "</div>"
      ],
      "text/plain": [
       "                                           reference  \\\n",
       "0  [S1B_IW_SLC__1SDV_20211007T044004_20211007T044...   \n",
       "1  [S1B_IW_SLC__1SDV_20211007T044004_20211007T044...   \n",
       "2  [S1B_IW_SLC__1SDV_20211007T044004_20211007T044...   \n",
       "3  [S1B_IW_SLC__1SDV_20211019T044004_20211019T044...   \n",
       "4  [S1B_IW_SLC__1SDV_20211019T044004_20211019T044...   \n",
       "\n",
       "                                           secondary reference_date  \\\n",
       "0  [S1B_IW_SLC__1SDV_20210925T044004_20210925T044...     2021-10-07   \n",
       "1  [S1B_IW_SLC__1SDV_20210913T044003_20210913T044...     2021-10-07   \n",
       "2  [S1B_IW_SLC__1SDV_20210901T044003_20210901T044...     2021-10-07   \n",
       "3  [S1B_IW_SLC__1SDV_20210925T044004_20210925T044...     2021-10-19   \n",
       "4  [S1B_IW_SLC__1SDV_20210913T044003_20210913T044...     2021-10-19   \n",
       "\n",
       "  secondary_date  path_number  \\\n",
       "0     2021-09-25          124   \n",
       "1     2021-09-13          124   \n",
       "2     2021-09-01          124   \n",
       "3     2021-09-25          124   \n",
       "4     2021-09-13          124   \n",
       "\n",
       "                                            geometry  \\\n",
       "0  POLYGON ((-165.42274 53.75625, -165.42274 53.7...   \n",
       "1  POLYGON ((-161.64831 54.15131, -161.64830 54.1...   \n",
       "2  POLYGON ((-165.42264 53.75599, -165.42264 53.7...   \n",
       "3  POLYGON ((-162.12128 55.93492, -162.12128 55.9...   \n",
       "4  POLYGON ((-161.64837 54.15157, -161.64837 54.1...   \n",
       "\n",
       "                            hash_id  \n",
       "0  e22ec5227f1bd9e4ec0e8c6ea39e3193  \n",
       "1  7cf59cc878955270732a75cdedacc5ca  \n",
       "2  a74c05b42dcbb61190bb9e98356a6729  \n",
       "3  65e9b8a828214a792fc38e4cb49f9f96  \n",
       "4  dd3478c1013ce318d7349d971be9f8ce  "
      ]
     },
     "execution_count": 26,
     "metadata": {},
     "output_type": "execute_result"
    }
   ],
   "source": [
    "df_pairs['reference_date'] = pd.to_datetime(df_pairs['reference_date'])\n",
    "df_pairs['secondary_date'] = pd.to_datetime(df_pairs['secondary_date'])\n",
    "df_pairs.head()"
   ]
  },
  {
   "cell_type": "markdown",
   "metadata": {},
   "source": [
    "# Visualize a Date Graph from Time Series\n",
    "\n",
    "We can put this into a network Directed Graph and use some simple network functions to check connectivity.\n",
    "\n",
    "We are going to use just dates for nodes, though you could use `(ref_date, hash_id)` for nodes and then inspect connected components. That is for another notebook."
   ]
  },
  {
   "cell_type": "code",
   "execution_count": 27,
   "metadata": {
    "ExecuteTime": {
     "end_time": "2022-01-26T20:34:48.772150Z",
     "start_time": "2022-01-26T20:34:48.741632Z"
    }
   },
   "outputs": [
    {
     "data": {
      "text/plain": [
       "[(Timestamp('2021-10-07 00:00:00'), Timestamp('2021-09-25 00:00:00')),\n",
       " (Timestamp('2021-10-07 00:00:00'), Timestamp('2021-09-13 00:00:00')),\n",
       " (Timestamp('2021-10-07 00:00:00'), Timestamp('2021-09-01 00:00:00')),\n",
       " (Timestamp('2021-10-19 00:00:00'), Timestamp('2021-09-25 00:00:00')),\n",
       " (Timestamp('2021-10-19 00:00:00'), Timestamp('2021-09-13 00:00:00')),\n",
       " (Timestamp('2021-10-19 00:00:00'), Timestamp('2021-09-01 00:00:00')),\n",
       " (Timestamp('2021-10-31 00:00:00'), Timestamp('2021-09-25 00:00:00')),\n",
       " (Timestamp('2021-10-31 00:00:00'), Timestamp('2021-09-13 00:00:00')),\n",
       " (Timestamp('2021-10-31 00:00:00'), Timestamp('2021-09-01 00:00:00')),\n",
       " (Timestamp('2021-09-01 00:00:00'), Timestamp('2021-08-08 00:00:00')),\n",
       " (Timestamp('2021-09-01 00:00:00'), Timestamp('2020-10-24 00:00:00')),\n",
       " (Timestamp('2021-09-01 00:00:00'), Timestamp('2020-10-12 00:00:00')),\n",
       " (Timestamp('2021-09-13 00:00:00'), Timestamp('2021-08-08 00:00:00')),\n",
       " (Timestamp('2021-09-13 00:00:00'), Timestamp('2020-10-24 00:00:00')),\n",
       " (Timestamp('2021-09-13 00:00:00'), Timestamp('2020-10-12 00:00:00'))]"
      ]
     },
     "execution_count": 27,
     "metadata": {},
     "output_type": "execute_result"
    }
   ],
   "source": [
    "list(zip(df_pairs.reference_date, df_pairs.secondary_date))[:15]"
   ]
  },
  {
   "cell_type": "code",
   "execution_count": 28,
   "metadata": {
    "ExecuteTime": {
     "end_time": "2022-01-26T20:34:48.807863Z",
     "start_time": "2022-01-26T20:34:48.773979Z"
    }
   },
   "outputs": [
    {
     "data": {
      "text/plain": [
       "[Timestamp('2015-08-22 00:00:00'),\n",
       " Timestamp('2015-09-15 00:00:00'),\n",
       " Timestamp('2015-10-09 00:00:00'),\n",
       " Timestamp('2016-06-05 00:00:00')]"
      ]
     },
     "execution_count": 28,
     "metadata": {},
     "output_type": "execute_result"
    }
   ],
   "source": [
    "unique_dates = df_pairs.reference_date.tolist() + df_pairs.secondary_date.tolist()\n",
    "unique_dates = sorted(list(set(unique_dates)))\n",
    "unique_dates[:4]"
   ]
  },
  {
   "cell_type": "code",
   "execution_count": 29,
   "metadata": {
    "ExecuteTime": {
     "end_time": "2022-01-26T20:34:48.841055Z",
     "start_time": "2022-01-26T20:34:48.809823Z"
    }
   },
   "outputs": [],
   "source": [
    "date2node = {date: k for (k, date) in enumerate(unique_dates)}\n",
    "node2date = {k: date for (date, k) in date2node.items()}"
   ]
  },
  {
   "cell_type": "code",
   "execution_count": 30,
   "metadata": {
    "ExecuteTime": {
     "end_time": "2022-01-26T20:34:48.875175Z",
     "start_time": "2022-01-26T20:34:48.842926Z"
    }
   },
   "outputs": [],
   "source": [
    "G = nx.DiGraph()\n",
    "\n",
    "edges = [(date2node[ref_date], date2node[sec_date]) \n",
    "         for (ref_date, sec_date) in zip(df_pairs.reference_date, df_pairs.secondary_date)]\n",
    "G.add_edges_from(edges)"
   ]
  },
  {
   "cell_type": "code",
   "execution_count": 31,
   "metadata": {
    "ExecuteTime": {
     "end_time": "2022-01-26T20:34:49.531340Z",
     "start_time": "2022-01-26T20:34:48.876939Z"
    }
   },
   "outputs": [
    {
     "data": {
      "image/png": "[encoded data removed]",
      "text/plain": [
       "<Figure size 432x288 with 1 Axes>"
      ]
     },
     "metadata": {},
     "output_type": "display_data"
    }
   ],
   "source": [
    "nx.draw(G)"
   ]
  },
  {
   "cell_type": "markdown",
   "metadata": {},
   "source": [
    "This function checks there is a path from the first date to the last one."
   ]
  },
  {
   "cell_type": "code",
   "execution_count": 32,
   "metadata": {
    "ExecuteTime": {
     "end_time": "2022-01-26T20:34:49.562722Z",
     "start_time": "2022-01-26T20:34:49.532969Z"
    }
   },
   "outputs": [
    {
     "data": {
      "text/plain": [
       "True"
      ]
     },
     "execution_count": 32,
     "metadata": {},
     "output_type": "execute_result"
    }
   ],
   "source": [
    "nx.has_path(G, \n",
    "            target=date2node[unique_dates[0]],\n",
    "            source=date2node[unique_dates[-1]])"
   ]
  },
  {
   "cell_type": "markdown",
   "metadata": {},
   "source": [
    "The y-axis is created purely for display so doesn't really indicated anything but flow by month."
   ]
  },
  {
   "cell_type": "code",
   "execution_count": 33,
   "metadata": {
    "ExecuteTime": {
     "end_time": "2022-01-26T20:34:51.843019Z",
     "start_time": "2022-01-26T20:34:49.564366Z"
    }
   },
   "outputs": [
    {
     "data": {
      "text/plain": [
       "<matplotlib.legend.Legend at 0x7f89b02c9d30>"
      ]
     },
     "execution_count": 33,
     "metadata": {},
     "output_type": "execute_result"
    },
    {
     "data": {
      "image/png": "[encoded data removed]",
      "text/plain": [
       "<Figure size 1080x360 with 1 Axes>"
      ]
     },
     "metadata": {
      "needs_background": "light"
     },
     "output_type": "display_data"
    }
   ],
   "source": [
    "fig, ax = plt.subplots(figsize=(15, 5))\n",
    "\n",
    "increment = [date.month + date.day for date in unique_dates]\n",
    "\n",
    "# source: https://stackoverflow.com/a/27852570\n",
    "scat = ax.scatter(unique_dates, increment)\n",
    "position = scat.get_offsets().data\n",
    "\n",
    "pos = {date2node[date]: position[k] for (k, date) in enumerate(unique_dates)}\n",
    "nx.draw_networkx_edges(G, pos=pos, ax=ax)\n",
    "ax.grid('on')\n",
    "ax.tick_params(axis='x',\n",
    "               which='major',\n",
    "               labelbottom=True,\n",
    "               labelleft=True)\n",
    "ymin, ymax = ax.get_ylim()\n",
    "for y in range(2015, 2022):\n",
    "    label = 'Oct to Nov' if y == 2016 else None\n",
    "    ax.fill_between([datetime.datetime(y, 6, 1), datetime.datetime(y, 11, 1)], \n",
    "                    ymin, ymax, \n",
    "                    alpha=.5, color='green', zorder=0, label=label)\n",
    "plt.legend()"
   ]
  },
  {
   "cell_type": "markdown",
   "metadata": {},
   "source": [
    "Observe there is a gap in 2018 over are area of interest. This is where our 3 year \"temporal_window_days\" parameter in our enumeration was essential."
   ]
  },
  {
   "cell_type": "markdown",
   "metadata": {},
   "source": [
    "# Deduplication Pt. 2\n",
    "\n",
    "This is to ensure that previous processing hasn't generate any of the products we have just enumerated.\n",
    "\n",
    "\n",
    "# Check CMR\n",
    "\n",
    "This function checks the ASF DAAC if there are GUNWs with the same spatial extent and same date pairs as the ones created. At some point, we will be able to check the input SLC ids from CMR, but currently that is not possible.\n",
    "\n",
    "If you are processing a new AOI whose products have not been delivered, you can ignore this step. It is a bit time consuming as the queries are done product by product."
   ]
  },
  {
   "cell_type": "code",
   "execution_count": 34,
   "metadata": {
    "ExecuteTime": {
     "end_time": "2022-01-26T20:35:13.714569Z",
     "start_time": "2022-01-26T20:34:51.844710Z"
    }
   },
   "outputs": [
    {
     "name": "stderr",
     "output_type": "stream",
     "text": [
      "  0%|          | 0/140 [00:00<?, ?it/s]/Users/cmarshak/bekaert-team/s1-enumerator/s1_enumerator/formatter.py:17: UserWarning: Dataframe is empty! Check inputs.\n",
      "  warn('Dataframe is empty! Check inputs.')\n",
      "100%|██████████| 140/140 [00:21<00:00,  6.45it/s]\n"
     ]
    }
   ],
   "source": [
    "from s1_enumerator import duplicate_gunw_found\n",
    "import concurrent\n",
    "from tqdm import tqdm\n",
    "\n",
    "n = df_pairs.shape[0]\n",
    "with concurrent.futures.ThreadPoolExecutor(max_workers=15) as executor:\n",
    "    results = list(tqdm(executor.map(duplicate_gunw_found, df_pairs.to_dict('records')), total=n))"
   ]
  },
  {
   "cell_type": "code",
   "execution_count": 35,
   "metadata": {
    "ExecuteTime": {
     "end_time": "2022-01-26T20:35:13.765308Z",
     "start_time": "2022-01-26T20:35:13.717055Z"
    }
   },
   "outputs": [
    {
     "name": "stdout",
     "output_type": "stream",
     "text": [
      "existing_gunws:  0\n",
      "Total pairs 140\n"
     ]
    }
   ],
   "source": [
    "df_pairs['existing_gunw'] = [r != '' for r in results]\n",
    "df_pairs['existing_gunw_id'] = results\n",
    "total_existing_gunws = df_pairs['existing_gunw'].sum()\n",
    "print('existing_gunws: ', total_existing_gunws)\n",
    "print('Total pairs', df_pairs.shape[0])"
   ]
  },
  {
   "cell_type": "code",
   "execution_count": 36,
   "metadata": {
    "ExecuteTime": {
     "end_time": "2022-01-26T20:35:13.808278Z",
     "start_time": "2022-01-26T20:35:13.767884Z"
    }
   },
   "outputs": [
    {
     "name": "stdout",
     "output_type": "stream",
     "text": [
      "after filtering, total pairs:  140\n"
     ]
    }
   ],
   "source": [
    "df_pairs_filtered = df_pairs[~df_pairs['existing_gunw']].reset_index(drop=True)\n",
    "# df_pairs_filtered.drop_duplicates(subset=['hash_id'], inplace=True)\n",
    "print('after filtering, total pairs: ', df_pairs_filtered.shape[0])"
   ]
  },
  {
   "cell_type": "markdown",
   "metadata": {},
   "source": [
    "# Check Hyp3 Account\n",
    "\n",
    "We are now going to check\n",
    "\n",
    "1. check products in the open s3 bucket\n",
    "2. check running/pending jobs\n",
    "\n",
    "Notes:\n",
    "\n",
    "1. Above, to accomplish step 1., there is some verbose code (see below). Once we automate delivery, this step will be obsolete. However, until we have delivery, we have to make sure that there are no existing products. Additionally, if we are using a separate (non-operational account), then would be good to use this.\n",
    "2. If we are debugging products and some of our previously generated products were made incorrectly, we will want to ignore this step."
   ]
  },
  {
   "cell_type": "code",
   "execution_count": 37,
   "metadata": {
    "ExecuteTime": {
     "end_time": "2022-01-26T20:35:22.029890Z",
     "start_time": "2022-01-26T20:35:13.809788Z"
    }
   },
   "outputs": [],
   "source": [
    "import hyp3_sdk\n",
    "\n",
    "# uses .netrc; add `prompt=True` to prompt for credentials; \n",
    "hyp3_isce = hyp3_sdk.HyP3('https://hyp3-isce.asf.alaska.edu/')\n",
    "pending_jobs = hyp3_isce.find_jobs(status_code='PENDING') +  hyp3_isce.find_jobs(status_code='RUNNING')\n",
    "all_jobs = hyp3_isce.find_jobs()"
   ]
  },
  {
   "cell_type": "code",
   "execution_count": 38,
   "metadata": {
    "ExecuteTime": {
     "end_time": "2022-01-26T20:35:22.059552Z",
     "start_time": "2022-01-26T20:35:22.031459Z"
    }
   },
   "outputs": [
    {
     "name": "stdout",
     "output_type": "stream",
     "text": [
      "416 HyP3 Jobs: 416 succeeded, 0 failed, 0 running, 0 pending.\n"
     ]
    }
   ],
   "source": [
    "print(all_jobs)"
   ]
  },
  {
   "cell_type": "markdown",
   "metadata": {},
   "source": [
    "## 1. Get existing products in s3 bucket"
   ]
  },
  {
   "cell_type": "code",
   "execution_count": 39,
   "metadata": {
    "ExecuteTime": {
     "end_time": "2022-01-26T20:35:22.093502Z",
     "start_time": "2022-01-26T20:35:22.061212Z"
    }
   },
   "outputs": [
    {
     "data": {
      "text/plain": [
       "{'job_id': '8448ade0-ce59-49a8-a141-cc1ab02acf23',\n",
       " 'job_type': 'INSAR_ISCE_TEST',\n",
       " 'request_time': '2022-01-25T19:19:04+00:00',\n",
       " 'status_code': 'SUCCEEDED',\n",
       " 'user_id': 'cmarshak',\n",
       " 'name': 'final_test_95_try2',\n",
       " 'job_parameters': {'granules': ['S1B_IW_SLC__1SDV_20201022T045603_20201022T045633_023921_02D773_CBCD'],\n",
       "  'secondary_granules': ['S1B_IW_SLC__1SDV_20200916T045603_20200916T045633_023396_02C70E_9F98']},\n",
       " 'files': [{'filename': 'S1-GUNW-A-R-095-tops-20201022_20200916-045618-00170W_00052N-PP-38a7-v2_0_5.nc',\n",
       "   's3': {'bucket': 'hyp3-isce-contentbucket-4xpualmsjg98',\n",
       "    'key': '8448ade0-ce59-49a8-a141-cc1ab02acf23/S1-GUNW-A-R-095-tops-20201022_20200916-045618-00170W_00052N-PP-38a7-v2_0_5.nc'},\n",
       "   'size': 56668094,\n",
       "   'url': 'https://hyp3-isce-contentbucket-4xpualmsjg98.s3.us-west-2.amazonaws.com/8448ade0-ce59-49a8-a141-cc1ab02acf23/S1-GUNW-A-R-095-tops-20201022_20200916-045618-00170W_00052N-PP-38a7-v2_0_5.nc'}],\n",
       " 'logs': [],\n",
       " 'browse_images': ['https://hyp3-isce-contentbucket-4xpualmsjg98.s3.us-west-2.amazonaws.com/8448ade0-ce59-49a8-a141-cc1ab02acf23/S1-GUNW-A-R-095-tops-20201022_20200916-045618-00170W_00052N-PP-38a7-v2_0_5.png'],\n",
       " 'thumbnail_images': [],\n",
       " 'expiration_time': '2022-07-25T00:00:00+00:00'}"
      ]
     },
     "execution_count": 39,
     "metadata": {},
     "output_type": "execute_result"
    }
   ],
   "source": [
    "job_data = [j.to_dict() for j in all_jobs]\n",
    "job_data[0]"
   ]
  },
  {
   "cell_type": "markdown",
   "metadata": {},
   "source": [
    "Get bucket (there is only one)"
   ]
  },
  {
   "cell_type": "code",
   "execution_count": 40,
   "metadata": {
    "ExecuteTime": {
     "end_time": "2022-01-26T20:35:22.124585Z",
     "start_time": "2022-01-26T20:35:22.095318Z"
    }
   },
   "outputs": [
    {
     "data": {
      "text/plain": [
       "416"
      ]
     },
     "execution_count": 40,
     "metadata": {},
     "output_type": "execute_result"
    }
   ],
   "source": [
    "job_data_s3 = list(filter(lambda job: 'files' in job.keys(), job_data))\n",
    "len(job_data_s3)"
   ]
  },
  {
   "cell_type": "code",
   "execution_count": 41,
   "metadata": {
    "ExecuteTime": {
     "end_time": "2022-01-26T20:35:22.155223Z",
     "start_time": "2022-01-26T20:35:22.126087Z"
    }
   },
   "outputs": [
    {
     "data": {
      "text/plain": [
       "'hyp3-isce-contentbucket-4xpualmsjg98'"
      ]
     },
     "execution_count": 41,
     "metadata": {},
     "output_type": "execute_result"
    }
   ],
   "source": [
    "bucket = job_data_s3[0]['files'][0]['s3']['bucket']\n",
    "bucket"
   ]
  },
  {
   "cell_type": "markdown",
   "metadata": {},
   "source": [
    "Get all keys"
   ]
  },
  {
   "cell_type": "code",
   "execution_count": 42,
   "metadata": {
    "ExecuteTime": {
     "end_time": "2022-01-26T20:35:22.187071Z",
     "start_time": "2022-01-26T20:35:22.156852Z"
    }
   },
   "outputs": [
    {
     "data": {
      "text/plain": [
       "'8448ade0-ce59-49a8-a141-cc1ab02acf23/S1-GUNW-A-R-095-tops-20201022_20200916-045618-00170W_00052N-PP-38a7-v2_0_5.nc'"
      ]
     },
     "execution_count": 42,
     "metadata": {},
     "output_type": "execute_result"
    }
   ],
   "source": [
    "job_keys = [job['files'][0]['s3']['key'] for job in job_data_s3]\n",
    "job_keys[0]"
   ]
  },
  {
   "cell_type": "code",
   "execution_count": 43,
   "metadata": {
    "ExecuteTime": {
     "end_time": "2022-01-26T20:35:27.044608Z",
     "start_time": "2022-01-26T20:35:22.188601Z"
    }
   },
   "outputs": [
    {
     "data": {
      "text/plain": [
       "[s3.ObjectSummary(bucket_name='hyp3-isce-contentbucket-4xpualmsjg98', key='0078bb87-5216-48af-9e75-54ea1b1ad619/S1-GUNW-A-R-095-tops-20180903_20180729-045605-00170W_00052N-PP-9b0f-v2_0_5.nc'),\n",
       " s3.ObjectSummary(bucket_name='hyp3-isce-contentbucket-4xpualmsjg98', key='00ba21d6-3c45-4f1a-b9cb-c4b913e0a976/S1-GUNW-A-R-095-tops-20170628_20161007-045554-00170W_00052N-PP-4eab-v2_0_5.nc'),\n",
       " s3.ObjectSummary(bucket_name='hyp3-isce-contentbucket-4xpualmsjg98', key='0239be61-8984-4a38-aeb7-9f5a01a520cd/S1-GUNW-A-R-095-tops-20191004_20190829-045612-00170W_00052N-PP-dc5c-v2_0_5.nc'),\n",
       " s3.ObjectSummary(bucket_name='hyp3-isce-contentbucket-4xpualmsjg98', key='023c328a-9855-44c7-8638-33593dc18239/S1-GUNW-A-R-095-20210806-20191028-045622-170W_52N-06a4-v2_0_5.nc'),\n",
       " s3.ObjectSummary(bucket_name='hyp3-isce-contentbucket-4xpualmsjg98', key='025386f5-edb8-462a-8203-0c46503257af/S1-GUNW-A-R-095-tops-20180623_20171026-045600-00170W_00052N-PP-68cb-v2_0_5.nc'),\n",
       " s3.ObjectSummary(bucket_name='hyp3-isce-contentbucket-4xpualmsjg98', key='02abe7c8-4e96-4f0b-b9c2-444a71fd511e/S1-GUNW-A-R-095-tops-20180927_20180810-045605-00169W_00052N-PP-c327-v2_0_5.nc'),\n",
       " s3.ObjectSummary(bucket_name='hyp3-isce-contentbucket-4xpualmsjg98', key='050b419a-7b13-43cf-9ae6-122d355b60b9/S1-GUNW-A-R-095-tops-20190910_20181021-045611-00170W_00052N-PP-55a9-v2_0_5.nc'),\n",
       " s3.ObjectSummary(bucket_name='hyp3-isce-contentbucket-4xpualmsjg98', key='05509105-882d-4029-b8a8-84410d361e68/S1-GUNW-A-R-095-tops-20160814_20150727-045633-00170W_00053N-PP-868f-v2_0_5.nc'),\n",
       " s3.ObjectSummary(bucket_name='hyp3-isce-contentbucket-4xpualmsjg98', key='05f02217-ae8f-4f11-a674-a1ac0500bacc/S1-GUNW-A-R-095-tops-20211029_20210830-045624-00170W_00052N-PP-4ffe-v2_0_5.nc'),\n",
       " s3.ObjectSummary(bucket_name='hyp3-isce-contentbucket-4xpualmsjg98', key='0826471e-7478-4c3d-9f84-114ffe1667f5/S1-GUNW-A-R-095-20211017-20210830-045624-170W_52N-01aa-v2_0_5.nc')]"
      ]
     },
     "execution_count": 43,
     "metadata": {},
     "output_type": "execute_result"
    }
   ],
   "source": [
    "s3 = boto3.resource('s3')\n",
    "prod_bucket = s3.Bucket(bucket)\n",
    "\n",
    "objects = list(prod_bucket.objects.all())\n",
    "ncs = list(filter(lambda x: x.key.endswith('.nc'), objects))\n",
    "ncs[:10]"
   ]
  },
  {
   "cell_type": "markdown",
   "metadata": {},
   "source": [
    "Need to physically check if the products are not there (could have been deleted!)"
   ]
  },
  {
   "cell_type": "code",
   "execution_count": 44,
   "metadata": {
    "ExecuteTime": {
     "end_time": "2022-01-26T20:35:27.077867Z",
     "start_time": "2022-01-26T20:35:27.046163Z"
    }
   },
   "outputs": [
    {
     "data": {
      "text/plain": [
       "391"
      ]
     },
     "execution_count": 44,
     "metadata": {},
     "output_type": "execute_result"
    }
   ],
   "source": [
    "nc_keys = [nc_ob.key for nc_ob in ncs]\n",
    "jobs_with_prods_in_s3 = [job for (k, job) in enumerate(job_data_s3) if job_keys[k] in nc_keys]\n",
    "len(jobs_with_prods_in_s3)"
   ]
  },
  {
   "cell_type": "code",
   "execution_count": 45,
   "metadata": {
    "ExecuteTime": {
     "end_time": "2022-01-26T20:35:27.110124Z",
     "start_time": "2022-01-26T20:35:27.079518Z"
    }
   },
   "outputs": [
    {
     "data": {
      "text/plain": [
       "[(['S1B_IW_SLC__1SDV_20201022T045603_20201022T045633_023921_02D773_CBCD'],\n",
       "  ['S1B_IW_SLC__1SDV_20200916T045603_20200916T045633_023396_02C70E_9F98']),\n",
       " (['S1B_IW_SLC__1SDV_20180903T045550_20180903T045620_012546_017250_8471'],\n",
       "  ['S1B_IW_SLC__1SDV_20180717T045547_20180717T045617_011846_015CD7_A173'])]"
      ]
     },
     "execution_count": 45,
     "metadata": {},
     "output_type": "execute_result"
    }
   ],
   "source": [
    "slcs = [(job['job_parameters']['granules'],\n",
    "         job['job_parameters']['secondary_granules']) \n",
    "        for job in jobs_with_prods_in_s3]\n",
    "slcs[:2]"
   ]
  },
  {
   "cell_type": "code",
   "execution_count": 46,
   "metadata": {
    "ExecuteTime": {
     "end_time": "2022-01-26T20:35:27.142225Z",
     "start_time": "2022-01-26T20:35:27.111632Z"
    }
   },
   "outputs": [
    {
     "data": {
      "text/plain": [
       "'38a7f18985ad2e91d940e5ebf75009e7'"
      ]
     },
     "execution_count": 46,
     "metadata": {},
     "output_type": "execute_result"
    }
   ],
   "source": [
    "hash_ids_of_prods_in_s3 = [get_gunw_hash_id(*slc) for slc in slcs]\n",
    "hash_ids_of_prods_in_s3[0]"
   ]
  },
  {
   "cell_type": "code",
   "execution_count": 47,
   "metadata": {
    "ExecuteTime": {
     "end_time": "2022-01-26T20:35:27.174758Z",
     "start_time": "2022-01-26T20:35:27.143742Z"
    }
   },
   "outputs": [
    {
     "data": {
      "text/plain": [
       "'We are removing 5 GUNWs for submission'"
      ]
     },
     "execution_count": 47,
     "metadata": {},
     "output_type": "execute_result"
    }
   ],
   "source": [
    "f\"We are removing {df_pairs_filtered['hash_id'].isin(hash_ids_of_prods_in_s3).sum()} GUNWs for submission\""
   ]
  },
  {
   "cell_type": "code",
   "execution_count": 48,
   "metadata": {
    "ExecuteTime": {
     "end_time": "2022-01-26T20:35:27.207821Z",
     "start_time": "2022-01-26T20:35:27.176177Z"
    }
   },
   "outputs": [
    {
     "data": {
      "text/plain": [
       "'Current # of GUNWs: 135'"
      ]
     },
     "execution_count": 48,
     "metadata": {},
     "output_type": "execute_result"
    }
   ],
   "source": [
    "items = hash_ids_of_prods_in_s3\n",
    "df_pairs_filtered = df_pairs_filtered[~df_pairs_filtered['hash_id'].isin(items)].reset_index(drop=True)\n",
    "f\"Current # of GUNWs: {df_pairs_filtered.shape[0]}\""
   ]
  },
  {
   "cell_type": "markdown",
   "metadata": {},
   "source": [
    "## 2. Running or Pending Jobs"
   ]
  },
  {
   "cell_type": "code",
   "execution_count": 49,
   "metadata": {
    "ExecuteTime": {
     "end_time": "2022-01-26T20:35:27.237660Z",
     "start_time": "2022-01-26T20:35:27.209164Z"
    }
   },
   "outputs": [],
   "source": [
    "pending_job_data = [j.to_dict() for j in pending_jobs]\n",
    "pending_slcs = [(job['job_parameters']['granules'],\n",
    "                 job['job_parameters']['secondary_granules']) \n",
    "                 for job in pending_job_data]"
   ]
  },
  {
   "cell_type": "code",
   "execution_count": 50,
   "metadata": {
    "ExecuteTime": {
     "end_time": "2022-01-26T20:35:27.268653Z",
     "start_time": "2022-01-26T20:35:27.239313Z"
    }
   },
   "outputs": [
    {
     "data": {
      "text/plain": [
       "[]"
      ]
     },
     "execution_count": 50,
     "metadata": {},
     "output_type": "execute_result"
    }
   ],
   "source": [
    "hash_ids_of_pending_jobs = [get_gunw_hash_id(*slc) for slc in pending_slcs]\n",
    "hash_ids_of_pending_jobs[:4]"
   ]
  },
  {
   "cell_type": "code",
   "execution_count": 51,
   "metadata": {
    "ExecuteTime": {
     "end_time": "2022-01-26T20:35:27.299781Z",
     "start_time": "2022-01-26T20:35:27.270417Z"
    }
   },
   "outputs": [
    {
     "data": {
      "text/plain": [
       "'We are removing 0 GUNWs for submission'"
      ]
     },
     "execution_count": 51,
     "metadata": {},
     "output_type": "execute_result"
    }
   ],
   "source": [
    "items = hash_ids_of_pending_jobs\n",
    "f\"We are removing {df_pairs_filtered['hash_id'].isin(items).sum()} GUNWs for submission\""
   ]
  },
  {
   "cell_type": "code",
   "execution_count": 52,
   "metadata": {
    "ExecuteTime": {
     "end_time": "2022-01-26T20:35:27.333433Z",
     "start_time": "2022-01-26T20:35:27.301301Z"
    }
   },
   "outputs": [
    {
     "data": {
      "text/plain": [
       "'Current # of GUNWs: 135'"
      ]
     },
     "execution_count": 52,
     "metadata": {},
     "output_type": "execute_result"
    }
   ],
   "source": [
    "items = hash_ids_of_pending_jobs\n",
    "df_pairs_filtered = df_pairs_filtered[~df_pairs_filtered['hash_id'].isin(items)].reset_index(drop=True)\n",
    "f\"Current # of GUNWs: {df_pairs_filtered.shape[0]}\""
   ]
  },
  {
   "cell_type": "markdown",
   "metadata": {},
   "source": [
    "# Submit jobs to Hyp3"
   ]
  },
  {
   "cell_type": "code",
   "execution_count": 53,
   "metadata": {
    "ExecuteTime": {
     "end_time": "2022-01-26T20:35:27.366597Z",
     "start_time": "2022-01-26T20:35:27.335100Z"
    }
   },
   "outputs": [
    {
     "data": {
      "text/plain": [
       "{'reference': ['S1B_IW_SLC__1SDV_20211019T044004_20211019T044034_029200_037C15_C422'],\n",
       " 'secondary': ['S1B_IW_SLC__1SDV_20210901T044003_20210901T044033_028500_03669B_A68C'],\n",
       " 'reference_date': Timestamp('2021-10-19 00:00:00'),\n",
       " 'secondary_date': Timestamp('2021-09-01 00:00:00'),\n",
       " 'path_number': 124,\n",
       " 'geometry': <shapely.geometry.polygon.Polygon at 0x7f89d140c310>,\n",
       " 'hash_id': '70873e485ea27ace665d7fc88f57ee1c',\n",
       " 'existing_gunw': False,\n",
       " 'existing_gunw_id': ''}"
      ]
     },
     "execution_count": 53,
     "metadata": {},
     "output_type": "execute_result"
    }
   ],
   "source": [
    "records_to_submit = df_pairs_filtered.to_dict('records')\n",
    "records_to_submit[0]"
   ]
  },
  {
   "cell_type": "code",
   "execution_count": 54,
   "metadata": {
    "ExecuteTime": {
     "end_time": "2022-01-26T20:35:30.283588Z",
     "start_time": "2022-01-26T20:35:27.368244Z"
    }
   },
   "outputs": [],
   "source": [
    "import hyp3_sdk\n",
    "\n",
    "# uses .netrc; add `prompt=True` to prompt for credentials; \n",
    "hyp3_isce = hyp3_sdk.HyP3('https://hyp3-isce.asf.alaska.edu/')"
   ]
  },
  {
   "cell_type": "markdown",
   "metadata": {},
   "source": [
    "The below puts the records in a format that we can submit to the Hyp3 API.\n",
    "\n",
    "**Note 1**: there is an index in the records to submit to ensure we don't over submit jobs for generating GUNWs. \\\n",
    "**Note 2**: uncomment the code to *actually* submit the jobs."
   ]
  },
  {
   "cell_type": "code",
   "execution_count": 55,
   "metadata": {
    "ExecuteTime": {
     "end_time": "2022-01-26T20:35:33.012813Z",
     "start_time": "2022-01-26T20:35:30.285294Z"
    }
   },
   "outputs": [],
   "source": [
    "import hyp3_sdk\n",
    "\n",
    "# uses .netrc; add `prompt=True` to prompt for credentials; \n",
    "hyp3_isce = hyp3_sdk.HyP3('https://hyp3-isce.asf.alaska.edu/')\n",
    "\n",
    "job_dicts = [{'name': 'test-aleutian-95-new',\n",
    "              # NOTE: we are still using the `dev` branch. Change this to \"INSAR_ISCE\" to use the `main` branch.\n",
    "              'job_type': 'INSAR_ISCE_TEST',\n",
    "              'job_parameters': {'granules': r['reference'],\n",
    "                                 'secondary_granules': r['secondary']}} \n",
    "             # NOTE THERE IS AN INDEX - this is to submit only a subset of Jobs\n",
    "             for r in records_to_submit[:5]]\n",
    "\n",
    "\n",
    "# UNCOMMENT TO SUBMIT\n",
    "# submitted_jobs = hyp3_isce.submit_prepared_jobs(job_dicts)"
   ]
  },
  {
   "cell_type": "code",
   "execution_count": 56,
   "metadata": {
    "ExecuteTime": {
     "end_time": "2022-01-26T20:35:34.044675Z",
     "start_time": "2022-01-26T20:35:33.014286Z"
    }
   },
   "outputs": [
    {
     "name": "stdout",
     "output_type": "stream",
     "text": [
      "416 HyP3 Jobs: 416 succeeded, 0 failed, 0 running, 0 pending.\n"
     ]
    }
   ],
   "source": [
    "jobs = hyp3_isce.find_jobs()\n",
    "print(jobs)"
   ]
  },
  {
   "cell_type": "markdown",
   "metadata": {},
   "source": [
    "Below, we show how to download files. The multi-threading example will download products in parallel much faster than `jobs.download_files()`."
   ]
  },
  {
   "cell_type": "code",
   "execution_count": 57,
   "metadata": {
    "ExecuteTime": {
     "end_time": "2022-01-26T20:35:34.076047Z",
     "start_time": "2022-01-26T20:35:34.046251Z"
    }
   },
   "outputs": [],
   "source": [
    "# import concurrent.futures\n",
    "# from tqdm import tqdm\n",
    "\n",
    "# with concurrent.futures.ThreadPoolExecutor(max_workers=10) as executor:\n",
    "#     results = list(tqdm(executor.map(lambda job: job.download_files(), jobs), total=len(jobs)))"
   ]
  }
 ],
 "metadata": {
  "interpreter": {
   "hash": "8d8f500daa9bf167d031a7ee53ec5418ea1a519591c0a1a22c03ecd26311e773"
  },
  "kernelspec": {
   "display_name": "Python 3",
   "language": "python",
   "name": "python3"
  },
  "language_info": {
   "codemirror_mode": {
    "name": "ipython",
    "version": 3
   },
   "file_extension": ".py",
   "mimetype": "text/x-python",
   "name": "python",
   "nbconvert_exporter": "python",
   "pygments_lexer": "ipython3",
   "version": "3.8.5"
  }
 },
 "nbformat": 4,
 "nbformat_minor": 2
}
