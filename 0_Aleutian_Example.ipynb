{
 "cells": [
  {
   "cell_type": "markdown",
   "id": "following-cylinder",
   "metadata": {},
   "source": [
    "# Read an AOI\n",
    "\n",
    "We are still standardizing the metadata. This data can be viewed (on a map) directly on github."
   ]
  },
  {
   "cell_type": "code",
   "execution_count": 1,
   "id": "forty-wagon",
   "metadata": {
    "ExecuteTime": {
     "end_time": "2021-12-03T01:14:03.930433Z",
     "start_time": "2021-12-03T01:14:03.105230Z"
    }
   },
   "outputs": [
    {
     "data": {
      "text/html": [
       "<div>\n",
       "<style scoped>\n",
       "    .dataframe tbody tr th:only-of-type {\n",
       "        vertical-align: middle;\n",
       "    }\n",
       "\n",
       "    .dataframe tbody tr th {\n",
       "        vertical-align: top;\n",
       "    }\n",
       "\n",
       "    .dataframe thead th {\n",
       "        text-align: right;\n",
       "    }\n",
       "</style>\n",
       "<table border=\"1\" class=\"dataframe\">\n",
       "  <thead>\n",
       "    <tr style=\"text-align: right;\">\n",
       "      <th></th>\n",
       "      <th>aoi_name</th>\n",
       "      <th>path_number</th>\n",
       "      <th>min_days_backward</th>\n",
       "      <th>month_range_lower</th>\n",
       "      <th>month_range_upper</th>\n",
       "      <th>num_neighbors_ref</th>\n",
       "      <th>geometry</th>\n",
       "    </tr>\n",
       "  </thead>\n",
       "  <tbody>\n",
       "    <tr>\n",
       "      <th>0</th>\n",
       "      <td>Aleutians</td>\n",
       "      <td>95</td>\n",
       "      <td>364</td>\n",
       "      <td>6</td>\n",
       "      <td>10</td>\n",
       "      <td>3</td>\n",
       "      <td>POLYGON Z ((-169.81786 54.53305 0.00000, -165....</td>\n",
       "    </tr>\n",
       "    <tr>\n",
       "      <th>1</th>\n",
       "      <td>Aleutians</td>\n",
       "      <td>95</td>\n",
       "      <td>0</td>\n",
       "      <td>6</td>\n",
       "      <td>10</td>\n",
       "      <td>3</td>\n",
       "      <td>POLYGON Z ((-169.81786 54.53305 0.00000, -165....</td>\n",
       "    </tr>\n",
       "  </tbody>\n",
       "</table>\n",
       "</div>"
      ],
      "text/plain": [
       "    aoi_name  path_number  min_days_backward  month_range_lower  \\\n",
       "0  Aleutians           95                364                  6   \n",
       "1  Aleutians           95                  0                  6   \n",
       "\n",
       "   month_range_upper  num_neighbors_ref  \\\n",
       "0                 10                  3   \n",
       "1                 10                  3   \n",
       "\n",
       "                                            geometry  \n",
       "0  POLYGON Z ((-169.81786 54.53305 0.00000, -165....  \n",
       "1  POLYGON Z ((-169.81786 54.53305 0.00000, -165....  "
      ]
     },
     "execution_count": 1,
     "metadata": {},
     "output_type": "execute_result"
    }
   ],
   "source": [
    "import geopandas as gpd\n",
    "\n",
    "df_aoi = gpd.read_file('aois/Aleutians_pathNumber95.geojson')\n",
    "df_aoi"
   ]
  },
  {
   "cell_type": "code",
   "execution_count": 2,
   "id": "suspended-transportation",
   "metadata": {
    "ExecuteTime": {
     "end_time": "2021-12-03T01:14:04.250613Z",
     "start_time": "2021-12-03T01:14:03.932312Z"
    }
   },
   "outputs": [
    {
     "data": {
      "text/plain": [
       "<AxesSubplot:>"
      ]
     },
     "execution_count": 2,
     "metadata": {},
     "output_type": "execute_result"
    },
    {
     "data": {
      "image/png": "[encoded data removed]",
      "text/plain": [
       "<Figure size 432x288 with 1 Axes>"
      ]
     },
     "metadata": {
      "needs_background": "light"
     },
     "output_type": "display_data"
    }
   ],
   "source": [
    "df_aoi.exterior.plot()"
   ]
  },
  {
   "cell_type": "markdown",
   "id": "decimal-barrel",
   "metadata": {},
   "source": [
    "# Enumeration of GUNWs\n",
    "\n",
    "Want to enumerate June - October 2021. There are a lot of ways to proceed. For example, for every month, do we want at the month previously? Or do we want to get the earliest dates from the previous year within June - October?\n",
    "\n",
    "The specifics will have to be hashed out.\n",
    "\n",
    "## Formatting Entries\n",
    "\n",
    "Geojson only accepts certain types (lists are not permissible metadata entries). So we have to do some small (re-)formatting."
   ]
  },
  {
   "cell_type": "code",
   "execution_count": 3,
   "id": "understanding-still",
   "metadata": {
    "ExecuteTime": {
     "end_time": "2021-12-03T01:14:04.280617Z",
     "start_time": "2021-12-03T01:14:04.255498Z"
    }
   },
   "outputs": [],
   "source": [
    "df_aoi = gpd.read_file('aois/Aleutians_pathNumber95.geojson')\n",
    "\n",
    "# Format path numbers to list; requires list for inputs into enumerator\n",
    "df_aoi['path_numbers'] = df_aoi['path_number'].map(lambda x: [x])\n",
    "\n",
    "# Format months into list\n",
    "df_aoi['months'] = df_aoi.agg(lambda row: list(range(row['month_range_lower'],\n",
    "                                                     row['month_range_upper'] + 1)), axis=1)\n",
    "\n",
    "# Drop redundent columns\n",
    "df_aoi.drop(columns=['path_number', \n",
    "                     'month_range_lower', \n",
    "                     'month_range_upper'], inplace=True)"
   ]
  },
  {
   "cell_type": "code",
   "execution_count": 4,
   "id": "baking-bolivia",
   "metadata": {
    "ExecuteTime": {
     "end_time": "2021-12-03T01:14:04.286221Z",
     "start_time": "2021-12-03T01:14:04.282322Z"
    }
   },
   "outputs": [
    {
     "data": {
      "text/plain": [
       "[{'aoi_name': 'Aleutians',\n",
       "  'min_days_backward': 364,\n",
       "  'num_neighbors_ref': 3,\n",
       "  'geometry': <shapely.geometry.polygon.Polygon at 0x7ff1a86d0f40>,\n",
       "  'path_numbers': [95],\n",
       "  'months': [6, 7, 8, 9, 10]},\n",
       " {'aoi_name': 'Aleutians',\n",
       "  'min_days_backward': 0,\n",
       "  'num_neighbors_ref': 3,\n",
       "  'geometry': <shapely.geometry.polygon.Polygon at 0x7ff1a86d0d00>,\n",
       "  'path_numbers': [95],\n",
       "  'months': [6, 7, 8, 9, 10]}]"
      ]
     },
     "execution_count": 4,
     "metadata": {},
     "output_type": "execute_result"
    }
   ],
   "source": [
    "enum_records = df_aoi.to_dict('records')\n",
    "enum_records"
   ]
  },
  {
   "cell_type": "code",
   "execution_count": 5,
   "id": "simplified-default",
   "metadata": {
    "ExecuteTime": {
     "end_time": "2021-12-03T01:14:04.291426Z",
     "start_time": "2021-12-03T01:14:04.287706Z"
    }
   },
   "outputs": [
    {
     "data": {
      "image/svg+xml": [
       "<svg xmlns=\"http://www.w3.org/2000/svg\" xmlns:xlink=\"http://www.w3.org/1999/xlink\" width=\"100.0\" height=\"100.0\" viewBox=\"-169.99036028 52.581172720000005 4.657615560000011 2.5226175599999934\" preserveAspectRatio=\"xMinYMin meet\"><g transform=\"matrix(1,0,0,-1,0,107.68496300000001)\"><path fill-rule=\"evenodd\" fill=\"#66cc99\" stroke=\"#555555\" stroke-width=\"0.09315231120000021\" opacity=\"0.6\" d=\"M -169.817856,54.533054 L -165.967194,54.931286 L -165.505249,53.147713 L -169.193008,52.753677 L -169.817856,54.533054 z\" /></g></svg>"
      ],
      "text/plain": [
       "<shapely.geometry.polygon.Polygon at 0x7ff1a86d0f40>"
      ]
     },
     "execution_count": 5,
     "metadata": {},
     "output_type": "execute_result"
    }
   ],
   "source": [
    "df_aoi.geometry.tolist()[0]"
   ]
  },
  {
   "cell_type": "markdown",
   "id": "guided-chart",
   "metadata": {},
   "source": [
    "## Enumeration using `s1-enumerator`"
   ]
  },
  {
   "cell_type": "code",
   "execution_count": 6,
   "id": "listed-cabin",
   "metadata": {
    "ExecuteTime": {
     "end_time": "2021-12-03T01:14:12.953223Z",
     "start_time": "2021-12-03T01:14:04.292918Z"
    }
   },
   "outputs": [
    {
     "name": "stderr",
     "output_type": "stream",
     "text": [
      "Downloading stack for 1 tiles: 100%|██████████| 1/1 [00:02<00:00,  2.49s/it]\n"
     ]
    }
   ],
   "source": [
    "from s1_enumerator import distill_all_pairs, enumerate_ifgs\n",
    "import datetime\n",
    "\n",
    "K = 0\n",
    "enum_record = enum_records[0]\n",
    "\n",
    "ifg_pairs_tiles = enumerate_ifgs(enum_record['geometry'],\n",
    "                                 min_reference_date=datetime.datetime(2021, 6, 1),\n",
    "                                 enumeration_type='tile',\n",
    "                                 min_days_backward = 364,\n",
    "                                 num_neighbors_ref=10,\n",
    "                                 num_neighbors_sec=1,\n",
    "                                 temporal_window_days=364,\n",
    "                                 min_ref_tile_overlap_perc=.1,\n",
    "                                 min_tile_aoi_overlap_km2=1e3,\n",
    "                                 minimum_path_intersection_km2=1e3,\n",
    "                                 minimum_ifg_area_km2=3e4,\n",
    "                                 path_numbers=enum_record['path_numbers'],\n",
    "                                 months=enum_record['months'],\n",
    "                                 entire_s1_catalog=False)\n",
    "# Distill for Generating IFGs\n",
    "df_pairs = distill_all_pairs(ifg_pairs_tiles)"
   ]
  },
  {
   "cell_type": "code",
   "execution_count": 7,
   "id": "structural-custody",
   "metadata": {
    "ExecuteTime": {
     "end_time": "2021-12-03T01:14:12.970994Z",
     "start_time": "2021-12-03T01:14:12.956663Z"
    }
   },
   "outputs": [
    {
     "data": {
      "text/html": [
       "<div>\n",
       "<style scoped>\n",
       "    .dataframe tbody tr th:only-of-type {\n",
       "        vertical-align: middle;\n",
       "    }\n",
       "\n",
       "    .dataframe tbody tr th {\n",
       "        vertical-align: top;\n",
       "    }\n",
       "\n",
       "    .dataframe thead th {\n",
       "        text-align: right;\n",
       "    }\n",
       "</style>\n",
       "<table border=\"1\" class=\"dataframe\">\n",
       "  <thead>\n",
       "    <tr style=\"text-align: right;\">\n",
       "      <th></th>\n",
       "      <th>reference</th>\n",
       "      <th>secondary</th>\n",
       "      <th>reference_date</th>\n",
       "      <th>secondary_date</th>\n",
       "      <th>path_number</th>\n",
       "      <th>hash_id</th>\n",
       "      <th>geometry</th>\n",
       "    </tr>\n",
       "  </thead>\n",
       "  <tbody>\n",
       "    <tr>\n",
       "      <th>0</th>\n",
       "      <td>[S1B_IW_SLC__1SDV_20210806T045607_20210806T045...</td>\n",
       "      <td>[S1B_IW_SLC__1SDV_20191028T045557_20191028T045...</td>\n",
       "      <td>2021-08-06</td>\n",
       "      <td>2019-10-28</td>\n",
       "      <td>95</td>\n",
       "      <td>06a49da00c4bd84bcc861bef44e5b3c9</td>\n",
       "      <td>POLYGON ((-169.08434 52.42353, -169.08434 52.4...</td>\n",
       "    </tr>\n",
       "    <tr>\n",
       "      <th>1</th>\n",
       "      <td>[S1B_IW_SLC__1SDV_20210818T045607_20210818T045...</td>\n",
       "      <td>[S1B_IW_SLC__1SDV_20191028T045557_20191028T045...</td>\n",
       "      <td>2021-08-18</td>\n",
       "      <td>2019-10-28</td>\n",
       "      <td>95</td>\n",
       "      <td>dc433fbe633e337ae18af1fbae0ebdf3</td>\n",
       "      <td>POLYGON ((-165.88252 54.60118, -165.88252 54.6...</td>\n",
       "    </tr>\n",
       "    <tr>\n",
       "      <th>2</th>\n",
       "      <td>[S1B_IW_SLC__1SDV_20210830T045608_20210830T045...</td>\n",
       "      <td>[S1B_IW_SLC__1SDV_20191028T045557_20191028T045...</td>\n",
       "      <td>2021-08-30</td>\n",
       "      <td>2019-10-28</td>\n",
       "      <td>95</td>\n",
       "      <td>14ede142e760c34949ddc19e8c667a59</td>\n",
       "      <td>POLYGON ((-165.88442 54.60102, -165.88442 54.6...</td>\n",
       "    </tr>\n",
       "    <tr>\n",
       "      <th>3</th>\n",
       "      <td>[S1B_IW_SLC__1SDV_20210911T045609_20210911T045...</td>\n",
       "      <td>[S1B_IW_SLC__1SDV_20191028T045557_20191028T045...</td>\n",
       "      <td>2021-09-11</td>\n",
       "      <td>2019-10-28</td>\n",
       "      <td>95</td>\n",
       "      <td>73a39ddc03374d8cc2350e47b542c826</td>\n",
       "      <td>POLYGON ((-165.88242 54.60075, -165.88242 54.6...</td>\n",
       "    </tr>\n",
       "    <tr>\n",
       "      <th>4</th>\n",
       "      <td>[S1B_IW_SLC__1SDV_20210923T045609_20210923T045...</td>\n",
       "      <td>[S1B_IW_SLC__1SDV_20191028T045557_20191028T045...</td>\n",
       "      <td>2021-09-23</td>\n",
       "      <td>2019-10-28</td>\n",
       "      <td>95</td>\n",
       "      <td>fdb0b98e67d2965d75d8742c8fca3f17</td>\n",
       "      <td>POLYGON ((-165.88196 54.60150, -165.88196 54.6...</td>\n",
       "    </tr>\n",
       "  </tbody>\n",
       "</table>\n",
       "</div>"
      ],
      "text/plain": [
       "                                           reference  \\\n",
       "0  [S1B_IW_SLC__1SDV_20210806T045607_20210806T045...   \n",
       "1  [S1B_IW_SLC__1SDV_20210818T045607_20210818T045...   \n",
       "2  [S1B_IW_SLC__1SDV_20210830T045608_20210830T045...   \n",
       "3  [S1B_IW_SLC__1SDV_20210911T045609_20210911T045...   \n",
       "4  [S1B_IW_SLC__1SDV_20210923T045609_20210923T045...   \n",
       "\n",
       "                                           secondary reference_date  \\\n",
       "0  [S1B_IW_SLC__1SDV_20191028T045557_20191028T045...     2021-08-06   \n",
       "1  [S1B_IW_SLC__1SDV_20191028T045557_20191028T045...     2021-08-18   \n",
       "2  [S1B_IW_SLC__1SDV_20191028T045557_20191028T045...     2021-08-30   \n",
       "3  [S1B_IW_SLC__1SDV_20191028T045557_20191028T045...     2021-09-11   \n",
       "4  [S1B_IW_SLC__1SDV_20191028T045557_20191028T045...     2021-09-23   \n",
       "\n",
       "  secondary_date  path_number                           hash_id  \\\n",
       "0     2019-10-28           95  06a49da00c4bd84bcc861bef44e5b3c9   \n",
       "1     2019-10-28           95  dc433fbe633e337ae18af1fbae0ebdf3   \n",
       "2     2019-10-28           95  14ede142e760c34949ddc19e8c667a59   \n",
       "3     2019-10-28           95  73a39ddc03374d8cc2350e47b542c826   \n",
       "4     2019-10-28           95  fdb0b98e67d2965d75d8742c8fca3f17   \n",
       "\n",
       "                                            geometry  \n",
       "0  POLYGON ((-169.08434 52.42353, -169.08434 52.4...  \n",
       "1  POLYGON ((-165.88252 54.60118, -165.88252 54.6...  \n",
       "2  POLYGON ((-165.88442 54.60102, -165.88442 54.6...  \n",
       "3  POLYGON ((-165.88242 54.60075, -165.88242 54.6...  \n",
       "4  POLYGON ((-165.88196 54.60150, -165.88196 54.6...  "
      ]
     },
     "execution_count": 7,
     "metadata": {},
     "output_type": "execute_result"
    }
   ],
   "source": [
    "df_pairs.head()"
   ]
  },
  {
   "cell_type": "code",
   "execution_count": 8,
   "id": "double-stress",
   "metadata": {
    "ExecuteTime": {
     "end_time": "2021-12-03T01:14:13.070736Z",
     "start_time": "2021-12-03T01:14:12.973124Z"
    }
   },
   "outputs": [
    {
     "data": {
      "text/plain": [
       "<AxesSubplot:>"
      ]
     },
     "execution_count": 8,
     "metadata": {},
     "output_type": "execute_result"
    },
    {
     "data": {
      "image/png": "[encoded data removed]",
      "text/plain": [
       "<Figure size 432x288 with 1 Axes>"
      ]
     },
     "metadata": {
      "needs_background": "light"
     },
     "output_type": "display_data"
    }
   ],
   "source": [
    "df_pairs.exterior.plot()"
   ]
  },
  {
   "cell_type": "markdown",
   "id": "brilliant-andorra",
   "metadata": {
    "ExecuteTime": {
     "end_time": "2021-12-03T01:12:49.959882Z",
     "start_time": "2021-12-03T01:12:49.957890Z"
    }
   },
   "source": [
    "## Checking ASF DAAC for existing GUNWs (De-Duplication)"
   ]
  },
  {
   "cell_type": "code",
   "execution_count": 9,
   "id": "former-portfolio",
   "metadata": {
    "ExecuteTime": {
     "end_time": "2021-12-03T01:14:15.267216Z",
     "start_time": "2021-12-03T01:14:13.071997Z"
    }
   },
   "outputs": [
    {
     "name": "stderr",
     "output_type": "stream",
     "text": [
      "  0%|          | 0/8 [00:00<?, ?it/s]/Users/cmarshak/bekaert-team/s1-enumerator/s1_enumerator/formatter.py:19: UserWarning: Dataframe is empty! Check inputs.\n",
      "  warn('Dataframe is empty! Check inputs.')\n",
      "100%|██████████| 8/8 [00:02<00:00,  3.68it/s]\n"
     ]
    }
   ],
   "source": [
    "from s1_enumerator import duplicate_gunw_found\n",
    "import concurrent\n",
    "from tqdm import tqdm\n",
    "\n",
    "n = df_pairs.shape[0]\n",
    "with concurrent.futures.ThreadPoolExecutor(max_workers=15) as executor:\n",
    "    results = list(tqdm(executor.map(duplicate_gunw_found, df_pairs.to_dict('records')), total=n))"
   ]
  },
  {
   "cell_type": "code",
   "execution_count": 10,
   "id": "turkish-singapore",
   "metadata": {
    "ExecuteTime": {
     "end_time": "2021-12-03T01:14:15.276547Z",
     "start_time": "2021-12-03T01:14:15.269893Z"
    }
   },
   "outputs": [
    {
     "name": "stdout",
     "output_type": "stream",
     "text": [
      "existing_gunws:  0\n",
      "Total pairs 8\n"
     ]
    }
   ],
   "source": [
    "df_pairs['existing_gunw'] = [r != '' for r in results]\n",
    "df_pairs['existing_gunw_id'] = results\n",
    "total_existing_gunws = df_pairs['existing_gunw'].sum()\n",
    "print('existing_gunws: ', total_existing_gunws)\n",
    "print('Total pairs', df_pairs.shape[0])"
   ]
  },
  {
   "cell_type": "markdown",
   "id": "portable-sarah",
   "metadata": {},
   "source": [
    "## Filter existing GUNWs and Duplicate Pairs\n",
    "\n",
    "The latter in case we \"over\" enumerate doing some `for` loop in the enumeration steps."
   ]
  },
  {
   "cell_type": "code",
   "execution_count": 11,
   "id": "extensive-westminster",
   "metadata": {
    "ExecuteTime": {
     "end_time": "2021-12-03T01:14:15.288400Z",
     "start_time": "2021-12-03T01:14:15.278473Z"
    }
   },
   "outputs": [
    {
     "name": "stdout",
     "output_type": "stream",
     "text": [
      "after filtering, total pairs:  8\n"
     ]
    }
   ],
   "source": [
    "df_pairs_filtered = df_pairs[~df_pairs['existing_gunw']].reset_index(drop=True)\n",
    "df_pairs_filtered.drop_duplicates(subset=['hash_id'], inplace=True)\n",
    "print('after filtering, total pairs: ', df_pairs_filtered.shape[0])"
   ]
  },
  {
   "cell_type": "code",
   "execution_count": 12,
   "id": "normal-spread",
   "metadata": {
    "ExecuteTime": {
     "end_time": "2021-12-03T01:14:15.295011Z",
     "start_time": "2021-12-03T01:14:15.290534Z"
    }
   },
   "outputs": [
    {
     "data": {
      "text/plain": [
       "{'reference': ['S1B_IW_SLC__1SDV_20210806T045607_20210806T045637_028121_035ACC_BBE0'],\n",
       " 'secondary': ['S1B_IW_SLC__1SDV_20191028T045557_20191028T045627_018671_0232FE_1587'],\n",
       " 'reference_date': '2021-08-06',\n",
       " 'secondary_date': '2019-10-28',\n",
       " 'path_number': 95,\n",
       " 'hash_id': '06a49da00c4bd84bcc861bef44e5b3c9',\n",
       " 'geometry': <shapely.geometry.polygon.Polygon at 0x7ff1d887b1c0>,\n",
       " 'existing_gunw': False,\n",
       " 'existing_gunw_id': ''}"
      ]
     },
     "execution_count": 12,
     "metadata": {},
     "output_type": "execute_result"
    }
   ],
   "source": [
    "records_to_submit = df_pairs_filtered.to_dict('records')\n",
    "records_to_submit[0]"
   ]
  },
  {
   "cell_type": "markdown",
   "id": "indie-broadcasting",
   "metadata": {
    "ExecuteTime": {
     "end_time": "2021-12-02T23:22:48.618706Z",
     "start_time": "2021-12-02T23:22:48.616851Z"
    }
   },
   "source": [
    "# Submit jobs to Hyp3"
   ]
  },
  {
   "cell_type": "code",
   "execution_count": 13,
   "id": "indoor-talent",
   "metadata": {
    "ExecuteTime": {
     "end_time": "2021-12-03T01:14:18.807715Z",
     "start_time": "2021-12-03T01:14:15.296581Z"
    }
   },
   "outputs": [],
   "source": [
    "import hyp3_sdk\n",
    "\n",
    "# uses .netrc; add `prompt=True` to prompt for credentials; \n",
    "hyp3_isce = hyp3_sdk.HyP3('https://hyp3-isce.asf.alaska.edu/')\n",
    "\n",
    "job_dicts = [{'name': 'test-aleutian-95',\n",
    "              'job_type': 'INSAR_ISCE_TEST',\n",
    "              'job_parameters': {'granules': r['reference'],\n",
    "                                 'secondary_granules': r['secondary']}} \n",
    "             for r in records_to_submit[2:3]]\n",
    "\n",
    "\n",
    "# UNCOMMENT TO SUBMIT\n",
    "#jobs = hyp3_isce.submit_prepared_jobs(job_dicts)"
   ]
  },
  {
   "cell_type": "code",
   "execution_count": 14,
   "id": "jewish-healthcare",
   "metadata": {
    "ExecuteTime": {
     "end_time": "2021-12-03T01:14:23.261685Z",
     "start_time": "2021-12-03T01:14:18.809305Z"
    }
   },
   "outputs": [
    {
     "data": {
      "text/plain": [
       "3"
      ]
     },
     "execution_count": 14,
     "metadata": {},
     "output_type": "execute_result"
    }
   ],
   "source": [
    "jobs = hyp3_isce.find_jobs()\n",
    "len(jobs)"
   ]
  },
  {
   "cell_type": "code",
   "execution_count": 15,
   "id": "average-mississippi",
   "metadata": {
    "ExecuteTime": {
     "end_time": "2021-12-03T01:14:23.266533Z",
     "start_time": "2021-12-03T01:14:23.263234Z"
    }
   },
   "outputs": [
    {
     "data": {
      "text/plain": [
       "Batch([Job.from_dict({'job_id': 'c3a0a4e3-164e-4873-ba79-6b7383326ed0', 'job_type': 'INSAR_ISCE_TEST', 'request_time': '2021-12-02T23:34:51+00:00', 'status_code': 'RUNNING', 'user_id': 'cmarshak', 'name': 'test-aleutian-95', 'job_parameters': {'granules': ['S1B_IW_SLC__1SDV_20210830T045608_20210830T045638_028471_0365BF_4C6A'], 'secondary_granules': ['S1B_IW_SLC__1SDV_20191028T045557_20191028T045627_018671_0232FE_1587']}}), Job.from_dict({'job_id': '62e762ff-1ce3-40c2-a7a4-99ef2bdc0c18', 'job_type': 'INSAR_ISCE_TEST', 'request_time': '2021-12-02T23:31:19+00:00', 'status_code': 'RUNNING', 'user_id': 'cmarshak', 'name': 'test-aleutian-95', 'job_parameters': {'granules': ['S1B_IW_SLC__1SDV_20210818T045607_20210818T045637_028296_036045_AE35'], 'secondary_granules': ['S1B_IW_SLC__1SDV_20191028T045557_20191028T045627_018671_0232FE_1587']}}), Job.from_dict({'job_id': '0b68c579-c4ea-42f4-bdf0-2baf6be01522', 'job_type': 'INSAR_ISCE_TEST', 'request_time': '2021-12-02T22:18:17+00:00', 'status_code': 'SUCCEEDED', 'user_id': 'cmarshak', 'name': 'test-aleutian-95', 'job_parameters': {'granules': ['S1B_IW_SLC__1SDV_20210806T045607_20210806T045637_028121_035ACC_BBE0'], 'secondary_granules': ['S1B_IW_SLC__1SDV_20191028T045557_20191028T045627_018671_0232FE_1587']}, 'files': [{'filename': 'S1-GUNW-A-R-095-20210806-20191028-045622-170W_52N-06a4-v2_0_5.nc', 's3': {'bucket': 'hyp3-isce-contentbucket-4xpualmsjg98', 'key': '0b68c579-c4ea-42f4-bdf0-2baf6be01522/S1-GUNW-A-R-095-20210806-20191028-045622-170W_52N-06a4-v2_0_5.nc'}, 'size': 58107412, 'url': 'https://hyp3-isce-contentbucket-4xpualmsjg98.s3.us-west-2.amazonaws.com/0b68c579-c4ea-42f4-bdf0-2baf6be01522/S1-GUNW-A-R-095-20210806-20191028-045622-170W_52N-06a4-v2_0_5.nc'}], 'logs': [], 'browse_images': ['https://hyp3-isce-contentbucket-4xpualmsjg98.s3.us-west-2.amazonaws.com/0b68c579-c4ea-42f4-bdf0-2baf6be01522/S1-GUNW-A-R-095-20210806-20191028-045622-170W_52N-06a4-v2_0_5.png'], 'thumbnail_images': [], 'expiration_time': '2022-01-03T00:00:00+00:00'})])"
      ]
     },
     "execution_count": 15,
     "metadata": {},
     "output_type": "execute_result"
    }
   ],
   "source": [
    "jobs"
   ]
  },
  {
   "cell_type": "code",
   "execution_count": 16,
   "id": "vulnerable-screen",
   "metadata": {
    "ExecuteTime": {
     "end_time": "2021-12-03T01:14:23.270118Z",
     "start_time": "2021-12-03T01:14:23.268237Z"
    }
   },
   "outputs": [],
   "source": [
    "# jobs = hyp3_isce.watch(jobs)"
   ]
  }
 ],
 "metadata": {
  "kernelspec": {
   "display_name": "Python 3",
   "language": "python",
   "name": "python3"
  },
  "language_info": {
   "codemirror_mode": {
    "name": "ipython",
    "version": 3
   },
   "file_extension": ".py",
   "mimetype": "text/x-python",
   "name": "python",
   "nbconvert_exporter": "python",
   "pygments_lexer": "ipython3",
   "version": "3.8.5"
  }
 },
 "nbformat": 4,
 "nbformat_minor": 5
}
