{
 "cells": [
  {
   "cell_type": "markdown",
   "metadata": {},
   "source": [
    "This is to demonstrate how to use the `s1-enumerator` to get a full time series of GUNWs.\n",
    "\n",
    "We are going basically take each month in acceptable date range and increment by a month and make sure the temporal window is large enough to ensure connectivity across data gaps."
   ]
  },
  {
   "cell_type": "code",
   "execution_count": 1,
   "metadata": {
    "ExecuteTime": {
     "end_time": "2022-01-25T19:14:30.154629Z",
     "start_time": "2022-01-25T19:14:30.135991Z"
    }
   },
   "outputs": [],
   "source": [
    "%load_ext autoreload\n",
    "%autoreload 2"
   ]
  },
  {
   "cell_type": "code",
   "execution_count": 2,
   "metadata": {
    "ExecuteTime": {
     "end_time": "2022-01-25T19:14:32.817124Z",
     "start_time": "2022-01-25T19:14:30.919039Z"
    }
   },
   "outputs": [],
   "source": [
    "from s1_enumerator import get_aoi_dataframe,  distill_all_pairs, enumerate_ifgs, get_s1_coverage_tiles, enumerate_ifgs_from_stack, get_s1_stack_by_dataframe\n",
    "import concurrent\n",
    "from s1_enumerator import duplicate_gunw_found\n",
    "from tqdm import tqdm\n",
    "from shapely.geometry import Point\n",
    "import datetime\n",
    "import pandas as pd\n",
    "import geopandas as gpd\n",
    "import matplotlib.pyplot as plt\n",
    "from dateutil.relativedelta import relativedelta\n",
    "import networkx as nx\n",
    "import boto3\n"
   ]
  },
  {
   "cell_type": "code",
   "execution_count": 64,
   "metadata": {
    "ExecuteTime": {
     "end_time": "2022-01-26T17:45:43.435478Z",
     "start_time": "2022-01-26T17:45:43.385775Z"
    }
   },
   "outputs": [
    {
     "data": {
      "text/plain": [
       "{'type': 'Polygon',\n",
       " 'coordinates': (((-169.817856, 54.533054, 0.0),\n",
       "   (-165.967194, 54.931286, 0.0),\n",
       "   (-165.505249, 53.147713, 0.0),\n",
       "   (-169.193008, 52.753677, 0.0),\n",
       "   (-169.817856, 54.533054, 0.0)),)}"
      ]
     },
     "execution_count": 64,
     "metadata": {},
     "output_type": "execute_result"
    }
   ],
   "source": [
    "aoi.__geo_interface__"
   ]
  },
  {
   "cell_type": "code",
   "execution_count": 3,
   "metadata": {
    "ExecuteTime": {
     "end_time": "2022-01-25T19:14:32.881741Z",
     "start_time": "2022-01-25T19:14:32.819190Z"
    }
   },
   "outputs": [
    {
     "data": {
      "image/svg+xml": [
       "<svg xmlns=\"http://www.w3.org/2000/svg\" xmlns:xlink=\"http://www.w3.org/1999/xlink\" width=\"100.0\" height=\"100.0\" viewBox=\"-169.99036028 52.581172720000005 4.657615560000011 2.5226175599999934\" preserveAspectRatio=\"xMinYMin meet\"><g transform=\"matrix(1,0,0,-1,0,107.68496300000001)\"><path fill-rule=\"evenodd\" fill=\"#66cc99\" stroke=\"#555555\" stroke-width=\"0.09315231120000021\" opacity=\"0.6\" d=\"M -169.817856,54.533054 L -165.967194,54.931286 L -165.505249,53.147713 L -169.193008,52.753677 L -169.817856,54.533054 z\" /></g></svg>"
      ],
      "text/plain": [
       "<shapely.geometry.polygon.Polygon at 0x7fcd987fa2b0>"
      ]
     },
     "execution_count": 3,
     "metadata": {},
     "output_type": "execute_result"
    }
   ],
   "source": [
    "df_aoi = gpd.read_file('aois/Aleutians_pathNumber95.geojson')\n",
    "aoi = df_aoi.geometry.unary_union\n",
    "aoi"
   ]
  },
  {
   "cell_type": "code",
   "execution_count": 4,
   "metadata": {
    "ExecuteTime": {
     "end_time": "2022-01-25T19:14:32.920363Z",
     "start_time": "2022-01-25T19:14:32.883961Z"
    }
   },
   "outputs": [
    {
     "data": {
      "text/html": [
       "<div>\n",
       "<style scoped>\n",
       "    .dataframe tbody tr th:only-of-type {\n",
       "        vertical-align: middle;\n",
       "    }\n",
       "\n",
       "    .dataframe tbody tr th {\n",
       "        vertical-align: top;\n",
       "    }\n",
       "\n",
       "    .dataframe thead th {\n",
       "        text-align: right;\n",
       "    }\n",
       "</style>\n",
       "<table border=\"1\" class=\"dataframe\">\n",
       "  <thead>\n",
       "    <tr style=\"text-align: right;\">\n",
       "      <th></th>\n",
       "      <th>aoi_name</th>\n",
       "      <th>path_number</th>\n",
       "      <th>min_days_backward</th>\n",
       "      <th>month_range_lower</th>\n",
       "      <th>month_range_upper</th>\n",
       "      <th>num_neighbors_ref</th>\n",
       "      <th>geometry</th>\n",
       "    </tr>\n",
       "  </thead>\n",
       "  <tbody>\n",
       "    <tr>\n",
       "      <th>0</th>\n",
       "      <td>Aleutians</td>\n",
       "      <td>95</td>\n",
       "      <td>364</td>\n",
       "      <td>6</td>\n",
       "      <td>10</td>\n",
       "      <td>3</td>\n",
       "      <td>POLYGON Z ((-169.81786 54.53305 0.00000, -165....</td>\n",
       "    </tr>\n",
       "    <tr>\n",
       "      <th>1</th>\n",
       "      <td>Aleutians</td>\n",
       "      <td>95</td>\n",
       "      <td>0</td>\n",
       "      <td>6</td>\n",
       "      <td>10</td>\n",
       "      <td>3</td>\n",
       "      <td>POLYGON Z ((-169.81786 54.53305 0.00000, -165....</td>\n",
       "    </tr>\n",
       "  </tbody>\n",
       "</table>\n",
       "</div>"
      ],
      "text/plain": [
       "    aoi_name  path_number  min_days_backward  month_range_lower  \\\n",
       "0  Aleutians           95                364                  6   \n",
       "1  Aleutians           95                  0                  6   \n",
       "\n",
       "   month_range_upper  num_neighbors_ref  \\\n",
       "0                 10                  3   \n",
       "1                 10                  3   \n",
       "\n",
       "                                            geometry  \n",
       "0  POLYGON Z ((-169.81786 54.53305 0.00000, -165....  \n",
       "1  POLYGON Z ((-169.81786 54.53305 0.00000, -165....  "
      ]
     },
     "execution_count": 4,
     "metadata": {},
     "output_type": "execute_result"
    }
   ],
   "source": [
    "df_aoi"
   ]
  },
  {
   "cell_type": "markdown",
   "metadata": {},
   "source": [
    "# Parameters"
   ]
  },
  {
   "cell_type": "code",
   "execution_count": 5,
   "metadata": {
    "ExecuteTime": {
     "end_time": "2022-01-25T19:14:35.275472Z",
     "start_time": "2022-01-25T19:14:35.245788Z"
    }
   },
   "outputs": [],
   "source": [
    "today = datetime.datetime.now()\n",
    "\n",
    "START_YEAR = 2016\n",
    "END_YEAR = today.year\n",
    "MONTHS_OF_INTEREST = [6, 7, 8, 9, 10]"
   ]
  },
  {
   "cell_type": "code",
   "execution_count": 6,
   "metadata": {
    "ExecuteTime": {
     "end_time": "2022-01-25T19:14:35.640275Z",
     "start_time": "2022-01-25T19:14:35.609566Z"
    }
   },
   "outputs": [
    {
     "data": {
      "text/plain": [
       "[datetime.datetime(2021, 10, 1, 0, 0),\n",
       " datetime.datetime(2021, 9, 1, 0, 0),\n",
       " datetime.datetime(2021, 8, 1, 0, 0)]"
      ]
     },
     "execution_count": 6,
     "metadata": {},
     "output_type": "execute_result"
    }
   ],
   "source": [
    "reference_dates = [datetime.datetime(year, month, 1) \n",
    "                   for year in range(START_YEAR, END_YEAR + 1)\n",
    "                   for month in MONTHS_OF_INTEREST\n",
    "                   if datetime.datetime(year, month, 1) < today]\n",
    "reference_dates = list(reversed(reference_dates))\n",
    "reference_dates[:3]"
   ]
  },
  {
   "cell_type": "code",
   "execution_count": 7,
   "metadata": {
    "ExecuteTime": {
     "end_time": "2022-01-25T19:14:36.141061Z",
     "start_time": "2022-01-25T19:14:36.110076Z"
    }
   },
   "outputs": [
    {
     "data": {
      "text/plain": [
       "[datetime.datetime(2021, 10, 1, 0, 0),\n",
       " datetime.datetime(2021, 9, 1, 0, 0),\n",
       " datetime.datetime(2021, 8, 1, 0, 0)]"
      ]
     },
     "execution_count": 7,
     "metadata": {},
     "output_type": "execute_result"
    }
   ],
   "source": [
    "secondary_dates = [ref_date + relativedelta(months=1) for ref_date in reference_dates]\n",
    "secondary_dates = secondary_dates[1:] + reference_dates[-1:]\n",
    "secondary_dates[:3]"
   ]
  },
  {
   "cell_type": "code",
   "execution_count": 8,
   "metadata": {
    "ExecuteTime": {
     "end_time": "2022-01-25T19:14:36.663237Z",
     "start_time": "2022-01-25T19:14:36.630418Z"
    }
   },
   "outputs": [
    {
     "name": "stdout",
     "output_type": "stream",
     "text": [
      "############################\n",
      "2021-10-01  to  2021-10-01\n",
      "or: days backward 0\n",
      "############################\n",
      "2021-09-01  to  2021-09-01\n",
      "or: days backward 0\n",
      "############################\n",
      "2021-08-01  to  2021-08-01\n",
      "or: days backward 0\n",
      "############################\n",
      "2021-07-01  to  2021-07-01\n",
      "or: days backward 0\n",
      "############################\n",
      "2021-06-01  to  2020-11-01\n",
      "or: days backward 212\n",
      "############################\n",
      "2020-10-01  to  2020-10-01\n",
      "or: days backward 0\n"
     ]
    }
   ],
   "source": [
    "for ref, sec in zip(reference_dates[:6], secondary_dates):\n",
    "    print('############################')\n",
    "    print(ref.date(), ' to ', sec.date())\n",
    "    print('or: days backward', (ref - sec).days)"
   ]
  },
  {
   "cell_type": "code",
   "execution_count": 9,
   "metadata": {
    "ExecuteTime": {
     "end_time": "2022-01-25T19:14:37.486893Z",
     "start_time": "2022-01-25T19:14:37.454041Z"
    }
   },
   "outputs": [
    {
     "data": {
      "text/plain": [
       "[95]"
      ]
     },
     "execution_count": 9,
     "metadata": {},
     "output_type": "execute_result"
    }
   ],
   "source": [
    "path_numbers = df_aoi.path_number.unique().tolist()\n",
    "path_numbers"
   ]
  },
  {
   "cell_type": "markdown",
   "metadata": {},
   "source": [
    "# Generate tiles used for coverage\n",
    "\n",
    "This function just does a geometric query based on each frame and using one pass from the start date."
   ]
  },
  {
   "cell_type": "code",
   "execution_count": 55,
   "metadata": {
    "ExecuteTime": {
     "end_time": "2022-01-25T19:39:06.651017Z",
     "start_time": "2022-01-25T19:39:04.514066Z"
    }
   },
   "outputs": [],
   "source": [
    "df_coverage_tiles = get_s1_coverage_tiles(aoi,\n",
    "                                          # the date is used to get coverage tiles for extracting stack.\n",
    "                                          # Recent data has reliable coverage.\n",
    "                                          start_date=datetime.datetime(2021, 1, 1))"
   ]
  },
  {
   "cell_type": "code",
   "execution_count": 57,
   "metadata": {
    "ExecuteTime": {
     "end_time": "2022-01-25T19:39:14.640238Z",
     "start_time": "2022-01-25T19:39:14.490028Z"
    }
   },
   "outputs": [
    {
     "data": {
      "text/plain": [
       "<AxesSubplot:>"
      ]
     },
     "execution_count": 57,
     "metadata": {},
     "output_type": "execute_result"
    },
    {
     "data": {
      "image/png": "[encoded data removed]",
      "text/plain": [
       "<Figure size 432x288 with 1 Axes>"
      ]
     },
     "metadata": {
      "needs_background": "light"
     },
     "output_type": "display_data"
    }
   ],
   "source": [
    "df_coverage_tiles.plot(alpha=.5)"
   ]
  },
  {
   "cell_type": "markdown",
   "metadata": {},
   "source": [
    "# Generate a stack\n",
    "\n",
    "Using all the tiles that are needed to cover the AOI."
   ]
  },
  {
   "cell_type": "code",
   "execution_count": 58,
   "metadata": {
    "ExecuteTime": {
     "end_time": "2022-01-25T19:39:57.990447Z",
     "start_time": "2022-01-25T19:39:51.161229Z"
    }
   },
   "outputs": [
    {
     "name": "stderr",
     "output_type": "stream",
     "text": [
      "Downloading stack for 1 tiles: 100%|██████████| 1/1 [00:06<00:00,  6.77s/it]\n"
     ]
    }
   ],
   "source": [
    "df_stack = get_s1_stack_by_dataframe(df_coverage_tiles,\n",
    "                                     path_numbers=path_numbers)"
   ]
  },
  {
   "cell_type": "markdown",
   "metadata": {},
   "source": [
    "Filter by month."
   ]
  },
  {
   "cell_type": "code",
   "execution_count": 59,
   "metadata": {
    "ExecuteTime": {
     "end_time": "2022-01-25T19:39:58.029610Z",
     "start_time": "2022-01-25T19:39:57.992274Z"
    }
   },
   "outputs": [
    {
     "data": {
      "text/plain": [
       "(57, 27)"
      ]
     },
     "execution_count": 59,
     "metadata": {},
     "output_type": "execute_result"
    }
   ],
   "source": [
    "df_stack_month = df_stack[df_stack.start_date.dt.month.isin(MONTHS_OF_INTEREST)]\n",
    "df_stack_month.shape"
   ]
  },
  {
   "cell_type": "code",
   "execution_count": 61,
   "metadata": {
    "ExecuteTime": {
     "end_time": "2022-01-25T19:40:04.372311Z",
     "start_time": "2022-01-25T19:40:04.208811Z"
    }
   },
   "outputs": [
    {
     "data": {
      "text/plain": [
       "<AxesSubplot:>"
      ]
     },
     "execution_count": 61,
     "metadata": {},
     "output_type": "execute_result"
    },
    {
     "data": {
      "image/png": "[encoded data removed]",
      "text/plain": [
       "<Figure size 432x288 with 1 Axes>"
      ]
     },
     "metadata": {
      "needs_background": "light"
     },
     "output_type": "display_data"
    }
   ],
   "source": [
    "df_stack_month.plot(alpha=.24)"
   ]
  },
  {
   "cell_type": "code",
   "execution_count": 13,
   "metadata": {
    "ExecuteTime": {
     "end_time": "2022-01-25T19:16:25.771604Z",
     "start_time": "2022-01-25T19:14:54.337715Z"
    }
   },
   "outputs": [
    {
     "name": "stderr",
     "output_type": "stream",
     "text": [
      "100%|██████████| 30/30 [01:31<00:00,  3.05s/it]\n"
     ]
    }
   ],
   "source": [
    "ifg_pairs = []\n",
    "\n",
    "for ref_date, sec_date in zip(tqdm(reference_dates), (secondary_dates)):\n",
    "    min_days_backward = (ref_date - sec_date).days\n",
    "    temporal_window_days=364 * 3\n",
    "    temp = enumerate_ifgs_from_stack(df_stack_month,\n",
    "                                     aoi,\n",
    "                                     ref_date,\n",
    "                                     enumeration_type='tile',\n",
    "                                     min_days_backward=(ref_date - sec_date).days,\n",
    "                                     num_neighbors_ref=3,\n",
    "                                     num_neighbors_sec=3,\n",
    "                                     temporal_window_days=temporal_window_days,\n",
    "                                     )\n",
    "    ifg_pairs += temp"
   ]
  },
  {
   "cell_type": "markdown",
   "metadata": {},
   "source": [
    "The numer of GUNWs will be the number of rows i.e.:"
   ]
  },
  {
   "cell_type": "markdown",
   "metadata": {},
   "source": [
    "# Get Dataframe"
   ]
  },
  {
   "cell_type": "code",
   "execution_count": 14,
   "metadata": {
    "ExecuteTime": {
     "end_time": "2022-01-25T19:16:26.002361Z",
     "start_time": "2022-01-25T19:16:25.773096Z"
    }
   },
   "outputs": [
    {
     "data": {
      "text/html": [
       "<div>\n",
       "<style scoped>\n",
       "    .dataframe tbody tr th:only-of-type {\n",
       "        vertical-align: middle;\n",
       "    }\n",
       "\n",
       "    .dataframe tbody tr th {\n",
       "        vertical-align: top;\n",
       "    }\n",
       "\n",
       "    .dataframe thead th {\n",
       "        text-align: right;\n",
       "    }\n",
       "</style>\n",
       "<table border=\"1\" class=\"dataframe\">\n",
       "  <thead>\n",
       "    <tr style=\"text-align: right;\">\n",
       "      <th></th>\n",
       "      <th>reference</th>\n",
       "      <th>secondary</th>\n",
       "      <th>reference_date</th>\n",
       "      <th>secondary_date</th>\n",
       "      <th>path_number</th>\n",
       "      <th>geometry</th>\n",
       "    </tr>\n",
       "  </thead>\n",
       "  <tbody>\n",
       "    <tr>\n",
       "      <th>0</th>\n",
       "      <td>[S1B_IW_SLC__1SDV_20211005T045609_20211005T045...</td>\n",
       "      <td>[S1B_IW_SLC__1SDV_20210923T045609_20210923T045...</td>\n",
       "      <td>2021-10-05</td>\n",
       "      <td>2021-09-23</td>\n",
       "      <td>95</td>\n",
       "      <td>POLYGON ((-165.88269 54.60060, -165.88269 54.6...</td>\n",
       "    </tr>\n",
       "    <tr>\n",
       "      <th>1</th>\n",
       "      <td>[S1B_IW_SLC__1SDV_20211005T045609_20211005T045...</td>\n",
       "      <td>[S1B_IW_SLC__1SDV_20210911T045609_20210911T045...</td>\n",
       "      <td>2021-10-05</td>\n",
       "      <td>2021-09-11</td>\n",
       "      <td>95</td>\n",
       "      <td>POLYGON ((-165.88269 54.60060, -165.88269 54.6...</td>\n",
       "    </tr>\n",
       "    <tr>\n",
       "      <th>2</th>\n",
       "      <td>[S1B_IW_SLC__1SDV_20211005T045609_20211005T045...</td>\n",
       "      <td>[S1B_IW_SLC__1SDV_20210830T045608_20210830T045...</td>\n",
       "      <td>2021-10-05</td>\n",
       "      <td>2021-08-30</td>\n",
       "      <td>95</td>\n",
       "      <td>POLYGON ((-169.08579 52.42376, -169.08579 52.4...</td>\n",
       "    </tr>\n",
       "    <tr>\n",
       "      <th>3</th>\n",
       "      <td>[S1B_IW_SLC__1SDV_20211017T045609_20211017T045...</td>\n",
       "      <td>[S1B_IW_SLC__1SDV_20210923T045609_20210923T045...</td>\n",
       "      <td>2021-10-17</td>\n",
       "      <td>2021-09-23</td>\n",
       "      <td>95</td>\n",
       "      <td>POLYGON ((-165.88384 54.60104, -165.88384 54.6...</td>\n",
       "    </tr>\n",
       "    <tr>\n",
       "      <th>4</th>\n",
       "      <td>[S1B_IW_SLC__1SDV_20211017T045609_20211017T045...</td>\n",
       "      <td>[S1B_IW_SLC__1SDV_20210911T045609_20210911T045...</td>\n",
       "      <td>2021-10-17</td>\n",
       "      <td>2021-09-11</td>\n",
       "      <td>95</td>\n",
       "      <td>POLYGON ((-165.88373 54.60061, -165.88372 54.6...</td>\n",
       "    </tr>\n",
       "  </tbody>\n",
       "</table>\n",
       "</div>"
      ],
      "text/plain": [
       "                                           reference  \\\n",
       "0  [S1B_IW_SLC__1SDV_20211005T045609_20211005T045...   \n",
       "1  [S1B_IW_SLC__1SDV_20211005T045609_20211005T045...   \n",
       "2  [S1B_IW_SLC__1SDV_20211005T045609_20211005T045...   \n",
       "3  [S1B_IW_SLC__1SDV_20211017T045609_20211017T045...   \n",
       "4  [S1B_IW_SLC__1SDV_20211017T045609_20211017T045...   \n",
       "\n",
       "                                           secondary reference_date  \\\n",
       "0  [S1B_IW_SLC__1SDV_20210923T045609_20210923T045...     2021-10-05   \n",
       "1  [S1B_IW_SLC__1SDV_20210911T045609_20210911T045...     2021-10-05   \n",
       "2  [S1B_IW_SLC__1SDV_20210830T045608_20210830T045...     2021-10-05   \n",
       "3  [S1B_IW_SLC__1SDV_20210923T045609_20210923T045...     2021-10-17   \n",
       "4  [S1B_IW_SLC__1SDV_20210911T045609_20210911T045...     2021-10-17   \n",
       "\n",
       "  secondary_date  path_number  \\\n",
       "0     2021-09-23           95   \n",
       "1     2021-09-11           95   \n",
       "2     2021-08-30           95   \n",
       "3     2021-09-23           95   \n",
       "4     2021-09-11           95   \n",
       "\n",
       "                                            geometry  \n",
       "0  POLYGON ((-165.88269 54.60060, -165.88269 54.6...  \n",
       "1  POLYGON ((-165.88269 54.60060, -165.88269 54.6...  \n",
       "2  POLYGON ((-169.08579 52.42376, -169.08579 52.4...  \n",
       "3  POLYGON ((-165.88384 54.60104, -165.88384 54.6...  \n",
       "4  POLYGON ((-165.88373 54.60061, -165.88372 54.6...  "
      ]
     },
     "execution_count": 14,
     "metadata": {},
     "output_type": "execute_result"
    }
   ],
   "source": [
    "df_pairs = distill_all_pairs(ifg_pairs)\n",
    "df_pairs.head()"
   ]
  },
  {
   "cell_type": "code",
   "execution_count": 15,
   "metadata": {
    "ExecuteTime": {
     "end_time": "2022-01-25T19:16:26.035793Z",
     "start_time": "2022-01-25T19:16:26.004105Z"
    }
   },
   "outputs": [
    {
     "data": {
      "text/plain": [
       "\"# of GUNWs: ' 270\""
      ]
     },
     "execution_count": 15,
     "metadata": {},
     "output_type": "execute_result"
    }
   ],
   "source": [
    "f\"# of GUNWs: ' {df_pairs.shape[0]}\""
   ]
  },
  {
   "cell_type": "markdown",
   "metadata": {
    "ExecuteTime": {
     "end_time": "2022-01-21T00:51:53.374968Z",
     "start_time": "2022-01-21T00:51:53.344139Z"
    }
   },
   "source": [
    "# Deduplication Pt. 1"
   ]
  },
  {
   "cell_type": "code",
   "execution_count": 16,
   "metadata": {
    "ExecuteTime": {
     "end_time": "2022-01-25T19:16:26.072937Z",
     "start_time": "2022-01-25T19:16:26.037314Z"
    }
   },
   "outputs": [],
   "source": [
    "import hashlib\n",
    "import json\n",
    "\n",
    "\n",
    "def get_gunw_hash_id(reference_ids: list, secondary_ids: list) -> str:\n",
    "    all_ids = json.dumps([' '.join(sorted(reference_ids)),\n",
    "                          ' '.join(sorted(secondary_ids))\n",
    "                          ]).encode('utf8')\n",
    "    hash_id = hashlib.md5(all_ids).hexdigest()\n",
    "    return hash_id"
   ]
  },
  {
   "cell_type": "code",
   "execution_count": 17,
   "metadata": {
    "ExecuteTime": {
     "end_time": "2022-01-25T19:16:26.127372Z",
     "start_time": "2022-01-25T19:16:26.076800Z"
    }
   },
   "outputs": [
    {
     "data": {
      "text/html": [
       "<div>\n",
       "<style scoped>\n",
       "    .dataframe tbody tr th:only-of-type {\n",
       "        vertical-align: middle;\n",
       "    }\n",
       "\n",
       "    .dataframe tbody tr th {\n",
       "        vertical-align: top;\n",
       "    }\n",
       "\n",
       "    .dataframe thead th {\n",
       "        text-align: right;\n",
       "    }\n",
       "</style>\n",
       "<table border=\"1\" class=\"dataframe\">\n",
       "  <thead>\n",
       "    <tr style=\"text-align: right;\">\n",
       "      <th></th>\n",
       "      <th>reference</th>\n",
       "      <th>secondary</th>\n",
       "      <th>reference_date</th>\n",
       "      <th>secondary_date</th>\n",
       "      <th>path_number</th>\n",
       "      <th>geometry</th>\n",
       "      <th>hash_id</th>\n",
       "    </tr>\n",
       "  </thead>\n",
       "  <tbody>\n",
       "    <tr>\n",
       "      <th>0</th>\n",
       "      <td>[S1B_IW_SLC__1SDV_20211005T045609_20211005T045...</td>\n",
       "      <td>[S1B_IW_SLC__1SDV_20210923T045609_20210923T045...</td>\n",
       "      <td>2021-10-05</td>\n",
       "      <td>2021-09-23</td>\n",
       "      <td>95</td>\n",
       "      <td>POLYGON ((-165.88269 54.60060, -165.88269 54.6...</td>\n",
       "      <td>9fc7424d3392c1252360ca4dd41a8c7b</td>\n",
       "    </tr>\n",
       "    <tr>\n",
       "      <th>1</th>\n",
       "      <td>[S1B_IW_SLC__1SDV_20211005T045609_20211005T045...</td>\n",
       "      <td>[S1B_IW_SLC__1SDV_20210911T045609_20210911T045...</td>\n",
       "      <td>2021-10-05</td>\n",
       "      <td>2021-09-11</td>\n",
       "      <td>95</td>\n",
       "      <td>POLYGON ((-165.88269 54.60060, -165.88269 54.6...</td>\n",
       "      <td>366038be5db108e7e9428b700647372b</td>\n",
       "    </tr>\n",
       "    <tr>\n",
       "      <th>2</th>\n",
       "      <td>[S1B_IW_SLC__1SDV_20211005T045609_20211005T045...</td>\n",
       "      <td>[S1B_IW_SLC__1SDV_20210830T045608_20210830T045...</td>\n",
       "      <td>2021-10-05</td>\n",
       "      <td>2021-08-30</td>\n",
       "      <td>95</td>\n",
       "      <td>POLYGON ((-169.08579 52.42376, -169.08579 52.4...</td>\n",
       "      <td>f8dd4bf27ce510c7c1a3d4050d2217f2</td>\n",
       "    </tr>\n",
       "    <tr>\n",
       "      <th>3</th>\n",
       "      <td>[S1B_IW_SLC__1SDV_20211017T045609_20211017T045...</td>\n",
       "      <td>[S1B_IW_SLC__1SDV_20210923T045609_20210923T045...</td>\n",
       "      <td>2021-10-17</td>\n",
       "      <td>2021-09-23</td>\n",
       "      <td>95</td>\n",
       "      <td>POLYGON ((-165.88384 54.60104, -165.88384 54.6...</td>\n",
       "      <td>af3dbfc55e04d492ff44685a0a027bc7</td>\n",
       "    </tr>\n",
       "    <tr>\n",
       "      <th>4</th>\n",
       "      <td>[S1B_IW_SLC__1SDV_20211017T045609_20211017T045...</td>\n",
       "      <td>[S1B_IW_SLC__1SDV_20210911T045609_20210911T045...</td>\n",
       "      <td>2021-10-17</td>\n",
       "      <td>2021-09-11</td>\n",
       "      <td>95</td>\n",
       "      <td>POLYGON ((-165.88373 54.60061, -165.88372 54.6...</td>\n",
       "      <td>24e39fcfd21423625cf927bebea0b3df</td>\n",
       "    </tr>\n",
       "  </tbody>\n",
       "</table>\n",
       "</div>"
      ],
      "text/plain": [
       "                                           reference  \\\n",
       "0  [S1B_IW_SLC__1SDV_20211005T045609_20211005T045...   \n",
       "1  [S1B_IW_SLC__1SDV_20211005T045609_20211005T045...   \n",
       "2  [S1B_IW_SLC__1SDV_20211005T045609_20211005T045...   \n",
       "3  [S1B_IW_SLC__1SDV_20211017T045609_20211017T045...   \n",
       "4  [S1B_IW_SLC__1SDV_20211017T045609_20211017T045...   \n",
       "\n",
       "                                           secondary reference_date  \\\n",
       "0  [S1B_IW_SLC__1SDV_20210923T045609_20210923T045...     2021-10-05   \n",
       "1  [S1B_IW_SLC__1SDV_20210911T045609_20210911T045...     2021-10-05   \n",
       "2  [S1B_IW_SLC__1SDV_20210830T045608_20210830T045...     2021-10-05   \n",
       "3  [S1B_IW_SLC__1SDV_20210923T045609_20210923T045...     2021-10-17   \n",
       "4  [S1B_IW_SLC__1SDV_20210911T045609_20210911T045...     2021-10-17   \n",
       "\n",
       "  secondary_date  path_number  \\\n",
       "0     2021-09-23           95   \n",
       "1     2021-09-11           95   \n",
       "2     2021-08-30           95   \n",
       "3     2021-09-23           95   \n",
       "4     2021-09-11           95   \n",
       "\n",
       "                                            geometry  \\\n",
       "0  POLYGON ((-165.88269 54.60060, -165.88269 54.6...   \n",
       "1  POLYGON ((-165.88269 54.60060, -165.88269 54.6...   \n",
       "2  POLYGON ((-169.08579 52.42376, -169.08579 52.4...   \n",
       "3  POLYGON ((-165.88384 54.60104, -165.88384 54.6...   \n",
       "4  POLYGON ((-165.88373 54.60061, -165.88372 54.6...   \n",
       "\n",
       "                            hash_id  \n",
       "0  9fc7424d3392c1252360ca4dd41a8c7b  \n",
       "1  366038be5db108e7e9428b700647372b  \n",
       "2  f8dd4bf27ce510c7c1a3d4050d2217f2  \n",
       "3  af3dbfc55e04d492ff44685a0a027bc7  \n",
       "4  24e39fcfd21423625cf927bebea0b3df  "
      ]
     },
     "execution_count": 17,
     "metadata": {},
     "output_type": "execute_result"
    }
   ],
   "source": [
    "def hasher(row):\n",
    "    return get_gunw_hash_id(row['reference'], row['secondary'])\n",
    "\n",
    "df_pairs['hash_id'] = df_pairs.apply(hasher, axis=1)\n",
    "df_pairs.head()"
   ]
  },
  {
   "cell_type": "code",
   "execution_count": 18,
   "metadata": {
    "ExecuteTime": {
     "end_time": "2022-01-25T19:16:26.161149Z",
     "start_time": "2022-01-25T19:16:26.129894Z"
    }
   },
   "outputs": [
    {
     "data": {
      "text/plain": [
       "'# of duplicated entries: 82'"
      ]
     },
     "execution_count": 18,
     "metadata": {},
     "output_type": "execute_result"
    }
   ],
   "source": [
    "f\"# of duplicated entries: {df_pairs.duplicated(subset=['hash_id']).sum()}\""
   ]
  },
  {
   "cell_type": "code",
   "execution_count": 19,
   "metadata": {
    "ExecuteTime": {
     "end_time": "2022-01-25T19:16:26.197216Z",
     "start_time": "2022-01-25T19:16:26.162945Z"
    }
   },
   "outputs": [
    {
     "data": {
      "text/plain": [
       "'# of UNIQUE GUNWs: 188'"
      ]
     },
     "execution_count": 19,
     "metadata": {},
     "output_type": "execute_result"
    }
   ],
   "source": [
    "df_pairs = df_pairs.drop_duplicates(subset=['hash_id']).reset_index(drop=True)\n",
    "f\"# of UNIQUE GUNWs: {df_pairs.shape[0]}\""
   ]
  },
  {
   "cell_type": "markdown",
   "metadata": {
    "ExecuteTime": {
     "end_time": "2022-01-21T00:54:06.533180Z",
     "start_time": "2022-01-21T00:54:06.503673Z"
    }
   },
   "source": [
    "# Update types for Graphical Analysis"
   ]
  },
  {
   "cell_type": "code",
   "execution_count": 20,
   "metadata": {
    "ExecuteTime": {
     "end_time": "2022-01-25T19:16:26.241585Z",
     "start_time": "2022-01-25T19:16:26.198722Z"
    }
   },
   "outputs": [
    {
     "data": {
      "text/html": [
       "<div>\n",
       "<style scoped>\n",
       "    .dataframe tbody tr th:only-of-type {\n",
       "        vertical-align: middle;\n",
       "    }\n",
       "\n",
       "    .dataframe tbody tr th {\n",
       "        vertical-align: top;\n",
       "    }\n",
       "\n",
       "    .dataframe thead th {\n",
       "        text-align: right;\n",
       "    }\n",
       "</style>\n",
       "<table border=\"1\" class=\"dataframe\">\n",
       "  <thead>\n",
       "    <tr style=\"text-align: right;\">\n",
       "      <th></th>\n",
       "      <th>reference</th>\n",
       "      <th>secondary</th>\n",
       "      <th>reference_date</th>\n",
       "      <th>secondary_date</th>\n",
       "      <th>path_number</th>\n",
       "      <th>geometry</th>\n",
       "      <th>hash_id</th>\n",
       "    </tr>\n",
       "  </thead>\n",
       "  <tbody>\n",
       "    <tr>\n",
       "      <th>0</th>\n",
       "      <td>[S1B_IW_SLC__1SDV_20211005T045609_20211005T045...</td>\n",
       "      <td>[S1B_IW_SLC__1SDV_20210923T045609_20210923T045...</td>\n",
       "      <td>2021-10-05</td>\n",
       "      <td>2021-09-23</td>\n",
       "      <td>95</td>\n",
       "      <td>POLYGON ((-165.88269 54.60060, -165.88269 54.6...</td>\n",
       "      <td>9fc7424d3392c1252360ca4dd41a8c7b</td>\n",
       "    </tr>\n",
       "    <tr>\n",
       "      <th>1</th>\n",
       "      <td>[S1B_IW_SLC__1SDV_20211005T045609_20211005T045...</td>\n",
       "      <td>[S1B_IW_SLC__1SDV_20210911T045609_20210911T045...</td>\n",
       "      <td>2021-10-05</td>\n",
       "      <td>2021-09-11</td>\n",
       "      <td>95</td>\n",
       "      <td>POLYGON ((-165.88269 54.60060, -165.88269 54.6...</td>\n",
       "      <td>366038be5db108e7e9428b700647372b</td>\n",
       "    </tr>\n",
       "    <tr>\n",
       "      <th>2</th>\n",
       "      <td>[S1B_IW_SLC__1SDV_20211005T045609_20211005T045...</td>\n",
       "      <td>[S1B_IW_SLC__1SDV_20210830T045608_20210830T045...</td>\n",
       "      <td>2021-10-05</td>\n",
       "      <td>2021-08-30</td>\n",
       "      <td>95</td>\n",
       "      <td>POLYGON ((-169.08579 52.42376, -169.08579 52.4...</td>\n",
       "      <td>f8dd4bf27ce510c7c1a3d4050d2217f2</td>\n",
       "    </tr>\n",
       "    <tr>\n",
       "      <th>3</th>\n",
       "      <td>[S1B_IW_SLC__1SDV_20211017T045609_20211017T045...</td>\n",
       "      <td>[S1B_IW_SLC__1SDV_20210923T045609_20210923T045...</td>\n",
       "      <td>2021-10-17</td>\n",
       "      <td>2021-09-23</td>\n",
       "      <td>95</td>\n",
       "      <td>POLYGON ((-165.88384 54.60104, -165.88384 54.6...</td>\n",
       "      <td>af3dbfc55e04d492ff44685a0a027bc7</td>\n",
       "    </tr>\n",
       "    <tr>\n",
       "      <th>4</th>\n",
       "      <td>[S1B_IW_SLC__1SDV_20211017T045609_20211017T045...</td>\n",
       "      <td>[S1B_IW_SLC__1SDV_20210911T045609_20210911T045...</td>\n",
       "      <td>2021-10-17</td>\n",
       "      <td>2021-09-11</td>\n",
       "      <td>95</td>\n",
       "      <td>POLYGON ((-165.88373 54.60061, -165.88372 54.6...</td>\n",
       "      <td>24e39fcfd21423625cf927bebea0b3df</td>\n",
       "    </tr>\n",
       "  </tbody>\n",
       "</table>\n",
       "</div>"
      ],
      "text/plain": [
       "                                           reference  \\\n",
       "0  [S1B_IW_SLC__1SDV_20211005T045609_20211005T045...   \n",
       "1  [S1B_IW_SLC__1SDV_20211005T045609_20211005T045...   \n",
       "2  [S1B_IW_SLC__1SDV_20211005T045609_20211005T045...   \n",
       "3  [S1B_IW_SLC__1SDV_20211017T045609_20211017T045...   \n",
       "4  [S1B_IW_SLC__1SDV_20211017T045609_20211017T045...   \n",
       "\n",
       "                                           secondary reference_date  \\\n",
       "0  [S1B_IW_SLC__1SDV_20210923T045609_20210923T045...     2021-10-05   \n",
       "1  [S1B_IW_SLC__1SDV_20210911T045609_20210911T045...     2021-10-05   \n",
       "2  [S1B_IW_SLC__1SDV_20210830T045608_20210830T045...     2021-10-05   \n",
       "3  [S1B_IW_SLC__1SDV_20210923T045609_20210923T045...     2021-10-17   \n",
       "4  [S1B_IW_SLC__1SDV_20210911T045609_20210911T045...     2021-10-17   \n",
       "\n",
       "  secondary_date  path_number  \\\n",
       "0     2021-09-23           95   \n",
       "1     2021-09-11           95   \n",
       "2     2021-08-30           95   \n",
       "3     2021-09-23           95   \n",
       "4     2021-09-11           95   \n",
       "\n",
       "                                            geometry  \\\n",
       "0  POLYGON ((-165.88269 54.60060, -165.88269 54.6...   \n",
       "1  POLYGON ((-165.88269 54.60060, -165.88269 54.6...   \n",
       "2  POLYGON ((-169.08579 52.42376, -169.08579 52.4...   \n",
       "3  POLYGON ((-165.88384 54.60104, -165.88384 54.6...   \n",
       "4  POLYGON ((-165.88373 54.60061, -165.88372 54.6...   \n",
       "\n",
       "                            hash_id  \n",
       "0  9fc7424d3392c1252360ca4dd41a8c7b  \n",
       "1  366038be5db108e7e9428b700647372b  \n",
       "2  f8dd4bf27ce510c7c1a3d4050d2217f2  \n",
       "3  af3dbfc55e04d492ff44685a0a027bc7  \n",
       "4  24e39fcfd21423625cf927bebea0b3df  "
      ]
     },
     "execution_count": 20,
     "metadata": {},
     "output_type": "execute_result"
    }
   ],
   "source": [
    "df_pairs['reference_date'] = pd.to_datetime(df_pairs['reference_date'])\n",
    "df_pairs['secondary_date'] = pd.to_datetime(df_pairs['secondary_date'])\n",
    "df_pairs.head()"
   ]
  },
  {
   "cell_type": "markdown",
   "metadata": {},
   "source": [
    "# Visualize a Date Graph from Time Series\n",
    "\n",
    "We can put this into a network Directed Graph and use some simple network functions to check connectivity.\n",
    "\n",
    "We are going to use just dates for nodes, though you could use `(ref_date, slc_id)` for nodes and then inspect connected components."
   ]
  },
  {
   "cell_type": "code",
   "execution_count": 21,
   "metadata": {
    "ExecuteTime": {
     "end_time": "2022-01-25T19:16:26.277043Z",
     "start_time": "2022-01-25T19:16:26.243278Z"
    }
   },
   "outputs": [
    {
     "data": {
      "text/plain": [
       "[(Timestamp('2021-10-05 00:00:00'), Timestamp('2021-09-23 00:00:00')),\n",
       " (Timestamp('2021-10-05 00:00:00'), Timestamp('2021-09-11 00:00:00')),\n",
       " (Timestamp('2021-10-05 00:00:00'), Timestamp('2021-08-30 00:00:00')),\n",
       " (Timestamp('2021-10-17 00:00:00'), Timestamp('2021-09-23 00:00:00')),\n",
       " (Timestamp('2021-10-17 00:00:00'), Timestamp('2021-09-11 00:00:00')),\n",
       " (Timestamp('2021-10-17 00:00:00'), Timestamp('2021-08-30 00:00:00')),\n",
       " (Timestamp('2021-10-29 00:00:00'), Timestamp('2021-09-23 00:00:00')),\n",
       " (Timestamp('2021-10-29 00:00:00'), Timestamp('2021-09-11 00:00:00')),\n",
       " (Timestamp('2021-10-29 00:00:00'), Timestamp('2021-08-30 00:00:00')),\n",
       " (Timestamp('2021-09-11 00:00:00'), Timestamp('2021-08-30 00:00:00')),\n",
       " (Timestamp('2021-09-11 00:00:00'), Timestamp('2021-08-18 00:00:00')),\n",
       " (Timestamp('2021-09-11 00:00:00'), Timestamp('2021-08-06 00:00:00')),\n",
       " (Timestamp('2021-09-23 00:00:00'), Timestamp('2021-08-30 00:00:00')),\n",
       " (Timestamp('2021-09-23 00:00:00'), Timestamp('2021-08-18 00:00:00')),\n",
       " (Timestamp('2021-09-23 00:00:00'), Timestamp('2021-08-06 00:00:00'))]"
      ]
     },
     "execution_count": 21,
     "metadata": {},
     "output_type": "execute_result"
    }
   ],
   "source": [
    "list(zip(df_pairs.reference_date, df_pairs.secondary_date))[:15]"
   ]
  },
  {
   "cell_type": "code",
   "execution_count": 22,
   "metadata": {
    "ExecuteTime": {
     "end_time": "2022-01-25T19:16:26.313683Z",
     "start_time": "2022-01-25T19:16:26.278683Z"
    }
   },
   "outputs": [
    {
     "data": {
      "text/plain": [
       "[Timestamp('2015-07-27 00:00:00'),\n",
       " Timestamp('2015-08-20 00:00:00'),\n",
       " Timestamp('2015-10-07 00:00:00'),\n",
       " Timestamp('2016-06-03 00:00:00')]"
      ]
     },
     "execution_count": 22,
     "metadata": {},
     "output_type": "execute_result"
    }
   ],
   "source": [
    "unique_dates = df_pairs.reference_date.tolist() + df_pairs.secondary_date.tolist()\n",
    "unique_dates = sorted(list(set(unique_dates)))\n",
    "unique_dates[:4]"
   ]
  },
  {
   "cell_type": "code",
   "execution_count": 23,
   "metadata": {
    "ExecuteTime": {
     "end_time": "2022-01-25T19:16:26.347483Z",
     "start_time": "2022-01-25T19:16:26.315860Z"
    }
   },
   "outputs": [],
   "source": [
    "date2node = {date: k for (k, date) in enumerate(unique_dates)}\n",
    "node2date = {k: date for (date, k) in date2node.items()}"
   ]
  },
  {
   "cell_type": "code",
   "execution_count": 24,
   "metadata": {
    "ExecuteTime": {
     "end_time": "2022-01-25T19:16:26.379583Z",
     "start_time": "2022-01-25T19:16:26.349162Z"
    }
   },
   "outputs": [],
   "source": [
    "G = nx.DiGraph()\n",
    "\n",
    "edges = [(date2node[ref_date], date2node[sec_date]) \n",
    "         for (ref_date, sec_date) in zip(df_pairs.reference_date, df_pairs.secondary_date)]\n",
    "G.add_edges_from(edges)"
   ]
  },
  {
   "cell_type": "code",
   "execution_count": 25,
   "metadata": {
    "ExecuteTime": {
     "end_time": "2022-01-25T19:16:27.344667Z",
     "start_time": "2022-01-25T19:16:26.381102Z"
    }
   },
   "outputs": [
    {
     "data": {
      "image/png": "[encoded data removed]",
      "text/plain": [
       "<Figure size 432x288 with 1 Axes>"
      ]
     },
     "metadata": {},
     "output_type": "display_data"
    }
   ],
   "source": [
    "nx.draw(G)"
   ]
  },
  {
   "cell_type": "markdown",
   "metadata": {},
   "source": [
    "This function checks there is a path from the first date to the last one."
   ]
  },
  {
   "cell_type": "code",
   "execution_count": 26,
   "metadata": {
    "ExecuteTime": {
     "end_time": "2022-01-25T19:16:27.376682Z",
     "start_time": "2022-01-25T19:16:27.346209Z"
    }
   },
   "outputs": [
    {
     "data": {
      "text/plain": [
       "True"
      ]
     },
     "execution_count": 26,
     "metadata": {},
     "output_type": "execute_result"
    }
   ],
   "source": [
    "nx.has_path(G, \n",
    "            target=date2node[unique_dates[0]],\n",
    "            source=date2node[unique_dates[-1]])"
   ]
  },
  {
   "cell_type": "markdown",
   "metadata": {},
   "source": [
    "The y-axis is created purely for display so doesn't really indicated anything but flow by month."
   ]
  },
  {
   "cell_type": "code",
   "execution_count": 27,
   "metadata": {
    "ExecuteTime": {
     "end_time": "2022-01-25T19:16:30.590585Z",
     "start_time": "2022-01-25T19:16:27.378349Z"
    }
   },
   "outputs": [
    {
     "data": {
      "text/plain": [
       "<matplotlib.legend.Legend at 0x7fcd28431a90>"
      ]
     },
     "execution_count": 27,
     "metadata": {},
     "output_type": "execute_result"
    },
    {
     "data": {
      "image/png": "[encoded data removed]",
      "text/plain": [
       "<Figure size 1080x360 with 1 Axes>"
      ]
     },
     "metadata": {
      "needs_background": "light"
     },
     "output_type": "display_data"
    }
   ],
   "source": [
    "fig, ax = plt.subplots(figsize=(15, 5))\n",
    "\n",
    "increment = [date.month + date.day for date in unique_dates]\n",
    "\n",
    "# source: https://stackoverflow.com/a/27852570\n",
    "scat = ax.scatter(unique_dates, increment)\n",
    "position = scat.get_offsets().data\n",
    "\n",
    "pos = {date2node[date]: position[k] for (k, date) in enumerate(unique_dates)}\n",
    "nx.draw_networkx_edges(G, pos=pos, ax=ax)\n",
    "ax.grid('on')\n",
    "ax.tick_params(axis='x',\n",
    "               which='major',\n",
    "               labelbottom=True,\n",
    "               labelleft=True)\n",
    "ymin, ymax = ax.get_ylim()\n",
    "for y in range(2015, 2022):\n",
    "    label = 'Oct to Nov' if y == 2016 else None\n",
    "    ax.fill_between([datetime.datetime(y, 6, 1), datetime.datetime(y, 11, 1)], \n",
    "                    ymin, ymax, \n",
    "                    alpha=.5, color='green', zorder=0, label=label)\n",
    "plt.legend()"
   ]
  },
  {
   "cell_type": "markdown",
   "metadata": {},
   "source": [
    "# Deduplication Pt. 2"
   ]
  },
  {
   "cell_type": "markdown",
   "metadata": {
    "ExecuteTime": {
     "end_time": "2022-01-20T02:08:12.635432Z",
     "start_time": "2022-01-20T02:08:12.601357Z"
    }
   },
   "source": [
    "# Check CMR"
   ]
  },
  {
   "cell_type": "code",
   "execution_count": 28,
   "metadata": {
    "ExecuteTime": {
     "end_time": "2022-01-25T19:17:02.122651Z",
     "start_time": "2022-01-25T19:16:30.592151Z"
    }
   },
   "outputs": [
    {
     "name": "stderr",
     "output_type": "stream",
     "text": [
      "  0%|          | 0/188 [00:00<?, ?it/s]/Users/cmarshak/bekaert-team/s1-enumerator/s1_enumerator/formatter.py:17: UserWarning: Dataframe is empty! Check inputs.\n",
      "  warn('Dataframe is empty! Check inputs.')\n",
      "100%|██████████| 188/188 [00:31<00:00,  5.98it/s]\n"
     ]
    }
   ],
   "source": [
    "from s1_enumerator import duplicate_gunw_found\n",
    "import concurrent\n",
    "from tqdm import tqdm\n",
    "\n",
    "n = df_pairs.shape[0]\n",
    "with concurrent.futures.ThreadPoolExecutor(max_workers=15) as executor:\n",
    "    results = list(tqdm(executor.map(duplicate_gunw_found, df_pairs.to_dict('records')), total=n))"
   ]
  },
  {
   "cell_type": "code",
   "execution_count": 29,
   "metadata": {
    "ExecuteTime": {
     "end_time": "2022-01-25T19:17:02.177685Z",
     "start_time": "2022-01-25T19:17:02.125997Z"
    }
   },
   "outputs": [
    {
     "name": "stdout",
     "output_type": "stream",
     "text": [
      "existing_gunws:  0\n",
      "Total pairs 188\n"
     ]
    }
   ],
   "source": [
    "df_pairs['existing_gunw'] = [r != '' for r in results]\n",
    "df_pairs['existing_gunw_id'] = results\n",
    "total_existing_gunws = df_pairs['existing_gunw'].sum()\n",
    "print('existing_gunws: ', total_existing_gunws)\n",
    "print('Total pairs', df_pairs.shape[0])"
   ]
  },
  {
   "cell_type": "code",
   "execution_count": 30,
   "metadata": {
    "ExecuteTime": {
     "end_time": "2022-01-25T19:17:02.223419Z",
     "start_time": "2022-01-25T19:17:02.181345Z"
    }
   },
   "outputs": [
    {
     "name": "stdout",
     "output_type": "stream",
     "text": [
      "after filtering, total pairs:  188\n"
     ]
    }
   ],
   "source": [
    "df_pairs_filtered = df_pairs[~df_pairs['existing_gunw']].reset_index(drop=True)\n",
    "# df_pairs_filtered.drop_duplicates(subset=['hash_id'], inplace=True)\n",
    "print('after filtering, total pairs: ', df_pairs_filtered.shape[0])"
   ]
  },
  {
   "cell_type": "markdown",
   "metadata": {},
   "source": [
    "# Check Hyp3 Account\n",
    "\n",
    "Two parts:\n",
    "\n",
    "1. check s3 bucket\n",
    "2. check running/pending jobs"
   ]
  },
  {
   "cell_type": "code",
   "execution_count": 31,
   "metadata": {
    "ExecuteTime": {
     "end_time": "2022-01-25T19:17:05.546343Z",
     "start_time": "2022-01-25T19:17:02.225907Z"
    }
   },
   "outputs": [],
   "source": [
    "import hyp3_sdk\n",
    "\n",
    "# uses .netrc; add `prompt=True` to prompt for credentials; \n",
    "hyp3_isce = hyp3_sdk.HyP3('https://hyp3-isce.asf.alaska.edu/')"
   ]
  },
  {
   "cell_type": "code",
   "execution_count": 39,
   "metadata": {
    "ExecuteTime": {
     "end_time": "2022-01-25T19:18:00.013552Z",
     "start_time": "2022-01-25T19:17:59.532039Z"
    }
   },
   "outputs": [],
   "source": [
    "pending_jobs = (hyp3_isce.find_jobs(name='final_test_95',\n",
    "                                    status_code='PENDING') +  \\\n",
    "                hyp3_isce.find_jobs(status_code='RUNNING'))\n",
    "\n",
    "# Specifying job name\n",
    "all_jobs = hyp3_isce.find_jobs(name='final_test_95_try2')"
   ]
  },
  {
   "cell_type": "code",
   "execution_count": 40,
   "metadata": {
    "ExecuteTime": {
     "end_time": "2022-01-25T19:18:01.224132Z",
     "start_time": "2022-01-25T19:18:01.194994Z"
    }
   },
   "outputs": [
    {
     "name": "stdout",
     "output_type": "stream",
     "text": [
      "0 HyP3 Jobs: 0 succeeded, 0 failed, 0 running, 0 pending.\n"
     ]
    }
   ],
   "source": [
    "print(all_jobs)"
   ]
  },
  {
   "cell_type": "markdown",
   "metadata": {},
   "source": [
    "## a) Get existing products in s3 bucket"
   ]
  },
  {
   "cell_type": "code",
   "execution_count": null,
   "metadata": {
    "ExecuteTime": {
     "end_time": "2022-01-21T20:35:32.579347Z",
     "start_time": "2022-01-21T20:35:32.548782Z"
    }
   },
   "outputs": [],
   "source": [
    "# job_data = [j.to_dict() for j in all_jobs]\n",
    "# job_data[0]"
   ]
  },
  {
   "cell_type": "markdown",
   "metadata": {},
   "source": [
    "Get bucket (there is only one)"
   ]
  },
  {
   "cell_type": "code",
   "execution_count": null,
   "metadata": {
    "ExecuteTime": {
     "end_time": "2022-01-21T01:26:40.679219Z",
     "start_time": "2022-01-21T01:26:40.650335Z"
    }
   },
   "outputs": [],
   "source": [
    "job_data_s3 = list(filter(lambda job: 'files' in job.keys(), job_data))\n",
    "len(job_data_s3)"
   ]
  },
  {
   "cell_type": "code",
   "execution_count": null,
   "metadata": {
    "ExecuteTime": {
     "end_time": "2022-01-21T01:26:40.710714Z",
     "start_time": "2022-01-21T01:26:40.680933Z"
    }
   },
   "outputs": [],
   "source": [
    "bucket = job_data_s3[0]['files'][0]['s3']['bucket']\n",
    "bucket"
   ]
  },
  {
   "cell_type": "markdown",
   "metadata": {},
   "source": [
    "Get all keys"
   ]
  },
  {
   "cell_type": "code",
   "execution_count": null,
   "metadata": {
    "ExecuteTime": {
     "end_time": "2022-01-21T01:26:40.741326Z",
     "start_time": "2022-01-21T01:26:40.712179Z"
    }
   },
   "outputs": [],
   "source": [
    "job_keys = [job['files'][0]['s3']['key'] for job in job_data_s3]\n",
    "job_keys[0]"
   ]
  },
  {
   "cell_type": "code",
   "execution_count": null,
   "metadata": {
    "ExecuteTime": {
     "end_time": "2022-01-21T01:26:42.591818Z",
     "start_time": "2022-01-21T01:26:40.742835Z"
    }
   },
   "outputs": [],
   "source": [
    "s3 = boto3.resource('s3')\n",
    "prod_bucket = s3.Bucket(bucket)\n",
    "\n",
    "objects = list(prod_bucket.objects.all())\n",
    "ncs = list(filter(lambda x: x.key.endswith('.nc'), objects))\n",
    "ncs[:10]"
   ]
  },
  {
   "cell_type": "markdown",
   "metadata": {},
   "source": [
    "Need to physically check if the products are not there (could have been deleted!)"
   ]
  },
  {
   "cell_type": "code",
   "execution_count": null,
   "metadata": {
    "ExecuteTime": {
     "end_time": "2022-01-21T01:26:42.624928Z",
     "start_time": "2022-01-21T01:26:42.594612Z"
    }
   },
   "outputs": [],
   "source": [
    "nc_keys = [nc_ob.key for nc_ob in ncs]\n",
    "jobs_with_prods_in_s3 = [job for (k, job) in enumerate(job_data_s3) if job_keys[k] in nc_keys]\n",
    "len(jobs_with_prods_in_s3)"
   ]
  },
  {
   "cell_type": "code",
   "execution_count": null,
   "metadata": {
    "ExecuteTime": {
     "end_time": "2022-01-21T01:26:42.658660Z",
     "start_time": "2022-01-21T01:26:42.627442Z"
    }
   },
   "outputs": [],
   "source": [
    "slcs = [(job['job_parameters']['granules'],\n",
    "         job['job_parameters']['secondary_granules']) \n",
    "        for job in jobs_with_prods_in_s3]\n",
    "slcs[:2]"
   ]
  },
  {
   "cell_type": "code",
   "execution_count": null,
   "metadata": {
    "ExecuteTime": {
     "end_time": "2022-01-21T01:26:42.689919Z",
     "start_time": "2022-01-21T01:26:42.660242Z"
    }
   },
   "outputs": [],
   "source": [
    "hash_ids_of_prods_in_s3 = [get_gunw_hash_id(*slc) for slc in slcs]\n",
    "hash_ids_of_prods_in_s3[0]"
   ]
  },
  {
   "cell_type": "code",
   "execution_count": null,
   "metadata": {
    "ExecuteTime": {
     "end_time": "2022-01-21T01:26:42.721187Z",
     "start_time": "2022-01-21T01:26:42.691441Z"
    }
   },
   "outputs": [],
   "source": [
    "f\"We are removing {df_pairs_filtered['hash_id'].isin(hash_ids_of_prods_in_s3).sum()} GUNWs for submission\""
   ]
  },
  {
   "cell_type": "code",
   "execution_count": null,
   "metadata": {
    "ExecuteTime": {
     "end_time": "2022-01-21T01:26:42.755647Z",
     "start_time": "2022-01-21T01:26:42.722599Z"
    }
   },
   "outputs": [],
   "source": [
    "items = hash_ids_of_prods_in_s3\n",
    "df_pairs_filtered = df_pairs_filtered[~df_pairs_filtered['hash_id'].isin(items)].reset_index(drop=True)\n",
    "f\"Current # of GUNWs: {df_pairs_filtered.shape[0]}\""
   ]
  },
  {
   "cell_type": "markdown",
   "metadata": {},
   "source": [
    "## b) Running or Pending Jobs"
   ]
  },
  {
   "cell_type": "code",
   "execution_count": 41,
   "metadata": {
    "ExecuteTime": {
     "end_time": "2022-01-25T19:18:17.369318Z",
     "start_time": "2022-01-25T19:18:17.338968Z"
    }
   },
   "outputs": [],
   "source": [
    "pending_job_data = [j.to_dict() for j in pending_jobs]\n",
    "pending_slcs = [(job['job_parameters']['granules'],\n",
    "                 job['job_parameters']['secondary_granules']) \n",
    "                 for job in pending_job_data]"
   ]
  },
  {
   "cell_type": "code",
   "execution_count": 42,
   "metadata": {
    "ExecuteTime": {
     "end_time": "2022-01-25T19:18:18.079215Z",
     "start_time": "2022-01-25T19:18:18.042495Z"
    }
   },
   "outputs": [
    {
     "data": {
      "text/plain": [
       "[]"
      ]
     },
     "execution_count": 42,
     "metadata": {},
     "output_type": "execute_result"
    }
   ],
   "source": [
    "hash_ids_of_pending_jobs = [get_gunw_hash_id(*slc) for slc in pending_slcs]\n",
    "hash_ids_of_pending_jobs[:4]"
   ]
  },
  {
   "cell_type": "code",
   "execution_count": 43,
   "metadata": {
    "ExecuteTime": {
     "end_time": "2022-01-25T19:18:18.777604Z",
     "start_time": "2022-01-25T19:18:18.746581Z"
    }
   },
   "outputs": [
    {
     "data": {
      "text/plain": [
       "'We are removing 0 GUNWs for submission'"
      ]
     },
     "execution_count": 43,
     "metadata": {},
     "output_type": "execute_result"
    }
   ],
   "source": [
    "items = hash_ids_of_pending_jobs\n",
    "f\"We are removing {df_pairs_filtered['hash_id'].isin(items).sum()} GUNWs for submission\""
   ]
  },
  {
   "cell_type": "code",
   "execution_count": 44,
   "metadata": {
    "ExecuteTime": {
     "end_time": "2022-01-25T19:18:19.789702Z",
     "start_time": "2022-01-25T19:18:19.754254Z"
    }
   },
   "outputs": [
    {
     "data": {
      "text/plain": [
       "'Current # of GUNWs: 188'"
      ]
     },
     "execution_count": 44,
     "metadata": {},
     "output_type": "execute_result"
    }
   ],
   "source": [
    "items = hash_ids_of_pending_jobs\n",
    "df_pairs_filtered = df_pairs_filtered[~df_pairs_filtered['hash_id'].isin(items)].reset_index(drop=True)\n",
    "f\"Current # of GUNWs: {df_pairs_filtered.shape[0]}\""
   ]
  },
  {
   "cell_type": "markdown",
   "metadata": {},
   "source": [
    "# Submit jobs to Hyp3"
   ]
  },
  {
   "cell_type": "code",
   "execution_count": 45,
   "metadata": {
    "ExecuteTime": {
     "end_time": "2022-01-25T19:18:23.475728Z",
     "start_time": "2022-01-25T19:18:23.443039Z"
    }
   },
   "outputs": [
    {
     "data": {
      "text/plain": [
       "{'reference': ['S1B_IW_SLC__1SDV_20211005T045609_20211005T045639_028996_0375C6_4753'],\n",
       " 'secondary': ['S1B_IW_SLC__1SDV_20210923T045609_20210923T045639_028821_037082_B57B'],\n",
       " 'reference_date': Timestamp('2021-10-05 00:00:00'),\n",
       " 'secondary_date': Timestamp('2021-09-23 00:00:00'),\n",
       " 'path_number': 95,\n",
       " 'geometry': <shapely.geometry.polygon.Polygon at 0x7fcd283b0e80>,\n",
       " 'hash_id': '9fc7424d3392c1252360ca4dd41a8c7b',\n",
       " 'existing_gunw': False,\n",
       " 'existing_gunw_id': ''}"
      ]
     },
     "execution_count": 45,
     "metadata": {},
     "output_type": "execute_result"
    }
   ],
   "source": [
    "records_to_submit = df_pairs_filtered.to_dict('records')\n",
    "records_to_submit[0]"
   ]
  },
  {
   "cell_type": "code",
   "execution_count": 46,
   "metadata": {
    "ExecuteTime": {
     "end_time": "2022-01-25T19:18:29.439268Z",
     "start_time": "2022-01-25T19:18:26.490455Z"
    }
   },
   "outputs": [],
   "source": [
    "import hyp3_sdk\n",
    "\n",
    "# uses .netrc; add `prompt=True` to prompt for credentials; \n",
    "hyp3_isce = hyp3_sdk.HyP3('https://hyp3-isce.asf.alaska.edu/')"
   ]
  },
  {
   "cell_type": "markdown",
   "metadata": {},
   "source": [
    "The below puts the records in a format that we can submit to the Hyp3 API.\n",
    "\n",
    "**Note 1**: there is an index in the records to submit to ensure we don't over submit jobs for generating GUNWs. \\\n",
    "**Note 2**: uncomment the code to *actually* submit the jobs."
   ]
  },
  {
   "cell_type": "code",
   "execution_count": 47,
   "metadata": {
    "ExecuteTime": {
     "end_time": "2022-01-25T19:18:29.472362Z",
     "start_time": "2022-01-25T19:18:29.441150Z"
    }
   },
   "outputs": [
    {
     "data": {
      "text/plain": [
       "188"
      ]
     },
     "execution_count": 47,
     "metadata": {},
     "output_type": "execute_result"
    }
   ],
   "source": [
    "len(records_to_submit)"
   ]
  },
  {
   "cell_type": "code",
   "execution_count": 50,
   "metadata": {
    "ExecuteTime": {
     "end_time": "2022-01-25T19:20:34.234313Z",
     "start_time": "2022-01-25T19:20:30.064494Z"
    }
   },
   "outputs": [],
   "source": [
    "import hyp3_sdk\n",
    "\n",
    "# uses .netrc; add `prompt=True` to prompt for credentials; \n",
    "hyp3_isce = hyp3_sdk.HyP3('https://hyp3-isce.asf.alaska.edu/')\n",
    "\n",
    "job_dicts = [{'name': 'final_test_95_try2',\n",
    "              'job_type': 'INSAR_ISCE_TEST',\n",
    "              'job_parameters': {'granules': r['reference'],\n",
    "                                 'secondary_granules': r['secondary']}} \n",
    "             # NOTE THERE IS AN INDEX - this is to submit only a subset of Jobs\n",
    "             for r in records_to_submit[:]]\n",
    "\n",
    "\n",
    "# UNCOMMENT TO SUBMIT\n",
    "# submitted_jobs = hyp3_isce.submit_prepared_jobs(job_dicts)"
   ]
  },
  {
   "cell_type": "code",
   "execution_count": 63,
   "metadata": {
    "ExecuteTime": {
     "end_time": "2022-01-25T21:33:12.909199Z",
     "start_time": "2022-01-25T21:33:12.364550Z"
    }
   },
   "outputs": [
    {
     "name": "stdout",
     "output_type": "stream",
     "text": [
      "188 HyP3 Jobs: 172 succeeded, 0 failed, 16 running, 0 pending.\n"
     ]
    }
   ],
   "source": [
    "submitted_jobs_2 = hyp3_isce.find_jobs(name='final_test_95_try2')\n",
    "print(submitted_jobs_2)"
   ]
  },
  {
   "cell_type": "code",
   "execution_count": null,
   "metadata": {
    "ExecuteTime": {
     "end_time": "2022-01-22T00:56:41.955599Z",
     "start_time": "2022-01-22T00:56:41.953798Z"
    }
   },
   "outputs": [],
   "source": [
    "# import concurrent.futures\n",
    "# from tqdm import tqdm\n",
    "\n",
    "# with concurrent.futures.ThreadPoolExecutor(max_workers=10) as executor:\n",
    "#     results = list(tqdm(executor.map(lambda job: job.download_files('products'), jobs), total=len(jobs)))"
   ]
  }
 ],
 "metadata": {
  "interpreter": {
   "hash": "8d8f500daa9bf167d031a7ee53ec5418ea1a519591c0a1a22c03ecd26311e773"
  },
  "kernelspec": {
   "display_name": "Python 3",
   "language": "python",
   "name": "python3"
  },
  "language_info": {
   "codemirror_mode": {
    "name": "ipython",
    "version": 3
   },
   "file_extension": ".py",
   "mimetype": "text/x-python",
   "name": "python",
   "nbconvert_exporter": "python",
   "pygments_lexer": "ipython3",
   "version": "3.8.5"
  }
 },
 "nbformat": 4,
 "nbformat_minor": 2
}
