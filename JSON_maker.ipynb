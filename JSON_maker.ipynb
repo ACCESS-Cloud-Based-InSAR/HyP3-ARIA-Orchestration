{
 "cells": [
  {
   "cell_type": "code",
   "execution_count": 17,
   "source": [
    "from zipfile import ZipFile\n",
    "from pathlib import Path\n",
    "import geopandas as gpd\n",
    "import fiona\n",
    "import pandas as pd\n",
    "import shutil\n",
    "from itertools import starmap\n",
    "from rasterio.crs import CRS\n",
    "\n",
    "fiona.drvsupport.supported_drivers['kml'] = 'rw' # enable KML support which is disabled by default\n",
    "fiona.drvsupport.supported_drivers['KML'] = 'rw' # enable KML support which is disabled by default\n",
    "fiona.drvsupport.supported_drivers['libkml'] = 'rw' # enable KML support which is disabled by default\n",
    "fiona.drvsupport.supported_drivers['LIBKML'] = 'rw' # enable KML support which is disabled by default"
   ],
   "outputs": [],
   "metadata": {
    "ExecuteTime": {
     "end_time": "2021-12-02T18:58:52.292598Z",
     "start_time": "2021-12-02T18:58:50.735225Z"
    }
   }
  },
  {
   "cell_type": "code",
   "execution_count": 18,
   "source": [
    "kmzs = list(Path('.').glob('kmz/*.kmz'))\n",
    "kmzs"
   ],
   "outputs": [
    {
     "output_type": "execute_result",
     "data": {
      "text/plain": [
       "[PosixPath('kmz/track_137_CA.kmz')]"
      ]
     },
     "metadata": {},
     "execution_count": 18
    }
   ],
   "metadata": {
    "ExecuteTime": {
     "end_time": "2021-12-02T18:58:52.304887Z",
     "start_time": "2021-12-02T18:58:52.296800Z"
    }
   }
  },
  {
   "cell_type": "code",
   "execution_count": 19,
   "source": [
    "def read_one(kmz_path, **kwargs):\n",
    "    kmz_zip = ZipFile(kmz_path, 'r')\n",
    "    temp_dir = Path(f'tmp_{kmz_path.stem}')\n",
    "    temp_dir.mkdir(exist_ok=True)\n",
    "    kml_path = kmz_zip.extract('doc.kml', temp_dir)\n",
    "    df = gpd.read_file(kml_path)\n",
    "\n",
    "    df = gpd.GeoDataFrame(geometry=[df.geometry.unary_union],\n",
    "                          crs=CRS.from_epsg(4326))\n",
    "    n = len(kwargs['min_days_backward']) - 1\n",
    "    if n:\n",
    "        df = df.append([df]*n).reset_index(drop=True)\n",
    "    \n",
    "    for key in list(kwargs):\n",
    "        df[key] = kwargs[key]\n",
    "        \n",
    "    tokens = str(kmz_path.stem).split('_')\n",
    "    df['aoi_name'] = tokens[-1]\n",
    "    df['path_number'] = int(tokens[1])\n",
    "    \n",
    "    columns = ['aoi_name','path_number'] + list(kwargs.keys()) + ['geometry']\n",
    "    df = df[columns]\n",
    "    shutil.rmtree(temp_dir)\n",
    "    return df"
   ],
   "outputs": [],
   "metadata": {
    "ExecuteTime": {
     "end_time": "2021-12-02T18:58:52.779950Z",
     "start_time": "2021-12-02T18:58:52.775621Z"
    }
   }
  },
  {
   "cell_type": "code",
   "execution_count": 20,
   "source": [
    "kwargs = {'min_days_backward': [0],\n",
    "          'month_range_lower': 1,\n",
    "          'month_range_upper': 12,\n",
    "          'num_neighbors': 3}"
   ],
   "outputs": [],
   "metadata": {
    "ExecuteTime": {
     "end_time": "2021-12-02T18:58:53.345709Z",
     "start_time": "2021-12-02T18:58:53.343450Z"
    }
   }
  },
  {
   "cell_type": "code",
   "execution_count": 21,
   "source": [
    "read_one_p = lambda path: read_one(path, **kwargs)\n",
    "dfs = list(map(read_one_p, kmzs))\n",
    "dfs[0]"
   ],
   "outputs": [
    {
     "output_type": "execute_result",
     "data": {
      "text/html": [
       "<div>\n",
       "<style scoped>\n",
       "    .dataframe tbody tr th:only-of-type {\n",
       "        vertical-align: middle;\n",
       "    }\n",
       "\n",
       "    .dataframe tbody tr th {\n",
       "        vertical-align: top;\n",
       "    }\n",
       "\n",
       "    .dataframe thead th {\n",
       "        text-align: right;\n",
       "    }\n",
       "</style>\n",
       "<table border=\"1\" class=\"dataframe\">\n",
       "  <thead>\n",
       "    <tr style=\"text-align: right;\">\n",
       "      <th></th>\n",
       "      <th>aoi_name</th>\n",
       "      <th>path_number</th>\n",
       "      <th>min_days_backward</th>\n",
       "      <th>month_range_lower</th>\n",
       "      <th>month_range_upper</th>\n",
       "      <th>num_neighbors_ref</th>\n",
       "      <th>geometry</th>\n",
       "    </tr>\n",
       "  </thead>\n",
       "  <tbody>\n",
       "    <tr>\n",
       "      <th>0</th>\n",
       "      <td>CA</td>\n",
       "      <td>137</td>\n",
       "      <td>0</td>\n",
       "      <td>1</td>\n",
       "      <td>12</td>\n",
       "      <td>3</td>\n",
       "      <td>POLYGON Z ((-120.73240 33.25751 0.00000, -118....</td>\n",
       "    </tr>\n",
       "  </tbody>\n",
       "</table>\n",
       "</div>"
      ],
      "text/plain": [
       "  aoi_name  path_number  min_days_backward  month_range_lower  \\\n",
       "0       CA          137                  0                  1   \n",
       "\n",
       "   month_range_upper  num_neighbors_ref  \\\n",
       "0                 12                  3   \n",
       "\n",
       "                                            geometry  \n",
       "0  POLYGON Z ((-120.73240 33.25751 0.00000, -118....  "
      ]
     },
     "metadata": {},
     "execution_count": 21
    }
   ],
   "metadata": {
    "ExecuteTime": {
     "end_time": "2021-12-02T18:58:54.478697Z",
     "start_time": "2021-12-02T18:58:53.815416Z"
    }
   }
  },
  {
   "cell_type": "code",
   "execution_count": 22,
   "source": [
    "df = pd.concat(dfs, axis=0)\n",
    "df.exterior.plot()"
   ],
   "outputs": [
    {
     "output_type": "execute_result",
     "data": {
      "text/plain": [
       "<AxesSubplot:>"
      ]
     },
     "metadata": {},
     "execution_count": 22
    },
    {
     "output_type": "display_data",
     "data": {
      "image/png": "[encoded data removed]",
      "text/plain": [
       "<Figure size 432x288 with 1 Axes>"
      ]
     },
     "metadata": {
      "needs_background": "light"
     }
    }
   ],
   "metadata": {
    "ExecuteTime": {
     "end_time": "2021-12-02T18:58:57.157689Z",
     "start_time": "2021-12-02T18:58:56.799470Z"
    }
   }
  },
  {
   "cell_type": "code",
   "execution_count": 23,
   "source": [
    "def write_one(df):\n",
    "    out_dir = Path('out')\n",
    "    out_dir.mkdir(exist_ok=True)\n",
    "    path_number = df.path_number.tolist()[0]\n",
    "    aoi_name = df.aoi_name[0]\n",
    "    out_path = out_dir/f'{aoi_name}_pathNumber{path_number}.geojson'\n",
    "    df.to_file(out_path, driver='GeoJSON')\n",
    "    return out_path"
   ],
   "outputs": [],
   "metadata": {
    "ExecuteTime": {
     "end_time": "2021-12-02T18:58:57.794039Z",
     "start_time": "2021-12-02T18:58:57.791337Z"
    }
   }
  },
  {
   "cell_type": "code",
   "execution_count": 24,
   "source": [
    "list(map(write_one, dfs))"
   ],
   "outputs": [
    {
     "output_type": "stream",
     "name": "stderr",
     "text": [
      "/Users/ssangha/Downloads/snap_setup/stable_oct5_2021/envs/s1-enumerator/lib/python3.10/site-packages/geopandas/io/file.py:362: FutureWarning: pandas.Int64Index is deprecated and will be removed from pandas in a future version. Use pandas.Index with the appropriate dtype instead.\n",
      "  pd.Int64Index,\n"
     ]
    },
    {
     "output_type": "execute_result",
     "data": {
      "text/plain": [
       "[PosixPath('out/CA_pathNumber137.geojson')]"
      ]
     },
     "metadata": {},
     "execution_count": 24
    }
   ],
   "metadata": {
    "ExecuteTime": {
     "end_time": "2021-12-02T18:58:58.337926Z",
     "start_time": "2021-12-02T18:58:58.255069Z"
    }
   }
  }
 ],
 "metadata": {
  "kernelspec": {
   "name": "python3",
   "display_name": "Python 3.10.4 64-bit ('s1-enumerator': conda)"
  },
  "language_info": {
   "codemirror_mode": {
    "name": "ipython",
    "version": 3
   },
   "file_extension": ".py",
   "mimetype": "text/x-python",
   "name": "python",
   "nbconvert_exporter": "python",
   "pygments_lexer": "ipython3",
   "version": "3.10.4"
  },
  "interpreter": {
   "hash": "d5caced1b6f6328ebf252ee0289534035286b1269cd2adef619b938e0a9fdf27"
  }
 },
 "nbformat": 4,
 "nbformat_minor": 5
}