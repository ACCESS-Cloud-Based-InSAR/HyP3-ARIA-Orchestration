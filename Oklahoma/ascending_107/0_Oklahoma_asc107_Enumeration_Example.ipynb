{
 "cells": [
  {
   "cell_type": "markdown",
   "source": [
    "This is to demonstrate how to use the `s1-enumerator` to get a full time series of GUNWs.\n",
    "\n",
    "We are going basically take each month in acceptable date range and increment by a month and make sure the temporal window is large enough to ensure connectivity across data gaps."
   ],
   "metadata": {}
  },
  {
   "cell_type": "code",
   "execution_count": null,
   "source": [
    "%load_ext autoreload\n",
    "%autoreload 2"
   ],
   "outputs": [],
   "metadata": {
    "ExecuteTime": {
     "end_time": "2022-01-26T20:33:19.456820Z",
     "start_time": "2022-01-26T20:33:19.440973Z"
    }
   }
  },
  {
   "cell_type": "code",
   "execution_count": 3,
   "source": [
    "!pwd"
   ],
   "outputs": [
    {
     "output_type": "stream",
     "name": "stdout",
     "text": [
      "/Users/ssangha/Downloads/snap_setup/stable_oct5_2021/HyP3-ARIA-Orchestration/Oklahoma/ascending_107\n"
     ]
    }
   ],
   "metadata": {}
  },
  {
   "cell_type": "code",
   "execution_count": 4,
   "source": [
    "from s1_enumerator import get_aoi_dataframe,  distill_all_pairs, enumerate_ifgs, get_s1_coverage_tiles, enumerate_ifgs_from_stack, get_s1_stack_by_dataframe\n",
    "import concurrent\n",
    "from s1_enumerator import duplicate_gunw_found\n",
    "from tqdm import tqdm\n",
    "from shapely.geometry import Point\n",
    "import datetime\n",
    "import pandas as pd\n",
    "import geopandas as gpd\n",
    "import matplotlib.pyplot as plt\n",
    "from dateutil.relativedelta import relativedelta\n",
    "import networkx as nx\n",
    "import boto3\n"
   ],
   "outputs": [],
   "metadata": {
    "ExecuteTime": {
     "end_time": "2022-01-26T20:33:20.609757Z",
     "start_time": "2022-01-26T20:33:19.458712Z"
    }
   }
  },
  {
   "cell_type": "code",
   "execution_count": 5,
   "source": [
    "df_aoi = gpd.read_file('aois/Oklahoma_pathNumber107.geojson')\n",
    "aoi = df_aoi.geometry.unary_union\n",
    "aoi"
   ],
   "outputs": [
    {
     "output_type": "execute_result",
     "data": {
      "image/svg+xml": "<svg xmlns=\"http://www.w3.org/2000/svg\" xmlns:xlink=\"http://www.w3.org/1999/xlink\" width=\"100.0\" height=\"100.0\" viewBox=\"-101.02387768927487 34.90591887510609 3.314334957559524 1.9172168183887877\" preserveAspectRatio=\"xMinYMin meet\"><g transform=\"matrix(1,0,0,-1,0,71.72905456860096)\"><path fill-rule=\"evenodd\" fill=\"#66cc99\" stroke=\"#555555\" stroke-width=\"0.06628669915119048\" opacity=\"0.6\" d=\"M -100.5966819258487,35.02867202168237 L -100.9011245426986,36.30668516384486 L -98.0887072843072,36.7003825469186 L -97.83229587829162,35.42701459719471 L -100.5966819258487,35.02867202168237 z\" /></g></svg>",
      "text/plain": [
       "<shapely.geometry.polygon.Polygon at 0x10bd5bee0>"
      ]
     },
     "metadata": {},
     "execution_count": 5
    }
   ],
   "metadata": {
    "ExecuteTime": {
     "end_time": "2022-01-26T20:33:20.662349Z",
     "start_time": "2022-01-26T20:33:20.614595Z"
    }
   }
  },
  {
   "cell_type": "code",
   "execution_count": 6,
   "source": [
    "df_aoi"
   ],
   "outputs": [
    {
     "output_type": "execute_result",
     "data": {
      "text/html": [
       "<div>\n",
       "<style scoped>\n",
       "    .dataframe tbody tr th:only-of-type {\n",
       "        vertical-align: middle;\n",
       "    }\n",
       "\n",
       "    .dataframe tbody tr th {\n",
       "        vertical-align: top;\n",
       "    }\n",
       "\n",
       "    .dataframe thead th {\n",
       "        text-align: right;\n",
       "    }\n",
       "</style>\n",
       "<table border=\"1\" class=\"dataframe\">\n",
       "  <thead>\n",
       "    <tr style=\"text-align: right;\">\n",
       "      <th></th>\n",
       "      <th>aoi_name</th>\n",
       "      <th>path_number</th>\n",
       "      <th>min_days_backward</th>\n",
       "      <th>month_range_lower</th>\n",
       "      <th>month_range_upper</th>\n",
       "      <th>num_neighbors_ref</th>\n",
       "      <th>geometry</th>\n",
       "    </tr>\n",
       "  </thead>\n",
       "  <tbody>\n",
       "    <tr>\n",
       "      <th>0</th>\n",
       "      <td>Oklahoma</td>\n",
       "      <td>107</td>\n",
       "      <td>364</td>\n",
       "      <td>6</td>\n",
       "      <td>10</td>\n",
       "      <td>3</td>\n",
       "      <td>POLYGON Z ((-100.59668 35.02867 3000.00000, -9...</td>\n",
       "    </tr>\n",
       "    <tr>\n",
       "      <th>1</th>\n",
       "      <td>Oklahoma</td>\n",
       "      <td>107</td>\n",
       "      <td>0</td>\n",
       "      <td>6</td>\n",
       "      <td>10</td>\n",
       "      <td>3</td>\n",
       "      <td>POLYGON Z ((-100.59668 35.02867 3000.00000, -9...</td>\n",
       "    </tr>\n",
       "  </tbody>\n",
       "</table>\n",
       "</div>"
      ],
      "text/plain": [
       "   aoi_name  path_number  min_days_backward  month_range_lower  \\\n",
       "0  Oklahoma          107                364                  6   \n",
       "1  Oklahoma          107                  0                  6   \n",
       "\n",
       "   month_range_upper  num_neighbors_ref  \\\n",
       "0                 10                  3   \n",
       "1                 10                  3   \n",
       "\n",
       "                                            geometry  \n",
       "0  POLYGON Z ((-100.59668 35.02867 3000.00000, -9...  \n",
       "1  POLYGON Z ((-100.59668 35.02867 3000.00000, -9...  "
      ]
     },
     "metadata": {},
     "execution_count": 6
    }
   ],
   "metadata": {
    "ExecuteTime": {
     "end_time": "2022-01-26T20:33:20.700437Z",
     "start_time": "2022-01-26T20:33:20.663935Z"
    }
   }
  },
  {
   "cell_type": "markdown",
   "source": [
    "Currently, there is a lot of data in each of the rows above. We really only need the AOI `geometry` and the `path_number`."
   ],
   "metadata": {}
  },
  {
   "cell_type": "markdown",
   "source": [
    "# Parameters\n",
    "\n",
    "This is what the operator is going to have to change. Will provide some comments."
   ],
   "metadata": {}
  },
  {
   "cell_type": "code",
   "execution_count": 27,
   "source": [
    "today = datetime.datetime.now()\n",
    "\n",
    "# Earliest year for reference frames\n",
    "START_YEAR = 2015\n",
    "# Latest year for reference frames\n",
    "END_YEAR = today.year\n",
    "# Adjust depending on seasonality\n",
    "# For annual IFGs, select a single months of interest and you will get what you want.\n",
    "MONTHS_OF_INTEREST = [1, 2, 3, 4, 5, 6, 7, 8, 9, 10, 11, 12]"
   ],
   "outputs": [],
   "metadata": {
    "ExecuteTime": {
     "end_time": "2022-01-26T20:33:20.729834Z",
     "start_time": "2022-01-26T20:33:20.702152Z"
    }
   }
  },
  {
   "cell_type": "markdown",
   "source": [
    "Below, we select the boundary for minimum reference dates."
   ],
   "metadata": {}
  },
  {
   "cell_type": "code",
   "execution_count": 28,
   "source": [
    "min_reference_dates = [datetime.datetime(year, month, 1) \n",
    "                       for year in range(START_YEAR, END_YEAR + 1)\n",
    "                       for month in MONTHS_OF_INTEREST\n",
    "                       if datetime.datetime(year, month, 1) < today]\n",
    "min_reference_dates = list(reversed(min_reference_dates))\n",
    "min_reference_dates"
   ],
   "outputs": [
    {
     "output_type": "execute_result",
     "data": {
      "text/plain": [
       "[datetime.datetime(2022, 2, 1, 0, 0),\n",
       " datetime.datetime(2022, 1, 1, 0, 0),\n",
       " datetime.datetime(2021, 12, 1, 0, 0),\n",
       " datetime.datetime(2021, 11, 1, 0, 0),\n",
       " datetime.datetime(2021, 10, 1, 0, 0),\n",
       " datetime.datetime(2021, 9, 1, 0, 0),\n",
       " datetime.datetime(2021, 8, 1, 0, 0),\n",
       " datetime.datetime(2021, 7, 1, 0, 0),\n",
       " datetime.datetime(2021, 6, 1, 0, 0),\n",
       " datetime.datetime(2021, 5, 1, 0, 0),\n",
       " datetime.datetime(2021, 4, 1, 0, 0),\n",
       " datetime.datetime(2021, 3, 1, 0, 0),\n",
       " datetime.datetime(2021, 2, 1, 0, 0),\n",
       " datetime.datetime(2021, 1, 1, 0, 0),\n",
       " datetime.datetime(2020, 12, 1, 0, 0),\n",
       " datetime.datetime(2020, 11, 1, 0, 0),\n",
       " datetime.datetime(2020, 10, 1, 0, 0),\n",
       " datetime.datetime(2020, 9, 1, 0, 0),\n",
       " datetime.datetime(2020, 8, 1, 0, 0),\n",
       " datetime.datetime(2020, 7, 1, 0, 0),\n",
       " datetime.datetime(2020, 6, 1, 0, 0),\n",
       " datetime.datetime(2020, 5, 1, 0, 0),\n",
       " datetime.datetime(2020, 4, 1, 0, 0),\n",
       " datetime.datetime(2020, 3, 1, 0, 0),\n",
       " datetime.datetime(2020, 2, 1, 0, 0),\n",
       " datetime.datetime(2020, 1, 1, 0, 0),\n",
       " datetime.datetime(2019, 12, 1, 0, 0),\n",
       " datetime.datetime(2019, 11, 1, 0, 0),\n",
       " datetime.datetime(2019, 10, 1, 0, 0),\n",
       " datetime.datetime(2019, 9, 1, 0, 0),\n",
       " datetime.datetime(2019, 8, 1, 0, 0),\n",
       " datetime.datetime(2019, 7, 1, 0, 0),\n",
       " datetime.datetime(2019, 6, 1, 0, 0),\n",
       " datetime.datetime(2019, 5, 1, 0, 0),\n",
       " datetime.datetime(2019, 4, 1, 0, 0),\n",
       " datetime.datetime(2019, 3, 1, 0, 0),\n",
       " datetime.datetime(2019, 2, 1, 0, 0),\n",
       " datetime.datetime(2019, 1, 1, 0, 0),\n",
       " datetime.datetime(2018, 12, 1, 0, 0),\n",
       " datetime.datetime(2018, 11, 1, 0, 0),\n",
       " datetime.datetime(2018, 10, 1, 0, 0),\n",
       " datetime.datetime(2018, 9, 1, 0, 0),\n",
       " datetime.datetime(2018, 8, 1, 0, 0),\n",
       " datetime.datetime(2018, 7, 1, 0, 0),\n",
       " datetime.datetime(2018, 6, 1, 0, 0),\n",
       " datetime.datetime(2018, 5, 1, 0, 0),\n",
       " datetime.datetime(2018, 4, 1, 0, 0),\n",
       " datetime.datetime(2018, 3, 1, 0, 0),\n",
       " datetime.datetime(2018, 2, 1, 0, 0),\n",
       " datetime.datetime(2018, 1, 1, 0, 0),\n",
       " datetime.datetime(2017, 12, 1, 0, 0),\n",
       " datetime.datetime(2017, 11, 1, 0, 0),\n",
       " datetime.datetime(2017, 10, 1, 0, 0),\n",
       " datetime.datetime(2017, 9, 1, 0, 0),\n",
       " datetime.datetime(2017, 8, 1, 0, 0),\n",
       " datetime.datetime(2017, 7, 1, 0, 0),\n",
       " datetime.datetime(2017, 6, 1, 0, 0),\n",
       " datetime.datetime(2017, 5, 1, 0, 0),\n",
       " datetime.datetime(2017, 4, 1, 0, 0),\n",
       " datetime.datetime(2017, 3, 1, 0, 0),\n",
       " datetime.datetime(2017, 2, 1, 0, 0),\n",
       " datetime.datetime(2017, 1, 1, 0, 0),\n",
       " datetime.datetime(2016, 12, 1, 0, 0),\n",
       " datetime.datetime(2016, 11, 1, 0, 0),\n",
       " datetime.datetime(2016, 10, 1, 0, 0),\n",
       " datetime.datetime(2016, 9, 1, 0, 0),\n",
       " datetime.datetime(2016, 8, 1, 0, 0),\n",
       " datetime.datetime(2016, 7, 1, 0, 0),\n",
       " datetime.datetime(2016, 6, 1, 0, 0),\n",
       " datetime.datetime(2016, 5, 1, 0, 0),\n",
       " datetime.datetime(2016, 4, 1, 0, 0),\n",
       " datetime.datetime(2016, 3, 1, 0, 0),\n",
       " datetime.datetime(2016, 2, 1, 0, 0),\n",
       " datetime.datetime(2016, 1, 1, 0, 0),\n",
       " datetime.datetime(2015, 12, 1, 0, 0),\n",
       " datetime.datetime(2015, 11, 1, 0, 0),\n",
       " datetime.datetime(2015, 10, 1, 0, 0),\n",
       " datetime.datetime(2015, 9, 1, 0, 0),\n",
       " datetime.datetime(2015, 8, 1, 0, 0),\n",
       " datetime.datetime(2015, 7, 1, 0, 0),\n",
       " datetime.datetime(2015, 6, 1, 0, 0),\n",
       " datetime.datetime(2015, 5, 1, 0, 0),\n",
       " datetime.datetime(2015, 4, 1, 0, 0),\n",
       " datetime.datetime(2015, 3, 1, 0, 0),\n",
       " datetime.datetime(2015, 2, 1, 0, 0),\n",
       " datetime.datetime(2015, 1, 1, 0, 0)]"
      ]
     },
     "metadata": {},
     "execution_count": 28
    }
   ],
   "metadata": {
    "ExecuteTime": {
     "end_time": "2022-01-26T20:33:20.762927Z",
     "start_time": "2022-01-26T20:33:20.731632Z"
    }
   }
  },
  {
   "cell_type": "markdown",
   "source": [
    "The maximum secondary dates for enumeration are going to be a month after the previous `min_reference_date`. What we are going to do is: *select 3 SLCs before and after the 1st of the month*. When we reach the earliest month of interest in a given year, we select secondaries occuring before the latest occuring month of interest in the previous calendar year (at the end of that month). Here the number of neighnbors (i.e. 3) is arbitrary and can be changed below. We found this parameter useful to making sure the graph was connected. So, don't change it unless you are careful.\n",
    "\n",
    "In the setup above and below, we are thus picking three dates occuring before one item of the `max_secondary_dates` and three dates after one item of `min_reference_dates`. "
   ],
   "metadata": {}
  },
  {
   "cell_type": "code",
   "execution_count": 29,
   "source": [
    "max_secondary_dates = [ref_date + relativedelta(months=1) for ref_date in min_reference_dates]\n",
    "max_secondary_dates = max_secondary_dates[1:] + min_reference_dates[-1:]\n",
    "max_secondary_dates[:3]"
   ],
   "outputs": [
    {
     "output_type": "execute_result",
     "data": {
      "text/plain": [
       "[datetime.datetime(2022, 2, 1, 0, 0),\n",
       " datetime.datetime(2022, 1, 1, 0, 0),\n",
       " datetime.datetime(2021, 12, 1, 0, 0)]"
      ]
     },
     "metadata": {},
     "execution_count": 29
    }
   ],
   "metadata": {
    "ExecuteTime": {
     "end_time": "2022-01-26T20:33:20.794025Z",
     "start_time": "2022-01-26T20:33:20.764539Z"
    }
   }
  },
  {
   "cell_type": "code",
   "execution_count": 30,
   "source": [
    "for ref, sec in zip(min_reference_dates[:6], max_secondary_dates):\n",
    "    print('############################')\n",
    "    print(ref.date(), ' to ', sec.date())\n",
    "    print('or: days backward', (ref - sec).days)"
   ],
   "outputs": [
    {
     "output_type": "stream",
     "name": "stdout",
     "text": [
      "############################\n",
      "2022-02-01  to  2022-02-01\n",
      "or: days backward 0\n",
      "############################\n",
      "2022-01-01  to  2022-01-01\n",
      "or: days backward 0\n",
      "############################\n",
      "2021-12-01  to  2021-12-01\n",
      "or: days backward 0\n",
      "############################\n",
      "2021-11-01  to  2021-11-01\n",
      "or: days backward 0\n",
      "############################\n",
      "2021-10-01  to  2021-10-01\n",
      "or: days backward 0\n",
      "############################\n",
      "2021-09-01  to  2021-09-01\n",
      "or: days backward 0\n"
     ]
    }
   ],
   "metadata": {
    "ExecuteTime": {
     "end_time": "2022-01-26T20:33:20.830429Z",
     "start_time": "2022-01-26T20:33:20.797641Z"
    }
   }
  },
  {
   "cell_type": "code",
   "execution_count": 31,
   "source": [
    "path_numbers = df_aoi.path_number.unique().tolist()\n",
    "path_numbers"
   ],
   "outputs": [
    {
     "output_type": "execute_result",
     "data": {
      "text/plain": [
       "[107]"
      ]
     },
     "metadata": {},
     "execution_count": 31
    }
   ],
   "metadata": {
    "ExecuteTime": {
     "end_time": "2022-01-26T20:33:20.871551Z",
     "start_time": "2022-01-26T20:33:20.834020Z"
    }
   }
  },
  {
   "cell_type": "markdown",
   "source": [
    "# Generate tiles used for coverage\n",
    "\n",
    "This function just does a geometric query based on each frame and using one pass from the start date."
   ],
   "metadata": {}
  },
  {
   "cell_type": "code",
   "execution_count": 45,
   "source": [
    "df_coverage_tiles = get_s1_coverage_tiles(aoi,\n",
    "                                          # the date is used to get coverage tiles for extracting stack.\n",
    "                                          # Recent data has reliable coverage.\n",
    "                                          start_date=datetime.datetime(2022, 1, 16))"
   ],
   "outputs": [],
   "metadata": {
    "ExecuteTime": {
     "end_time": "2022-01-26T20:33:23.206558Z",
     "start_time": "2022-01-26T20:33:20.872995Z"
    }
   }
  },
  {
   "cell_type": "code",
   "execution_count": 46,
   "source": [
    "## Uncomment if you want to inspect the dataframe\n",
    "# df_coverage_tiles.to_file('coverage_tiles.geojson', driver='GeoJSON', index=False)"
   ],
   "outputs": [],
   "metadata": {
    "ExecuteTime": {
     "end_time": "2022-01-26T20:33:23.235943Z",
     "start_time": "2022-01-26T20:33:23.208050Z"
    }
   }
  },
  {
   "cell_type": "code",
   "execution_count": 47,
   "source": [
    "fig, ax = plt.subplots()\n",
    "\n",
    "df_coverage_tiles.plot(ax=ax, alpha=.5, color='green', label='Frames interesecting tile')\n",
    "df_aoi.exterior.plot(color='black', ax=ax, label='AOI')\n",
    "plt.legend()"
   ],
   "outputs": [
    {
     "output_type": "execute_result",
     "data": {
      "text/plain": [
       "<matplotlib.legend.Legend at 0x1ad9a8dc0>"
      ]
     },
     "metadata": {},
     "execution_count": 47
    },
    {
     "output_type": "display_data",
     "data": {
      "image/png": "[encoded data removed]",
      "text/plain": [
       "<Figure size 432x288 with 1 Axes>"
      ]
     },
     "metadata": {
      "needs_background": "light"
     }
    }
   ],
   "metadata": {
    "ExecuteTime": {
     "end_time": "2022-01-26T20:33:23.406706Z",
     "start_time": "2022-01-26T20:33:23.237597Z"
    }
   }
  },
  {
   "cell_type": "markdown",
   "source": [
    "For the Aleutians above, note there is:\n",
    "\n",
    "1. Above the coverage was 12 days + 1 after January 1 2021. It will used to generate an entire collection of frames below.\n",
    "2. the track we are interested doesn't \"jiggle\" above the AOI because of the restriction to 12 days + 1 (see below when we make the stack, for more frames \"jiggling\").\n",
    "3. the other tracks have some more \"jiggle\" or \"seams\" partially because of how the frames fell during this limited time period.\n",
    "\n",
    "For larger frames, piecemealing the queries ensures that 1000 product limit that ASF imposes will no prevent us from collecting all the data we need over the AOI.\n",
    "\n",
    "# Generate a stack\n",
    "\n",
    "Using all the tiles that are needed to cover the AOI we make a geometric query based on the frame. We now include only the path we are interested in."
   ],
   "metadata": {}
  },
  {
   "cell_type": "code",
   "execution_count": 48,
   "source": [
    "df_stack = get_s1_stack_by_dataframe(df_coverage_tiles,\n",
    "                                     path_numbers=path_numbers)"
   ],
   "outputs": [
    {
     "output_type": "stream",
     "name": "stderr",
     "text": [
      "Downloading stack for 1 tiles: 100%|██████████| 1/1 [00:10<00:00, 10.38s/it]\n"
     ]
    }
   ],
   "metadata": {
    "ExecuteTime": {
     "end_time": "2022-01-26T20:33:26.046933Z",
     "start_time": "2022-01-26T20:33:23.408258Z"
    }
   }
  },
  {
   "cell_type": "code",
   "execution_count": 49,
   "source": [
    "f'We have {df_stack.shape[0]} frames in our stack'"
   ],
   "outputs": [
    {
     "output_type": "execute_result",
     "data": {
      "text/plain": [
       "'We have 487 frames in our stack'"
      ]
     },
     "metadata": {},
     "execution_count": 49
    }
   ],
   "metadata": {
    "ExecuteTime": {
     "end_time": "2022-01-26T20:33:26.080329Z",
     "start_time": "2022-01-26T20:33:26.048785Z"
    }
   }
  },
  {
   "cell_type": "code",
   "execution_count": 50,
   "source": [
    "fig, ax = plt.subplots()\n",
    "\n",
    "df_stack.plot(ax=ax, alpha=.5, color='green', label='Frames interesecting tile')\n",
    "df_aoi.exterior.plot(color='black', ax=ax, label='AOI')\n",
    "plt.legend()"
   ],
   "outputs": [
    {
     "output_type": "execute_result",
     "data": {
      "text/plain": [
       "<matplotlib.legend.Legend at 0x1ad9d7520>"
      ]
     },
     "metadata": {},
     "execution_count": 50
    },
    {
     "output_type": "display_data",
     "data": {
      "image/png": "[encoded data removed]",
      "text/plain": [
       "<Figure size 432x288 with 1 Axes>"
      ]
     },
     "metadata": {
      "needs_background": "light"
     }
    }
   ],
   "metadata": {
    "ExecuteTime": {
     "end_time": "2022-01-26T20:33:26.322384Z",
     "start_time": "2022-01-26T20:33:26.081992Z"
    }
   }
  },
  {
   "cell_type": "markdown",
   "source": [
    "Note, we now see the frames cover the entire AOI as we expect. Next, we filter the stack by month to ensure we only have SLCs we need."
   ],
   "metadata": {}
  },
  {
   "cell_type": "code",
   "execution_count": 51,
   "source": [
    "df_stack_month = df_stack[df_stack.start_date.dt.month.isin(MONTHS_OF_INTEREST)]\n",
    "df_stack_month.shape"
   ],
   "outputs": [
    {
     "output_type": "execute_result",
     "data": {
      "text/plain": [
       "(487, 27)"
      ]
     },
     "metadata": {},
     "execution_count": 51
    }
   ],
   "metadata": {
    "ExecuteTime": {
     "end_time": "2022-01-26T20:33:26.356073Z",
     "start_time": "2022-01-26T20:33:26.324043Z"
    }
   }
  },
  {
   "cell_type": "code",
   "execution_count": 52,
   "source": [
    "ifg_pairs = []\n",
    "\n",
    "for min_ref_date, max_sec_date in zip(tqdm(min_reference_dates), (max_secondary_dates)):\n",
    "    # Mostly this is 0 unless we get to our earliest month of interest in the calendar year\n",
    "    min_days_backward = (min_ref_date - max_sec_date).days\n",
    "    # because of s1 availability/gaps, we just make this huge so that we can look up slcs in the stack\n",
    "    # occuring in previous years - the gaps can cause temporal jumps that you have to be mindful of\n",
    "    # That's why we have neighbors being 3.\n",
    "    temporal_window_days=364 * 3\n",
    "    temp = enumerate_ifgs_from_stack(df_stack_month,\n",
    "                                     aoi,\n",
    "                                     min_ref_date,\n",
    "                                     # options are 'tile' and 'path'\n",
    "                                     # 'path' processes multiple references simultaneously\n",
    "                                     enumeration_type='tile',\n",
    "                                     min_days_backward=min_days_backward,\n",
    "                                     num_neighbors_ref=3,\n",
    "                                     num_neighbors_sec=3,\n",
    "                                     temporal_window_days=temporal_window_days,\n",
    "                                     )\n",
    "    ifg_pairs += temp"
   ],
   "outputs": [
    {
     "output_type": "stream",
     "name": "stderr",
     "text": [
      "100%|██████████| 86/86 [00:37<00:00,  2.27it/s]\n"
     ]
    }
   ],
   "metadata": {
    "ExecuteTime": {
     "end_time": "2022-01-26T20:34:46.809308Z",
     "start_time": "2022-01-26T20:33:26.357590Z"
    }
   }
  },
  {
   "cell_type": "code",
   "execution_count": 53,
   "source": [
    "f'The number of GUNWs (likely lots of duplicates) is {len(ifg_pairs)}'"
   ],
   "outputs": [
    {
     "output_type": "execute_result",
     "data": {
      "text/plain": [
       "'The number of GUNWs (likely lots of duplicates) is 835'"
      ]
     },
     "metadata": {},
     "execution_count": 53
    }
   ],
   "metadata": {
    "ExecuteTime": {
     "end_time": "2022-01-26T20:34:46.839854Z",
     "start_time": "2022-01-26T20:34:46.810852Z"
    }
   }
  },
  {
   "cell_type": "markdown",
   "source": [
    "# Get Dataframe"
   ],
   "metadata": {}
  },
  {
   "cell_type": "code",
   "execution_count": 62,
   "source": [
    "df_pairs = distill_all_pairs(ifg_pairs)\n",
    "df_pairs[:72]"
   ],
   "outputs": [
    {
     "output_type": "execute_result",
     "data": {
      "text/html": [
       "<div>\n",
       "<style scoped>\n",
       "    .dataframe tbody tr th:only-of-type {\n",
       "        vertical-align: middle;\n",
       "    }\n",
       "\n",
       "    .dataframe tbody tr th {\n",
       "        vertical-align: top;\n",
       "    }\n",
       "\n",
       "    .dataframe thead th {\n",
       "        text-align: right;\n",
       "    }\n",
       "</style>\n",
       "<table border=\"1\" class=\"dataframe\">\n",
       "  <thead>\n",
       "    <tr style=\"text-align: right;\">\n",
       "      <th></th>\n",
       "      <th>reference</th>\n",
       "      <th>secondary</th>\n",
       "      <th>reference_date</th>\n",
       "      <th>secondary_date</th>\n",
       "      <th>path_number</th>\n",
       "      <th>geometry</th>\n",
       "    </tr>\n",
       "  </thead>\n",
       "  <tbody>\n",
       "    <tr>\n",
       "      <th>0</th>\n",
       "      <td>[S1A_IW_SLC__1SDV_20220209T003649_20220209T003...</td>\n",
       "      <td>[S1A_IW_SLC__1SDV_20220128T003650_20220128T003...</td>\n",
       "      <td>2022-02-09</td>\n",
       "      <td>2022-01-28</td>\n",
       "      <td>107</td>\n",
       "      <td>POLYGON ((-97.80398 35.25900, -97.80398 35.259...</td>\n",
       "    </tr>\n",
       "    <tr>\n",
       "      <th>1</th>\n",
       "      <td>[S1A_IW_SLC__1SDV_20220209T003649_20220209T003...</td>\n",
       "      <td>[S1A_IW_SLC__1SDV_20220116T003650_20220116T003...</td>\n",
       "      <td>2022-02-09</td>\n",
       "      <td>2022-01-16</td>\n",
       "      <td>107</td>\n",
       "      <td>POLYGON ((-97.80398 35.25900, -97.80398 35.259...</td>\n",
       "    </tr>\n",
       "    <tr>\n",
       "      <th>2</th>\n",
       "      <td>[S1A_IW_SLC__1SDV_20220209T003649_20220209T003...</td>\n",
       "      <td>[S1A_IW_SLC__1SDV_20220104T003651_20220104T003...</td>\n",
       "      <td>2022-02-09</td>\n",
       "      <td>2022-01-04</td>\n",
       "      <td>107</td>\n",
       "      <td>POLYGON ((-97.80398 35.25900, -97.80398 35.259...</td>\n",
       "    </tr>\n",
       "    <tr>\n",
       "      <th>3</th>\n",
       "      <td>[S1A_IW_SLC__1SDV_20220221T003649_20220221T003...</td>\n",
       "      <td>[S1A_IW_SLC__1SDV_20220128T003650_20220128T003...</td>\n",
       "      <td>2022-02-21</td>\n",
       "      <td>2022-01-28</td>\n",
       "      <td>107</td>\n",
       "      <td>POLYGON ((-97.80404 35.25780, -97.80404 35.257...</td>\n",
       "    </tr>\n",
       "    <tr>\n",
       "      <th>4</th>\n",
       "      <td>[S1A_IW_SLC__1SDV_20220221T003649_20220221T003...</td>\n",
       "      <td>[S1A_IW_SLC__1SDV_20220116T003650_20220116T003...</td>\n",
       "      <td>2022-02-21</td>\n",
       "      <td>2022-01-16</td>\n",
       "      <td>107</td>\n",
       "      <td>POLYGON ((-97.80404 35.25780, -97.80404 35.257...</td>\n",
       "    </tr>\n",
       "    <tr>\n",
       "      <th>...</th>\n",
       "      <td>...</td>\n",
       "      <td>...</td>\n",
       "      <td>...</td>\n",
       "      <td>...</td>\n",
       "      <td>...</td>\n",
       "      <td>...</td>\n",
       "    </tr>\n",
       "    <tr>\n",
       "      <th>67</th>\n",
       "      <td>[S1A_IW_SLC__1SDV_20210801T003650_20210801T003...</td>\n",
       "      <td>[S1A_IW_SLC__1SDV_20210614T003648_20210614T003...</td>\n",
       "      <td>2021-08-01</td>\n",
       "      <td>2021-06-14</td>\n",
       "      <td>107</td>\n",
       "      <td>POLYGON ((-100.55549 34.85629, -100.55550 34.8...</td>\n",
       "    </tr>\n",
       "    <tr>\n",
       "      <th>68</th>\n",
       "      <td>[S1A_IW_SLC__1SDV_20210801T003650_20210801T003...</td>\n",
       "      <td>[S1A_IW_SLC__1SDV_20210602T003647_20210602T003...</td>\n",
       "      <td>2021-08-01</td>\n",
       "      <td>2021-06-02</td>\n",
       "      <td>107</td>\n",
       "      <td>POLYGON ((-100.55549 34.85629, -100.55550 34.8...</td>\n",
       "    </tr>\n",
       "    <tr>\n",
       "      <th>69</th>\n",
       "      <td>[S1A_IW_SLC__1SDV_20210602T003647_20210602T003...</td>\n",
       "      <td>[S1A_IW_SLC__1SDV_20210521T003646_20210521T003...</td>\n",
       "      <td>2021-06-02</td>\n",
       "      <td>2021-05-21</td>\n",
       "      <td>107</td>\n",
       "      <td>POLYGON ((-100.94360 36.48403, -100.94360 36.4...</td>\n",
       "    </tr>\n",
       "    <tr>\n",
       "      <th>70</th>\n",
       "      <td>[S1A_IW_SLC__1SDV_20210602T003647_20210602T003...</td>\n",
       "      <td>[S1A_IW_SLC__1SDV_20210509T003646_20210509T003...</td>\n",
       "      <td>2021-06-02</td>\n",
       "      <td>2021-05-09</td>\n",
       "      <td>107</td>\n",
       "      <td>POLYGON ((-100.94360 36.48403, -100.94360 36.4...</td>\n",
       "    </tr>\n",
       "    <tr>\n",
       "      <th>71</th>\n",
       "      <td>[S1A_IW_SLC__1SDV_20210602T003647_20210602T003...</td>\n",
       "      <td>[S1A_IW_SLC__1SDV_20210427T003645_20210427T003...</td>\n",
       "      <td>2021-06-02</td>\n",
       "      <td>2021-04-27</td>\n",
       "      <td>107</td>\n",
       "      <td>POLYGON ((-97.80234 35.25738, -97.80234 35.257...</td>\n",
       "    </tr>\n",
       "  </tbody>\n",
       "</table>\n",
       "<p>72 rows × 6 columns</p>\n",
       "</div>"
      ],
      "text/plain": [
       "                                            reference  \\\n",
       "0   [S1A_IW_SLC__1SDV_20220209T003649_20220209T003...   \n",
       "1   [S1A_IW_SLC__1SDV_20220209T003649_20220209T003...   \n",
       "2   [S1A_IW_SLC__1SDV_20220209T003649_20220209T003...   \n",
       "3   [S1A_IW_SLC__1SDV_20220221T003649_20220221T003...   \n",
       "4   [S1A_IW_SLC__1SDV_20220221T003649_20220221T003...   \n",
       "..                                                ...   \n",
       "67  [S1A_IW_SLC__1SDV_20210801T003650_20210801T003...   \n",
       "68  [S1A_IW_SLC__1SDV_20210801T003650_20210801T003...   \n",
       "69  [S1A_IW_SLC__1SDV_20210602T003647_20210602T003...   \n",
       "70  [S1A_IW_SLC__1SDV_20210602T003647_20210602T003...   \n",
       "71  [S1A_IW_SLC__1SDV_20210602T003647_20210602T003...   \n",
       "\n",
       "                                            secondary reference_date  \\\n",
       "0   [S1A_IW_SLC__1SDV_20220128T003650_20220128T003...     2022-02-09   \n",
       "1   [S1A_IW_SLC__1SDV_20220116T003650_20220116T003...     2022-02-09   \n",
       "2   [S1A_IW_SLC__1SDV_20220104T003651_20220104T003...     2022-02-09   \n",
       "3   [S1A_IW_SLC__1SDV_20220128T003650_20220128T003...     2022-02-21   \n",
       "4   [S1A_IW_SLC__1SDV_20220116T003650_20220116T003...     2022-02-21   \n",
       "..                                                ...            ...   \n",
       "67  [S1A_IW_SLC__1SDV_20210614T003648_20210614T003...     2021-08-01   \n",
       "68  [S1A_IW_SLC__1SDV_20210602T003647_20210602T003...     2021-08-01   \n",
       "69  [S1A_IW_SLC__1SDV_20210521T003646_20210521T003...     2021-06-02   \n",
       "70  [S1A_IW_SLC__1SDV_20210509T003646_20210509T003...     2021-06-02   \n",
       "71  [S1A_IW_SLC__1SDV_20210427T003645_20210427T003...     2021-06-02   \n",
       "\n",
       "   secondary_date  path_number  \\\n",
       "0      2022-01-28          107   \n",
       "1      2022-01-16          107   \n",
       "2      2022-01-04          107   \n",
       "3      2022-01-28          107   \n",
       "4      2022-01-16          107   \n",
       "..            ...          ...   \n",
       "67     2021-06-14          107   \n",
       "68     2021-06-02          107   \n",
       "69     2021-05-21          107   \n",
       "70     2021-05-09          107   \n",
       "71     2021-04-27          107   \n",
       "\n",
       "                                             geometry  \n",
       "0   POLYGON ((-97.80398 35.25900, -97.80398 35.259...  \n",
       "1   POLYGON ((-97.80398 35.25900, -97.80398 35.259...  \n",
       "2   POLYGON ((-97.80398 35.25900, -97.80398 35.259...  \n",
       "3   POLYGON ((-97.80404 35.25780, -97.80404 35.257...  \n",
       "4   POLYGON ((-97.80404 35.25780, -97.80404 35.257...  \n",
       "..                                                ...  \n",
       "67  POLYGON ((-100.55549 34.85629, -100.55550 34.8...  \n",
       "68  POLYGON ((-100.55549 34.85629, -100.55550 34.8...  \n",
       "69  POLYGON ((-100.94360 36.48403, -100.94360 36.4...  \n",
       "70  POLYGON ((-100.94360 36.48403, -100.94360 36.4...  \n",
       "71  POLYGON ((-97.80234 35.25738, -97.80234 35.257...  \n",
       "\n",
       "[72 rows x 6 columns]"
      ]
     },
     "metadata": {},
     "execution_count": 62
    }
   ],
   "metadata": {
    "ExecuteTime": {
     "end_time": "2022-01-26T20:34:47.116319Z",
     "start_time": "2022-01-26T20:34:46.841614Z"
    }
   }
  },
  {
   "cell_type": "code",
   "execution_count": 56,
   "source": [
    "f\"# of GUNWs: ' {df_pairs.shape[0]}\""
   ],
   "outputs": [
    {
     "output_type": "execute_result",
     "data": {
      "text/plain": [
       "\"# of GUNWs: ' 835\""
      ]
     },
     "metadata": {},
     "execution_count": 56
    }
   ],
   "metadata": {
    "ExecuteTime": {
     "end_time": "2022-01-26T20:34:47.146266Z",
     "start_time": "2022-01-26T20:34:47.117927Z"
    }
   }
  },
  {
   "cell_type": "markdown",
   "source": [
    "# Deduplication Pt. 1\n",
    "\n",
    "A `GUNW` is uniquely determined by the reference and secondary IDs. We contanenate these sorted lists and generate a lossy hash to deduplicate products we may have introduced from the enumeration above."
   ],
   "metadata": {
    "ExecuteTime": {
     "end_time": "2022-01-21T00:51:53.374968Z",
     "start_time": "2022-01-21T00:51:53.344139Z"
    }
   }
  },
  {
   "cell_type": "code",
   "execution_count": 57,
   "source": [
    "import hashlib\n",
    "import json\n",
    "\n",
    "\n",
    "def get_gunw_hash_id(reference_ids: list, secondary_ids: list) -> str:\n",
    "    all_ids = json.dumps([' '.join(sorted(reference_ids)),\n",
    "                          ' '.join(sorted(secondary_ids))\n",
    "                          ]).encode('utf8')\n",
    "    hash_id = hashlib.md5(all_ids).hexdigest()\n",
    "    return hash_id"
   ],
   "outputs": [],
   "metadata": {
    "ExecuteTime": {
     "end_time": "2022-01-26T20:34:47.176882Z",
     "start_time": "2022-01-26T20:34:47.147987Z"
    }
   }
  },
  {
   "cell_type": "code",
   "execution_count": 65,
   "source": [
    "def hasher(row):\n",
    "    return get_gunw_hash_id(row['reference'], row['secondary'])\n",
    "\n",
    "df_pairs['hash_id'] = df_pairs.apply(hasher, axis=1)\n",
    "df_pairs.head()"
   ],
   "outputs": [
    {
     "output_type": "execute_result",
     "data": {
      "text/html": [
       "<div>\n",
       "<style scoped>\n",
       "    .dataframe tbody tr th:only-of-type {\n",
       "        vertical-align: middle;\n",
       "    }\n",
       "\n",
       "    .dataframe tbody tr th {\n",
       "        vertical-align: top;\n",
       "    }\n",
       "\n",
       "    .dataframe thead th {\n",
       "        text-align: right;\n",
       "    }\n",
       "</style>\n",
       "<table border=\"1\" class=\"dataframe\">\n",
       "  <thead>\n",
       "    <tr style=\"text-align: right;\">\n",
       "      <th></th>\n",
       "      <th>reference</th>\n",
       "      <th>secondary</th>\n",
       "      <th>reference_date</th>\n",
       "      <th>secondary_date</th>\n",
       "      <th>path_number</th>\n",
       "      <th>geometry</th>\n",
       "      <th>hash_id</th>\n",
       "    </tr>\n",
       "  </thead>\n",
       "  <tbody>\n",
       "    <tr>\n",
       "      <th>0</th>\n",
       "      <td>[S1A_IW_SLC__1SDV_20220209T003649_20220209T003...</td>\n",
       "      <td>[S1A_IW_SLC__1SDV_20220128T003650_20220128T003...</td>\n",
       "      <td>2022-02-09</td>\n",
       "      <td>2022-01-28</td>\n",
       "      <td>107</td>\n",
       "      <td>POLYGON ((-97.80398 35.25900, -97.80398 35.259...</td>\n",
       "      <td>2141e34d50b2f0e229a81df5c4d27ce5</td>\n",
       "    </tr>\n",
       "    <tr>\n",
       "      <th>1</th>\n",
       "      <td>[S1A_IW_SLC__1SDV_20220209T003649_20220209T003...</td>\n",
       "      <td>[S1A_IW_SLC__1SDV_20220116T003650_20220116T003...</td>\n",
       "      <td>2022-02-09</td>\n",
       "      <td>2022-01-16</td>\n",
       "      <td>107</td>\n",
       "      <td>POLYGON ((-97.80398 35.25900, -97.80398 35.259...</td>\n",
       "      <td>9a4b44c816cdce0f5c8d3c7ae85f9361</td>\n",
       "    </tr>\n",
       "    <tr>\n",
       "      <th>2</th>\n",
       "      <td>[S1A_IW_SLC__1SDV_20220209T003649_20220209T003...</td>\n",
       "      <td>[S1A_IW_SLC__1SDV_20220104T003651_20220104T003...</td>\n",
       "      <td>2022-02-09</td>\n",
       "      <td>2022-01-04</td>\n",
       "      <td>107</td>\n",
       "      <td>POLYGON ((-97.80398 35.25900, -97.80398 35.259...</td>\n",
       "      <td>e36eb5f79c4be371945c81265447b810</td>\n",
       "    </tr>\n",
       "    <tr>\n",
       "      <th>3</th>\n",
       "      <td>[S1A_IW_SLC__1SDV_20220221T003649_20220221T003...</td>\n",
       "      <td>[S1A_IW_SLC__1SDV_20220128T003650_20220128T003...</td>\n",
       "      <td>2022-02-21</td>\n",
       "      <td>2022-01-28</td>\n",
       "      <td>107</td>\n",
       "      <td>POLYGON ((-97.80404 35.25780, -97.80404 35.257...</td>\n",
       "      <td>5f617e777f36b41c39bdb79733abf2a8</td>\n",
       "    </tr>\n",
       "    <tr>\n",
       "      <th>4</th>\n",
       "      <td>[S1A_IW_SLC__1SDV_20220221T003649_20220221T003...</td>\n",
       "      <td>[S1A_IW_SLC__1SDV_20220116T003650_20220116T003...</td>\n",
       "      <td>2022-02-21</td>\n",
       "      <td>2022-01-16</td>\n",
       "      <td>107</td>\n",
       "      <td>POLYGON ((-97.80404 35.25780, -97.80404 35.257...</td>\n",
       "      <td>b726bbdc4599158c1bd2761e2a786ced</td>\n",
       "    </tr>\n",
       "  </tbody>\n",
       "</table>\n",
       "</div>"
      ],
      "text/plain": [
       "                                           reference  \\\n",
       "0  [S1A_IW_SLC__1SDV_20220209T003649_20220209T003...   \n",
       "1  [S1A_IW_SLC__1SDV_20220209T003649_20220209T003...   \n",
       "2  [S1A_IW_SLC__1SDV_20220209T003649_20220209T003...   \n",
       "3  [S1A_IW_SLC__1SDV_20220221T003649_20220221T003...   \n",
       "4  [S1A_IW_SLC__1SDV_20220221T003649_20220221T003...   \n",
       "\n",
       "                                           secondary reference_date  \\\n",
       "0  [S1A_IW_SLC__1SDV_20220128T003650_20220128T003...     2022-02-09   \n",
       "1  [S1A_IW_SLC__1SDV_20220116T003650_20220116T003...     2022-02-09   \n",
       "2  [S1A_IW_SLC__1SDV_20220104T003651_20220104T003...     2022-02-09   \n",
       "3  [S1A_IW_SLC__1SDV_20220128T003650_20220128T003...     2022-02-21   \n",
       "4  [S1A_IW_SLC__1SDV_20220116T003650_20220116T003...     2022-02-21   \n",
       "\n",
       "  secondary_date  path_number  \\\n",
       "0     2022-01-28          107   \n",
       "1     2022-01-16          107   \n",
       "2     2022-01-04          107   \n",
       "3     2022-01-28          107   \n",
       "4     2022-01-16          107   \n",
       "\n",
       "                                            geometry  \\\n",
       "0  POLYGON ((-97.80398 35.25900, -97.80398 35.259...   \n",
       "1  POLYGON ((-97.80398 35.25900, -97.80398 35.259...   \n",
       "2  POLYGON ((-97.80398 35.25900, -97.80398 35.259...   \n",
       "3  POLYGON ((-97.80404 35.25780, -97.80404 35.257...   \n",
       "4  POLYGON ((-97.80404 35.25780, -97.80404 35.257...   \n",
       "\n",
       "                            hash_id  \n",
       "0  2141e34d50b2f0e229a81df5c4d27ce5  \n",
       "1  9a4b44c816cdce0f5c8d3c7ae85f9361  \n",
       "2  e36eb5f79c4be371945c81265447b810  \n",
       "3  5f617e777f36b41c39bdb79733abf2a8  \n",
       "4  b726bbdc4599158c1bd2761e2a786ced  "
      ]
     },
     "metadata": {},
     "execution_count": 65
    }
   ],
   "metadata": {
    "ExecuteTime": {
     "end_time": "2022-01-26T20:34:47.221558Z",
     "start_time": "2022-01-26T20:34:47.178701Z"
    }
   }
  },
  {
   "cell_type": "code",
   "execution_count": 66,
   "source": [
    "f\"# of duplicated entries: {df_pairs.duplicated(subset=['hash_id']).sum()}\""
   ],
   "outputs": [
    {
     "output_type": "execute_result",
     "data": {
      "text/plain": [
       "'# of duplicated entries: 127'"
      ]
     },
     "metadata": {},
     "execution_count": 66
    }
   ],
   "metadata": {
    "ExecuteTime": {
     "end_time": "2022-01-26T20:34:47.253046Z",
     "start_time": "2022-01-26T20:34:47.223446Z"
    }
   }
  },
  {
   "cell_type": "code",
   "execution_count": 67,
   "source": [
    "df_pairs = df_pairs.drop_duplicates(subset=['hash_id']).reset_index(drop=True)\n",
    "f\"# of UNIQUE GUNWs: {df_pairs.shape[0]}\""
   ],
   "outputs": [
    {
     "output_type": "execute_result",
     "data": {
      "text/plain": [
       "'# of UNIQUE GUNWs: 708'"
      ]
     },
     "metadata": {},
     "execution_count": 67
    }
   ],
   "metadata": {
    "ExecuteTime": {
     "end_time": "2022-01-26T20:34:47.288701Z",
     "start_time": "2022-01-26T20:34:47.254529Z"
    }
   }
  },
  {
   "cell_type": "markdown",
   "source": [
    "# Viewing GUNW pairs"
   ],
   "metadata": {}
  },
  {
   "cell_type": "code",
   "execution_count": null,
   "source": [
    "# start index\n",
    "M = 0\n",
    "# number of pairs to view\n",
    "N = 5\n",
    "\n",
    "for J in range(M, M + N):\n",
    "    pair = ifg_pairs[J]\n",
    "\n",
    "    fig, axs = plt.subplots(1, 2, sharey=True, sharex=True)\n",
    "\n",
    "    df_ref_plot = pair['reference']\n",
    "    df_sec_plot = pair['secondary']\n",
    "\n",
    "    df_ref_plot.plot(column='start_date_str', \n",
    "                     legend=True, \n",
    "                     ax=axs[0], alpha=.15)\n",
    "    df_aoi.exterior.plot(ax=axs[0], alpha=.5, color='black')\n",
    "    axs[0].set_title('Reference')\n",
    "\n",
    "    df_sec_plot.plot(column='start_date_str', \n",
    "                     legend=True, \n",
    "                     ax=axs[1], alpha=.15)\n",
    "    df_aoi.exterior.plot(ax=axs[1], alpha=.5, color='black')\n",
    "    \n",
    "    axs[0].set_title(f'Reference {J}')\n",
    "    axs[1].set_title('Secondary')"
   ],
   "outputs": [],
   "metadata": {
    "ExecuteTime": {
     "end_time": "2022-01-26T20:34:48.692684Z",
     "start_time": "2022-01-26T20:34:47.290616Z"
    }
   }
  },
  {
   "cell_type": "markdown",
   "source": [
    "# Update types for Graphical Analysis\n",
    "\n",
    "We want to do some basic visualization to support the understanding if we traverse time correctly. We do some simple standard pandas manipulation."
   ],
   "metadata": {
    "ExecuteTime": {
     "end_time": "2022-01-21T00:54:06.533180Z",
     "start_time": "2022-01-21T00:54:06.503673Z"
    }
   }
  },
  {
   "cell_type": "code",
   "execution_count": null,
   "source": [
    "df_pairs['reference_date'] = pd.to_datetime(df_pairs['reference_date'])\n",
    "df_pairs['secondary_date'] = pd.to_datetime(df_pairs['secondary_date'])\n",
    "df_pairs.head()"
   ],
   "outputs": [],
   "metadata": {
    "ExecuteTime": {
     "end_time": "2022-01-26T20:34:48.738198Z",
     "start_time": "2022-01-26T20:34:48.698474Z"
    }
   }
  },
  {
   "cell_type": "markdown",
   "source": [
    "# Visualize a Date Graph from Time Series\n",
    "\n",
    "We can put this into a network Directed Graph and use some simple network functions to check connectivity.\n",
    "\n",
    "We are going to use just dates for nodes, though you could use `(ref_date, hash_id)` for nodes and then inspect connected components. That is for another notebook."
   ],
   "metadata": {}
  },
  {
   "cell_type": "code",
   "execution_count": null,
   "source": [
    "list(zip(df_pairs.reference_date, df_pairs.secondary_date))[:15]"
   ],
   "outputs": [],
   "metadata": {
    "ExecuteTime": {
     "end_time": "2022-01-26T20:34:48.772150Z",
     "start_time": "2022-01-26T20:34:48.741632Z"
    }
   }
  },
  {
   "cell_type": "code",
   "execution_count": null,
   "source": [
    "unique_dates = df_pairs.reference_date.tolist() + df_pairs.secondary_date.tolist()\n",
    "unique_dates = sorted(list(set(unique_dates)))\n",
    "unique_dates[:4]"
   ],
   "outputs": [],
   "metadata": {
    "ExecuteTime": {
     "end_time": "2022-01-26T20:34:48.807863Z",
     "start_time": "2022-01-26T20:34:48.773979Z"
    }
   }
  },
  {
   "cell_type": "code",
   "execution_count": null,
   "source": [
    "date2node = {date: k for (k, date) in enumerate(unique_dates)}\n",
    "node2date = {k: date for (date, k) in date2node.items()}"
   ],
   "outputs": [],
   "metadata": {
    "ExecuteTime": {
     "end_time": "2022-01-26T20:34:48.841055Z",
     "start_time": "2022-01-26T20:34:48.809823Z"
    }
   }
  },
  {
   "cell_type": "code",
   "execution_count": null,
   "source": [
    "G = nx.DiGraph()\n",
    "\n",
    "edges = [(date2node[ref_date], date2node[sec_date]) \n",
    "         for (ref_date, sec_date) in zip(df_pairs.reference_date, df_pairs.secondary_date)]\n",
    "G.add_edges_from(edges)"
   ],
   "outputs": [],
   "metadata": {
    "ExecuteTime": {
     "end_time": "2022-01-26T20:34:48.875175Z",
     "start_time": "2022-01-26T20:34:48.842926Z"
    }
   }
  },
  {
   "cell_type": "code",
   "execution_count": null,
   "source": [
    "nx.draw(G)"
   ],
   "outputs": [],
   "metadata": {
    "ExecuteTime": {
     "end_time": "2022-01-26T20:34:49.531340Z",
     "start_time": "2022-01-26T20:34:48.876939Z"
    }
   }
  },
  {
   "cell_type": "markdown",
   "source": [
    "This function checks there is a path from the first date to the last one."
   ],
   "metadata": {}
  },
  {
   "cell_type": "code",
   "execution_count": null,
   "source": [
    "nx.has_path(G, \n",
    "            target=date2node[unique_dates[0]],\n",
    "            source=date2node[unique_dates[-1]])"
   ],
   "outputs": [],
   "metadata": {
    "ExecuteTime": {
     "end_time": "2022-01-26T20:34:49.562722Z",
     "start_time": "2022-01-26T20:34:49.532969Z"
    }
   }
  },
  {
   "cell_type": "code",
   "execution_count": null,
   "source": [
    "print(unique_dates)"
   ],
   "outputs": [],
   "metadata": {
    "ExecuteTime": {
     "end_time": "2022-01-26T20:34:49.562722Z",
     "start_time": "2022-01-26T20:34:49.532969Z"
    }
   }
  },
  {
   "cell_type": "markdown",
   "source": [
    "The y-axis is created purely for display so doesn't really indicated anything but flow by month."
   ],
   "metadata": {}
  },
  {
   "cell_type": "code",
   "execution_count": null,
   "source": [
    "fig, ax = plt.subplots(figsize=(15, 5))\n",
    "\n",
    "increment = [date.month + date.day for date in unique_dates]\n",
    "\n",
    "# source: https://stackoverflow.com/a/27852570\n",
    "scat = ax.scatter(unique_dates, increment)\n",
    "position = scat.get_offsets().data\n",
    "\n",
    "pos = {date2node[date]: position[k] for (k, date) in enumerate(unique_dates)}\n",
    "nx.draw_networkx_edges(G, pos=pos, ax=ax)\n",
    "ax.grid('on')\n",
    "ax.tick_params(axis='x',\n",
    "               which='major',\n",
    "               labelbottom=True,\n",
    "               labelleft=True)\n",
    "ymin, ymax = ax.get_ylim()\n",
    "for y in range(2015, 2022):\n",
    "    label = 'June to Oct' if y == 2016 else None\n",
    "    ax.fill_between([datetime.datetime(y, 6, 1), datetime.datetime(y, 11, 1)], \n",
    "                    ymin, ymax, \n",
    "                    alpha=.5, color='green', zorder=0, label=label)\n",
    "plt.legend()"
   ],
   "outputs": [],
   "metadata": {
    "ExecuteTime": {
     "end_time": "2022-01-26T20:34:51.843019Z",
     "start_time": "2022-01-26T20:34:49.564366Z"
    }
   }
  },
  {
   "cell_type": "markdown",
   "source": [
    "Observe there is a gap in 2018 over are area of interest. This is where our 3 year \"temporal_window_days\" parameter in our enumeration was essential."
   ],
   "metadata": {}
  },
  {
   "cell_type": "markdown",
   "source": [
    "# Deduplication Pt. 2\n",
    "\n",
    "This is to ensure that previous processing hasn't generate any of the products we have just enumerated.\n",
    "\n",
    "\n",
    "# Check CMR\n",
    "\n",
    "This function checks the ASF DAAC if there are GUNWs with the same spatial extent and same date pairs as the ones created. At some point, we will be able to check the input SLC ids from CMR, but currently that is not possible.\n",
    "\n",
    "If you are processing a new AOI whose products have not been delivered, you can ignore this step. It is a bit time consuming as the queries are done product by product."
   ],
   "metadata": {}
  },
  {
   "cell_type": "code",
   "execution_count": null,
   "source": [
    "from s1_enumerator import duplicate_gunw_found\n",
    "import concurrent\n",
    "from tqdm import tqdm\n",
    "\n",
    "n = df_pairs.shape[0]\n",
    "with concurrent.futures.ThreadPoolExecutor(max_workers=15) as executor:\n",
    "    results = list(tqdm(executor.map(duplicate_gunw_found, df_pairs.to_dict('records')), total=n))"
   ],
   "outputs": [],
   "metadata": {
    "ExecuteTime": {
     "end_time": "2022-01-26T20:35:13.714569Z",
     "start_time": "2022-01-26T20:34:51.844710Z"
    }
   }
  },
  {
   "cell_type": "code",
   "execution_count": null,
   "source": [
    "df_pairs['existing_gunw'] = [r != '' for r in results]\n",
    "df_pairs['existing_gunw_id'] = results\n",
    "total_existing_gunws = df_pairs['existing_gunw'].sum()\n",
    "print('existing_gunws: ', total_existing_gunws)\n",
    "print('Total pairs', df_pairs.shape[0])"
   ],
   "outputs": [],
   "metadata": {
    "ExecuteTime": {
     "end_time": "2022-01-26T20:35:13.765308Z",
     "start_time": "2022-01-26T20:35:13.717055Z"
    }
   }
  },
  {
   "cell_type": "code",
   "execution_count": null,
   "source": [
    "df_pairs_filtered = df_pairs[~df_pairs['existing_gunw']].reset_index(drop=True)\n",
    "# df_pairs_filtered.drop_duplicates(subset=['hash_id'], inplace=True)\n",
    "print('after filtering, total pairs: ', df_pairs_filtered.shape[0])"
   ],
   "outputs": [],
   "metadata": {
    "ExecuteTime": {
     "end_time": "2022-01-26T20:35:13.808278Z",
     "start_time": "2022-01-26T20:35:13.767884Z"
    }
   }
  },
  {
   "cell_type": "markdown",
   "source": [
    "# Check Hyp3 Account\n",
    "\n",
    "We are now going to check\n",
    "\n",
    "1. check products in the open s3 bucket\n",
    "2. check running/pending jobs\n",
    "\n",
    "Notes:\n",
    "\n",
    "1. Above, to accomplish step 1., there is some verbose code (see below). Once we automate delivery, this step will be obsolete. However, until we have delivery, we have to make sure that there are no existing products. Additionally, if we are using a separate (non-operational account), then would be good to use this.\n",
    "2. If we are debugging products and some of our previously generated products were made incorrectly, we will want to ignore this step."
   ],
   "metadata": {}
  },
  {
   "cell_type": "code",
   "execution_count": null,
   "source": [
    "import hyp3_sdk\n",
    "\n",
    "# uses .netrc; add `prompt=True` to prompt for credentials; \n",
    "hyp3_isce = hyp3_sdk.HyP3('https://hyp3-isce.asf.alaska.edu/')\n",
    "pending_jobs = hyp3_isce.find_jobs(status_code='PENDING') +  hyp3_isce.find_jobs(status_code='RUNNING')\n",
    "all_jobs = hyp3_isce.find_jobs()"
   ],
   "outputs": [],
   "metadata": {
    "ExecuteTime": {
     "end_time": "2022-01-26T20:35:22.029890Z",
     "start_time": "2022-01-26T20:35:13.809788Z"
    }
   }
  },
  {
   "cell_type": "code",
   "execution_count": null,
   "source": [
    "print(all_jobs)"
   ],
   "outputs": [],
   "metadata": {
    "ExecuteTime": {
     "end_time": "2022-01-26T20:35:22.059552Z",
     "start_time": "2022-01-26T20:35:22.031459Z"
    }
   }
  },
  {
   "cell_type": "markdown",
   "source": [
    "## 1. Get existing products in s3 bucket"
   ],
   "metadata": {}
  },
  {
   "cell_type": "code",
   "execution_count": null,
   "source": [
    "job_data = [j.to_dict() for j in all_jobs]\n",
    "job_data[0]"
   ],
   "outputs": [],
   "metadata": {
    "ExecuteTime": {
     "end_time": "2022-01-26T20:35:22.093502Z",
     "start_time": "2022-01-26T20:35:22.061212Z"
    }
   }
  },
  {
   "cell_type": "markdown",
   "source": [
    "Get bucket (there is only one)"
   ],
   "metadata": {}
  },
  {
   "cell_type": "code",
   "execution_count": null,
   "source": [
    "job_data_s3 = list(filter(lambda job: 'files' in job.keys(), job_data))\n",
    "len(job_data_s3)"
   ],
   "outputs": [],
   "metadata": {
    "ExecuteTime": {
     "end_time": "2022-01-26T20:35:22.124585Z",
     "start_time": "2022-01-26T20:35:22.095318Z"
    }
   }
  },
  {
   "cell_type": "code",
   "execution_count": null,
   "source": [],
   "outputs": [],
   "metadata": {}
  },
  {
   "cell_type": "code",
   "execution_count": null,
   "source": [
    "bucket = job_data_s3[0]['files'][0]['s3']['bucket']\n",
    "bucket"
   ],
   "outputs": [],
   "metadata": {
    "ExecuteTime": {
     "end_time": "2022-01-26T20:35:22.155223Z",
     "start_time": "2022-01-26T20:35:22.126087Z"
    }
   }
  },
  {
   "cell_type": "markdown",
   "source": [
    "Get all keys"
   ],
   "metadata": {}
  },
  {
   "cell_type": "code",
   "execution_count": null,
   "source": [
    "job_keys = [job['files'][0]['s3']['key'] for job in job_data_s3]\n",
    "job_keys[0]"
   ],
   "outputs": [],
   "metadata": {
    "ExecuteTime": {
     "end_time": "2022-01-26T20:35:22.187071Z",
     "start_time": "2022-01-26T20:35:22.156852Z"
    }
   }
  },
  {
   "cell_type": "code",
   "execution_count": null,
   "source": [
    "from botocore import UNSIGNED\n",
    "from botocore.config import Config\n",
    "s3 = boto3.resource('s3',config=Config(signature_version=UNSIGNED))\n",
    "prod_bucket = s3.Bucket(bucket)\n",
    "\n",
    "objects = list(prod_bucket.objects.all())\n",
    "ncs = list(filter(lambda x: x.key.endswith('.nc'), objects))\n",
    "ncs[:10]"
   ],
   "outputs": [],
   "metadata": {
    "ExecuteTime": {
     "end_time": "2022-01-26T20:35:27.044608Z",
     "start_time": "2022-01-26T20:35:22.188601Z"
    }
   }
  },
  {
   "cell_type": "markdown",
   "source": [
    "Need to physically check if the products are not there (could have been deleted!)"
   ],
   "metadata": {}
  },
  {
   "cell_type": "code",
   "execution_count": null,
   "source": [
    "nc_keys = [nc_ob.key for nc_ob in ncs]\n",
    "jobs_with_prods_in_s3 = [job for (k, job) in enumerate(job_data_s3) if job_keys[k] in nc_keys]\n",
    "len(jobs_with_prods_in_s3)"
   ],
   "outputs": [],
   "metadata": {
    "ExecuteTime": {
     "end_time": "2022-01-26T20:35:27.077867Z",
     "start_time": "2022-01-26T20:35:27.046163Z"
    }
   }
  },
  {
   "cell_type": "code",
   "execution_count": null,
   "source": [
    "slcs = [(job['job_parameters']['granules'],\n",
    "         job['job_parameters']['secondary_granules']) \n",
    "        for job in jobs_with_prods_in_s3]\n",
    "slcs[:2]"
   ],
   "outputs": [],
   "metadata": {
    "ExecuteTime": {
     "end_time": "2022-01-26T20:35:27.110124Z",
     "start_time": "2022-01-26T20:35:27.079518Z"
    }
   }
  },
  {
   "cell_type": "code",
   "execution_count": null,
   "source": [
    "hash_ids_of_prods_in_s3 = [get_gunw_hash_id(*slc) for slc in slcs]\n",
    "hash_ids_of_prods_in_s3[0]"
   ],
   "outputs": [],
   "metadata": {
    "ExecuteTime": {
     "end_time": "2022-01-26T20:35:27.142225Z",
     "start_time": "2022-01-26T20:35:27.111632Z"
    }
   }
  },
  {
   "cell_type": "code",
   "execution_count": null,
   "source": [
    "f\"We are removing {df_pairs_filtered['hash_id'].isin(hash_ids_of_prods_in_s3).sum()} GUNWs for submission\""
   ],
   "outputs": [],
   "metadata": {
    "ExecuteTime": {
     "end_time": "2022-01-26T20:35:27.174758Z",
     "start_time": "2022-01-26T20:35:27.143742Z"
    }
   }
  },
  {
   "cell_type": "code",
   "execution_count": null,
   "source": [
    "items = hash_ids_of_prods_in_s3\n",
    "df_pairs_filtered = df_pairs_filtered[~df_pairs_filtered['hash_id'].isin(items)].reset_index(drop=True)\n",
    "f\"Current # of GUNWs: {df_pairs_filtered.shape[0]}\""
   ],
   "outputs": [],
   "metadata": {
    "ExecuteTime": {
     "end_time": "2022-01-26T20:35:27.207821Z",
     "start_time": "2022-01-26T20:35:27.176177Z"
    }
   }
  },
  {
   "cell_type": "markdown",
   "source": [
    "## 2. Running or Pending Jobs"
   ],
   "metadata": {}
  },
  {
   "cell_type": "code",
   "execution_count": null,
   "source": [
    "pending_job_data = [j.to_dict() for j in pending_jobs]\n",
    "pending_slcs = [(job['job_parameters']['granules'],\n",
    "                 job['job_parameters']['secondary_granules']) \n",
    "                 for job in pending_job_data]"
   ],
   "outputs": [],
   "metadata": {
    "ExecuteTime": {
     "end_time": "2022-01-26T20:35:27.237660Z",
     "start_time": "2022-01-26T20:35:27.209164Z"
    }
   }
  },
  {
   "cell_type": "code",
   "execution_count": null,
   "source": [
    "hash_ids_of_pending_jobs = [get_gunw_hash_id(*slc) for slc in pending_slcs]\n",
    "hash_ids_of_pending_jobs[:4]"
   ],
   "outputs": [],
   "metadata": {
    "ExecuteTime": {
     "end_time": "2022-01-26T20:35:27.268653Z",
     "start_time": "2022-01-26T20:35:27.239313Z"
    }
   }
  },
  {
   "cell_type": "code",
   "execution_count": null,
   "source": [
    "items = hash_ids_of_pending_jobs\n",
    "f\"We are removing {df_pairs_filtered['hash_id'].isin(items).sum()} GUNWs for submission\""
   ],
   "outputs": [],
   "metadata": {
    "ExecuteTime": {
     "end_time": "2022-01-26T20:35:27.299781Z",
     "start_time": "2022-01-26T20:35:27.270417Z"
    }
   }
  },
  {
   "cell_type": "code",
   "execution_count": null,
   "source": [
    "items = hash_ids_of_pending_jobs\n",
    "df_pairs_filtered = df_pairs_filtered[~df_pairs_filtered['hash_id'].isin(items)].reset_index(drop=True)\n",
    "f\"Current # of GUNWs: {df_pairs_filtered.shape[0]}\""
   ],
   "outputs": [],
   "metadata": {
    "ExecuteTime": {
     "end_time": "2022-01-26T20:35:27.333433Z",
     "start_time": "2022-01-26T20:35:27.301301Z"
    }
   }
  },
  {
   "cell_type": "markdown",
   "source": [
    "# Submit jobs to Hyp3"
   ],
   "metadata": {}
  },
  {
   "cell_type": "code",
   "execution_count": null,
   "source": [
    "records_to_submit = df_pairs_filtered.to_dict('records')\n",
    "records_to_submit[0]"
   ],
   "outputs": [],
   "metadata": {
    "ExecuteTime": {
     "end_time": "2022-01-26T20:35:27.366597Z",
     "start_time": "2022-01-26T20:35:27.335100Z"
    }
   }
  },
  {
   "cell_type": "code",
   "execution_count": null,
   "source": [
    "import hyp3_sdk\n",
    "\n",
    "# uses .netrc; add `prompt=True` to prompt for credentials; \n",
    "hyp3_isce = hyp3_sdk.HyP3('https://hyp3-isce.asf.alaska.edu/')"
   ],
   "outputs": [],
   "metadata": {
    "ExecuteTime": {
     "end_time": "2022-01-26T20:35:30.283588Z",
     "start_time": "2022-01-26T20:35:27.368244Z"
    }
   }
  },
  {
   "cell_type": "markdown",
   "source": [
    "The below puts the records in a format that we can submit to the Hyp3 API.\n",
    "\n",
    "**Note 1**: there is an index in the records to submit to ensure we don't over submit jobs for generating GUNWs. \\\n",
    "**Note 2**: uncomment the code to *actually* submit the jobs."
   ],
   "metadata": {}
  },
  {
   "cell_type": "code",
   "execution_count": null,
   "source": [
    "import hyp3_sdk\n",
    "\n",
    "# uses .netrc; add `prompt=True` to prompt for credentials; \n",
    "hyp3_isce = hyp3_sdk.HyP3('https://hyp3-isce.asf.alaska.edu/')\n",
    "\n",
    "job_dicts = [{'name': 'test-dem-95-sim',\n",
    "              # NOTE: we are still using the `dev` branch. Change this to \"INSAR_ISCE\" to use the `main` branch.\n",
    "              'job_type': 'INSAR_ISCE_TEST',\n",
    "              'job_parameters': {'granules': r['reference'],\n",
    "                                 'secondary_granules': r['secondary']}} \n",
    "             # NOTE THERE IS AN INDEX - this is to submit only a subset of Jobs\n",
    "             for r in records_to_submit]\n",
    "\n",
    "\n",
    "# UNCOMMENT TO SUBMIT\n",
    "submitted_jobs = hyp3_isce.submit_prepared_jobs(job_dicts)"
   ],
   "outputs": [],
   "metadata": {
    "ExecuteTime": {
     "end_time": "2022-01-26T20:35:33.012813Z",
     "start_time": "2022-01-26T20:35:30.285294Z"
    }
   }
  },
  {
   "cell_type": "code",
   "execution_count": null,
   "source": [
    "jobs = hyp3_isce.find_jobs()\n",
    "print(jobs)"
   ],
   "outputs": [],
   "metadata": {
    "ExecuteTime": {
     "end_time": "2022-01-26T20:35:34.044675Z",
     "start_time": "2022-01-26T20:35:33.014286Z"
    }
   }
  },
  {
   "cell_type": "code",
   "execution_count": null,
   "source": [
    "batch = hyp3_isce.find_jobs(name='test-dem-95-sim')\n",
    "print(batch)"
   ],
   "outputs": [],
   "metadata": {
    "ExecuteTime": {
     "end_time": "2022-01-26T20:35:34.044675Z",
     "start_time": "2022-01-26T20:35:33.014286Z"
    }
   }
  },
  {
   "cell_type": "code",
   "execution_count": null,
   "source": [
    "!pwd\n",
    "!cd /Users/ssangha/Downloads/Aleutian_test/track_124/products"
   ],
   "outputs": [],
   "metadata": {
    "ExecuteTime": {
     "end_time": "2022-01-26T20:35:34.044675Z",
     "start_time": "2022-01-26T20:35:33.014286Z"
    }
   }
  },
  {
   "cell_type": "markdown",
   "source": [
    "Below, we show how to download files. The multi-threading example will download products in parallel much faster than `jobs.download_files()`."
   ],
   "metadata": {}
  },
  {
   "cell_type": "code",
   "execution_count": null,
   "source": [
    "# import concurrent.futures\n",
    "# from tqdm import tqdm\n",
    "\n",
    "# with concurrent.futures.ThreadPoolExecutor(max_workers=10) as executor:\n",
    "#     results = list(tqdm(executor.map(lambda job: job.download_files(), jobs), total=len(jobs)))\n",
    "\n",
    "batch = hyp3_isce.find_jobs(name='test-dem-95-sim')\n",
    "print(batch)\n",
    "import concurrent.futures\n",
    "from tqdm import tqdm\n",
    "\n",
    "with concurrent.futures.ThreadPoolExecutor(max_workers=10) as executor:\n",
    "    results = list(tqdm(executor.map(lambda job: job.download_files(), jobs), total=len(batch)))"
   ],
   "outputs": [],
   "metadata": {
    "ExecuteTime": {
     "end_time": "2022-01-26T20:35:34.076047Z",
     "start_time": "2022-01-26T20:35:34.046251Z"
    }
   }
  },
  {
   "cell_type": "code",
   "execution_count": null,
   "source": [
    "import json\n",
    "import concurrent.futures\n",
    "from tqdm import tqdm\n",
    "\n",
    "batch =[];\n",
    "batch = json.load(open('/Users/ssangha/Downloads/jobs_aleutian_t124.json'))\n",
    "\n",
    "for key, value in batch.items():\n",
    "    for val in value:\n",
    "        if 'FAILED' in val:\n",
    "            val\n",
    "            batch.pop(val)\n",
    "        if 'PENDING' in val:\n",
    "            batch.pop(val)\n",
    "\n",
    "with concurrent.futures.ThreadPoolExecutor(max_workers=10) as executor:\n",
    "    results = list(tqdm(executor.map(lambda job: job.download_files(), jobs), total=len(batch)))"
   ],
   "outputs": [],
   "metadata": {
    "ExecuteTime": {
     "end_time": "2022-01-26T20:35:34.076047Z",
     "start_time": "2022-01-26T20:35:34.046251Z"
    }
   }
  },
  {
   "cell_type": "code",
   "execution_count": null,
   "source": [
    "import hyp3_sdk\n",
    "import json\n",
    "from pathlib import Path\n",
    "import concurrent.futures\n",
    "from tqdm import tqdm\n",
    "\n",
    "# uses .netrc; add `prompt=True` to prompt for credentials; \n",
    "hyp3_isce = hyp3_sdk.HyP3('https://hyp3-isce.asf.alaska.edu/')\n",
    "job_ids = json.loads(Path('CA-test-71_job.json').read_text())\n",
    "\n",
    "jobs = hyp3_sdk.Batch()\n",
    "for ii in job_ids:\n",
    "    jobs += hyp3_isce.get_job_by_id(ii)\n",
    "    \n",
    "# savedir = '/Users/bato/work/HyP3-ARIA-Orchestration'\n",
    "\n",
    "# with concurrent.futures.ThreadPoolExecutor(max_workers=10) as executor:\n",
    "#     results = list(tqdm(executor.map(lambda job: job.download_files(savedir), jobs[:5]), total=len(jobs[:5])))"
   ],
   "outputs": [],
   "metadata": {}
  },
  {
   "cell_type": "code",
   "execution_count": null,
   "source": [],
   "outputs": [],
   "metadata": {}
  }
 ],
 "metadata": {
  "interpreter": {
   "hash": "d5caced1b6f6328ebf252ee0289534035286b1269cd2adef619b938e0a9fdf27"
  },
  "kernelspec": {
   "name": "python3",
   "display_name": "Python 3.9.7 64-bit ('s1-enumerator': conda)"
  },
  "language_info": {
   "name": "python",
   "version": "3.9.7",
   "mimetype": "text/x-python",
   "codemirror_mode": {
    "name": "ipython",
    "version": 3
   },
   "pygments_lexer": "ipython3",
   "nbconvert_exporter": "python",
   "file_extension": ".py"
  }
 },
 "nbformat": 4,
 "nbformat_minor": 2
}