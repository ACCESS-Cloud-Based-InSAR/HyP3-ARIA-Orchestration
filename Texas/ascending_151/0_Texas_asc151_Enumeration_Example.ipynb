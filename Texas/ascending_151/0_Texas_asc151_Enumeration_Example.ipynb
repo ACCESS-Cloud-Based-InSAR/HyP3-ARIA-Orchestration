{
 "cells": [
  {
   "cell_type": "markdown",
   "source": [
    "This is to demonstrate how to use the `s1-enumerator` to get a full time series of GUNWs.\n",
    "\n",
    "We are going basically take each month in acceptable date range and increment by a month and make sure the temporal window is large enough to ensure connectivity across data gaps."
   ],
   "metadata": {}
  },
  {
   "cell_type": "markdown",
   "source": [
    "# Parameters\n",
    "\n",
    "This is what the operator is going to have to change. Will provide some comments."
   ],
   "metadata": {}
  },
  {
   "cell_type": "code",
   "execution_count": 1,
   "source": [
    "# toggle user-controlled parameters here\n",
    "import datetime\n",
    "\n",
    "# product cutline\n",
    "aoi_shapefile = 'aois/Texas_pathNumber151.geojson'\n",
    "### Spatial coverage constraint parameter 'azimuth_mismatch'\n",
    "# The merged SLC area over the AOI is allowed to be smaller by 'azimuth_mismatch' x swath width (i.e. 250km)\n",
    "azimuth_mismatch = 20\n",
    "\n",
    "# Define job-name\n",
    "job_name = 'test-track_151'\n",
    "# product directory\n",
    "prod_dir = 'Texas_products_151'\n",
    "\n",
    "# set starting date from which to search frames\n",
    "# more recent is better to reflect frame stability\n",
    "# but if too recent, then acquisitions for desired frame may not be available\n",
    "most_recent_date = datetime.datetime(2021, 12, 1)\n",
    "\n",
    "#set temporal parameters\n",
    "today = datetime.datetime.now()\n",
    "# Earliest year for reference frames\n",
    "START_YEAR = 2014\n",
    "# Latest year for reference frames\n",
    "END_YEAR = today.year\n",
    "# Adjust depending on seasonality\n",
    "# For annual IFGs, select a single months of interest and you will get what you want.\n",
    "MONTHS_OF_INTEREST = [1, 2, 3, 4, 5, 6, 7, 8, 9, 10, 11, 12]"
   ],
   "outputs": [],
   "metadata": {
    "ExecuteTime": {
     "end_time": "2022-01-26T20:33:20.729834Z",
     "start_time": "2022-01-26T20:33:20.702152Z"
    }
   }
  },
  {
   "cell_type": "code",
   "execution_count": 2,
   "source": [
    "from s1_enumerator import get_aoi_dataframe,  distill_all_pairs, enumerate_ifgs, get_s1_coverage_tiles, enumerate_ifgs_from_stack, get_s1_stack_by_dataframe\n",
    "import concurrent\n",
    "from s1_enumerator import duplicate_gunw_found\n",
    "from tqdm import tqdm\n",
    "from shapely.geometry import Point\n",
    "import pandas as pd\n",
    "import geopandas as gpd\n",
    "import matplotlib.pyplot as plt\n",
    "import numpy as np\n",
    "from dateutil.relativedelta import relativedelta\n",
    "import networkx as nx\n",
    "import boto3"
   ],
   "outputs": [],
   "metadata": {
    "ExecuteTime": {
     "end_time": "2022-01-26T20:33:20.609757Z",
     "start_time": "2022-01-26T20:33:19.458712Z"
    }
   }
  },
  {
   "cell_type": "code",
   "execution_count": 3,
   "source": [
    "def shapefile_area(file_bbox,\n",
    "        bounds = False):\n",
    "    \"\"\"Compute km\\u00b2 area of shapefile.\"\"\"\n",
    "    # import dependencies\n",
    "    from pyproj import Proj\n",
    "    from shapely.geometry import shape\n",
    "\n",
    "    # loop through polygons\n",
    "    shape_area = 0\n",
    "    # pass single polygon as list\n",
    "    if file_bbox.type == 'Polygon': file_bbox = [file_bbox]\n",
    "    for polyobj in file_bbox:\n",
    "        #first check if empty\n",
    "        if polyobj.is_empty:\n",
    "            shape_area += 0\n",
    "            continue\n",
    "        # get coords\n",
    "        if bounds:\n",
    "            # Pass coordinates of bounds as opposed to cutline\n",
    "            # Necessary for estimating DEM/mask footprints\n",
    "            WSEN = polyobj.bounds\n",
    "            lon = np.array([WSEN[0],WSEN[0],WSEN[2],WSEN[2],WSEN[0]])\n",
    "            lat = np.array([WSEN[1],WSEN[3],WSEN[3],WSEN[1],WSEN[1]])\n",
    "        else:\n",
    "            lon, lat = polyobj.exterior.coords.xy\n",
    "\n",
    "        # use equal area projection centered on/bracketing AOI\n",
    "        pa = Proj(\"+proj=aea +lat_1={} +lat_2={} +lat_0={} +lon_0={}\". \\\n",
    "             format(min(lat), max(lat), (max(lat)+min(lat))/2, \\\n",
    "             (max(lon)+min(lon))/2))\n",
    "        x, y = pa(lon, lat)\n",
    "        cop = {\"type\": \"Polygon\", \"coordinates\": [zip(x, y)]}\n",
    "        shape_area += shape(cop).area/1e6  # area in km^2\n",
    "\n",
    "    return shape_area"
   ],
   "outputs": [],
   "metadata": {
    "ExecuteTime": {
     "end_time": "2022-01-26T20:33:20.609757Z",
     "start_time": "2022-01-26T20:33:19.458712Z"
    }
   }
  },
  {
   "cell_type": "code",
   "execution_count": 4,
   "source": [
    "def continuous_time(product_df, iter_id='fileID'):\n",
    "    \"\"\"\n",
    "    Split the products into spatiotemporally continuous groups.\n",
    "    Split products by individual, continuous interferograms.\n",
    "    Input must be already sorted by pair and start-time to fit\n",
    "    the logic scheme below.\n",
    "    Using their time-tags, this function determines whether or not\n",
    "    successive products are in the same orbit.\n",
    "    If in the same orbit, the program determines whether or not they\n",
    "    overlap in time and are therefore spatially contiguous,\n",
    "    and rejects/reports cases for which there is no temporal overlap\n",
    "    and therefore a spatial gap.\n",
    "    \"\"\"\n",
    "    from shapely.ops import unary_union\n",
    "\n",
    "    # pass scenes that have no gaps\n",
    "    sorted_products = []\n",
    "    track_rejected_inds = []\n",
    "    pair_dict = {}\n",
    "    product_df_dict = product_df.to_dict('records')\n",
    "    # Check for (and remove) duplicate products\n",
    "    # If multiple pairs in list, cycle through\n",
    "    # and evaluate temporal connectivity.\n",
    "    for i in enumerate(product_df_dict[:-1]):\n",
    "        # Parse the first frame's metadata\n",
    "        scene_start = i[1]['startTime']\n",
    "        scene_end = i[1]['stopTime']\n",
    "        first_frame_ind = i[1]['ind_col']\n",
    "        first_frame = datetime.datetime.strptime( \\\n",
    "                i[1]['fileID'][17:25], \"%Y%m%d\")\n",
    "        # Parse the second frame's metadata\n",
    "        new_scene_start = product_df_dict[i[0]+1]['startTime']\n",
    "        new_scene_end = product_df_dict[i[0]+1]['stopTime']\n",
    "        next_frame_ind = product_df_dict[i[0]+1]['ind_col']\n",
    "        next_frame = datetime.datetime.strptime( \\\n",
    "                product_df_dict[i[0]+1]['fileID'][17:25], \"%Y%m%d\")\n",
    "\n",
    "        # Determine if next product in time is in same orbit AND overlaps\n",
    "        # AND corresponds to same scene\n",
    "        # If it is within same orbit cycle, try to append scene.\n",
    "        # This accounts for day change.\n",
    "        if abs(new_scene_end-scene_end) <= \\\n",
    "                datetime.timedelta(minutes=100) \\\n",
    "                and abs(next_frame-first_frame) <= \\\n",
    "                datetime.timedelta(days=1):\n",
    "            # Don't export product if it is already tracked\n",
    "            # as a rejected scene\n",
    "            if first_frame_ind in track_rejected_inds or \\\n",
    "                    next_frame_ind in track_rejected_inds:\n",
    "                track_rejected_inds.append(first_frame_ind)\n",
    "                track_rejected_inds.append(next_frame_ind)\n",
    "\n",
    "            # Only pass scene if it temporally overlaps with reference scene\n",
    "            elif ((scene_end <= new_scene_start) and \\\n",
    "                    (new_scene_end <= scene_start)) or \\\n",
    "                    ((scene_end >= new_scene_start) and \\\n",
    "                    (new_scene_end >= scene_start)):\n",
    "                # Check if dictionary for scene already exists,\n",
    "                # and if it does then append values\n",
    "                try:\n",
    "                    dict_ind = sorted_products.index(next(item for item \\\n",
    "                            in sorted_products if i[1][iter_id] \\\n",
    "                            in item[iter_id]))\n",
    "                    sorted_products[dict_ind] = {key: np.hstack([value] + \\\n",
    "                         [product_df_dict[i[0]+1][key]]).tolist() \\\n",
    "                         for key, value in sorted_products[dict_ind].items()}\n",
    "                # Match corresponding to scene NOT found,\n",
    "                # so initialize dictionary for new scene\n",
    "                except:\n",
    "                    sorted_products.extend([dict(zip(i[1].keys(), \\\n",
    "                            [list(a) for a in zip(i[1].values(), \\\n",
    "                            product_df_dict[i[0]+1].values())]))])\n",
    "\n",
    "            # Else if scene doesn't overlap, this means there is a gap.\n",
    "            # Reject date from product list,\n",
    "            # and keep track of all failed dates\n",
    "            else:\n",
    "                track_rejected_inds.append(first_frame_ind)\n",
    "                track_rejected_inds.append(next_frame_ind)\n",
    "        # Products correspond to different dates,\n",
    "        # So pass both as separate scenes.\n",
    "        else:\n",
    "            # Check if dictionary for corresponding scene already exists.\n",
    "            if [item for item in sorted_products if i[1][iter_id] in \\\n",
    "                    item[iter_id]]==[] and i[1]['ind_col'] not in \\\n",
    "                    track_rejected_inds:\n",
    "                sorted_products.extend([dict(zip(i[1].keys(), \\\n",
    "                        [list(a) for a in zip(i[1].values())]))])\n",
    "            # Initiate new scene\n",
    "            if [item for item in sorted_products if \\\n",
    "                    product_df_dict[i[0]+1][iter_id] in item[iter_id]]==[] \\\n",
    "                    and next_frame_ind not in track_rejected_inds:\n",
    "                sorted_products.extend([dict(zip( \\\n",
    "                        product_df_dict[i[0]+1].keys(), \\\n",
    "                        [list(a) for a in \\\n",
    "                        zip(product_df_dict[i[0]+1].values())]))])\n",
    "            if first_frame_ind in track_rejected_inds:\n",
    "                track_rejected_inds.append(first_frame_ind)\n",
    "            if next_frame_ind in track_rejected_inds:\n",
    "                track_rejected_inds.append(next_frame_ind)\n",
    "\n",
    "    # Remove duplicate dates\n",
    "    track_rejected_inds = list(set(track_rejected_inds))\n",
    "    if len(track_rejected_inds) > 0:\n",
    "        print(\"{}/{} scenes rejected as stitched IFGs have gaps\".format( \\\n",
    "             len(track_rejected_inds), len(product_df)))\n",
    "        # Provide report of which files were kept vs. which were not.\n",
    "        print(\"Specifically, the following scenes were rejected:\")\n",
    "        for item in product_df_dict:\n",
    "            if item['ind_col'] in track_rejected_inds:\n",
    "                print(item['fileID'])\n",
    "    else:\n",
    "        print(\"All {} scenes are spatially continuous.\".format( \\\n",
    "             len(sorted_products)))\n",
    "\n",
    "    # pass scenes that have no gaps\n",
    "    sorted_products = [item for item in sorted_products \\\n",
    "            if not (any(x in track_rejected_inds for x in item['ind_col']))]\n",
    "\n",
    "    # Report dictionaries for all valid products\n",
    "    if sorted_products == []: #Check if pairs were successfully selected\n",
    "        raise Exception('No scenes meet spatial criteria'\n",
    "                        'due to gaps and/or invalid input.'\n",
    "                        'Nothing to export.')\n",
    "\n",
    "    # Combine polygons\n",
    "    for i in enumerate(sorted_products):\n",
    "        sorted_products[i[0]]['geometry'] = unary_union(i[1]['geometry'])\n",
    "\n",
    "    # combine and record scenes with gaps\n",
    "    track_kept_inds = pd.DataFrame(sorted_products)['ind_col'].to_list()\n",
    "    track_kept_inds = [item for sublist in track_kept_inds for item in sublist]\n",
    "    temp_gap_scenes_dict = [item for item in product_df_dict \\\n",
    "            if not item['ind_col'] in track_kept_inds]\n",
    "    gap_scenes_dict = []\n",
    "    for i in enumerate(temp_gap_scenes_dict[:-1]):\n",
    "        # Parse the first frame's metadata\n",
    "        first_frame_ind = i[1]['ind_col']\n",
    "        first_frame = datetime.datetime.strptime( \\\n",
    "                i[1]['fileID'][17:25], \"%Y%m%d\")\n",
    "        # Parse the second frame's metadata\n",
    "        next_frame_ind = temp_gap_scenes_dict[i[0]+1]['ind_col']\n",
    "        next_frame = datetime.datetime.strptime( \\\n",
    "                temp_gap_scenes_dict[i[0]+1]['fileID'][17:25], \"%Y%m%d\")\n",
    "        # Determine if next product in time is in same orbit\n",
    "        # If it is within same orbit cycle, try to append scene.\n",
    "        # This accounts for day change.\n",
    "        if abs(next_frame-first_frame) <= \\\n",
    "            datetime.timedelta(days=1):\n",
    "            # Check if dictionary for scene already exists,\n",
    "            # and if it does then append values\n",
    "            try:\n",
    "                dict_ind = gap_scenes_dict.index(next(item for item \\\n",
    "                        in gap_scenes_dict if i[1][iter_id] \\\n",
    "                        in item[iter_id]))\n",
    "                gap_scenes_dict[dict_ind] = {key: np.hstack([value] + \\\n",
    "                        [temp_gap_scenes_dict[i[0]+1][key]]).tolist() \\\n",
    "                        for key, value in gap_scenes_dict[dict_ind].items()}\n",
    "            # Match corresponding to scene NOT found,\n",
    "            # so initialize dictionary for new scene\n",
    "            except:\n",
    "                gap_scenes_dict.extend([dict(zip(i[1].keys(), \\\n",
    "                        [list(a) for a in zip(i[1].values(), \\\n",
    "                        temp_gap_scenes_dict[i[0]+1].values())]))])\n",
    "        # Products correspond to different dates,\n",
    "        # So pass both as separate scenes.\n",
    "        else:\n",
    "            # Check if dictionary for corresponding scene already exists.\n",
    "            if [item for item in gap_scenes_dict if i[1][iter_id] in \\\n",
    "                    item[iter_id]]==[]:\n",
    "                gap_scenes_dict.extend([dict(zip(i[1].keys(), \\\n",
    "                        [list(a) for a in zip(i[1].values())]))])\n",
    "            # Initiate new scene\n",
    "            if [item for item in gap_scenes_dict if \\\n",
    "                    temp_gap_scenes_dict[i[0]+1][iter_id] in item[iter_id]]==[]:\n",
    "                gap_scenes_dict.extend([dict(zip( \\\n",
    "                        temp_gap_scenes_dict[i[0]+1].keys(), \\\n",
    "                        [list(a) for a in \\\n",
    "                        zip(temp_gap_scenes_dict[i[0]+1].values())]))])\n",
    "\n",
    "    # there may be some extra missed pairs with gaps\n",
    "    if gap_scenes_dict != []:\n",
    "        extra_track_rejected_inds = pd.DataFrame(gap_scenes_dict)['ind_col'].to_list()\n",
    "        extra_track_rejected_inds = [item for sublist in extra_track_rejected_inds for item in sublist]\n",
    "        track_rejected_inds.extend(extra_track_rejected_inds)\n",
    "\n",
    "    return sorted_products, track_rejected_inds, gap_scenes_dict"
   ],
   "outputs": [],
   "metadata": {
    "ExecuteTime": {
     "end_time": "2022-01-26T20:33:20.609757Z",
     "start_time": "2022-01-26T20:33:19.458712Z"
    }
   }
  },
  {
   "cell_type": "code",
   "execution_count": 5,
   "source": [
    "def minimum_overlap_query(tiles,\n",
    "        aoi,\n",
    "        azimuth_mismatch=0.01,\n",
    "        iter_id='fileID'):\n",
    "    \"\"\"\n",
    "    Master function managing checks for SAR scene spatiotemporal contiguity\n",
    "    and filtering out scenes based off of user-defined spatial coverage threshold\n",
    "    \"\"\"\n",
    "    # initiate dataframe\n",
    "    tiles = tiles.sort_values(['startTime'])\n",
    "    updated_tiles = tiles.copy()\n",
    "\n",
    "    # Drop scenes that don't intersect with AOI at all\n",
    "    orig_len = updated_tiles.shape[0]\n",
    "    for index, row in tiles.iterrows():\n",
    "        intersection_area = aoi.intersection(row['geometry'])\n",
    "        overlap_area = shapefile_area(intersection_area)\n",
    "        aoi_area = shapefile_area(aoi)\n",
    "        percentage_coverage = (overlap_area/aoi_area)*100\n",
    "        if percentage_coverage == 0:\n",
    "            drop_ind = updated_tiles[updated_tiles['fileID'] == row['fileID']].index\n",
    "            updated_tiles = updated_tiles.drop(index=drop_ind)\n",
    "    updated_tiles = updated_tiles.reset_index(drop=True)\n",
    "    print(\"{}/{} scenes rejected for not intersecting with the AOI\".format( \\\n",
    "          orig_len-updated_tiles.shape[0], orig_len))\n",
    "\n",
    "    # group IFGs spatiotemporally\n",
    "    updated_tiles['ind_col'] = range(0, len(updated_tiles))\n",
    "    updated_tiles_dict, dropped_indices, gap_scenes_dict = continuous_time(updated_tiles, iter_id)\n",
    "    for i in dropped_indices:\n",
    "        drop_ind = updated_tiles.index[updated_tiles['ind_col'] == i]\n",
    "        updated_tiles.drop(drop_ind, inplace=True)\n",
    "    updated_tiles = updated_tiles.reset_index(drop=True)\n",
    "    \n",
    "    # Kick out scenes that do not meet user-defined spatial threshold\n",
    "    aoi_area = shapefile_area(aoi)\n",
    "    orig_len = updated_tiles.shape[0]\n",
    "    track_rejected_inds = []\n",
    "    minimum_overlap_threshold = aoi_area - (250 * azimuth_mismatch)\n",
    "    if minimum_overlap_threshold < 0:\n",
    "        raise Exception('WARNING: user-defined mismatch of {}km\\u00b2 too large relative to specified AOI'.format(azimuth_mismatch))\n",
    "    for i in enumerate(updated_tiles_dict):\n",
    "        intersection_area = aoi.intersection(i[1]['geometry'])\n",
    "        overlap_area = shapefile_area(intersection_area)\n",
    "        # Kick out scenes below specified overlap threshold\n",
    "        if minimum_overlap_threshold > overlap_area:\n",
    "            for iter_ind in enumerate(i[1]['ind_col']):\n",
    "                track_rejected_inds.append(iter_ind[1])\n",
    "                print(\"Rejected scene {} has only {}km\\u00b2 overlap with AOI\".format( \\\n",
    "                    i[1]['fileID'][iter_ind[0]], int(overlap_area)))\n",
    "                drop_ind = updated_tiles[updated_tiles['ind_col'] == iter_ind[1]].index\n",
    "                updated_tiles = updated_tiles.drop(index=drop_ind)\n",
    "    updated_tiles = updated_tiles.reset_index(drop=True)\n",
    "    print(\"{}/{} scenes rejected for not meeting defined spatial criteria\".format( \\\n",
    "          orig_len-updated_tiles.shape[0], orig_len))\n",
    "\n",
    "    # record rejected scenes separately\n",
    "    rejected_scenes_dict = [item for item in updated_tiles_dict \\\n",
    "            if (any(x in track_rejected_inds for x in item['ind_col']))]\n",
    "    # pass scenes that are not tracked as rejected\n",
    "    updated_tiles_dict = [item for item in updated_tiles_dict \\\n",
    "            if not (any(x in track_rejected_inds for x in item['ind_col']))]\n",
    "\n",
    "    return updated_tiles, pd.DataFrame(updated_tiles_dict), pd.DataFrame(gap_scenes_dict), pd.DataFrame(rejected_scenes_dict)"
   ],
   "outputs": [],
   "metadata": {
    "ExecuteTime": {
     "end_time": "2022-01-26T20:33:20.609757Z",
     "start_time": "2022-01-26T20:33:19.458712Z"
    }
   }
  },
  {
   "cell_type": "code",
   "execution_count": 6,
   "source": [
    "def pair_spatial_check(tiles,\n",
    "        aoi,\n",
    "        azimuth_mismatch=0.01,\n",
    "        iter_id='fileID'):\n",
    "    \"\"\"\n",
    "    Santity check function to confirm selected pairs meet user-defined spatial coverage threshold\n",
    "    \"\"\"\n",
    "    tiles['ind_col'] = range(0, len(tiles))\n",
    "    tiles = tiles.drop(columns=['reference', 'secondary'])\n",
    "    tiles_dict, dropped_pairs, gap_scenes_dict = continuous_time(tiles, iter_id='ind_col')\n",
    "\n",
    "    # Kick out scenes that do not meet user-defined spatial threshold\n",
    "    aoi_area = shapefile_area(aoi)\n",
    "    orig_len = tiles.shape[0]\n",
    "    minimum_overlap_threshold = aoi_area - (250 * azimuth_mismatch)\n",
    "    if minimum_overlap_threshold < 0:\n",
    "        raise Exception('WARNING: user-defined mismatch of {}km\\u00b2 too large relative to specified AOI'.format(azimuth_mismatch))\n",
    "    for i in enumerate(tiles_dict):\n",
    "        intersection_area = aoi.intersection(i[1]['geometry'])\n",
    "        overlap_area = shapefile_area(intersection_area)\n",
    "        # Kick out scenes below specified overlap threshold\n",
    "        if minimum_overlap_threshold > overlap_area:\n",
    "            for iter_ind in enumerate(i[1]['ind_col']):\n",
    "                print(\"Rejected pair {} has only {}km\\u00b2 overlap with AOI {}ID {}Ind\".format( \\\n",
    "                      i[1]['reference_date'][iter_ind[0]].replace('-', '') + '_' + \\\n",
    "                      i[1]['secondary_date'][iter_ind[0]].replace('-', ''), \\\n",
    "                      overlap_area, iter_ind[1], i[0]))\n",
    "                drop_ind = tiles[tiles['ind_col'] == iter_ind[1]].index\n",
    "                tiles = tiles.drop(index=drop_ind)\n",
    "    tiles = tiles.reset_index(drop=True)\n",
    "    print(\"{}/{} scenes rejected for not meeting defined spatial criteria\".format( \\\n",
    "          orig_len-tiles.shape[0], orig_len))\n",
    "\n",
    "    return pd.DataFrame(tiles_dict)"
   ],
   "outputs": [],
   "metadata": {
    "ExecuteTime": {
     "end_time": "2022-01-26T20:33:20.609757Z",
     "start_time": "2022-01-26T20:33:19.458712Z"
    }
   }
  },
  {
   "cell_type": "code",
   "execution_count": 7,
   "source": [
    "df_aoi = gpd.read_file(aoi_shapefile)\n",
    "aoi = df_aoi.geometry.unary_union\n",
    "aoi"
   ],
   "outputs": [
    {
     "output_type": "execute_result",
     "data": {
      "image/svg+xml": "<svg xmlns=\"http://www.w3.org/2000/svg\" xmlns:xlink=\"http://www.w3.org/1999/xlink\" width=\"100.0\" height=\"100.0\" viewBox=\"-106.2511783726509 29.453191200516947 3.501224742835589 3.4781528979608893\" preserveAspectRatio=\"xMinYMin meet\"><g transform=\"matrix(1,0,0,-1,0,62.384535298994784)\"><path fill-rule=\"evenodd\" fill=\"#66cc99\" stroke=\"#555555\" stroke-width=\"0.07002449485671178\" opacity=\"0.6\" d=\"M -105.4830058024162,29.58286619099234 L -106.1215033821755,32.39954540664512 L -103.4359528106163,32.80166910800244 L -102.8796286202907,29.98617919935674 L -105.4830058024162,29.58286619099234 z\" /></g></svg>",
      "text/plain": [
       "<shapely.geometry.polygon.Polygon at 0x1ad2e76d0>"
      ]
     },
     "metadata": {},
     "execution_count": 7
    }
   ],
   "metadata": {
    "ExecuteTime": {
     "end_time": "2022-01-26T20:33:20.662349Z",
     "start_time": "2022-01-26T20:33:20.614595Z"
    }
   }
  },
  {
   "cell_type": "code",
   "execution_count": 8,
   "source": [
    "df_aoi"
   ],
   "outputs": [
    {
     "output_type": "execute_result",
     "data": {
      "text/html": [
       "<div>\n",
       "<style scoped>\n",
       "    .dataframe tbody tr th:only-of-type {\n",
       "        vertical-align: middle;\n",
       "    }\n",
       "\n",
       "    .dataframe tbody tr th {\n",
       "        vertical-align: top;\n",
       "    }\n",
       "\n",
       "    .dataframe thead th {\n",
       "        text-align: right;\n",
       "    }\n",
       "</style>\n",
       "<table border=\"1\" class=\"dataframe\">\n",
       "  <thead>\n",
       "    <tr style=\"text-align: right;\">\n",
       "      <th></th>\n",
       "      <th>aoi_name</th>\n",
       "      <th>path_number</th>\n",
       "      <th>min_days_backward</th>\n",
       "      <th>month_range_lower</th>\n",
       "      <th>month_range_upper</th>\n",
       "      <th>num_neighbors_ref</th>\n",
       "      <th>geometry</th>\n",
       "    </tr>\n",
       "  </thead>\n",
       "  <tbody>\n",
       "    <tr>\n",
       "      <th>0</th>\n",
       "      <td>Texas</td>\n",
       "      <td>151</td>\n",
       "      <td>364</td>\n",
       "      <td>6</td>\n",
       "      <td>10</td>\n",
       "      <td>3</td>\n",
       "      <td>POLYGON Z ((-105.48301 29.58287 5000.00000, -1...</td>\n",
       "    </tr>\n",
       "    <tr>\n",
       "      <th>1</th>\n",
       "      <td>Texas</td>\n",
       "      <td>151</td>\n",
       "      <td>0</td>\n",
       "      <td>6</td>\n",
       "      <td>10</td>\n",
       "      <td>3</td>\n",
       "      <td>POLYGON Z ((-105.48301 29.58287 5000.00000, -1...</td>\n",
       "    </tr>\n",
       "  </tbody>\n",
       "</table>\n",
       "</div>"
      ],
      "text/plain": [
       "  aoi_name  path_number  min_days_backward  month_range_lower  \\\n",
       "0    Texas          151                364                  6   \n",
       "1    Texas          151                  0                  6   \n",
       "\n",
       "   month_range_upper  num_neighbors_ref  \\\n",
       "0                 10                  3   \n",
       "1                 10                  3   \n",
       "\n",
       "                                            geometry  \n",
       "0  POLYGON Z ((-105.48301 29.58287 5000.00000, -1...  \n",
       "1  POLYGON Z ((-105.48301 29.58287 5000.00000, -1...  "
      ]
     },
     "metadata": {},
     "execution_count": 8
    }
   ],
   "metadata": {
    "ExecuteTime": {
     "end_time": "2022-01-26T20:33:20.700437Z",
     "start_time": "2022-01-26T20:33:20.663935Z"
    }
   }
  },
  {
   "cell_type": "markdown",
   "source": [
    "Currently, there is a lot of data in each of the rows above. We really only need the AOI `geometry` and the `path_number`."
   ],
   "metadata": {}
  },
  {
   "cell_type": "markdown",
   "source": [
    "Below, we select the boundary for minimum reference dates."
   ],
   "metadata": {}
  },
  {
   "cell_type": "code",
   "execution_count": 9,
   "source": [
    "min_reference_dates = [datetime.datetime(year, month, 1) \n",
    "                       for year in range(START_YEAR, END_YEAR + 1)\n",
    "                       for month in MONTHS_OF_INTEREST\n",
    "                       if datetime.datetime(year, month, 1) < today]\n",
    "min_reference_dates = list(reversed(min_reference_dates))\n",
    "min_reference_dates[:3]"
   ],
   "outputs": [
    {
     "output_type": "execute_result",
     "data": {
      "text/plain": [
       "[datetime.datetime(2022, 3, 1, 0, 0),\n",
       " datetime.datetime(2022, 2, 1, 0, 0),\n",
       " datetime.datetime(2022, 1, 1, 0, 0)]"
      ]
     },
     "metadata": {},
     "execution_count": 9
    }
   ],
   "metadata": {
    "ExecuteTime": {
     "end_time": "2022-01-26T20:33:20.762927Z",
     "start_time": "2022-01-26T20:33:20.731632Z"
    }
   }
  },
  {
   "cell_type": "markdown",
   "source": [
    "The maximum secondary dates for enumeration are going to be a month after the previous `min_reference_date`. What we are going to do is: *select 3 SLCs before and after the 1st of the month*. When we reach the earliest month of interest in a given year, we select secondaries occuring before the latest occuring month of interest in the previous calendar year (at the end of that month). Here the number of neighnbors (i.e. 3) is arbitrary and can be changed below. We found this parameter useful to making sure the graph was connected. So, don't change it unless you are careful.\n",
    "\n",
    "In the setup above and below, we are thus picking three dates occuring before one item of the `max_secondary_dates` and three dates after one item of `min_reference_dates`. "
   ],
   "metadata": {}
  },
  {
   "cell_type": "code",
   "execution_count": 10,
   "source": [
    "max_secondary_dates = [ref_date + relativedelta(months=1) for ref_date in min_reference_dates]\n",
    "max_secondary_dates = max_secondary_dates[1:] + min_reference_dates[-1:]\n",
    "max_secondary_dates[:3]"
   ],
   "outputs": [
    {
     "output_type": "execute_result",
     "data": {
      "text/plain": [
       "[datetime.datetime(2022, 3, 1, 0, 0),\n",
       " datetime.datetime(2022, 2, 1, 0, 0),\n",
       " datetime.datetime(2022, 1, 1, 0, 0)]"
      ]
     },
     "metadata": {},
     "execution_count": 10
    }
   ],
   "metadata": {
    "ExecuteTime": {
     "end_time": "2022-01-26T20:33:20.794025Z",
     "start_time": "2022-01-26T20:33:20.764539Z"
    }
   }
  },
  {
   "cell_type": "code",
   "execution_count": 11,
   "source": [
    "for ref, sec in zip(min_reference_dates[:6], max_secondary_dates):\n",
    "    print('############################')\n",
    "    print(ref.date(), ' to ', sec.date())\n",
    "    print('or: days backward', (ref - sec).days)"
   ],
   "outputs": [
    {
     "output_type": "stream",
     "name": "stdout",
     "text": [
      "############################\n",
      "2022-03-01  to  2022-03-01\n",
      "or: days backward 0\n",
      "############################\n",
      "2022-02-01  to  2022-02-01\n",
      "or: days backward 0\n",
      "############################\n",
      "2022-01-01  to  2022-01-01\n",
      "or: days backward 0\n",
      "############################\n",
      "2021-12-01  to  2021-12-01\n",
      "or: days backward 0\n",
      "############################\n",
      "2021-11-01  to  2021-11-01\n",
      "or: days backward 0\n",
      "############################\n",
      "2021-10-01  to  2021-10-01\n",
      "or: days backward 0\n"
     ]
    }
   ],
   "metadata": {
    "ExecuteTime": {
     "end_time": "2022-01-26T20:33:20.830429Z",
     "start_time": "2022-01-26T20:33:20.797641Z"
    }
   }
  },
  {
   "cell_type": "code",
   "execution_count": 12,
   "source": [
    "path_numbers = df_aoi.path_number.unique().tolist()\n",
    "path_numbers"
   ],
   "outputs": [
    {
     "output_type": "execute_result",
     "data": {
      "text/plain": [
       "[151]"
      ]
     },
     "metadata": {},
     "execution_count": 12
    }
   ],
   "metadata": {
    "ExecuteTime": {
     "end_time": "2022-01-26T20:33:20.871551Z",
     "start_time": "2022-01-26T20:33:20.834020Z"
    }
   }
  },
  {
   "cell_type": "markdown",
   "source": [
    "# Generate tiles used for coverage\n",
    "\n",
    "This function just does a geometric query based on each frame and using one pass from the start date."
   ],
   "metadata": {}
  },
  {
   "cell_type": "code",
   "execution_count": 13,
   "source": [
    "df_coverage_tiles = get_s1_coverage_tiles(aoi,\n",
    "                                          # the date is used to get coverage tiles for extracting stack.\n",
    "                                          # Recent data has reliable coverage.\n",
    "                                          start_date=most_recent_date)"
   ],
   "outputs": [],
   "metadata": {
    "ExecuteTime": {
     "end_time": "2022-01-26T20:33:23.206558Z",
     "start_time": "2022-01-26T20:33:20.872995Z"
    }
   }
  },
  {
   "cell_type": "code",
   "execution_count": 14,
   "source": [
    "## Uncomment if you want to inspect the dataframe\n",
    "# df_coverage_tiles.to_file('coverage_tiles.geojson', driver='GeoJSON', index=False)"
   ],
   "outputs": [],
   "metadata": {
    "ExecuteTime": {
     "end_time": "2022-01-26T20:33:23.235943Z",
     "start_time": "2022-01-26T20:33:23.208050Z"
    }
   }
  },
  {
   "cell_type": "code",
   "execution_count": 15,
   "source": [
    "fig, ax = plt.subplots()\n",
    "\n",
    "df_coverage_tiles.plot(ax=ax, alpha=.5, color='green', label='Frames interesecting tile')\n",
    "df_aoi.exterior.plot(color='black', ax=ax, label='AOI')\n",
    "plt.legend()"
   ],
   "outputs": [
    {
     "output_type": "execute_result",
     "data": {
      "text/plain": [
       "<matplotlib.legend.Legend at 0x1adf70a90>"
      ]
     },
     "metadata": {},
     "execution_count": 15
    },
    {
     "output_type": "display_data",
     "data": {
      "image/png": "[encoded data removed]",
      "text/plain": [
       "<Figure size 432x288 with 1 Axes>"
      ]
     },
     "metadata": {
      "needs_background": "light"
     }
    }
   ],
   "metadata": {
    "ExecuteTime": {
     "end_time": "2022-01-26T20:33:23.406706Z",
     "start_time": "2022-01-26T20:33:23.237597Z"
    }
   }
  },
  {
   "cell_type": "markdown",
   "source": [
    "For the Aleutians above, note there is:\n",
    "\n",
    "1. Above the coverage was 12 days + 1 after January 1 2021. It will used to generate an entire collection of frames below.\n",
    "2. the track we are interested doesn't \"jiggle\" above the AOI because of the restriction to 12 days + 1 (see below when we make the stack, for more frames \"jiggling\").\n",
    "3. the other tracks have some more \"jiggle\" or \"seams\" partially because of how the frames fell during this limited time period.\n",
    "\n",
    "For larger frames, piecemealing the queries ensures that 1000 product limit that ASF imposes will no prevent us from collecting all the data we need over the AOI.\n",
    "\n",
    "# Generate a stack\n",
    "\n",
    "Using all the tiles that are needed to cover the AOI we make a geometric query based on the frame. We now include only the path we are interested in."
   ],
   "metadata": {}
  },
  {
   "cell_type": "code",
   "execution_count": 16,
   "source": [
    "df_stack = get_s1_stack_by_dataframe(df_coverage_tiles,\n",
    "                                     path_numbers=path_numbers)"
   ],
   "outputs": [
    {
     "output_type": "stream",
     "name": "stderr",
     "text": [
      "Downloading stack for 2 tiles: 100%|██████████| 2/2 [00:16<00:00,  8.05s/it]\n"
     ]
    }
   ],
   "metadata": {
    "ExecuteTime": {
     "end_time": "2022-01-26T20:33:26.046933Z",
     "start_time": "2022-01-26T20:33:23.408258Z"
    }
   }
  },
  {
   "cell_type": "code",
   "execution_count": 17,
   "source": [
    "f'We have {df_stack.shape[0]} frames in our stack'"
   ],
   "outputs": [
    {
     "output_type": "execute_result",
     "data": {
      "text/plain": [
       "'We have 575 frames in our stack'"
      ]
     },
     "metadata": {},
     "execution_count": 17
    }
   ],
   "metadata": {
    "ExecuteTime": {
     "end_time": "2022-01-26T20:33:26.080329Z",
     "start_time": "2022-01-26T20:33:26.048785Z"
    }
   }
  },
  {
   "cell_type": "code",
   "execution_count": 18,
   "source": [
    "fig, ax = plt.subplots()\n",
    "\n",
    "df_stack.plot(ax=ax, alpha=.5, color='green', label='Frames interesecting tile')\n",
    "df_aoi.exterior.plot(color='black', ax=ax, label='AOI')\n",
    "plt.legend()"
   ],
   "outputs": [
    {
     "output_type": "execute_result",
     "data": {
      "text/plain": [
       "<matplotlib.legend.Legend at 0x1ae07e8e0>"
      ]
     },
     "metadata": {},
     "execution_count": 18
    },
    {
     "output_type": "display_data",
     "data": {
      "image/png": "[encoded data removed]",
      "text/plain": [
       "<Figure size 432x288 with 1 Axes>"
      ]
     },
     "metadata": {
      "needs_background": "light"
     }
    }
   ],
   "metadata": {
    "ExecuteTime": {
     "end_time": "2022-01-26T20:33:26.322384Z",
     "start_time": "2022-01-26T20:33:26.081992Z"
    }
   }
  },
  {
   "cell_type": "markdown",
   "source": [
    "Note, we now see the frames cover the entire AOI as we expect."
   ],
   "metadata": {}
  },
  {
   "cell_type": "markdown",
   "source": [
    "First remove all scenes that do not produce spatiotemporally contiguous pairs and not meet specified intersection threshold"
   ],
   "metadata": {}
  },
  {
   "cell_type": "code",
   "execution_count": 19,
   "source": [
    "df_stack, df_stack_dict, gap_scenes_dict, rejected_scenes_dict = minimum_overlap_query(df_stack, aoi, azimuth_mismatch=azimuth_mismatch)"
   ],
   "outputs": [
    {
     "output_type": "stream",
     "name": "stdout",
     "text": [
      "227/575 scenes rejected for not intersecting with the AOI\n",
      "2/348 scenes rejected as stitched IFGs have gaps\n",
      "Specifically, the following scenes were rejected:\n",
      "S1A_IW_SLC__1SDV_20160103T005933_20160103T010003_009323_00D796_3C98-SLC\n",
      "S1A_IW_SLC__1SSV_20160103T010011_20160103T010041_009323_00D797_73F1-SLC\n",
      "Rejected scene S1A_IW_SLC__1SDV_20150520T005917_20150520T005944_005998_007BB1_B98B-SLC has only 60046km² overlap with AOI\n",
      "Rejected scene S1A_IW_SLC__1SDV_20150520T005941_20150520T005958_005998_007BB1_AB0F-SLC has only 60046km² overlap with AOI\n",
      "Rejected scene S1A_IW_SLC__1SSV_20160408T005933_20160408T010002_010723_00FFF7_7979-SLC has only 71154km² overlap with AOI\n",
      "Rejected scene S1A_IW_SLC__1SSV_20160408T010000_20160408T010028_010723_00FFF7_5E53-SLC has only 71154km² overlap with AOI\n",
      "Rejected scene S1A_IW_SLC__1SDV_20160420T005950_20160420T010019_010898_01053E_CA29-SLC has only 42913km² overlap with AOI\n",
      "Rejected scene S1A_IW_SLC__1SDV_20160514T005917_20160514T005944_011248_01104F_0619-SLC has only 50637km² overlap with AOI\n",
      "Rejected scene S1A_IW_SLC__1SDV_20160514T005942_20160514T005959_011248_01104F_A928-SLC has only 50637km² overlap with AOI\n",
      "Rejected scene S1B_IW_SLC__1SDV_20180227T005854_20180227T005918_009802_011B7D_37BF-SLC has only 36516km² overlap with AOI\n",
      "8/345 scenes rejected for not meeting defined spatial criteria\n"
     ]
    }
   ],
   "metadata": {
    "ExecuteTime": {
     "end_time": "2022-01-26T20:33:26.080329Z",
     "start_time": "2022-01-26T20:33:26.048785Z"
    }
   }
  },
  {
   "cell_type": "code",
   "execution_count": 20,
   "source": [
    "f'We have {df_stack.shape[0]} frames in our stack'"
   ],
   "outputs": [
    {
     "output_type": "execute_result",
     "data": {
      "text/plain": [
       "'We have 337 frames in our stack'"
      ]
     },
     "metadata": {},
     "execution_count": 20
    }
   ],
   "metadata": {
    "ExecuteTime": {
     "end_time": "2022-01-26T20:33:26.080329Z",
     "start_time": "2022-01-26T20:33:26.048785Z"
    }
   }
  },
  {
   "cell_type": "markdown",
   "source": [
    "Plot acquisitions that aren't continuous (i.e. have gaps)"
   ],
   "metadata": {}
  },
  {
   "cell_type": "code",
   "execution_count": 21,
   "source": [
    "if not gap_scenes_dict.empty:\n",
    "    gap_scenes_dict =  gap_scenes_dict.sort_values(by=['start_date'])\n",
    "    for index, row in gap_scenes_dict.iterrows():\n",
    "        fig, ax = plt.subplots()\n",
    "        p = gpd.GeoSeries(row['geometry'])\n",
    "        p.exterior.plot(color='black', ax=ax, label=row['start_date_str'][0])\n",
    "        df_aoi.exterior.plot(color='red', ax=ax, label='AOI')\n",
    "        plt.legend()\n",
    "        plt.show"
   ],
   "outputs": [
    {
     "output_type": "display_data",
     "data": {
      "image/png": "[encoded data removed]",
      "text/plain": [
       "<Figure size 432x288 with 1 Axes>"
      ]
     },
     "metadata": {
      "needs_background": "light"
     }
    }
   ],
   "metadata": {}
  },
  {
   "cell_type": "markdown",
   "source": [
    "Plot all mosaicked acquisitions that were rejected for not meeting user-specified spatial constraints"
   ],
   "metadata": {}
  },
  {
   "cell_type": "code",
   "execution_count": 22,
   "source": [
    "if not rejected_scenes_dict.empty:\n",
    "    rejected_scenes_dict =  rejected_scenes_dict.sort_values(by=['start_date'])\n",
    "    fig, ax = plt.subplots()\n",
    "    for index, row in rejected_scenes_dict.iterrows():\n",
    "        p = gpd.GeoSeries(row['geometry'])\n",
    "        p.exterior.plot(color='black', ax=ax)\n",
    "    df_aoi.exterior.plot(color='red', ax=ax, label='AOI')\n",
    "    plt.legend()"
   ],
   "outputs": [
    {
     "output_type": "display_data",
     "data": {
      "image/png": "[encoded data removed]",
      "text/plain": [
       "<Figure size 432x288 with 1 Axes>"
      ]
     },
     "metadata": {
      "needs_background": "light"
     }
    }
   ],
   "metadata": {}
  },
  {
   "cell_type": "markdown",
   "source": [
    "Plot each individual mosaicked acquisitions that were rejected for not meeting user-specified spatial constraints"
   ],
   "metadata": {}
  },
  {
   "cell_type": "code",
   "execution_count": 23,
   "source": [
    "if not rejected_scenes_dict.empty:\n",
    "    for index, row in rejected_scenes_dict.iterrows():\n",
    "        fig, ax = plt.subplots()\n",
    "        p = gpd.GeoSeries(row['geometry'])\n",
    "        p.exterior.plot(color='black', ax=ax, label=row['start_date_str'][0])\n",
    "        df_aoi.exterior.plot(color='red', ax=ax, label='AOI')\n",
    "        plt.legend()\n",
    "        plt.show"
   ],
   "outputs": [
    {
     "output_type": "display_data",
     "data": {
      "image/png": "[encoded data removed]",
      "text/plain": [
       "<Figure size 432x288 with 1 Axes>"
      ]
     },
     "metadata": {
      "needs_background": "light"
     }
    },
    {
     "output_type": "display_data",
     "data": {
      "image/png": "[encoded data removed]",
      "text/plain": [
       "<Figure size 432x288 with 1 Axes>"
      ]
     },
     "metadata": {
      "needs_background": "light"
     }
    },
    {
     "output_type": "display_data",
     "data": {
      "image/png": "[encoded data removed]",
      "text/plain": [
       "<Figure size 432x288 with 1 Axes>"
      ]
     },
     "metadata": {
      "needs_background": "light"
     }
    },
    {
     "output_type": "display_data",
     "data": {
      "image/png": "[encoded data removed]",
      "text/plain": [
       "<Figure size 432x288 with 1 Axes>"
      ]
     },
     "metadata": {
      "needs_background": "light"
     }
    },
    {
     "output_type": "display_data",
     "data": {
      "image/png": "[encoded data removed]",
      "text/plain": [
       "<Figure size 432x288 with 1 Axes>"
      ]
     },
     "metadata": {
      "needs_background": "light"
     }
    }
   ],
   "metadata": {}
  },
  {
   "cell_type": "markdown",
   "source": [
    "Plot all mosaicked acquisitions that meet user-defined spatial coverage"
   ],
   "metadata": {}
  },
  {
   "cell_type": "code",
   "execution_count": 24,
   "source": [
    "fig, ax = plt.subplots()\n",
    "\n",
    "for index, row in df_stack_dict.iterrows():\n",
    "    p = gpd.GeoSeries(row['geometry'])\n",
    "    p.exterior.plot(color='black', ax=ax)\n",
    "df_aoi.exterior.plot(color='red', ax=ax, label='AOI')\n",
    "plt.legend()"
   ],
   "outputs": [
    {
     "output_type": "execute_result",
     "data": {
      "text/plain": [
       "<matplotlib.legend.Legend at 0x1ae55ffd0>"
      ]
     },
     "metadata": {},
     "execution_count": 24
    },
    {
     "output_type": "display_data",
     "data": {
      "image/png": "[encoded data removed]",
      "text/plain": [
       "<Figure size 432x288 with 1 Axes>"
      ]
     },
     "metadata": {
      "needs_background": "light"
     }
    }
   ],
   "metadata": {}
  },
  {
   "cell_type": "markdown",
   "source": [
    "Next, we filter the stack by month to ensure we only have SLCs we need."
   ],
   "metadata": {}
  },
  {
   "cell_type": "code",
   "execution_count": 25,
   "source": [
    "df_stack_month = df_stack[df_stack.start_date.dt.month.isin(MONTHS_OF_INTEREST)]"
   ],
   "outputs": [],
   "metadata": {
    "ExecuteTime": {
     "end_time": "2022-01-26T20:33:26.356073Z",
     "start_time": "2022-01-26T20:33:26.324043Z"
    }
   }
  },
  {
   "cell_type": "code",
   "execution_count": 26,
   "source": [
    "ifg_pairs = []\n",
    "\n",
    "for min_ref_date, max_sec_date in zip(tqdm(min_reference_dates), (max_secondary_dates)):\n",
    "    # Mostly this is 0 unless we get to our earliest month of interest in the calendar year\n",
    "    min_days_backward = (min_ref_date - max_sec_date).days\n",
    "    # because of s1 availability/gaps, we just make this huge so that we can look up slcs in the stack\n",
    "    # occuring in previous years - the gaps can cause temporal jumps that you have to be mindful of\n",
    "    # That's why we have neighbors being 3.\n",
    "    temporal_window_days = 364 * 3\n",
    "    temp = enumerate_ifgs_from_stack(df_stack_month,\n",
    "                                     aoi,\n",
    "                                     min_ref_date,\n",
    "                                     # options are 'tile' and 'path'\n",
    "                                     # 'path' processes multiple references simultaneously\n",
    "                                     enumeration_type='tile',\n",
    "                                     min_days_backward=min_days_backward,\n",
    "                                     num_neighbors_ref=3,\n",
    "                                     num_neighbors_sec=3,\n",
    "                                     temporal_window_days=temporal_window_days,\n",
    "                                     min_tile_aoi_overlap_km2=.1,#Minimum reference tile overlap of AOI in km2\n",
    "                                     min_ref_tile_overlap_perc=.1,#Relative overlap of secondary frames over reference frame\n",
    "                                     minimum_ifg_area_km2=0.1,#The minimum overlap of reference and secondary in km2\n",
    "                                     minimum_path_intersection_km2=.1,#Overlap of common track union with respect to AOI in km2\n",
    "                                     )\n",
    "    ifg_pairs += temp"
   ],
   "outputs": [
    {
     "output_type": "stream",
     "name": "stderr",
     "text": [
      "100%|██████████| 99/99 [01:04<00:00,  1.55it/s]\n"
     ]
    }
   ],
   "metadata": {
    "ExecuteTime": {
     "end_time": "2022-01-26T20:34:46.809308Z",
     "start_time": "2022-01-26T20:33:26.357590Z"
    }
   }
  },
  {
   "cell_type": "code",
   "execution_count": 27,
   "source": [
    "f'The number of GUNWs (likely lots of duplicates) is {len(ifg_pairs)}'"
   ],
   "outputs": [
    {
     "output_type": "execute_result",
     "data": {
      "text/plain": [
       "'The number of GUNWs (likely lots of duplicates) is 1809'"
      ]
     },
     "metadata": {},
     "execution_count": 27
    }
   ],
   "metadata": {
    "ExecuteTime": {
     "end_time": "2022-01-26T20:34:46.839854Z",
     "start_time": "2022-01-26T20:34:46.810852Z"
    }
   }
  },
  {
   "cell_type": "markdown",
   "source": [
    "# Get Dataframe"
   ],
   "metadata": {}
  },
  {
   "cell_type": "code",
   "execution_count": 28,
   "source": [
    "df_pairs = distill_all_pairs(ifg_pairs)"
   ],
   "outputs": [],
   "metadata": {
    "ExecuteTime": {
     "end_time": "2022-01-26T20:34:47.116319Z",
     "start_time": "2022-01-26T20:34:46.841614Z"
    }
   }
  },
  {
   "cell_type": "code",
   "execution_count": 29,
   "source": [
    "f\"# of GUNWs: ' {df_pairs.shape[0]}\""
   ],
   "outputs": [
    {
     "output_type": "execute_result",
     "data": {
      "text/plain": [
       "\"# of GUNWs: ' 1809\""
      ]
     },
     "metadata": {},
     "execution_count": 29
    }
   ],
   "metadata": {
    "ExecuteTime": {
     "end_time": "2022-01-26T20:34:47.146266Z",
     "start_time": "2022-01-26T20:34:47.117927Z"
    }
   }
  },
  {
   "cell_type": "markdown",
   "source": [
    "As a sanity check, confirm all IFG pairs meet user-defined spatial coverage"
   ],
   "metadata": {}
  },
  {
   "cell_type": "code",
   "execution_count": 30,
   "source": [
    "df_pairs.head()"
   ],
   "outputs": [
    {
     "output_type": "execute_result",
     "data": {
      "text/html": [
       "<div>\n",
       "<style scoped>\n",
       "    .dataframe tbody tr th:only-of-type {\n",
       "        vertical-align: middle;\n",
       "    }\n",
       "\n",
       "    .dataframe tbody tr th {\n",
       "        vertical-align: top;\n",
       "    }\n",
       "\n",
       "    .dataframe thead th {\n",
       "        text-align: right;\n",
       "    }\n",
       "</style>\n",
       "<table border=\"1\" class=\"dataframe\">\n",
       "  <thead>\n",
       "    <tr style=\"text-align: right;\">\n",
       "      <th></th>\n",
       "      <th>reference</th>\n",
       "      <th>secondary</th>\n",
       "      <th>reference_date</th>\n",
       "      <th>secondary_date</th>\n",
       "      <th>path_number</th>\n",
       "      <th>geometry</th>\n",
       "      <th>startTime</th>\n",
       "      <th>stopTime</th>\n",
       "      <th>fileID</th>\n",
       "    </tr>\n",
       "  </thead>\n",
       "  <tbody>\n",
       "    <tr>\n",
       "      <th>0</th>\n",
       "      <td>[S1A_IW_SLC__1SDV_20220224T005951_20220224T010...</td>\n",
       "      <td>[S1B_IW_SLC__1SDV_20211220T005920_20211220T005...</td>\n",
       "      <td>2022-02-24</td>\n",
       "      <td>2021-12-20</td>\n",
       "      <td>151</td>\n",
       "      <td>POLYGON ((-102.90006 29.80870, -102.90006 29.8...</td>\n",
       "      <td>2021-12-20 00:59:20</td>\n",
       "      <td>2021-12-20 00:59:48</td>\n",
       "      <td>S1A_IW_SLC__1SDV_20220224T005951_20220224T0100...</td>\n",
       "    </tr>\n",
       "    <tr>\n",
       "      <th>1</th>\n",
       "      <td>[S1A_IW_SLC__1SDV_20220224T010016_20220224T010...</td>\n",
       "      <td>[S1B_IW_SLC__1SDV_20211220T005920_20211220T005...</td>\n",
       "      <td>2022-02-24</td>\n",
       "      <td>2021-12-20</td>\n",
       "      <td>151</td>\n",
       "      <td>POLYGON ((-103.08892 30.75418, -103.08892 30.7...</td>\n",
       "      <td>2021-12-20 00:59:20</td>\n",
       "      <td>2021-12-20 01:00:13</td>\n",
       "      <td>S1A_IW_SLC__1SDV_20220224T010016_20220224T0100...</td>\n",
       "    </tr>\n",
       "    <tr>\n",
       "      <th>2</th>\n",
       "      <td>[S1A_IW_SLC__1SDV_20220224T010040_20220224T010...</td>\n",
       "      <td>[S1B_IW_SLC__1SDV_20211220T005946_20211220T010...</td>\n",
       "      <td>2022-02-24</td>\n",
       "      <td>2021-12-20</td>\n",
       "      <td>151</td>\n",
       "      <td>POLYGON ((-103.37798 32.24882, -103.37798 32.2...</td>\n",
       "      <td>2021-12-20 00:59:46</td>\n",
       "      <td>2021-12-20 01:00:13</td>\n",
       "      <td>S1A_IW_SLC__1SDV_20220224T010040_20220224T0100...</td>\n",
       "    </tr>\n",
       "    <tr>\n",
       "      <th>3</th>\n",
       "      <td>[S1A_IW_SLC__1SDV_20220224T005951_20220224T010...</td>\n",
       "      <td>[S1B_IW_SLC__1SDV_20211208T005921_20211208T005...</td>\n",
       "      <td>2022-02-24</td>\n",
       "      <td>2021-12-08</td>\n",
       "      <td>151</td>\n",
       "      <td>POLYGON ((-102.90011 29.80895, -102.90011 29.8...</td>\n",
       "      <td>2021-12-08 00:59:21</td>\n",
       "      <td>2021-12-08 00:59:49</td>\n",
       "      <td>S1A_IW_SLC__1SDV_20220224T005951_20220224T0100...</td>\n",
       "    </tr>\n",
       "    <tr>\n",
       "      <th>4</th>\n",
       "      <td>[S1A_IW_SLC__1SDV_20220224T010016_20220224T010...</td>\n",
       "      <td>[S1B_IW_SLC__1SDV_20211208T005921_20211208T005...</td>\n",
       "      <td>2022-02-24</td>\n",
       "      <td>2021-12-08</td>\n",
       "      <td>151</td>\n",
       "      <td>POLYGON ((-103.08892 30.75418, -103.08892 30.7...</td>\n",
       "      <td>2021-12-08 00:59:21</td>\n",
       "      <td>2021-12-08 01:00:14</td>\n",
       "      <td>S1A_IW_SLC__1SDV_20220224T010016_20220224T0100...</td>\n",
       "    </tr>\n",
       "  </tbody>\n",
       "</table>\n",
       "</div>"
      ],
      "text/plain": [
       "                                           reference  \\\n",
       "0  [S1A_IW_SLC__1SDV_20220224T005951_20220224T010...   \n",
       "1  [S1A_IW_SLC__1SDV_20220224T010016_20220224T010...   \n",
       "2  [S1A_IW_SLC__1SDV_20220224T010040_20220224T010...   \n",
       "3  [S1A_IW_SLC__1SDV_20220224T005951_20220224T010...   \n",
       "4  [S1A_IW_SLC__1SDV_20220224T010016_20220224T010...   \n",
       "\n",
       "                                           secondary reference_date  \\\n",
       "0  [S1B_IW_SLC__1SDV_20211220T005920_20211220T005...     2022-02-24   \n",
       "1  [S1B_IW_SLC__1SDV_20211220T005920_20211220T005...     2022-02-24   \n",
       "2  [S1B_IW_SLC__1SDV_20211220T005946_20211220T010...     2022-02-24   \n",
       "3  [S1B_IW_SLC__1SDV_20211208T005921_20211208T005...     2022-02-24   \n",
       "4  [S1B_IW_SLC__1SDV_20211208T005921_20211208T005...     2022-02-24   \n",
       "\n",
       "  secondary_date  path_number  \\\n",
       "0     2021-12-20          151   \n",
       "1     2021-12-20          151   \n",
       "2     2021-12-20          151   \n",
       "3     2021-12-08          151   \n",
       "4     2021-12-08          151   \n",
       "\n",
       "                                            geometry           startTime  \\\n",
       "0  POLYGON ((-102.90006 29.80870, -102.90006 29.8... 2021-12-20 00:59:20   \n",
       "1  POLYGON ((-103.08892 30.75418, -103.08892 30.7... 2021-12-20 00:59:20   \n",
       "2  POLYGON ((-103.37798 32.24882, -103.37798 32.2... 2021-12-20 00:59:46   \n",
       "3  POLYGON ((-102.90011 29.80895, -102.90011 29.8... 2021-12-08 00:59:21   \n",
       "4  POLYGON ((-103.08892 30.75418, -103.08892 30.7... 2021-12-08 00:59:21   \n",
       "\n",
       "             stopTime                                             fileID  \n",
       "0 2021-12-20 00:59:48  S1A_IW_SLC__1SDV_20220224T005951_20220224T0100...  \n",
       "1 2021-12-20 01:00:13  S1A_IW_SLC__1SDV_20220224T010016_20220224T0100...  \n",
       "2 2021-12-20 01:00:13  S1A_IW_SLC__1SDV_20220224T010040_20220224T0100...  \n",
       "3 2021-12-08 00:59:49  S1A_IW_SLC__1SDV_20220224T005951_20220224T0100...  \n",
       "4 2021-12-08 01:00:14  S1A_IW_SLC__1SDV_20220224T010016_20220224T0100...  "
      ]
     },
     "metadata": {},
     "execution_count": 30
    }
   ],
   "metadata": {}
  },
  {
   "cell_type": "markdown",
   "source": [
    "Check if there are any gaps in the mosaicked IFGs, or if any are rejected for not meeting user-specified spatial constraints\n",
    "\n",
    "*NOTE: No products should be rejected at this stage. If any are, there is a problem either due to a:\n",
    "1) Bug in the code\n",
    "2) User-driven error"
   ],
   "metadata": {}
  },
  {
   "cell_type": "code",
   "execution_count": 31,
   "source": [
    "df_pairs_dict = pair_spatial_check(df_pairs, aoi, azimuth_mismatch=azimuth_mismatch)"
   ],
   "outputs": [
    {
     "output_type": "stream",
     "name": "stdout",
     "text": [
      "All 771 scenes are spatially continuous.\n",
      "0/1809 scenes rejected for not meeting defined spatial criteria\n"
     ]
    }
   ],
   "metadata": {}
  },
  {
   "cell_type": "code",
   "execution_count": 32,
   "source": [
    "fig, ax = plt.subplots()\n",
    "\n",
    "for index, row in df_pairs_dict.iterrows():\n",
    "    p = gpd.GeoSeries(row['geometry'])\n",
    "    p.exterior.plot(color='black', ax=ax)\n",
    "df_aoi.exterior.plot(color='red', ax=ax, label='AOI')\n",
    "plt.legend()"
   ],
   "outputs": [
    {
     "output_type": "execute_result",
     "data": {
      "text/plain": [
       "<matplotlib.legend.Legend at 0x1b17a63d0>"
      ]
     },
     "metadata": {},
     "execution_count": 32
    },
    {
     "output_type": "display_data",
     "data": {
      "image/png": "[encoded data removed]",
      "text/plain": [
       "<Figure size 432x288 with 1 Axes>"
      ]
     },
     "metadata": {
      "needs_background": "light"
     }
    }
   ],
   "metadata": {}
  },
  {
   "cell_type": "markdown",
   "source": [
    "# Deduplication Pt. 1\n",
    "\n",
    "A `GUNW` is uniquely determined by the reference and secondary IDs. We contanenate these sorted lists and generate a lossy hash to deduplicate products we may have introduced from the enumeration above."
   ],
   "metadata": {
    "ExecuteTime": {
     "end_time": "2022-01-21T00:51:53.374968Z",
     "start_time": "2022-01-21T00:51:53.344139Z"
    }
   }
  },
  {
   "cell_type": "code",
   "execution_count": 33,
   "source": [
    "import hashlib\n",
    "import json\n",
    "\n",
    "\n",
    "def get_gunw_hash_id(reference_ids: list, secondary_ids: list) -> str:\n",
    "    all_ids = json.dumps([' '.join(sorted(reference_ids)),\n",
    "                          ' '.join(sorted(secondary_ids))\n",
    "                          ]).encode('utf8')\n",
    "    hash_id = hashlib.md5(all_ids).hexdigest()\n",
    "    return hash_id"
   ],
   "outputs": [],
   "metadata": {
    "ExecuteTime": {
     "end_time": "2022-01-26T20:34:47.176882Z",
     "start_time": "2022-01-26T20:34:47.147987Z"
    }
   }
  },
  {
   "cell_type": "code",
   "execution_count": 34,
   "source": [
    "def hasher(row):\n",
    "    return get_gunw_hash_id(row['reference'], row['secondary'])\n",
    "\n",
    "df_pairs['hash_id'] = df_pairs.apply(hasher, axis=1)\n",
    "df_pairs.head()"
   ],
   "outputs": [
    {
     "output_type": "execute_result",
     "data": {
      "text/html": [
       "<div>\n",
       "<style scoped>\n",
       "    .dataframe tbody tr th:only-of-type {\n",
       "        vertical-align: middle;\n",
       "    }\n",
       "\n",
       "    .dataframe tbody tr th {\n",
       "        vertical-align: top;\n",
       "    }\n",
       "\n",
       "    .dataframe thead th {\n",
       "        text-align: right;\n",
       "    }\n",
       "</style>\n",
       "<table border=\"1\" class=\"dataframe\">\n",
       "  <thead>\n",
       "    <tr style=\"text-align: right;\">\n",
       "      <th></th>\n",
       "      <th>reference</th>\n",
       "      <th>secondary</th>\n",
       "      <th>reference_date</th>\n",
       "      <th>secondary_date</th>\n",
       "      <th>path_number</th>\n",
       "      <th>geometry</th>\n",
       "      <th>startTime</th>\n",
       "      <th>stopTime</th>\n",
       "      <th>fileID</th>\n",
       "      <th>ind_col</th>\n",
       "      <th>hash_id</th>\n",
       "    </tr>\n",
       "  </thead>\n",
       "  <tbody>\n",
       "    <tr>\n",
       "      <th>0</th>\n",
       "      <td>[S1A_IW_SLC__1SDV_20220224T005951_20220224T010...</td>\n",
       "      <td>[S1B_IW_SLC__1SDV_20211220T005920_20211220T005...</td>\n",
       "      <td>2022-02-24</td>\n",
       "      <td>2021-12-20</td>\n",
       "      <td>151</td>\n",
       "      <td>POLYGON ((-102.90006 29.80870, -102.90006 29.8...</td>\n",
       "      <td>2021-12-20 00:59:20</td>\n",
       "      <td>2021-12-20 00:59:48</td>\n",
       "      <td>S1A_IW_SLC__1SDV_20220224T005951_20220224T0100...</td>\n",
       "      <td>0</td>\n",
       "      <td>ce1722c95b7261d4713d40a7992224ca</td>\n",
       "    </tr>\n",
       "    <tr>\n",
       "      <th>1</th>\n",
       "      <td>[S1A_IW_SLC__1SDV_20220224T010016_20220224T010...</td>\n",
       "      <td>[S1B_IW_SLC__1SDV_20211220T005920_20211220T005...</td>\n",
       "      <td>2022-02-24</td>\n",
       "      <td>2021-12-20</td>\n",
       "      <td>151</td>\n",
       "      <td>POLYGON ((-103.08892 30.75418, -103.08892 30.7...</td>\n",
       "      <td>2021-12-20 00:59:20</td>\n",
       "      <td>2021-12-20 01:00:13</td>\n",
       "      <td>S1A_IW_SLC__1SDV_20220224T010016_20220224T0100...</td>\n",
       "      <td>1</td>\n",
       "      <td>e553951c27072fa84396cae669b75e69</td>\n",
       "    </tr>\n",
       "    <tr>\n",
       "      <th>2</th>\n",
       "      <td>[S1A_IW_SLC__1SDV_20220224T010040_20220224T010...</td>\n",
       "      <td>[S1B_IW_SLC__1SDV_20211220T005946_20211220T010...</td>\n",
       "      <td>2022-02-24</td>\n",
       "      <td>2021-12-20</td>\n",
       "      <td>151</td>\n",
       "      <td>POLYGON ((-103.37798 32.24882, -103.37798 32.2...</td>\n",
       "      <td>2021-12-20 00:59:46</td>\n",
       "      <td>2021-12-20 01:00:13</td>\n",
       "      <td>S1A_IW_SLC__1SDV_20220224T010040_20220224T0100...</td>\n",
       "      <td>2</td>\n",
       "      <td>5b8d2fa99ca071d01658413b0215df64</td>\n",
       "    </tr>\n",
       "    <tr>\n",
       "      <th>3</th>\n",
       "      <td>[S1A_IW_SLC__1SDV_20220224T005951_20220224T010...</td>\n",
       "      <td>[S1B_IW_SLC__1SDV_20211208T005921_20211208T005...</td>\n",
       "      <td>2022-02-24</td>\n",
       "      <td>2021-12-08</td>\n",
       "      <td>151</td>\n",
       "      <td>POLYGON ((-102.90011 29.80895, -102.90011 29.8...</td>\n",
       "      <td>2021-12-08 00:59:21</td>\n",
       "      <td>2021-12-08 00:59:49</td>\n",
       "      <td>S1A_IW_SLC__1SDV_20220224T005951_20220224T0100...</td>\n",
       "      <td>3</td>\n",
       "      <td>f4ab7d309c1e99f8672a90bab9ace5cb</td>\n",
       "    </tr>\n",
       "    <tr>\n",
       "      <th>4</th>\n",
       "      <td>[S1A_IW_SLC__1SDV_20220224T010016_20220224T010...</td>\n",
       "      <td>[S1B_IW_SLC__1SDV_20211208T005921_20211208T005...</td>\n",
       "      <td>2022-02-24</td>\n",
       "      <td>2021-12-08</td>\n",
       "      <td>151</td>\n",
       "      <td>POLYGON ((-103.08892 30.75418, -103.08892 30.7...</td>\n",
       "      <td>2021-12-08 00:59:21</td>\n",
       "      <td>2021-12-08 01:00:14</td>\n",
       "      <td>S1A_IW_SLC__1SDV_20220224T010016_20220224T0100...</td>\n",
       "      <td>4</td>\n",
       "      <td>d649b401131edcd9c881b4af4237f9af</td>\n",
       "    </tr>\n",
       "  </tbody>\n",
       "</table>\n",
       "</div>"
      ],
      "text/plain": [
       "                                           reference  \\\n",
       "0  [S1A_IW_SLC__1SDV_20220224T005951_20220224T010...   \n",
       "1  [S1A_IW_SLC__1SDV_20220224T010016_20220224T010...   \n",
       "2  [S1A_IW_SLC__1SDV_20220224T010040_20220224T010...   \n",
       "3  [S1A_IW_SLC__1SDV_20220224T005951_20220224T010...   \n",
       "4  [S1A_IW_SLC__1SDV_20220224T010016_20220224T010...   \n",
       "\n",
       "                                           secondary reference_date  \\\n",
       "0  [S1B_IW_SLC__1SDV_20211220T005920_20211220T005...     2022-02-24   \n",
       "1  [S1B_IW_SLC__1SDV_20211220T005920_20211220T005...     2022-02-24   \n",
       "2  [S1B_IW_SLC__1SDV_20211220T005946_20211220T010...     2022-02-24   \n",
       "3  [S1B_IW_SLC__1SDV_20211208T005921_20211208T005...     2022-02-24   \n",
       "4  [S1B_IW_SLC__1SDV_20211208T005921_20211208T005...     2022-02-24   \n",
       "\n",
       "  secondary_date  path_number  \\\n",
       "0     2021-12-20          151   \n",
       "1     2021-12-20          151   \n",
       "2     2021-12-20          151   \n",
       "3     2021-12-08          151   \n",
       "4     2021-12-08          151   \n",
       "\n",
       "                                            geometry           startTime  \\\n",
       "0  POLYGON ((-102.90006 29.80870, -102.90006 29.8... 2021-12-20 00:59:20   \n",
       "1  POLYGON ((-103.08892 30.75418, -103.08892 30.7... 2021-12-20 00:59:20   \n",
       "2  POLYGON ((-103.37798 32.24882, -103.37798 32.2... 2021-12-20 00:59:46   \n",
       "3  POLYGON ((-102.90011 29.80895, -102.90011 29.8... 2021-12-08 00:59:21   \n",
       "4  POLYGON ((-103.08892 30.75418, -103.08892 30.7... 2021-12-08 00:59:21   \n",
       "\n",
       "             stopTime                                             fileID  \\\n",
       "0 2021-12-20 00:59:48  S1A_IW_SLC__1SDV_20220224T005951_20220224T0100...   \n",
       "1 2021-12-20 01:00:13  S1A_IW_SLC__1SDV_20220224T010016_20220224T0100...   \n",
       "2 2021-12-20 01:00:13  S1A_IW_SLC__1SDV_20220224T010040_20220224T0100...   \n",
       "3 2021-12-08 00:59:49  S1A_IW_SLC__1SDV_20220224T005951_20220224T0100...   \n",
       "4 2021-12-08 01:00:14  S1A_IW_SLC__1SDV_20220224T010016_20220224T0100...   \n",
       "\n",
       "   ind_col                           hash_id  \n",
       "0        0  ce1722c95b7261d4713d40a7992224ca  \n",
       "1        1  e553951c27072fa84396cae669b75e69  \n",
       "2        2  5b8d2fa99ca071d01658413b0215df64  \n",
       "3        3  f4ab7d309c1e99f8672a90bab9ace5cb  \n",
       "4        4  d649b401131edcd9c881b4af4237f9af  "
      ]
     },
     "metadata": {},
     "execution_count": 34
    }
   ],
   "metadata": {
    "ExecuteTime": {
     "end_time": "2022-01-26T20:34:47.221558Z",
     "start_time": "2022-01-26T20:34:47.178701Z"
    }
   }
  },
  {
   "cell_type": "code",
   "execution_count": 35,
   "source": [
    "f\"# of duplicated entries: {df_pairs.duplicated(subset=['hash_id']).sum()}\""
   ],
   "outputs": [
    {
     "output_type": "execute_result",
     "data": {
      "text/plain": [
       "'# of duplicated entries: 576'"
      ]
     },
     "metadata": {},
     "execution_count": 35
    }
   ],
   "metadata": {
    "ExecuteTime": {
     "end_time": "2022-01-26T20:34:47.253046Z",
     "start_time": "2022-01-26T20:34:47.223446Z"
    }
   }
  },
  {
   "cell_type": "code",
   "execution_count": 36,
   "source": [
    "df_pairs = df_pairs.drop_duplicates(subset=['hash_id']).reset_index(drop=True)\n",
    "f\"# of UNIQUE GUNWs: {df_pairs.shape[0]}\""
   ],
   "outputs": [
    {
     "output_type": "execute_result",
     "data": {
      "text/plain": [
       "'# of UNIQUE GUNWs: 1233'"
      ]
     },
     "metadata": {},
     "execution_count": 36
    }
   ],
   "metadata": {
    "ExecuteTime": {
     "end_time": "2022-01-26T20:34:47.288701Z",
     "start_time": "2022-01-26T20:34:47.254529Z"
    }
   }
  },
  {
   "cell_type": "markdown",
   "source": [
    "# Viewing GUNW pairs"
   ],
   "metadata": {}
  },
  {
   "cell_type": "code",
   "execution_count": 37,
   "source": [
    "# start index\n",
    "M = 0\n",
    "# number of pairs to view\n",
    "N = 5\n",
    "\n",
    "for J in range(M, M + N):\n",
    "    pair = ifg_pairs[J]\n",
    "\n",
    "    fig, axs = plt.subplots(1, 2, sharey=True, sharex=True)\n",
    "\n",
    "    df_ref_plot = pair['reference']\n",
    "    df_sec_plot = pair['secondary']\n",
    "\n",
    "    df_ref_plot.plot(column='start_date_str', \n",
    "                     legend=True, \n",
    "                     ax=axs[0], alpha=.15)\n",
    "    df_aoi.exterior.plot(ax=axs[0], alpha=.5, color='black')\n",
    "    axs[0].set_title('Reference')\n",
    "\n",
    "    df_sec_plot.plot(column='start_date_str', \n",
    "                     legend=True, \n",
    "                     ax=axs[1], alpha=.15)\n",
    "    df_aoi.exterior.plot(ax=axs[1], alpha=.5, color='black')\n",
    "    \n",
    "    axs[0].set_title(f'Reference {J}')\n",
    "    axs[1].set_title('Secondary')"
   ],
   "outputs": [
    {
     "output_type": "display_data",
     "data": {
      "image/png": "[encoded data removed]",
      "text/plain": [
       "<Figure size 432x288 with 2 Axes>"
      ]
     },
     "metadata": {
      "needs_background": "light"
     }
    },
    {
     "output_type": "display_data",
     "data": {
      "image/png": "[encoded data removed]",
      "text/plain": [
       "<Figure size 432x288 with 2 Axes>"
      ]
     },
     "metadata": {
      "needs_background": "light"
     }
    },
    {
     "output_type": "display_data",
     "data": {
      "image/png": "[encoded data removed]",
      "text/plain": [
       "<Figure size 432x288 with 2 Axes>"
      ]
     },
     "metadata": {
      "needs_background": "light"
     }
    },
    {
     "output_type": "display_data",
     "data": {
      "image/png": "[encoded data removed]",
      "text/plain": [
       "<Figure size 432x288 with 2 Axes>"
      ]
     },
     "metadata": {
      "needs_background": "light"
     }
    },
    {
     "output_type": "display_data",
     "data": {
      "image/png": "[encoded data removed]",
      "text/plain": [
       "<Figure size 432x288 with 2 Axes>"
      ]
     },
     "metadata": {
      "needs_background": "light"
     }
    }
   ],
   "metadata": {
    "ExecuteTime": {
     "end_time": "2022-01-26T20:34:48.692684Z",
     "start_time": "2022-01-26T20:34:47.290616Z"
    }
   }
  },
  {
   "cell_type": "markdown",
   "source": [
    "# Update types for Graphical Analysis\n",
    "\n",
    "We want to do some basic visualization to support the understanding if we traverse time correctly. We do some simple standard pandas manipulation."
   ],
   "metadata": {
    "ExecuteTime": {
     "end_time": "2022-01-21T00:54:06.533180Z",
     "start_time": "2022-01-21T00:54:06.503673Z"
    }
   }
  },
  {
   "cell_type": "code",
   "execution_count": 38,
   "source": [
    "df_pairs['reference_date'] = pd.to_datetime(df_pairs['reference_date'])\n",
    "df_pairs['secondary_date'] = pd.to_datetime(df_pairs['secondary_date'])\n",
    "df_pairs.head()"
   ],
   "outputs": [
    {
     "output_type": "execute_result",
     "data": {
      "text/html": [
       "<div>\n",
       "<style scoped>\n",
       "    .dataframe tbody tr th:only-of-type {\n",
       "        vertical-align: middle;\n",
       "    }\n",
       "\n",
       "    .dataframe tbody tr th {\n",
       "        vertical-align: top;\n",
       "    }\n",
       "\n",
       "    .dataframe thead th {\n",
       "        text-align: right;\n",
       "    }\n",
       "</style>\n",
       "<table border=\"1\" class=\"dataframe\">\n",
       "  <thead>\n",
       "    <tr style=\"text-align: right;\">\n",
       "      <th></th>\n",
       "      <th>reference</th>\n",
       "      <th>secondary</th>\n",
       "      <th>reference_date</th>\n",
       "      <th>secondary_date</th>\n",
       "      <th>path_number</th>\n",
       "      <th>geometry</th>\n",
       "      <th>startTime</th>\n",
       "      <th>stopTime</th>\n",
       "      <th>fileID</th>\n",
       "      <th>ind_col</th>\n",
       "      <th>hash_id</th>\n",
       "    </tr>\n",
       "  </thead>\n",
       "  <tbody>\n",
       "    <tr>\n",
       "      <th>0</th>\n",
       "      <td>[S1A_IW_SLC__1SDV_20220224T005951_20220224T010...</td>\n",
       "      <td>[S1B_IW_SLC__1SDV_20211220T005920_20211220T005...</td>\n",
       "      <td>2022-02-24</td>\n",
       "      <td>2021-12-20</td>\n",
       "      <td>151</td>\n",
       "      <td>POLYGON ((-102.90006 29.80870, -102.90006 29.8...</td>\n",
       "      <td>2021-12-20 00:59:20</td>\n",
       "      <td>2021-12-20 00:59:48</td>\n",
       "      <td>S1A_IW_SLC__1SDV_20220224T005951_20220224T0100...</td>\n",
       "      <td>0</td>\n",
       "      <td>ce1722c95b7261d4713d40a7992224ca</td>\n",
       "    </tr>\n",
       "    <tr>\n",
       "      <th>1</th>\n",
       "      <td>[S1A_IW_SLC__1SDV_20220224T010016_20220224T010...</td>\n",
       "      <td>[S1B_IW_SLC__1SDV_20211220T005920_20211220T005...</td>\n",
       "      <td>2022-02-24</td>\n",
       "      <td>2021-12-20</td>\n",
       "      <td>151</td>\n",
       "      <td>POLYGON ((-103.08892 30.75418, -103.08892 30.7...</td>\n",
       "      <td>2021-12-20 00:59:20</td>\n",
       "      <td>2021-12-20 01:00:13</td>\n",
       "      <td>S1A_IW_SLC__1SDV_20220224T010016_20220224T0100...</td>\n",
       "      <td>1</td>\n",
       "      <td>e553951c27072fa84396cae669b75e69</td>\n",
       "    </tr>\n",
       "    <tr>\n",
       "      <th>2</th>\n",
       "      <td>[S1A_IW_SLC__1SDV_20220224T010040_20220224T010...</td>\n",
       "      <td>[S1B_IW_SLC__1SDV_20211220T005946_20211220T010...</td>\n",
       "      <td>2022-02-24</td>\n",
       "      <td>2021-12-20</td>\n",
       "      <td>151</td>\n",
       "      <td>POLYGON ((-103.37798 32.24882, -103.37798 32.2...</td>\n",
       "      <td>2021-12-20 00:59:46</td>\n",
       "      <td>2021-12-20 01:00:13</td>\n",
       "      <td>S1A_IW_SLC__1SDV_20220224T010040_20220224T0100...</td>\n",
       "      <td>2</td>\n",
       "      <td>5b8d2fa99ca071d01658413b0215df64</td>\n",
       "    </tr>\n",
       "    <tr>\n",
       "      <th>3</th>\n",
       "      <td>[S1A_IW_SLC__1SDV_20220224T005951_20220224T010...</td>\n",
       "      <td>[S1B_IW_SLC__1SDV_20211208T005921_20211208T005...</td>\n",
       "      <td>2022-02-24</td>\n",
       "      <td>2021-12-08</td>\n",
       "      <td>151</td>\n",
       "      <td>POLYGON ((-102.90011 29.80895, -102.90011 29.8...</td>\n",
       "      <td>2021-12-08 00:59:21</td>\n",
       "      <td>2021-12-08 00:59:49</td>\n",
       "      <td>S1A_IW_SLC__1SDV_20220224T005951_20220224T0100...</td>\n",
       "      <td>3</td>\n",
       "      <td>f4ab7d309c1e99f8672a90bab9ace5cb</td>\n",
       "    </tr>\n",
       "    <tr>\n",
       "      <th>4</th>\n",
       "      <td>[S1A_IW_SLC__1SDV_20220224T010016_20220224T010...</td>\n",
       "      <td>[S1B_IW_SLC__1SDV_20211208T005921_20211208T005...</td>\n",
       "      <td>2022-02-24</td>\n",
       "      <td>2021-12-08</td>\n",
       "      <td>151</td>\n",
       "      <td>POLYGON ((-103.08892 30.75418, -103.08892 30.7...</td>\n",
       "      <td>2021-12-08 00:59:21</td>\n",
       "      <td>2021-12-08 01:00:14</td>\n",
       "      <td>S1A_IW_SLC__1SDV_20220224T010016_20220224T0100...</td>\n",
       "      <td>4</td>\n",
       "      <td>d649b401131edcd9c881b4af4237f9af</td>\n",
       "    </tr>\n",
       "  </tbody>\n",
       "</table>\n",
       "</div>"
      ],
      "text/plain": [
       "                                           reference  \\\n",
       "0  [S1A_IW_SLC__1SDV_20220224T005951_20220224T010...   \n",
       "1  [S1A_IW_SLC__1SDV_20220224T010016_20220224T010...   \n",
       "2  [S1A_IW_SLC__1SDV_20220224T010040_20220224T010...   \n",
       "3  [S1A_IW_SLC__1SDV_20220224T005951_20220224T010...   \n",
       "4  [S1A_IW_SLC__1SDV_20220224T010016_20220224T010...   \n",
       "\n",
       "                                           secondary reference_date  \\\n",
       "0  [S1B_IW_SLC__1SDV_20211220T005920_20211220T005...     2022-02-24   \n",
       "1  [S1B_IW_SLC__1SDV_20211220T005920_20211220T005...     2022-02-24   \n",
       "2  [S1B_IW_SLC__1SDV_20211220T005946_20211220T010...     2022-02-24   \n",
       "3  [S1B_IW_SLC__1SDV_20211208T005921_20211208T005...     2022-02-24   \n",
       "4  [S1B_IW_SLC__1SDV_20211208T005921_20211208T005...     2022-02-24   \n",
       "\n",
       "  secondary_date  path_number  \\\n",
       "0     2021-12-20          151   \n",
       "1     2021-12-20          151   \n",
       "2     2021-12-20          151   \n",
       "3     2021-12-08          151   \n",
       "4     2021-12-08          151   \n",
       "\n",
       "                                            geometry           startTime  \\\n",
       "0  POLYGON ((-102.90006 29.80870, -102.90006 29.8... 2021-12-20 00:59:20   \n",
       "1  POLYGON ((-103.08892 30.75418, -103.08892 30.7... 2021-12-20 00:59:20   \n",
       "2  POLYGON ((-103.37798 32.24882, -103.37798 32.2... 2021-12-20 00:59:46   \n",
       "3  POLYGON ((-102.90011 29.80895, -102.90011 29.8... 2021-12-08 00:59:21   \n",
       "4  POLYGON ((-103.08892 30.75418, -103.08892 30.7... 2021-12-08 00:59:21   \n",
       "\n",
       "             stopTime                                             fileID  \\\n",
       "0 2021-12-20 00:59:48  S1A_IW_SLC__1SDV_20220224T005951_20220224T0100...   \n",
       "1 2021-12-20 01:00:13  S1A_IW_SLC__1SDV_20220224T010016_20220224T0100...   \n",
       "2 2021-12-20 01:00:13  S1A_IW_SLC__1SDV_20220224T010040_20220224T0100...   \n",
       "3 2021-12-08 00:59:49  S1A_IW_SLC__1SDV_20220224T005951_20220224T0100...   \n",
       "4 2021-12-08 01:00:14  S1A_IW_SLC__1SDV_20220224T010016_20220224T0100...   \n",
       "\n",
       "   ind_col                           hash_id  \n",
       "0        0  ce1722c95b7261d4713d40a7992224ca  \n",
       "1        1  e553951c27072fa84396cae669b75e69  \n",
       "2        2  5b8d2fa99ca071d01658413b0215df64  \n",
       "3        3  f4ab7d309c1e99f8672a90bab9ace5cb  \n",
       "4        4  d649b401131edcd9c881b4af4237f9af  "
      ]
     },
     "metadata": {},
     "execution_count": 38
    }
   ],
   "metadata": {
    "ExecuteTime": {
     "end_time": "2022-01-26T20:34:48.738198Z",
     "start_time": "2022-01-26T20:34:48.698474Z"
    }
   }
  },
  {
   "cell_type": "markdown",
   "source": [
    "# Visualize a Date Graph from Time Series\n",
    "\n",
    "We can put this into a network Directed Graph and use some simple network functions to check connectivity.\n",
    "\n",
    "We are going to use just dates for nodes, though you could use `(ref_date, hash_id)` for nodes and then inspect connected components. That is for another notebook."
   ],
   "metadata": {}
  },
  {
   "cell_type": "code",
   "execution_count": 39,
   "source": [
    "list(zip(df_pairs.reference_date, df_pairs.secondary_date))[:15]"
   ],
   "outputs": [
    {
     "output_type": "execute_result",
     "data": {
      "text/plain": [
       "[(Timestamp('2022-02-24 00:00:00'), Timestamp('2021-12-20 00:00:00')),\n",
       " (Timestamp('2022-02-24 00:00:00'), Timestamp('2021-12-20 00:00:00')),\n",
       " (Timestamp('2022-02-24 00:00:00'), Timestamp('2021-12-20 00:00:00')),\n",
       " (Timestamp('2022-02-24 00:00:00'), Timestamp('2021-12-08 00:00:00')),\n",
       " (Timestamp('2022-02-24 00:00:00'), Timestamp('2021-12-08 00:00:00')),\n",
       " (Timestamp('2022-02-24 00:00:00'), Timestamp('2021-12-08 00:00:00')),\n",
       " (Timestamp('2022-02-24 00:00:00'), Timestamp('2021-11-26 00:00:00')),\n",
       " (Timestamp('2022-02-24 00:00:00'), Timestamp('2021-11-26 00:00:00')),\n",
       " (Timestamp('2022-02-24 00:00:00'), Timestamp('2021-11-26 00:00:00')),\n",
       " (Timestamp('2021-12-08 00:00:00'), Timestamp('2021-11-26 00:00:00')),\n",
       " (Timestamp('2021-12-08 00:00:00'), Timestamp('2021-11-26 00:00:00')),\n",
       " (Timestamp('2021-12-08 00:00:00'), Timestamp('2021-11-14 00:00:00')),\n",
       " (Timestamp('2021-12-08 00:00:00'), Timestamp('2021-11-14 00:00:00')),\n",
       " (Timestamp('2021-12-08 00:00:00'), Timestamp('2021-11-02 00:00:00')),\n",
       " (Timestamp('2021-12-08 00:00:00'), Timestamp('2021-11-02 00:00:00'))]"
      ]
     },
     "metadata": {},
     "execution_count": 39
    }
   ],
   "metadata": {
    "ExecuteTime": {
     "end_time": "2022-01-26T20:34:48.772150Z",
     "start_time": "2022-01-26T20:34:48.741632Z"
    }
   }
  },
  {
   "cell_type": "code",
   "execution_count": 40,
   "source": [
    "unique_dates = df_pairs.reference_date.tolist() + df_pairs.secondary_date.tolist()\n",
    "unique_dates = sorted(list(set(unique_dates)))\n",
    "unique_dates[:4]"
   ],
   "outputs": [
    {
     "output_type": "execute_result",
     "data": {
      "text/plain": [
       "[Timestamp('2014-10-28 00:00:00'),\n",
       " Timestamp('2014-11-21 00:00:00'),\n",
       " Timestamp('2014-12-15 00:00:00'),\n",
       " Timestamp('2015-01-08 00:00:00')]"
      ]
     },
     "metadata": {},
     "execution_count": 40
    }
   ],
   "metadata": {
    "ExecuteTime": {
     "end_time": "2022-01-26T20:34:48.807863Z",
     "start_time": "2022-01-26T20:34:48.773979Z"
    }
   }
  },
  {
   "cell_type": "code",
   "execution_count": 41,
   "source": [
    "date2node = {date: k for (k, date) in enumerate(unique_dates)}\n",
    "node2date = {k: date for (date, k) in date2node.items()}"
   ],
   "outputs": [],
   "metadata": {
    "ExecuteTime": {
     "end_time": "2022-01-26T20:34:48.841055Z",
     "start_time": "2022-01-26T20:34:48.809823Z"
    }
   }
  },
  {
   "cell_type": "code",
   "execution_count": 42,
   "source": [
    "G = nx.DiGraph()\n",
    "\n",
    "edges = [(date2node[ref_date], date2node[sec_date]) \n",
    "         for (ref_date, sec_date) in zip(df_pairs.reference_date, df_pairs.secondary_date)]\n",
    "G.add_edges_from(edges)"
   ],
   "outputs": [],
   "metadata": {
    "ExecuteTime": {
     "end_time": "2022-01-26T20:34:48.875175Z",
     "start_time": "2022-01-26T20:34:48.842926Z"
    }
   }
  },
  {
   "cell_type": "code",
   "execution_count": 43,
   "source": [
    "nx.draw(G)"
   ],
   "outputs": [
    {
     "output_type": "display_data",
     "data": {
      "image/png": "[encoded data removed]",
      "text/plain": [
       "<Figure size 432x288 with 1 Axes>"
      ]
     },
     "metadata": {}
    }
   ],
   "metadata": {
    "ExecuteTime": {
     "end_time": "2022-01-26T20:34:49.531340Z",
     "start_time": "2022-01-26T20:34:48.876939Z"
    }
   }
  },
  {
   "cell_type": "markdown",
   "source": [
    "This function checks there is a path from the first date to the last one."
   ],
   "metadata": {}
  },
  {
   "cell_type": "code",
   "execution_count": 44,
   "source": [
    "nx.has_path(G, \n",
    "            target=date2node[unique_dates[0]],\n",
    "            source=date2node[unique_dates[-1]])"
   ],
   "outputs": [
    {
     "output_type": "execute_result",
     "data": {
      "text/plain": [
       "True"
      ]
     },
     "metadata": {},
     "execution_count": 44
    }
   ],
   "metadata": {
    "ExecuteTime": {
     "end_time": "2022-01-26T20:34:49.562722Z",
     "start_time": "2022-01-26T20:34:49.532969Z"
    }
   }
  },
  {
   "cell_type": "markdown",
   "source": [
    "The y-axis is created purely for display so doesn't really indicated anything but flow by month."
   ],
   "metadata": {}
  },
  {
   "cell_type": "code",
   "execution_count": 45,
   "source": [
    "fig, ax = plt.subplots(figsize=(15, 5))\n",
    "\n",
    "increment = [date.month + date.day for date in unique_dates]\n",
    "\n",
    "# source: https://stackoverflow.com/a/27852570\n",
    "scat = ax.scatter(unique_dates, increment)\n",
    "position = scat.get_offsets().data\n",
    "\n",
    "pos = {date2node[date]: position[k] for (k, date) in enumerate(unique_dates)}\n",
    "nx.draw_networkx_edges(G, pos=pos, ax=ax)\n",
    "ax.grid('on')\n",
    "ax.tick_params(axis='x',\n",
    "               which='major',\n",
    "               labelbottom=True,\n",
    "               labelleft=True)\n",
    "ymin, ymax = ax.get_ylim()\n",
    "for y in range(2015, 2022):\n",
    "    label = 'June to Oct' if y == 2016 else None\n",
    "    ax.fill_between([datetime.datetime(y, 6, 1), datetime.datetime(y, 11, 1)], \n",
    "                    ymin, ymax, \n",
    "                    alpha=.5, color='green', zorder=0, label=label)\n",
    "plt.legend()"
   ],
   "outputs": [
    {
     "output_type": "execute_result",
     "data": {
      "text/plain": [
       "<matplotlib.legend.Legend at 0x1b23245b0>"
      ]
     },
     "metadata": {},
     "execution_count": 45
    },
    {
     "output_type": "display_data",
     "data": {
      "image/png": "[encoded data removed]",
      "text/plain": [
       "<Figure size 1080x360 with 1 Axes>"
      ]
     },
     "metadata": {
      "needs_background": "light"
     }
    }
   ],
   "metadata": {
    "ExecuteTime": {
     "end_time": "2022-01-26T20:34:51.843019Z",
     "start_time": "2022-01-26T20:34:49.564366Z"
    }
   }
  },
  {
   "cell_type": "markdown",
   "source": [
    "Observe there is a gap in 2018 over are area of interest. This is where our 3 year \"temporal_window_days\" parameter in our enumeration was essential."
   ],
   "metadata": {}
  },
  {
   "cell_type": "markdown",
   "source": [
    "# Deduplication Pt. 2\n",
    "\n",
    "This is to ensure that previous processing hasn't generate any of the products we have just enumerated.\n",
    "\n",
    "\n",
    "# Check CMR\n",
    "\n",
    "This function checks the ASF DAAC if there are GUNWs with the same spatial extent and same date pairs as the ones created. At some point, we will be able to check the input SLC ids from CMR, but currently that is not possible.\n",
    "\n",
    "If you are processing a new AOI whose products have not been delivered, you can ignore this step. It is a bit time consuming as the queries are done product by product."
   ],
   "metadata": {}
  },
  {
   "cell_type": "code",
   "execution_count": 46,
   "source": [
    "from s1_enumerator import duplicate_gunw_found\n",
    "import concurrent\n",
    "from tqdm import tqdm\n",
    "\n",
    "n = df_pairs.shape[0]\n",
    "with concurrent.futures.ThreadPoolExecutor(max_workers=15) as executor:\n",
    "    results = list(tqdm(executor.map(duplicate_gunw_found, df_pairs.to_dict('records')), total=n))"
   ],
   "outputs": [
    {
     "output_type": "stream",
     "name": "stderr",
     "text": [
      "  0%|          | 0/1868 [00:00<?, ?it/s]/Users/ssangha/Downloads/snap_setup/stable_oct5_2021/envs/s1-enumerator/lib/python3.9/site-packages/s1_enumerator/formatter.py:17: UserWarning: Dataframe is empty! Check inputs.\n",
      "  warn('Dataframe is empty! Check inputs.')\n",
      "/Users/ssangha/Downloads/snap_setup/stable_oct5_2021/envs/s1-enumerator/lib/python3.9/site-packages/s1_enumerator/formatter.py:17: UserWarning: Dataframe is empty! Check inputs.\n",
      "  warn('Dataframe is empty! Check inputs.')\n",
      "/Users/ssangha/Downloads/snap_setup/stable_oct5_2021/envs/s1-enumerator/lib/python3.9/site-packages/s1_enumerator/formatter.py:17: UserWarning: Dataframe is empty! Check inputs.\n",
      "  warn('Dataframe is empty! Check inputs.')\n",
      "/Users/ssangha/Downloads/snap_setup/stable_oct5_2021/envs/s1-enumerator/lib/python3.9/site-packages/s1_enumerator/formatter.py:17: UserWarning: Dataframe is empty! Check inputs.\n",
      "  warn('Dataframe is empty! Check inputs.')\n",
      "/Users/ssangha/Downloads/snap_setup/stable_oct5_2021/envs/s1-enumerator/lib/python3.9/site-packages/s1_enumerator/formatter.py:17: UserWarning: Dataframe is empty! Check inputs.\n",
      "  warn('Dataframe is empty! Check inputs.')\n",
      "  0%|          | 1/1868 [00:02<1:20:55,  2.60s/it]/Users/ssangha/Downloads/snap_setup/stable_oct5_2021/envs/s1-enumerator/lib/python3.9/site-packages/s1_enumerator/formatter.py:17: UserWarning: Dataframe is empty! Check inputs.\n",
      "  warn('Dataframe is empty! Check inputs.')\n",
      "/Users/ssangha/Downloads/snap_setup/stable_oct5_2021/envs/s1-enumerator/lib/python3.9/site-packages/s1_enumerator/formatter.py:17: UserWarning: Dataframe is empty! Check inputs.\n",
      "  warn('Dataframe is empty! Check inputs.')\n",
      "/Users/ssangha/Downloads/snap_setup/stable_oct5_2021/envs/s1-enumerator/lib/python3.9/site-packages/s1_enumerator/formatter.py:17: UserWarning: Dataframe is empty! Check inputs.\n",
      "  warn('Dataframe is empty! Check inputs.')\n",
      "/Users/ssangha/Downloads/snap_setup/stable_oct5_2021/envs/s1-enumerator/lib/python3.9/site-packages/s1_enumerator/formatter.py:17: UserWarning: Dataframe is empty! Check inputs.\n",
      "  warn('Dataframe is empty! Check inputs.')\n",
      "/Users/ssangha/Downloads/snap_setup/stable_oct5_2021/envs/s1-enumerator/lib/python3.9/site-packages/s1_enumerator/formatter.py:17: UserWarning: Dataframe is empty! Check inputs.\n",
      "  warn('Dataframe is empty! Check inputs.')\n",
      "  0%|          | 2/1868 [00:02<38:48,  1.25s/it]  /Users/ssangha/Downloads/snap_setup/stable_oct5_2021/envs/s1-enumerator/lib/python3.9/site-packages/s1_enumerator/formatter.py:17: UserWarning: Dataframe is empty! Check inputs.\n",
      "  warn('Dataframe is empty! Check inputs.')\n",
      "/Users/ssangha/Downloads/snap_setup/stable_oct5_2021/envs/s1-enumerator/lib/python3.9/site-packages/s1_enumerator/formatter.py:17: UserWarning: Dataframe is empty! Check inputs.\n",
      "  warn('Dataframe is empty! Check inputs.')\n",
      "/Users/ssangha/Downloads/snap_setup/stable_oct5_2021/envs/s1-enumerator/lib/python3.9/site-packages/s1_enumerator/formatter.py:17: UserWarning: Dataframe is empty! Check inputs.\n",
      "  warn('Dataframe is empty! Check inputs.')\n",
      "  0%|          | 5/1868 [00:03<11:44,  2.64it/s]/Users/ssangha/Downloads/snap_setup/stable_oct5_2021/envs/s1-enumerator/lib/python3.9/site-packages/s1_enumerator/formatter.py:17: UserWarning: Dataframe is empty! Check inputs.\n",
      "  warn('Dataframe is empty! Check inputs.')\n",
      "/Users/ssangha/Downloads/snap_setup/stable_oct5_2021/envs/s1-enumerator/lib/python3.9/site-packages/s1_enumerator/formatter.py:17: UserWarning: Dataframe is empty! Check inputs.\n",
      "  warn('Dataframe is empty! Check inputs.')\n",
      "/Users/ssangha/Downloads/snap_setup/stable_oct5_2021/envs/s1-enumerator/lib/python3.9/site-packages/s1_enumerator/formatter.py:17: UserWarning: Dataframe is empty! Check inputs.\n",
      "  warn('Dataframe is empty! Check inputs.')\n",
      "  1%|          | 16/1868 [00:03<04:08,  7.46it/s]/Users/ssangha/Downloads/snap_setup/stable_oct5_2021/envs/s1-enumerator/lib/python3.9/site-packages/s1_enumerator/formatter.py:17: UserWarning: Dataframe is empty! Check inputs.\n",
      "  warn('Dataframe is empty! Check inputs.')\n",
      "/Users/ssangha/Downloads/snap_setup/stable_oct5_2021/envs/s1-enumerator/lib/python3.9/site-packages/s1_enumerator/formatter.py:17: UserWarning: Dataframe is empty! Check inputs.\n",
      "  warn('Dataframe is empty! Check inputs.')\n",
      "/Users/ssangha/Downloads/snap_setup/stable_oct5_2021/envs/s1-enumerator/lib/python3.9/site-packages/s1_enumerator/formatter.py:17: UserWarning: Dataframe is empty! Check inputs.\n",
      "  warn('Dataframe is empty! Check inputs.')\n",
      "/Users/ssangha/Downloads/snap_setup/stable_oct5_2021/envs/s1-enumerator/lib/python3.9/site-packages/s1_enumerator/formatter.py:17: UserWarning: Dataframe is empty! Check inputs.\n",
      "  warn('Dataframe is empty! Check inputs.')\n",
      "/Users/ssangha/Downloads/snap_setup/stable_oct5_2021/envs/s1-enumerator/lib/python3.9/site-packages/s1_enumerator/formatter.py:17: UserWarning: Dataframe is empty! Check inputs.\n",
      "  warn('Dataframe is empty! Check inputs.')\n",
      "/Users/ssangha/Downloads/snap_setup/stable_oct5_2021/envs/s1-enumerator/lib/python3.9/site-packages/s1_enumerator/formatter.py:17: UserWarning: Dataframe is empty! Check inputs.\n",
      "  warn('Dataframe is empty! Check inputs.')\n",
      "  1%|          | 18/1868 [00:04<04:44,  6.50it/s]/Users/ssangha/Downloads/snap_setup/stable_oct5_2021/envs/s1-enumerator/lib/python3.9/site-packages/s1_enumerator/formatter.py:17: UserWarning: Dataframe is empty! Check inputs.\n",
      "  warn('Dataframe is empty! Check inputs.')\n",
      "/Users/ssangha/Downloads/snap_setup/stable_oct5_2021/envs/s1-enumerator/lib/python3.9/site-packages/s1_enumerator/formatter.py:17: UserWarning: Dataframe is empty! Check inputs.\n",
      "  warn('Dataframe is empty! Check inputs.')\n",
      "  1%|          | 22/1868 [00:04<03:39,  8.40it/s]/Users/ssangha/Downloads/snap_setup/stable_oct5_2021/envs/s1-enumerator/lib/python3.9/site-packages/s1_enumerator/formatter.py:17: UserWarning: Dataframe is empty! Check inputs.\n",
      "  warn('Dataframe is empty! Check inputs.')\n",
      "  1%|▏         | 24/1868 [00:04<03:18,  9.29it/s]/Users/ssangha/Downloads/snap_setup/stable_oct5_2021/envs/s1-enumerator/lib/python3.9/site-packages/s1_enumerator/formatter.py:17: UserWarning: Dataframe is empty! Check inputs.\n",
      "  warn('Dataframe is empty! Check inputs.')\n",
      "/Users/ssangha/Downloads/snap_setup/stable_oct5_2021/envs/s1-enumerator/lib/python3.9/site-packages/s1_enumerator/formatter.py:17: UserWarning: Dataframe is empty! Check inputs.\n",
      "  warn('Dataframe is empty! Check inputs.')\n",
      "/Users/ssangha/Downloads/snap_setup/stable_oct5_2021/envs/s1-enumerator/lib/python3.9/site-packages/s1_enumerator/formatter.py:17: UserWarning: Dataframe is empty! Check inputs.\n",
      "  warn('Dataframe is empty! Check inputs.')\n",
      "/Users/ssangha/Downloads/snap_setup/stable_oct5_2021/envs/s1-enumerator/lib/python3.9/site-packages/s1_enumerator/formatter.py:17: UserWarning: Dataframe is empty! Check inputs.\n",
      "  warn('Dataframe is empty! Check inputs.')\n",
      "/Users/ssangha/Downloads/snap_setup/stable_oct5_2021/envs/s1-enumerator/lib/python3.9/site-packages/s1_enumerator/formatter.py:17: UserWarning: Dataframe is empty! Check inputs.\n",
      "  warn('Dataframe is empty! Check inputs.')\n",
      "  1%|▏         | 26/1868 [00:04<03:31,  8.73it/s]/Users/ssangha/Downloads/snap_setup/stable_oct5_2021/envs/s1-enumerator/lib/python3.9/site-packages/s1_enumerator/formatter.py:17: UserWarning: Dataframe is empty! Check inputs.\n",
      "  warn('Dataframe is empty! Check inputs.')\n",
      "  2%|▏         | 31/1868 [00:05<02:55, 10.47it/s]/Users/ssangha/Downloads/snap_setup/stable_oct5_2021/envs/s1-enumerator/lib/python3.9/site-packages/s1_enumerator/formatter.py:17: UserWarning: Dataframe is empty! Check inputs.\n",
      "  warn('Dataframe is empty! Check inputs.')\n",
      "/Users/ssangha/Downloads/snap_setup/stable_oct5_2021/envs/s1-enumerator/lib/python3.9/site-packages/s1_enumerator/formatter.py:17: UserWarning: Dataframe is empty! Check inputs.\n",
      "  warn('Dataframe is empty! Check inputs.')\n",
      "/Users/ssangha/Downloads/snap_setup/stable_oct5_2021/envs/s1-enumerator/lib/python3.9/site-packages/s1_enumerator/formatter.py:17: UserWarning: Dataframe is empty! Check inputs.\n",
      "  warn('Dataframe is empty! Check inputs.')\n",
      "  2%|▏         | 33/1868 [00:05<03:16,  9.36it/s]/Users/ssangha/Downloads/snap_setup/stable_oct5_2021/envs/s1-enumerator/lib/python3.9/site-packages/s1_enumerator/formatter.py:17: UserWarning: Dataframe is empty! Check inputs.\n",
      "  warn('Dataframe is empty! Check inputs.')\n",
      "/Users/ssangha/Downloads/snap_setup/stable_oct5_2021/envs/s1-enumerator/lib/python3.9/site-packages/s1_enumerator/formatter.py:17: UserWarning: Dataframe is empty! Check inputs.\n",
      "  warn('Dataframe is empty! Check inputs.')\n",
      "  2%|▏         | 35/1868 [00:05<03:23,  9.02it/s]/Users/ssangha/Downloads/snap_setup/stable_oct5_2021/envs/s1-enumerator/lib/python3.9/site-packages/s1_enumerator/formatter.py:17: UserWarning: Dataframe is empty! Check inputs.\n",
      "  warn('Dataframe is empty! Check inputs.')\n",
      "  2%|▏         | 38/1868 [00:05<03:00, 10.16it/s]/Users/ssangha/Downloads/snap_setup/stable_oct5_2021/envs/s1-enumerator/lib/python3.9/site-packages/s1_enumerator/formatter.py:17: UserWarning: Dataframe is empty! Check inputs.\n",
      "  warn('Dataframe is empty! Check inputs.')\n",
      "/Users/ssangha/Downloads/snap_setup/stable_oct5_2021/envs/s1-enumerator/lib/python3.9/site-packages/s1_enumerator/formatter.py:17: UserWarning: Dataframe is empty! Check inputs.\n",
      "  warn('Dataframe is empty! Check inputs.')\n",
      "/Users/ssangha/Downloads/snap_setup/stable_oct5_2021/envs/s1-enumerator/lib/python3.9/site-packages/s1_enumerator/formatter.py:17: UserWarning: Dataframe is empty! Check inputs.\n",
      "  warn('Dataframe is empty! Check inputs.')\n",
      "  2%|▏         | 41/1868 [00:06<02:47, 10.93it/s]/Users/ssangha/Downloads/snap_setup/stable_oct5_2021/envs/s1-enumerator/lib/python3.9/site-packages/s1_enumerator/formatter.py:17: UserWarning: Dataframe is empty! Check inputs.\n",
      "  warn('Dataframe is empty! Check inputs.')\n",
      "/Users/ssangha/Downloads/snap_setup/stable_oct5_2021/envs/s1-enumerator/lib/python3.9/site-packages/s1_enumerator/formatter.py:17: UserWarning: Dataframe is empty! Check inputs.\n",
      "  warn('Dataframe is empty! Check inputs.')\n",
      "/Users/ssangha/Downloads/snap_setup/stable_oct5_2021/envs/s1-enumerator/lib/python3.9/site-packages/s1_enumerator/formatter.py:17: UserWarning: Dataframe is empty! Check inputs.\n",
      "  warn('Dataframe is empty! Check inputs.')\n",
      "  2%|▏         | 43/1868 [00:06<02:45, 11.04it/s]/Users/ssangha/Downloads/snap_setup/stable_oct5_2021/envs/s1-enumerator/lib/python3.9/site-packages/s1_enumerator/formatter.py:17: UserWarning: Dataframe is empty! Check inputs.\n",
      "  warn('Dataframe is empty! Check inputs.')\n",
      "/Users/ssangha/Downloads/snap_setup/stable_oct5_2021/envs/s1-enumerator/lib/python3.9/site-packages/s1_enumerator/formatter.py:17: UserWarning: Dataframe is empty! Check inputs.\n",
      "  warn('Dataframe is empty! Check inputs.')\n",
      "  2%|▏         | 46/1868 [00:06<02:25, 12.53it/s]/Users/ssangha/Downloads/snap_setup/stable_oct5_2021/envs/s1-enumerator/lib/python3.9/site-packages/s1_enumerator/formatter.py:17: UserWarning: Dataframe is empty! Check inputs.\n",
      "  warn('Dataframe is empty! Check inputs.')\n",
      "/Users/ssangha/Downloads/snap_setup/stable_oct5_2021/envs/s1-enumerator/lib/python3.9/site-packages/s1_enumerator/formatter.py:17: UserWarning: Dataframe is empty! Check inputs.\n",
      "  warn('Dataframe is empty! Check inputs.')\n",
      "/Users/ssangha/Downloads/snap_setup/stable_oct5_2021/envs/s1-enumerator/lib/python3.9/site-packages/s1_enumerator/formatter.py:17: UserWarning: Dataframe is empty! Check inputs.\n",
      "  warn('Dataframe is empty! Check inputs.')\n",
      "  3%|▎         | 48/1868 [00:06<03:18,  9.17it/s]/Users/ssangha/Downloads/snap_setup/stable_oct5_2021/envs/s1-enumerator/lib/python3.9/site-packages/s1_enumerator/formatter.py:17: UserWarning: Dataframe is empty! Check inputs.\n",
      "  warn('Dataframe is empty! Check inputs.')\n",
      "/Users/ssangha/Downloads/snap_setup/stable_oct5_2021/envs/s1-enumerator/lib/python3.9/site-packages/s1_enumerator/formatter.py:17: UserWarning: Dataframe is empty! Check inputs.\n",
      "  warn('Dataframe is empty! Check inputs.')\n",
      "  3%|▎         | 50/1868 [00:07<03:25,  8.84it/s]/Users/ssangha/Downloads/snap_setup/stable_oct5_2021/envs/s1-enumerator/lib/python3.9/site-packages/s1_enumerator/formatter.py:17: UserWarning: Dataframe is empty! Check inputs.\n",
      "  warn('Dataframe is empty! Check inputs.')\n",
      "  3%|▎         | 52/1868 [00:07<03:46,  8.01it/s]/Users/ssangha/Downloads/snap_setup/stable_oct5_2021/envs/s1-enumerator/lib/python3.9/site-packages/s1_enumerator/formatter.py:17: UserWarning: Dataframe is empty! Check inputs.\n",
      "  warn('Dataframe is empty! Check inputs.')\n",
      "/Users/ssangha/Downloads/snap_setup/stable_oct5_2021/envs/s1-enumerator/lib/python3.9/site-packages/s1_enumerator/formatter.py:17: UserWarning: Dataframe is empty! Check inputs.\n",
      "  warn('Dataframe is empty! Check inputs.')\n",
      "  3%|▎         | 53/1868 [00:08<05:30,  5.49it/s]/Users/ssangha/Downloads/snap_setup/stable_oct5_2021/envs/s1-enumerator/lib/python3.9/site-packages/s1_enumerator/formatter.py:17: UserWarning: Dataframe is empty! Check inputs.\n",
      "  warn('Dataframe is empty! Check inputs.')\n",
      "/Users/ssangha/Downloads/snap_setup/stable_oct5_2021/envs/s1-enumerator/lib/python3.9/site-packages/s1_enumerator/formatter.py:17: UserWarning: Dataframe is empty! Check inputs.\n",
      "  warn('Dataframe is empty! Check inputs.')\n",
      "/Users/ssangha/Downloads/snap_setup/stable_oct5_2021/envs/s1-enumerator/lib/python3.9/site-packages/s1_enumerator/formatter.py:17: UserWarning: Dataframe is empty! Check inputs.\n",
      "  warn('Dataframe is empty! Check inputs.')\n",
      "/Users/ssangha/Downloads/snap_setup/stable_oct5_2021/envs/s1-enumerator/lib/python3.9/site-packages/s1_enumerator/formatter.py:17: UserWarning: Dataframe is empty! Check inputs.\n",
      "  warn('Dataframe is empty! Check inputs.')\n",
      "  3%|▎         | 54/1868 [00:08<05:59,  5.05it/s]/Users/ssangha/Downloads/snap_setup/stable_oct5_2021/envs/s1-enumerator/lib/python3.9/site-packages/s1_enumerator/formatter.py:17: UserWarning: Dataframe is empty! Check inputs.\n",
      "  warn('Dataframe is empty! Check inputs.')\n",
      "/Users/ssangha/Downloads/snap_setup/stable_oct5_2021/envs/s1-enumerator/lib/python3.9/site-packages/s1_enumerator/formatter.py:17: UserWarning: Dataframe is empty! Check inputs.\n",
      "  warn('Dataframe is empty! Check inputs.')\n",
      "/Users/ssangha/Downloads/snap_setup/stable_oct5_2021/envs/s1-enumerator/lib/python3.9/site-packages/s1_enumerator/formatter.py:17: UserWarning: Dataframe is empty! Check inputs.\n",
      "  warn('Dataframe is empty! Check inputs.')\n",
      "/Users/ssangha/Downloads/snap_setup/stable_oct5_2021/envs/s1-enumerator/lib/python3.9/site-packages/s1_enumerator/formatter.py:17: UserWarning: Dataframe is empty! Check inputs.\n",
      "  warn('Dataframe is empty! Check inputs.')\n",
      "/Users/ssangha/Downloads/snap_setup/stable_oct5_2021/envs/s1-enumerator/lib/python3.9/site-packages/s1_enumerator/formatter.py:17: UserWarning: Dataframe is empty! Check inputs.\n",
      "  warn('Dataframe is empty! Check inputs.')\n",
      "  3%|▎         | 59/1868 [00:08<03:31,  8.54it/s]/Users/ssangha/Downloads/snap_setup/stable_oct5_2021/envs/s1-enumerator/lib/python3.9/site-packages/s1_enumerator/formatter.py:17: UserWarning: Dataframe is empty! Check inputs.\n",
      "  warn('Dataframe is empty! Check inputs.')\n",
      "  3%|▎         | 62/1868 [00:08<02:57, 10.16it/s]/Users/ssangha/Downloads/snap_setup/stable_oct5_2021/envs/s1-enumerator/lib/python3.9/site-packages/s1_enumerator/formatter.py:17: UserWarning: Dataframe is empty! Check inputs.\n",
      "  warn('Dataframe is empty! Check inputs.')\n",
      "/Users/ssangha/Downloads/snap_setup/stable_oct5_2021/envs/s1-enumerator/lib/python3.9/site-packages/s1_enumerator/formatter.py:17: UserWarning: Dataframe is empty! Check inputs.\n",
      "  warn('Dataframe is empty! Check inputs.')\n",
      "  4%|▎         | 66/1868 [00:08<02:26, 12.27it/s]/Users/ssangha/Downloads/snap_setup/stable_oct5_2021/envs/s1-enumerator/lib/python3.9/site-packages/s1_enumerator/formatter.py:17: UserWarning: Dataframe is empty! Check inputs.\n",
      "  warn('Dataframe is empty! Check inputs.')\n",
      "/Users/ssangha/Downloads/snap_setup/stable_oct5_2021/envs/s1-enumerator/lib/python3.9/site-packages/s1_enumerator/formatter.py:17: UserWarning: Dataframe is empty! Check inputs.\n",
      "  warn('Dataframe is empty! Check inputs.')\n",
      "/Users/ssangha/Downloads/snap_setup/stable_oct5_2021/envs/s1-enumerator/lib/python3.9/site-packages/s1_enumerator/formatter.py:17: UserWarning: Dataframe is empty! Check inputs.\n",
      "  warn('Dataframe is empty! Check inputs.')\n",
      "  4%|▎         | 68/1868 [00:09<02:53, 10.35it/s]/Users/ssangha/Downloads/snap_setup/stable_oct5_2021/envs/s1-enumerator/lib/python3.9/site-packages/s1_enumerator/formatter.py:17: UserWarning: Dataframe is empty! Check inputs.\n",
      "  warn('Dataframe is empty! Check inputs.')\n",
      "  4%|▎         | 70/1868 [00:09<02:54, 10.28it/s]/Users/ssangha/Downloads/snap_setup/stable_oct5_2021/envs/s1-enumerator/lib/python3.9/site-packages/s1_enumerator/formatter.py:17: UserWarning: Dataframe is empty! Check inputs.\n",
      "  warn('Dataframe is empty! Check inputs.')\n",
      "/Users/ssangha/Downloads/snap_setup/stable_oct5_2021/envs/s1-enumerator/lib/python3.9/site-packages/s1_enumerator/formatter.py:17: UserWarning: Dataframe is empty! Check inputs.\n",
      "  warn('Dataframe is empty! Check inputs.')\n",
      "/Users/ssangha/Downloads/snap_setup/stable_oct5_2021/envs/s1-enumerator/lib/python3.9/site-packages/s1_enumerator/formatter.py:17: UserWarning: Dataframe is empty! Check inputs.\n",
      "  warn('Dataframe is empty! Check inputs.')\n",
      "/Users/ssangha/Downloads/snap_setup/stable_oct5_2021/envs/s1-enumerator/lib/python3.9/site-packages/s1_enumerator/formatter.py:17: UserWarning: Dataframe is empty! Check inputs.\n",
      "  warn('Dataframe is empty! Check inputs.')\n",
      "/Users/ssangha/Downloads/snap_setup/stable_oct5_2021/envs/s1-enumerator/lib/python3.9/site-packages/s1_enumerator/formatter.py:17: UserWarning: Dataframe is empty! Check inputs.\n",
      "  warn('Dataframe is empty! Check inputs.')\n",
      "/Users/ssangha/Downloads/snap_setup/stable_oct5_2021/envs/s1-enumerator/lib/python3.9/site-packages/s1_enumerator/formatter.py:17: UserWarning: Dataframe is empty! Check inputs.\n",
      "  warn('Dataframe is empty! Check inputs.')\n",
      "/Users/ssangha/Downloads/snap_setup/stable_oct5_2021/envs/s1-enumerator/lib/python3.9/site-packages/s1_enumerator/formatter.py:17: UserWarning: Dataframe is empty! Check inputs.\n",
      "  warn('Dataframe is empty! Check inputs.')\n",
      "  4%|▍         | 72/1868 [00:10<06:25,  4.66it/s]/Users/ssangha/Downloads/snap_setup/stable_oct5_2021/envs/s1-enumerator/lib/python3.9/site-packages/s1_enumerator/formatter.py:17: UserWarning: Dataframe is empty! Check inputs.\n",
      "  warn('Dataframe is empty! Check inputs.')\n",
      "/Users/ssangha/Downloads/snap_setup/stable_oct5_2021/envs/s1-enumerator/lib/python3.9/site-packages/s1_enumerator/formatter.py:17: UserWarning: Dataframe is empty! Check inputs.\n",
      "  warn('Dataframe is empty! Check inputs.')\n",
      "/Users/ssangha/Downloads/snap_setup/stable_oct5_2021/envs/s1-enumerator/lib/python3.9/site-packages/s1_enumerator/formatter.py:17: UserWarning: Dataframe is empty! Check inputs.\n",
      "  warn('Dataframe is empty! Check inputs.')\n",
      "/Users/ssangha/Downloads/snap_setup/stable_oct5_2021/envs/s1-enumerator/lib/python3.9/site-packages/s1_enumerator/formatter.py:17: UserWarning: Dataframe is empty! Check inputs.\n",
      "  warn('Dataframe is empty! Check inputs.')\n",
      "  4%|▍         | 74/1868 [00:10<06:11,  4.83it/s]/Users/ssangha/Downloads/snap_setup/stable_oct5_2021/envs/s1-enumerator/lib/python3.9/site-packages/s1_enumerator/formatter.py:17: UserWarning: Dataframe is empty! Check inputs.\n",
      "  warn('Dataframe is empty! Check inputs.')\n",
      "/Users/ssangha/Downloads/snap_setup/stable_oct5_2021/envs/s1-enumerator/lib/python3.9/site-packages/s1_enumerator/formatter.py:17: UserWarning: Dataframe is empty! Check inputs.\n",
      "  warn('Dataframe is empty! Check inputs.')\n",
      "/Users/ssangha/Downloads/snap_setup/stable_oct5_2021/envs/s1-enumerator/lib/python3.9/site-packages/s1_enumerator/formatter.py:17: UserWarning: Dataframe is empty! Check inputs.\n",
      "  warn('Dataframe is empty! Check inputs.')\n",
      "/Users/ssangha/Downloads/snap_setup/stable_oct5_2021/envs/s1-enumerator/lib/python3.9/site-packages/s1_enumerator/formatter.py:17: UserWarning: Dataframe is empty! Check inputs.\n",
      "  warn('Dataframe is empty! Check inputs.')\n",
      "  4%|▍         | 75/1868 [00:11<05:47,  5.15it/s]/Users/ssangha/Downloads/snap_setup/stable_oct5_2021/envs/s1-enumerator/lib/python3.9/site-packages/s1_enumerator/formatter.py:17: UserWarning: Dataframe is empty! Check inputs.\n",
      "  warn('Dataframe is empty! Check inputs.')\n",
      "/Users/ssangha/Downloads/snap_setup/stable_oct5_2021/envs/s1-enumerator/lib/python3.9/site-packages/s1_enumerator/formatter.py:17: UserWarning: Dataframe is empty! Check inputs.\n",
      "  warn('Dataframe is empty! Check inputs.')\n",
      "  5%|▍         | 86/1868 [00:11<02:25, 12.23it/s]/Users/ssangha/Downloads/snap_setup/stable_oct5_2021/envs/s1-enumerator/lib/python3.9/site-packages/s1_enumerator/formatter.py:17: UserWarning: Dataframe is empty! Check inputs.\n",
      "  warn('Dataframe is empty! Check inputs.')\n",
      "/Users/ssangha/Downloads/snap_setup/stable_oct5_2021/envs/s1-enumerator/lib/python3.9/site-packages/s1_enumerator/formatter.py:17: UserWarning: Dataframe is empty! Check inputs.\n",
      "  warn('Dataframe is empty! Check inputs.')\n",
      "  5%|▍         | 88/1868 [00:11<02:35, 11.44it/s]/Users/ssangha/Downloads/snap_setup/stable_oct5_2021/envs/s1-enumerator/lib/python3.9/site-packages/s1_enumerator/formatter.py:17: UserWarning: Dataframe is empty! Check inputs.\n",
      "  warn('Dataframe is empty! Check inputs.')\n",
      "/Users/ssangha/Downloads/snap_setup/stable_oct5_2021/envs/s1-enumerator/lib/python3.9/site-packages/s1_enumerator/formatter.py:17: UserWarning: Dataframe is empty! Check inputs.\n",
      "  warn('Dataframe is empty! Check inputs.')\n",
      "/Users/ssangha/Downloads/snap_setup/stable_oct5_2021/envs/s1-enumerator/lib/python3.9/site-packages/s1_enumerator/formatter.py:17: UserWarning: Dataframe is empty! Check inputs.\n",
      "  warn('Dataframe is empty! Check inputs.')\n",
      "  5%|▍         | 90/1868 [00:12<03:47,  7.83it/s]/Users/ssangha/Downloads/snap_setup/stable_oct5_2021/envs/s1-enumerator/lib/python3.9/site-packages/s1_enumerator/formatter.py:17: UserWarning: Dataframe is empty! Check inputs.\n",
      "  warn('Dataframe is empty! Check inputs.')\n",
      "  5%|▍         | 93/1868 [00:12<03:37,  8.17it/s]/Users/ssangha/Downloads/snap_setup/stable_oct5_2021/envs/s1-enumerator/lib/python3.9/site-packages/s1_enumerator/formatter.py:17: UserWarning: Dataframe is empty! Check inputs.\n",
      "  warn('Dataframe is empty! Check inputs.')\n",
      "/Users/ssangha/Downloads/snap_setup/stable_oct5_2021/envs/s1-enumerator/lib/python3.9/site-packages/s1_enumerator/formatter.py:17: UserWarning: Dataframe is empty! Check inputs.\n",
      "  warn('Dataframe is empty! Check inputs.')\n",
      "  5%|▌         | 94/1868 [00:12<03:37,  8.17it/s]/Users/ssangha/Downloads/snap_setup/stable_oct5_2021/envs/s1-enumerator/lib/python3.9/site-packages/s1_enumerator/formatter.py:17: UserWarning: Dataframe is empty! Check inputs.\n",
      "  warn('Dataframe is empty! Check inputs.')\n",
      "/Users/ssangha/Downloads/snap_setup/stable_oct5_2021/envs/s1-enumerator/lib/python3.9/site-packages/s1_enumerator/formatter.py:17: UserWarning: Dataframe is empty! Check inputs.\n",
      "  warn('Dataframe is empty! Check inputs.')\n",
      "/Users/ssangha/Downloads/snap_setup/stable_oct5_2021/envs/s1-enumerator/lib/python3.9/site-packages/s1_enumerator/formatter.py:17: UserWarning: Dataframe is empty! Check inputs.\n",
      "  warn('Dataframe is empty! Check inputs.')\n",
      "/Users/ssangha/Downloads/snap_setup/stable_oct5_2021/envs/s1-enumerator/lib/python3.9/site-packages/s1_enumerator/formatter.py:17: UserWarning: Dataframe is empty! Check inputs.\n",
      "  warn('Dataframe is empty! Check inputs.')\n",
      "/Users/ssangha/Downloads/snap_setup/stable_oct5_2021/envs/s1-enumerator/lib/python3.9/site-packages/s1_enumerator/formatter.py:17: UserWarning: Dataframe is empty! Check inputs.\n",
      "  warn('Dataframe is empty! Check inputs.')\n",
      "/Users/ssangha/Downloads/snap_setup/stable_oct5_2021/envs/s1-enumerator/lib/python3.9/site-packages/s1_enumerator/formatter.py:17: UserWarning: Dataframe is empty! Check inputs.\n",
      "  warn('Dataframe is empty! Check inputs.')\n",
      "  5%|▌         | 95/1868 [00:13<04:39,  6.33it/s]/Users/ssangha/Downloads/snap_setup/stable_oct5_2021/envs/s1-enumerator/lib/python3.9/site-packages/s1_enumerator/formatter.py:17: UserWarning: Dataframe is empty! Check inputs.\n",
      "  warn('Dataframe is empty! Check inputs.')\n",
      "  5%|▌         | 98/1868 [00:13<05:15,  5.62it/s]/Users/ssangha/Downloads/snap_setup/stable_oct5_2021/envs/s1-enumerator/lib/python3.9/site-packages/s1_enumerator/formatter.py:17: UserWarning: Dataframe is empty! Check inputs.\n",
      "  warn('Dataframe is empty! Check inputs.')\n",
      "/Users/ssangha/Downloads/snap_setup/stable_oct5_2021/envs/s1-enumerator/lib/python3.9/site-packages/s1_enumerator/formatter.py:17: UserWarning: Dataframe is empty! Check inputs.\n",
      "  warn('Dataframe is empty! Check inputs.')\n",
      "  5%|▌         | 101/1868 [00:14<05:01,  5.86it/s]/Users/ssangha/Downloads/snap_setup/stable_oct5_2021/envs/s1-enumerator/lib/python3.9/site-packages/s1_enumerator/formatter.py:17: UserWarning: Dataframe is empty! Check inputs.\n",
      "  warn('Dataframe is empty! Check inputs.')\n",
      "/Users/ssangha/Downloads/snap_setup/stable_oct5_2021/envs/s1-enumerator/lib/python3.9/site-packages/s1_enumerator/formatter.py:17: UserWarning: Dataframe is empty! Check inputs.\n",
      "  warn('Dataframe is empty! Check inputs.')\n",
      "/Users/ssangha/Downloads/snap_setup/stable_oct5_2021/envs/s1-enumerator/lib/python3.9/site-packages/s1_enumerator/formatter.py:17: UserWarning: Dataframe is empty! Check inputs.\n",
      "  warn('Dataframe is empty! Check inputs.')\n",
      "  6%|▌         | 108/1868 [00:14<03:26,  8.52it/s]/Users/ssangha/Downloads/snap_setup/stable_oct5_2021/envs/s1-enumerator/lib/python3.9/site-packages/s1_enumerator/formatter.py:17: UserWarning: Dataframe is empty! Check inputs.\n",
      "  warn('Dataframe is empty! Check inputs.')\n",
      "/Users/ssangha/Downloads/snap_setup/stable_oct5_2021/envs/s1-enumerator/lib/python3.9/site-packages/s1_enumerator/formatter.py:17: UserWarning: Dataframe is empty! Check inputs.\n",
      "  warn('Dataframe is empty! Check inputs.')\n",
      "/Users/ssangha/Downloads/snap_setup/stable_oct5_2021/envs/s1-enumerator/lib/python3.9/site-packages/s1_enumerator/formatter.py:17: UserWarning: Dataframe is empty! Check inputs.\n",
      "  warn('Dataframe is empty! Check inputs.')\n",
      "  6%|▌         | 109/1868 [00:14<03:41,  7.93it/s]/Users/ssangha/Downloads/snap_setup/stable_oct5_2021/envs/s1-enumerator/lib/python3.9/site-packages/s1_enumerator/formatter.py:17: UserWarning: Dataframe is empty! Check inputs.\n",
      "  warn('Dataframe is empty! Check inputs.')\n",
      "/Users/ssangha/Downloads/snap_setup/stable_oct5_2021/envs/s1-enumerator/lib/python3.9/site-packages/s1_enumerator/formatter.py:17: UserWarning: Dataframe is empty! Check inputs.\n",
      "  warn('Dataframe is empty! Check inputs.')\n",
      "/Users/ssangha/Downloads/snap_setup/stable_oct5_2021/envs/s1-enumerator/lib/python3.9/site-packages/s1_enumerator/formatter.py:17: UserWarning: Dataframe is empty! Check inputs.\n",
      "  warn('Dataframe is empty! Check inputs.')\n",
      "/Users/ssangha/Downloads/snap_setup/stable_oct5_2021/envs/s1-enumerator/lib/python3.9/site-packages/s1_enumerator/formatter.py:17: UserWarning: Dataframe is empty! Check inputs.\n",
      "  warn('Dataframe is empty! Check inputs.')\n",
      "/Users/ssangha/Downloads/snap_setup/stable_oct5_2021/envs/s1-enumerator/lib/python3.9/site-packages/s1_enumerator/formatter.py:17: UserWarning: Dataframe is empty! Check inputs.\n",
      "  warn('Dataframe is empty! Check inputs.')\n",
      "/Users/ssangha/Downloads/snap_setup/stable_oct5_2021/envs/s1-enumerator/lib/python3.9/site-packages/s1_enumerator/formatter.py:17: UserWarning: Dataframe is empty! Check inputs.\n",
      "  warn('Dataframe is empty! Check inputs.')\n",
      "  6%|▌         | 113/1868 [00:16<06:03,  4.83it/s]/Users/ssangha/Downloads/snap_setup/stable_oct5_2021/envs/s1-enumerator/lib/python3.9/site-packages/s1_enumerator/formatter.py:17: UserWarning: Dataframe is empty! Check inputs.\n",
      "  warn('Dataframe is empty! Check inputs.')\n",
      "  6%|▋         | 118/1868 [00:17<05:08,  5.67it/s]/Users/ssangha/Downloads/snap_setup/stable_oct5_2021/envs/s1-enumerator/lib/python3.9/site-packages/s1_enumerator/formatter.py:17: UserWarning: Dataframe is empty! Check inputs.\n",
      "  warn('Dataframe is empty! Check inputs.')\n",
      "/Users/ssangha/Downloads/snap_setup/stable_oct5_2021/envs/s1-enumerator/lib/python3.9/site-packages/s1_enumerator/formatter.py:17: UserWarning: Dataframe is empty! Check inputs.\n",
      "  warn('Dataframe is empty! Check inputs.')\n",
      "/Users/ssangha/Downloads/snap_setup/stable_oct5_2021/envs/s1-enumerator/lib/python3.9/site-packages/s1_enumerator/formatter.py:17: UserWarning: Dataframe is empty! Check inputs.\n",
      "  warn('Dataframe is empty! Check inputs.')\n",
      "  6%|▋         | 119/1868 [00:17<07:17,  4.00it/s]/Users/ssangha/Downloads/snap_setup/stable_oct5_2021/envs/s1-enumerator/lib/python3.9/site-packages/s1_enumerator/formatter.py:17: UserWarning: Dataframe is empty! Check inputs.\n",
      "  warn('Dataframe is empty! Check inputs.')\n",
      "  7%|▋         | 122/1868 [00:18<05:51,  4.97it/s]/Users/ssangha/Downloads/snap_setup/stable_oct5_2021/envs/s1-enumerator/lib/python3.9/site-packages/s1_enumerator/formatter.py:17: UserWarning: Dataframe is empty! Check inputs.\n",
      "  warn('Dataframe is empty! Check inputs.')\n",
      "/Users/ssangha/Downloads/snap_setup/stable_oct5_2021/envs/s1-enumerator/lib/python3.9/site-packages/s1_enumerator/formatter.py:17: UserWarning: Dataframe is empty! Check inputs.\n",
      "  warn('Dataframe is empty! Check inputs.')\n",
      "/Users/ssangha/Downloads/snap_setup/stable_oct5_2021/envs/s1-enumerator/lib/python3.9/site-packages/s1_enumerator/formatter.py:17: UserWarning: Dataframe is empty! Check inputs.\n",
      "  warn('Dataframe is empty! Check inputs.')\n",
      "  7%|▋         | 123/1868 [00:18<05:46,  5.03it/s]/Users/ssangha/Downloads/snap_setup/stable_oct5_2021/envs/s1-enumerator/lib/python3.9/site-packages/s1_enumerator/formatter.py:17: UserWarning: Dataframe is empty! Check inputs.\n",
      "  warn('Dataframe is empty! Check inputs.')\n",
      "/Users/ssangha/Downloads/snap_setup/stable_oct5_2021/envs/s1-enumerator/lib/python3.9/site-packages/s1_enumerator/formatter.py:17: UserWarning: Dataframe is empty! Check inputs.\n",
      "  warn('Dataframe is empty! Check inputs.')\n",
      "/Users/ssangha/Downloads/snap_setup/stable_oct5_2021/envs/s1-enumerator/lib/python3.9/site-packages/s1_enumerator/formatter.py:17: UserWarning: Dataframe is empty! Check inputs.\n",
      "  warn('Dataframe is empty! Check inputs.')\n",
      "/Users/ssangha/Downloads/snap_setup/stable_oct5_2021/envs/s1-enumerator/lib/python3.9/site-packages/s1_enumerator/formatter.py:17: UserWarning: Dataframe is empty! Check inputs.\n",
      "  warn('Dataframe is empty! Check inputs.')\n",
      "/Users/ssangha/Downloads/snap_setup/stable_oct5_2021/envs/s1-enumerator/lib/python3.9/site-packages/s1_enumerator/formatter.py:17: UserWarning: Dataframe is empty! Check inputs.\n",
      "  warn('Dataframe is empty! Check inputs.')\n",
      "  7%|▋         | 124/1868 [00:18<05:59,  4.85it/s]/Users/ssangha/Downloads/snap_setup/stable_oct5_2021/envs/s1-enumerator/lib/python3.9/site-packages/s1_enumerator/formatter.py:17: UserWarning: Dataframe is empty! Check inputs.\n",
      "  warn('Dataframe is empty! Check inputs.')\n",
      "/Users/ssangha/Downloads/snap_setup/stable_oct5_2021/envs/s1-enumerator/lib/python3.9/site-packages/s1_enumerator/formatter.py:17: UserWarning: Dataframe is empty! Check inputs.\n",
      "  warn('Dataframe is empty! Check inputs.')\n",
      "  7%|▋         | 128/1868 [00:18<03:41,  7.87it/s]/Users/ssangha/Downloads/snap_setup/stable_oct5_2021/envs/s1-enumerator/lib/python3.9/site-packages/s1_enumerator/formatter.py:17: UserWarning: Dataframe is empty! Check inputs.\n",
      "  warn('Dataframe is empty! Check inputs.')\n",
      "/Users/ssangha/Downloads/snap_setup/stable_oct5_2021/envs/s1-enumerator/lib/python3.9/site-packages/s1_enumerator/formatter.py:17: UserWarning: Dataframe is empty! Check inputs.\n",
      "  warn('Dataframe is empty! Check inputs.')\n",
      "  7%|▋         | 134/1868 [00:19<02:33, 11.28it/s]/Users/ssangha/Downloads/snap_setup/stable_oct5_2021/envs/s1-enumerator/lib/python3.9/site-packages/s1_enumerator/formatter.py:17: UserWarning: Dataframe is empty! Check inputs.\n",
      "  warn('Dataframe is empty! Check inputs.')\n",
      "/Users/ssangha/Downloads/snap_setup/stable_oct5_2021/envs/s1-enumerator/lib/python3.9/site-packages/s1_enumerator/formatter.py:17: UserWarning: Dataframe is empty! Check inputs.\n",
      "  warn('Dataframe is empty! Check inputs.')\n",
      "  7%|▋         | 136/1868 [00:19<03:15,  8.87it/s]/Users/ssangha/Downloads/snap_setup/stable_oct5_2021/envs/s1-enumerator/lib/python3.9/site-packages/s1_enumerator/formatter.py:17: UserWarning: Dataframe is empty! Check inputs.\n",
      "  warn('Dataframe is empty! Check inputs.')\n",
      "/Users/ssangha/Downloads/snap_setup/stable_oct5_2021/envs/s1-enumerator/lib/python3.9/site-packages/s1_enumerator/formatter.py:17: UserWarning: Dataframe is empty! Check inputs.\n",
      "  warn('Dataframe is empty! Check inputs.')\n",
      "  7%|▋         | 138/1868 [00:19<03:33,  8.12it/s]/Users/ssangha/Downloads/snap_setup/stable_oct5_2021/envs/s1-enumerator/lib/python3.9/site-packages/s1_enumerator/formatter.py:17: UserWarning: Dataframe is empty! Check inputs.\n",
      "  warn('Dataframe is empty! Check inputs.')\n",
      "/Users/ssangha/Downloads/snap_setup/stable_oct5_2021/envs/s1-enumerator/lib/python3.9/site-packages/s1_enumerator/formatter.py:17: UserWarning: Dataframe is empty! Check inputs.\n",
      "  warn('Dataframe is empty! Check inputs.')\n",
      "/Users/ssangha/Downloads/snap_setup/stable_oct5_2021/envs/s1-enumerator/lib/python3.9/site-packages/s1_enumerator/formatter.py:17: UserWarning: Dataframe is empty! Check inputs.\n",
      "  warn('Dataframe is empty! Check inputs.')\n",
      "/Users/ssangha/Downloads/snap_setup/stable_oct5_2021/envs/s1-enumerator/lib/python3.9/site-packages/s1_enumerator/formatter.py:17: UserWarning: Dataframe is empty! Check inputs.\n",
      "  warn('Dataframe is empty! Check inputs.')\n",
      "/Users/ssangha/Downloads/snap_setup/stable_oct5_2021/envs/s1-enumerator/lib/python3.9/site-packages/s1_enumerator/formatter.py:17: UserWarning: Dataframe is empty! Check inputs.\n",
      "  warn('Dataframe is empty! Check inputs.')\n",
      "  7%|▋         | 139/1868 [00:20<04:37,  6.24it/s]/Users/ssangha/Downloads/snap_setup/stable_oct5_2021/envs/s1-enumerator/lib/python3.9/site-packages/s1_enumerator/formatter.py:17: UserWarning: Dataframe is empty! Check inputs.\n",
      "  warn('Dataframe is empty! Check inputs.')\n",
      "/Users/ssangha/Downloads/snap_setup/stable_oct5_2021/envs/s1-enumerator/lib/python3.9/site-packages/s1_enumerator/formatter.py:17: UserWarning: Dataframe is empty! Check inputs.\n",
      "  warn('Dataframe is empty! Check inputs.')\n",
      "  8%|▊         | 143/1868 [00:20<03:05,  9.28it/s]/Users/ssangha/Downloads/snap_setup/stable_oct5_2021/envs/s1-enumerator/lib/python3.9/site-packages/s1_enumerator/formatter.py:17: UserWarning: Dataframe is empty! Check inputs.\n",
      "  warn('Dataframe is empty! Check inputs.')\n",
      "/Users/ssangha/Downloads/snap_setup/stable_oct5_2021/envs/s1-enumerator/lib/python3.9/site-packages/s1_enumerator/formatter.py:17: UserWarning: Dataframe is empty! Check inputs.\n",
      "  warn('Dataframe is empty! Check inputs.')\n",
      "/Users/ssangha/Downloads/snap_setup/stable_oct5_2021/envs/s1-enumerator/lib/python3.9/site-packages/s1_enumerator/formatter.py:17: UserWarning: Dataframe is empty! Check inputs.\n",
      "  warn('Dataframe is empty! Check inputs.')\n",
      "  8%|▊         | 147/1868 [00:20<02:34, 11.12it/s]/Users/ssangha/Downloads/snap_setup/stable_oct5_2021/envs/s1-enumerator/lib/python3.9/site-packages/s1_enumerator/formatter.py:17: UserWarning: Dataframe is empty! Check inputs.\n",
      "  warn('Dataframe is empty! Check inputs.')\n",
      "/Users/ssangha/Downloads/snap_setup/stable_oct5_2021/envs/s1-enumerator/lib/python3.9/site-packages/s1_enumerator/formatter.py:17: UserWarning: Dataframe is empty! Check inputs.\n",
      "  warn('Dataframe is empty! Check inputs.')\n",
      "/Users/ssangha/Downloads/snap_setup/stable_oct5_2021/envs/s1-enumerator/lib/python3.9/site-packages/s1_enumerator/formatter.py:17: UserWarning: Dataframe is empty! Check inputs.\n",
      "  warn('Dataframe is empty! Check inputs.')\n",
      "/Users/ssangha/Downloads/snap_setup/stable_oct5_2021/envs/s1-enumerator/lib/python3.9/site-packages/s1_enumerator/formatter.py:17: UserWarning: Dataframe is empty! Check inputs.\n",
      "  warn('Dataframe is empty! Check inputs.')\n",
      "/Users/ssangha/Downloads/snap_setup/stable_oct5_2021/envs/s1-enumerator/lib/python3.9/site-packages/s1_enumerator/formatter.py:17: UserWarning: Dataframe is empty! Check inputs.\n",
      "  warn('Dataframe is empty! Check inputs.')\n",
      "  8%|▊         | 151/1868 [00:21<02:55,  9.80it/s]/Users/ssangha/Downloads/snap_setup/stable_oct5_2021/envs/s1-enumerator/lib/python3.9/site-packages/s1_enumerator/formatter.py:17: UserWarning: Dataframe is empty! Check inputs.\n",
      "  warn('Dataframe is empty! Check inputs.')\n",
      "  8%|▊         | 154/1868 [00:21<03:01,  9.43it/s]/Users/ssangha/Downloads/snap_setup/stable_oct5_2021/envs/s1-enumerator/lib/python3.9/site-packages/s1_enumerator/formatter.py:17: UserWarning: Dataframe is empty! Check inputs.\n",
      "  warn('Dataframe is empty! Check inputs.')\n",
      "/Users/ssangha/Downloads/snap_setup/stable_oct5_2021/envs/s1-enumerator/lib/python3.9/site-packages/s1_enumerator/formatter.py:17: UserWarning: Dataframe is empty! Check inputs.\n",
      "  warn('Dataframe is empty! Check inputs.')\n",
      "  8%|▊         | 156/1868 [00:21<02:59,  9.53it/s]/Users/ssangha/Downloads/snap_setup/stable_oct5_2021/envs/s1-enumerator/lib/python3.9/site-packages/s1_enumerator/formatter.py:17: UserWarning: Dataframe is empty! Check inputs.\n",
      "  warn('Dataframe is empty! Check inputs.')\n",
      "/Users/ssangha/Downloads/snap_setup/stable_oct5_2021/envs/s1-enumerator/lib/python3.9/site-packages/s1_enumerator/formatter.py:17: UserWarning: Dataframe is empty! Check inputs.\n",
      "  warn('Dataframe is empty! Check inputs.')\n",
      "/Users/ssangha/Downloads/snap_setup/stable_oct5_2021/envs/s1-enumerator/lib/python3.9/site-packages/s1_enumerator/formatter.py:17: UserWarning: Dataframe is empty! Check inputs.\n",
      "  warn('Dataframe is empty! Check inputs.')\n",
      "/Users/ssangha/Downloads/snap_setup/stable_oct5_2021/envs/s1-enumerator/lib/python3.9/site-packages/s1_enumerator/formatter.py:17: UserWarning: Dataframe is empty! Check inputs.\n",
      "  warn('Dataframe is empty! Check inputs.')\n",
      "  8%|▊         | 158/1868 [00:22<03:28,  8.19it/s]/Users/ssangha/Downloads/snap_setup/stable_oct5_2021/envs/s1-enumerator/lib/python3.9/site-packages/s1_enumerator/formatter.py:17: UserWarning: Dataframe is empty! Check inputs.\n",
      "  warn('Dataframe is empty! Check inputs.')\n",
      "/Users/ssangha/Downloads/snap_setup/stable_oct5_2021/envs/s1-enumerator/lib/python3.9/site-packages/s1_enumerator/formatter.py:17: UserWarning: Dataframe is empty! Check inputs.\n",
      "  warn('Dataframe is empty! Check inputs.')\n",
      "  9%|▊         | 162/1868 [00:22<02:37, 10.81it/s]/Users/ssangha/Downloads/snap_setup/stable_oct5_2021/envs/s1-enumerator/lib/python3.9/site-packages/s1_enumerator/formatter.py:17: UserWarning: Dataframe is empty! Check inputs.\n",
      "  warn('Dataframe is empty! Check inputs.')\n",
      "/Users/ssangha/Downloads/snap_setup/stable_oct5_2021/envs/s1-enumerator/lib/python3.9/site-packages/s1_enumerator/formatter.py:17: UserWarning: Dataframe is empty! Check inputs.\n",
      "  warn('Dataframe is empty! Check inputs.')\n",
      "/Users/ssangha/Downloads/snap_setup/stable_oct5_2021/envs/s1-enumerator/lib/python3.9/site-packages/s1_enumerator/formatter.py:17: UserWarning: Dataframe is empty! Check inputs.\n",
      "  warn('Dataframe is empty! Check inputs.')\n",
      "  9%|▉         | 164/1868 [00:22<03:36,  7.86it/s]/Users/ssangha/Downloads/snap_setup/stable_oct5_2021/envs/s1-enumerator/lib/python3.9/site-packages/s1_enumerator/formatter.py:17: UserWarning: Dataframe is empty! Check inputs.\n",
      "  warn('Dataframe is empty! Check inputs.')\n",
      "/Users/ssangha/Downloads/snap_setup/stable_oct5_2021/envs/s1-enumerator/lib/python3.9/site-packages/s1_enumerator/formatter.py:17: UserWarning: Dataframe is empty! Check inputs.\n",
      "  warn('Dataframe is empty! Check inputs.')\n",
      "/Users/ssangha/Downloads/snap_setup/stable_oct5_2021/envs/s1-enumerator/lib/python3.9/site-packages/s1_enumerator/formatter.py:17: UserWarning: Dataframe is empty! Check inputs.\n",
      "  warn('Dataframe is empty! Check inputs.')\n",
      "/Users/ssangha/Downloads/snap_setup/stable_oct5_2021/envs/s1-enumerator/lib/python3.9/site-packages/s1_enumerator/formatter.py:17: UserWarning: Dataframe is empty! Check inputs.\n",
      "  warn('Dataframe is empty! Check inputs.')\n",
      "  9%|▉         | 167/1868 [00:23<03:31,  8.04it/s]/Users/ssangha/Downloads/snap_setup/stable_oct5_2021/envs/s1-enumerator/lib/python3.9/site-packages/s1_enumerator/formatter.py:17: UserWarning: Dataframe is empty! Check inputs.\n",
      "  warn('Dataframe is empty! Check inputs.')\n",
      "/Users/ssangha/Downloads/snap_setup/stable_oct5_2021/envs/s1-enumerator/lib/python3.9/site-packages/s1_enumerator/formatter.py:17: UserWarning: Dataframe is empty! Check inputs.\n",
      "  warn('Dataframe is empty! Check inputs.')\n",
      "/Users/ssangha/Downloads/snap_setup/stable_oct5_2021/envs/s1-enumerator/lib/python3.9/site-packages/s1_enumerator/formatter.py:17: UserWarning: Dataframe is empty! Check inputs.\n",
      "  warn('Dataframe is empty! Check inputs.')\n",
      "/Users/ssangha/Downloads/snap_setup/stable_oct5_2021/envs/s1-enumerator/lib/python3.9/site-packages/s1_enumerator/formatter.py:17: UserWarning: Dataframe is empty! Check inputs.\n",
      "  warn('Dataframe is empty! Check inputs.')\n",
      "  9%|▉         | 170/1868 [00:23<03:37,  7.81it/s]/Users/ssangha/Downloads/snap_setup/stable_oct5_2021/envs/s1-enumerator/lib/python3.9/site-packages/s1_enumerator/formatter.py:17: UserWarning: Dataframe is empty! Check inputs.\n",
      "  warn('Dataframe is empty! Check inputs.')\n",
      "  9%|▉         | 174/1868 [00:23<02:32, 11.12it/s]/Users/ssangha/Downloads/snap_setup/stable_oct5_2021/envs/s1-enumerator/lib/python3.9/site-packages/s1_enumerator/formatter.py:17: UserWarning: Dataframe is empty! Check inputs.\n",
      "  warn('Dataframe is empty! Check inputs.')\n",
      "/Users/ssangha/Downloads/snap_setup/stable_oct5_2021/envs/s1-enumerator/lib/python3.9/site-packages/s1_enumerator/formatter.py:17: UserWarning: Dataframe is empty! Check inputs.\n",
      "  warn('Dataframe is empty! Check inputs.')\n",
      "  9%|▉         | 176/1868 [00:23<02:18, 12.18it/s]/Users/ssangha/Downloads/snap_setup/stable_oct5_2021/envs/s1-enumerator/lib/python3.9/site-packages/s1_enumerator/formatter.py:17: UserWarning: Dataframe is empty! Check inputs.\n",
      "  warn('Dataframe is empty! Check inputs.')\n",
      "/Users/ssangha/Downloads/snap_setup/stable_oct5_2021/envs/s1-enumerator/lib/python3.9/site-packages/s1_enumerator/formatter.py:17: UserWarning: Dataframe is empty! Check inputs.\n",
      "  warn('Dataframe is empty! Check inputs.')\n",
      " 10%|▉         | 178/1868 [00:23<02:50,  9.93it/s]/Users/ssangha/Downloads/snap_setup/stable_oct5_2021/envs/s1-enumerator/lib/python3.9/site-packages/s1_enumerator/formatter.py:17: UserWarning: Dataframe is empty! Check inputs.\n",
      "  warn('Dataframe is empty! Check inputs.')\n",
      "/Users/ssangha/Downloads/snap_setup/stable_oct5_2021/envs/s1-enumerator/lib/python3.9/site-packages/s1_enumerator/formatter.py:17: UserWarning: Dataframe is empty! Check inputs.\n",
      "  warn('Dataframe is empty! Check inputs.')\n",
      "/Users/ssangha/Downloads/snap_setup/stable_oct5_2021/envs/s1-enumerator/lib/python3.9/site-packages/s1_enumerator/formatter.py:17: UserWarning: Dataframe is empty! Check inputs.\n",
      "  warn('Dataframe is empty! Check inputs.')\n",
      " 10%|▉         | 180/1868 [00:24<03:43,  7.56it/s]/Users/ssangha/Downloads/snap_setup/stable_oct5_2021/envs/s1-enumerator/lib/python3.9/site-packages/s1_enumerator/formatter.py:17: UserWarning: Dataframe is empty! Check inputs.\n",
      "  warn('Dataframe is empty! Check inputs.')\n",
      "/Users/ssangha/Downloads/snap_setup/stable_oct5_2021/envs/s1-enumerator/lib/python3.9/site-packages/s1_enumerator/formatter.py:17: UserWarning: Dataframe is empty! Check inputs.\n",
      "  warn('Dataframe is empty! Check inputs.')\n",
      " 10%|▉         | 182/1868 [00:24<03:44,  7.51it/s]/Users/ssangha/Downloads/snap_setup/stable_oct5_2021/envs/s1-enumerator/lib/python3.9/site-packages/s1_enumerator/formatter.py:17: UserWarning: Dataframe is empty! Check inputs.\n",
      "  warn('Dataframe is empty! Check inputs.')\n",
      "/Users/ssangha/Downloads/snap_setup/stable_oct5_2021/envs/s1-enumerator/lib/python3.9/site-packages/s1_enumerator/formatter.py:17: UserWarning: Dataframe is empty! Check inputs.\n",
      "  warn('Dataframe is empty! Check inputs.')\n",
      "/Users/ssangha/Downloads/snap_setup/stable_oct5_2021/envs/s1-enumerator/lib/python3.9/site-packages/s1_enumerator/formatter.py:17: UserWarning: Dataframe is empty! Check inputs.\n",
      "  warn('Dataframe is empty! Check inputs.')\n",
      "/Users/ssangha/Downloads/snap_setup/stable_oct5_2021/envs/s1-enumerator/lib/python3.9/site-packages/s1_enumerator/formatter.py:17: UserWarning: Dataframe is empty! Check inputs.\n",
      "  warn('Dataframe is empty! Check inputs.')\n",
      "/Users/ssangha/Downloads/snap_setup/stable_oct5_2021/envs/s1-enumerator/lib/python3.9/site-packages/s1_enumerator/formatter.py:17: UserWarning: Dataframe is empty! Check inputs.\n",
      "  warn('Dataframe is empty! Check inputs.')\n",
      " 10%|▉         | 185/1868 [00:25<04:15,  6.60it/s]/Users/ssangha/Downloads/snap_setup/stable_oct5_2021/envs/s1-enumerator/lib/python3.9/site-packages/s1_enumerator/formatter.py:17: UserWarning: Dataframe is empty! Check inputs.\n",
      "  warn('Dataframe is empty! Check inputs.')\n",
      "/Users/ssangha/Downloads/snap_setup/stable_oct5_2021/envs/s1-enumerator/lib/python3.9/site-packages/s1_enumerator/formatter.py:17: UserWarning: Dataframe is empty! Check inputs.\n",
      "  warn('Dataframe is empty! Check inputs.')\n",
      "/Users/ssangha/Downloads/snap_setup/stable_oct5_2021/envs/s1-enumerator/lib/python3.9/site-packages/s1_enumerator/formatter.py:17: UserWarning: Dataframe is empty! Check inputs.\n",
      "  warn('Dataframe is empty! Check inputs.')\n",
      "/Users/ssangha/Downloads/snap_setup/stable_oct5_2021/envs/s1-enumerator/lib/python3.9/site-packages/s1_enumerator/formatter.py:17: UserWarning: Dataframe is empty! Check inputs.\n",
      "  warn('Dataframe is empty! Check inputs.')\n",
      " 10%|█         | 187/1868 [00:25<04:20,  6.46it/s]/Users/ssangha/Downloads/snap_setup/stable_oct5_2021/envs/s1-enumerator/lib/python3.9/site-packages/s1_enumerator/formatter.py:17: UserWarning: Dataframe is empty! Check inputs.\n",
      "  warn('Dataframe is empty! Check inputs.')\n",
      "/Users/ssangha/Downloads/snap_setup/stable_oct5_2021/envs/s1-enumerator/lib/python3.9/site-packages/s1_enumerator/formatter.py:17: UserWarning: Dataframe is empty! Check inputs.\n",
      "  warn('Dataframe is empty! Check inputs.')\n",
      " 10%|█         | 191/1868 [00:26<04:05,  6.82it/s]/Users/ssangha/Downloads/snap_setup/stable_oct5_2021/envs/s1-enumerator/lib/python3.9/site-packages/s1_enumerator/formatter.py:17: UserWarning: Dataframe is empty! Check inputs.\n",
      "  warn('Dataframe is empty! Check inputs.')\n",
      " 10%|█         | 195/1868 [00:26<02:48,  9.91it/s]/Users/ssangha/Downloads/snap_setup/stable_oct5_2021/envs/s1-enumerator/lib/python3.9/site-packages/s1_enumerator/formatter.py:17: UserWarning: Dataframe is empty! Check inputs.\n",
      "  warn('Dataframe is empty! Check inputs.')\n",
      "/Users/ssangha/Downloads/snap_setup/stable_oct5_2021/envs/s1-enumerator/lib/python3.9/site-packages/s1_enumerator/formatter.py:17: UserWarning: Dataframe is empty! Check inputs.\n",
      "  warn('Dataframe is empty! Check inputs.')\n",
      "/Users/ssangha/Downloads/snap_setup/stable_oct5_2021/envs/s1-enumerator/lib/python3.9/site-packages/s1_enumerator/formatter.py:17: UserWarning: Dataframe is empty! Check inputs.\n",
      "  warn('Dataframe is empty! Check inputs.')\n",
      " 11%|█         | 198/1868 [00:26<02:16, 12.20it/s]/Users/ssangha/Downloads/snap_setup/stable_oct5_2021/envs/s1-enumerator/lib/python3.9/site-packages/s1_enumerator/formatter.py:17: UserWarning: Dataframe is empty! Check inputs.\n",
      "  warn('Dataframe is empty! Check inputs.')\n",
      "/Users/ssangha/Downloads/snap_setup/stable_oct5_2021/envs/s1-enumerator/lib/python3.9/site-packages/s1_enumerator/formatter.py:17: UserWarning: Dataframe is empty! Check inputs.\n",
      "  warn('Dataframe is empty! Check inputs.')\n",
      "/Users/ssangha/Downloads/snap_setup/stable_oct5_2021/envs/s1-enumerator/lib/python3.9/site-packages/s1_enumerator/formatter.py:17: UserWarning: Dataframe is empty! Check inputs.\n",
      "  warn('Dataframe is empty! Check inputs.')\n",
      " 11%|█         | 201/1868 [00:26<02:33, 10.88it/s]/Users/ssangha/Downloads/snap_setup/stable_oct5_2021/envs/s1-enumerator/lib/python3.9/site-packages/s1_enumerator/formatter.py:17: UserWarning: Dataframe is empty! Check inputs.\n",
      "  warn('Dataframe is empty! Check inputs.')\n",
      "/Users/ssangha/Downloads/snap_setup/stable_oct5_2021/envs/s1-enumerator/lib/python3.9/site-packages/s1_enumerator/formatter.py:17: UserWarning: Dataframe is empty! Check inputs.\n",
      "  warn('Dataframe is empty! Check inputs.')\n",
      " 11%|█         | 203/1868 [00:26<02:20, 11.87it/s]/Users/ssangha/Downloads/snap_setup/stable_oct5_2021/envs/s1-enumerator/lib/python3.9/site-packages/s1_enumerator/formatter.py:17: UserWarning: Dataframe is empty! Check inputs.\n",
      "  warn('Dataframe is empty! Check inputs.')\n",
      "/Users/ssangha/Downloads/snap_setup/stable_oct5_2021/envs/s1-enumerator/lib/python3.9/site-packages/s1_enumerator/formatter.py:17: UserWarning: Dataframe is empty! Check inputs.\n",
      "  warn('Dataframe is empty! Check inputs.')\n",
      " 11%|█         | 205/1868 [00:27<02:46,  9.99it/s]/Users/ssangha/Downloads/snap_setup/stable_oct5_2021/envs/s1-enumerator/lib/python3.9/site-packages/s1_enumerator/formatter.py:17: UserWarning: Dataframe is empty! Check inputs.\n",
      "  warn('Dataframe is empty! Check inputs.')\n",
      "/Users/ssangha/Downloads/snap_setup/stable_oct5_2021/envs/s1-enumerator/lib/python3.9/site-packages/s1_enumerator/formatter.py:17: UserWarning: Dataframe is empty! Check inputs.\n",
      "  warn('Dataframe is empty! Check inputs.')\n",
      "/Users/ssangha/Downloads/snap_setup/stable_oct5_2021/envs/s1-enumerator/lib/python3.9/site-packages/s1_enumerator/formatter.py:17: UserWarning: Dataframe is empty! Check inputs.\n",
      "  warn('Dataframe is empty! Check inputs.')\n",
      " 11%|█         | 207/1868 [00:27<04:19,  6.39it/s]/Users/ssangha/Downloads/snap_setup/stable_oct5_2021/envs/s1-enumerator/lib/python3.9/site-packages/s1_enumerator/formatter.py:17: UserWarning: Dataframe is empty! Check inputs.\n",
      "  warn('Dataframe is empty! Check inputs.')\n",
      "/Users/ssangha/Downloads/snap_setup/stable_oct5_2021/envs/s1-enumerator/lib/python3.9/site-packages/s1_enumerator/formatter.py:17: UserWarning: Dataframe is empty! Check inputs.\n",
      "  warn('Dataframe is empty! Check inputs.')\n",
      "/Users/ssangha/Downloads/snap_setup/stable_oct5_2021/envs/s1-enumerator/lib/python3.9/site-packages/s1_enumerator/formatter.py:17: UserWarning: Dataframe is empty! Check inputs.\n",
      "  warn('Dataframe is empty! Check inputs.')\n",
      " 11%|█         | 210/1868 [00:28<03:44,  7.38it/s]/Users/ssangha/Downloads/snap_setup/stable_oct5_2021/envs/s1-enumerator/lib/python3.9/site-packages/s1_enumerator/formatter.py:17: UserWarning: Dataframe is empty! Check inputs.\n",
      "  warn('Dataframe is empty! Check inputs.')\n",
      " 11%|█▏        | 212/1868 [00:28<03:24,  8.09it/s]/Users/ssangha/Downloads/snap_setup/stable_oct5_2021/envs/s1-enumerator/lib/python3.9/site-packages/s1_enumerator/formatter.py:17: UserWarning: Dataframe is empty! Check inputs.\n",
      "  warn('Dataframe is empty! Check inputs.')\n",
      "/Users/ssangha/Downloads/snap_setup/stable_oct5_2021/envs/s1-enumerator/lib/python3.9/site-packages/s1_enumerator/formatter.py:17: UserWarning: Dataframe is empty! Check inputs.\n",
      "  warn('Dataframe is empty! Check inputs.')\n",
      " 12%|█▏        | 215/1868 [00:28<03:25,  8.04it/s]/Users/ssangha/Downloads/snap_setup/stable_oct5_2021/envs/s1-enumerator/lib/python3.9/site-packages/s1_enumerator/formatter.py:17: UserWarning: Dataframe is empty! Check inputs.\n",
      "  warn('Dataframe is empty! Check inputs.')\n",
      "/Users/ssangha/Downloads/snap_setup/stable_oct5_2021/envs/s1-enumerator/lib/python3.9/site-packages/s1_enumerator/formatter.py:17: UserWarning: Dataframe is empty! Check inputs.\n",
      "  warn('Dataframe is empty! Check inputs.')\n",
      " 12%|█▏        | 217/1868 [00:28<03:03,  8.99it/s]/Users/ssangha/Downloads/snap_setup/stable_oct5_2021/envs/s1-enumerator/lib/python3.9/site-packages/s1_enumerator/formatter.py:17: UserWarning: Dataframe is empty! Check inputs.\n",
      "  warn('Dataframe is empty! Check inputs.')\n",
      "/Users/ssangha/Downloads/snap_setup/stable_oct5_2021/envs/s1-enumerator/lib/python3.9/site-packages/s1_enumerator/formatter.py:17: UserWarning: Dataframe is empty! Check inputs.\n",
      "  warn('Dataframe is empty! Check inputs.')\n",
      " 12%|█▏        | 219/1868 [00:29<04:15,  6.46it/s]/Users/ssangha/Downloads/snap_setup/stable_oct5_2021/envs/s1-enumerator/lib/python3.9/site-packages/s1_enumerator/formatter.py:17: UserWarning: Dataframe is empty! Check inputs.\n",
      "  warn('Dataframe is empty! Check inputs.')\n",
      "/Users/ssangha/Downloads/snap_setup/stable_oct5_2021/envs/s1-enumerator/lib/python3.9/site-packages/s1_enumerator/formatter.py:17: UserWarning: Dataframe is empty! Check inputs.\n",
      "  warn('Dataframe is empty! Check inputs.')\n",
      " 12%|█▏        | 222/1868 [00:29<03:21,  8.17it/s]/Users/ssangha/Downloads/snap_setup/stable_oct5_2021/envs/s1-enumerator/lib/python3.9/site-packages/s1_enumerator/formatter.py:17: UserWarning: Dataframe is empty! Check inputs.\n",
      "  warn('Dataframe is empty! Check inputs.')\n",
      "/Users/ssangha/Downloads/snap_setup/stable_oct5_2021/envs/s1-enumerator/lib/python3.9/site-packages/s1_enumerator/formatter.py:17: UserWarning: Dataframe is empty! Check inputs.\n",
      "  warn('Dataframe is empty! Check inputs.')\n",
      "/Users/ssangha/Downloads/snap_setup/stable_oct5_2021/envs/s1-enumerator/lib/python3.9/site-packages/s1_enumerator/formatter.py:17: UserWarning: Dataframe is empty! Check inputs.\n",
      "  warn('Dataframe is empty! Check inputs.')\n",
      "/Users/ssangha/Downloads/snap_setup/stable_oct5_2021/envs/s1-enumerator/lib/python3.9/site-packages/s1_enumerator/formatter.py:17: UserWarning: Dataframe is empty! Check inputs.\n",
      "  warn('Dataframe is empty! Check inputs.')\n",
      " 12%|█▏        | 224/1868 [00:29<03:33,  7.68it/s]/Users/ssangha/Downloads/snap_setup/stable_oct5_2021/envs/s1-enumerator/lib/python3.9/site-packages/s1_enumerator/formatter.py:17: UserWarning: Dataframe is empty! Check inputs.\n",
      "  warn('Dataframe is empty! Check inputs.')\n",
      "/Users/ssangha/Downloads/snap_setup/stable_oct5_2021/envs/s1-enumerator/lib/python3.9/site-packages/s1_enumerator/formatter.py:17: UserWarning: Dataframe is empty! Check inputs.\n",
      "  warn('Dataframe is empty! Check inputs.')\n",
      "/Users/ssangha/Downloads/snap_setup/stable_oct5_2021/envs/s1-enumerator/lib/python3.9/site-packages/s1_enumerator/formatter.py:17: UserWarning: Dataframe is empty! Check inputs.\n",
      "  warn('Dataframe is empty! Check inputs.')\n",
      "/Users/ssangha/Downloads/snap_setup/stable_oct5_2021/envs/s1-enumerator/lib/python3.9/site-packages/s1_enumerator/formatter.py:17: UserWarning: Dataframe is empty! Check inputs.\n",
      "  warn('Dataframe is empty! Check inputs.')\n",
      "/Users/ssangha/Downloads/snap_setup/stable_oct5_2021/envs/s1-enumerator/lib/python3.9/site-packages/s1_enumerator/formatter.py:17: UserWarning: Dataframe is empty! Check inputs.\n",
      "  warn('Dataframe is empty! Check inputs.')\n",
      " 12%|█▏        | 228/1868 [00:30<04:31,  6.04it/s]/Users/ssangha/Downloads/snap_setup/stable_oct5_2021/envs/s1-enumerator/lib/python3.9/site-packages/s1_enumerator/formatter.py:17: UserWarning: Dataframe is empty! Check inputs.\n",
      "  warn('Dataframe is empty! Check inputs.')\n",
      "/Users/ssangha/Downloads/snap_setup/stable_oct5_2021/envs/s1-enumerator/lib/python3.9/site-packages/s1_enumerator/formatter.py:17: UserWarning: Dataframe is empty! Check inputs.\n",
      "  warn('Dataframe is empty! Check inputs.')\n",
      "/Users/ssangha/Downloads/snap_setup/stable_oct5_2021/envs/s1-enumerator/lib/python3.9/site-packages/s1_enumerator/formatter.py:17: UserWarning: Dataframe is empty! Check inputs.\n",
      "  warn('Dataframe is empty! Check inputs.')\n",
      "/Users/ssangha/Downloads/snap_setup/stable_oct5_2021/envs/s1-enumerator/lib/python3.9/site-packages/s1_enumerator/formatter.py:17: UserWarning: Dataframe is empty! Check inputs.\n",
      "  warn('Dataframe is empty! Check inputs.')\n",
      " 12%|█▏        | 230/1868 [00:31<04:56,  5.52it/s]/Users/ssangha/Downloads/snap_setup/stable_oct5_2021/envs/s1-enumerator/lib/python3.9/site-packages/s1_enumerator/formatter.py:17: UserWarning: Dataframe is empty! Check inputs.\n",
      "  warn('Dataframe is empty! Check inputs.')\n",
      "/Users/ssangha/Downloads/snap_setup/stable_oct5_2021/envs/s1-enumerator/lib/python3.9/site-packages/s1_enumerator/formatter.py:17: UserWarning: Dataframe is empty! Check inputs.\n",
      "  warn('Dataframe is empty! Check inputs.')\n",
      " 13%|█▎        | 236/1868 [00:31<02:47,  9.72it/s]/Users/ssangha/Downloads/snap_setup/stable_oct5_2021/envs/s1-enumerator/lib/python3.9/site-packages/s1_enumerator/formatter.py:17: UserWarning: Dataframe is empty! Check inputs.\n",
      "  warn('Dataframe is empty! Check inputs.')\n",
      "/Users/ssangha/Downloads/snap_setup/stable_oct5_2021/envs/s1-enumerator/lib/python3.9/site-packages/s1_enumerator/formatter.py:17: UserWarning: Dataframe is empty! Check inputs.\n",
      "  warn('Dataframe is empty! Check inputs.')\n",
      "/Users/ssangha/Downloads/snap_setup/stable_oct5_2021/envs/s1-enumerator/lib/python3.9/site-packages/s1_enumerator/formatter.py:17: UserWarning: Dataframe is empty! Check inputs.\n",
      "  warn('Dataframe is empty! Check inputs.')\n",
      "/Users/ssangha/Downloads/snap_setup/stable_oct5_2021/envs/s1-enumerator/lib/python3.9/site-packages/s1_enumerator/formatter.py:17: UserWarning: Dataframe is empty! Check inputs.\n",
      "  warn('Dataframe is empty! Check inputs.')\n",
      "/Users/ssangha/Downloads/snap_setup/stable_oct5_2021/envs/s1-enumerator/lib/python3.9/site-packages/s1_enumerator/formatter.py:17: UserWarning: Dataframe is empty! Check inputs.\n",
      "  warn('Dataframe is empty! Check inputs.')\n",
      "/Users/ssangha/Downloads/snap_setup/stable_oct5_2021/envs/s1-enumerator/lib/python3.9/site-packages/s1_enumerator/formatter.py:17: UserWarning: Dataframe is empty! Check inputs.\n",
      "  warn('Dataframe is empty! Check inputs.')\n",
      " 13%|█▎        | 238/1868 [00:32<05:00,  5.42it/s]/Users/ssangha/Downloads/snap_setup/stable_oct5_2021/envs/s1-enumerator/lib/python3.9/site-packages/s1_enumerator/formatter.py:17: UserWarning: Dataframe is empty! Check inputs.\n",
      "  warn('Dataframe is empty! Check inputs.')\n",
      "/Users/ssangha/Downloads/snap_setup/stable_oct5_2021/envs/s1-enumerator/lib/python3.9/site-packages/s1_enumerator/formatter.py:17: UserWarning: Dataframe is empty! Check inputs.\n",
      "  warn('Dataframe is empty! Check inputs.')\n",
      "/Users/ssangha/Downloads/snap_setup/stable_oct5_2021/envs/s1-enumerator/lib/python3.9/site-packages/s1_enumerator/formatter.py:17: UserWarning: Dataframe is empty! Check inputs.\n",
      "  warn('Dataframe is empty! Check inputs.')\n",
      "/Users/ssangha/Downloads/snap_setup/stable_oct5_2021/envs/s1-enumerator/lib/python3.9/site-packages/s1_enumerator/formatter.py:17: UserWarning: Dataframe is empty! Check inputs.\n",
      "  warn('Dataframe is empty! Check inputs.')\n",
      "/Users/ssangha/Downloads/snap_setup/stable_oct5_2021/envs/s1-enumerator/lib/python3.9/site-packages/s1_enumerator/formatter.py:17: UserWarning: Dataframe is empty! Check inputs.\n",
      "  warn('Dataframe is empty! Check inputs.')\n",
      " 13%|█▎        | 245/1868 [00:32<03:03,  8.85it/s]/Users/ssangha/Downloads/snap_setup/stable_oct5_2021/envs/s1-enumerator/lib/python3.9/site-packages/s1_enumerator/formatter.py:17: UserWarning: Dataframe is empty! Check inputs.\n",
      "  warn('Dataframe is empty! Check inputs.')\n",
      "/Users/ssangha/Downloads/snap_setup/stable_oct5_2021/envs/s1-enumerator/lib/python3.9/site-packages/s1_enumerator/formatter.py:17: UserWarning: Dataframe is empty! Check inputs.\n",
      "  warn('Dataframe is empty! Check inputs.')\n",
      "/Users/ssangha/Downloads/snap_setup/stable_oct5_2021/envs/s1-enumerator/lib/python3.9/site-packages/s1_enumerator/formatter.py:17: UserWarning: Dataframe is empty! Check inputs.\n",
      "  warn('Dataframe is empty! Check inputs.')\n",
      "/Users/ssangha/Downloads/snap_setup/stable_oct5_2021/envs/s1-enumerator/lib/python3.9/site-packages/s1_enumerator/formatter.py:17: UserWarning: Dataframe is empty! Check inputs.\n",
      "  warn('Dataframe is empty! Check inputs.')\n",
      " 13%|█▎        | 251/1868 [00:32<02:11, 12.34it/s]/Users/ssangha/Downloads/snap_setup/stable_oct5_2021/envs/s1-enumerator/lib/python3.9/site-packages/s1_enumerator/formatter.py:17: UserWarning: Dataframe is empty! Check inputs.\n",
      "  warn('Dataframe is empty! Check inputs.')\n",
      "/Users/ssangha/Downloads/snap_setup/stable_oct5_2021/envs/s1-enumerator/lib/python3.9/site-packages/s1_enumerator/formatter.py:17: UserWarning: Dataframe is empty! Check inputs.\n",
      "  warn('Dataframe is empty! Check inputs.')\n",
      " 14%|█▎        | 254/1868 [00:33<02:16, 11.85it/s]/Users/ssangha/Downloads/snap_setup/stable_oct5_2021/envs/s1-enumerator/lib/python3.9/site-packages/s1_enumerator/formatter.py:17: UserWarning: Dataframe is empty! Check inputs.\n",
      "  warn('Dataframe is empty! Check inputs.')\n",
      "/Users/ssangha/Downloads/snap_setup/stable_oct5_2021/envs/s1-enumerator/lib/python3.9/site-packages/s1_enumerator/formatter.py:17: UserWarning: Dataframe is empty! Check inputs.\n",
      "  warn('Dataframe is empty! Check inputs.')\n",
      " 14%|█▎        | 256/1868 [00:33<03:06,  8.63it/s]/Users/ssangha/Downloads/snap_setup/stable_oct5_2021/envs/s1-enumerator/lib/python3.9/site-packages/s1_enumerator/formatter.py:17: UserWarning: Dataframe is empty! Check inputs.\n",
      "  warn('Dataframe is empty! Check inputs.')\n",
      "/Users/ssangha/Downloads/snap_setup/stable_oct5_2021/envs/s1-enumerator/lib/python3.9/site-packages/s1_enumerator/formatter.py:17: UserWarning: Dataframe is empty! Check inputs.\n",
      "  warn('Dataframe is empty! Check inputs.')\n",
      "/Users/ssangha/Downloads/snap_setup/stable_oct5_2021/envs/s1-enumerator/lib/python3.9/site-packages/s1_enumerator/formatter.py:17: UserWarning: Dataframe is empty! Check inputs.\n",
      "  warn('Dataframe is empty! Check inputs.')\n",
      " 14%|█▍        | 258/1868 [00:33<03:20,  8.05it/s]/Users/ssangha/Downloads/snap_setup/stable_oct5_2021/envs/s1-enumerator/lib/python3.9/site-packages/s1_enumerator/formatter.py:17: UserWarning: Dataframe is empty! Check inputs.\n",
      "  warn('Dataframe is empty! Check inputs.')\n",
      " 14%|█▍        | 260/1868 [00:34<03:07,  8.56it/s]/Users/ssangha/Downloads/snap_setup/stable_oct5_2021/envs/s1-enumerator/lib/python3.9/site-packages/s1_enumerator/formatter.py:17: UserWarning: Dataframe is empty! Check inputs.\n",
      "  warn('Dataframe is empty! Check inputs.')\n",
      "/Users/ssangha/Downloads/snap_setup/stable_oct5_2021/envs/s1-enumerator/lib/python3.9/site-packages/s1_enumerator/formatter.py:17: UserWarning: Dataframe is empty! Check inputs.\n",
      "  warn('Dataframe is empty! Check inputs.')\n",
      "/Users/ssangha/Downloads/snap_setup/stable_oct5_2021/envs/s1-enumerator/lib/python3.9/site-packages/s1_enumerator/formatter.py:17: UserWarning: Dataframe is empty! Check inputs.\n",
      "  warn('Dataframe is empty! Check inputs.')\n",
      " 14%|█▍        | 262/1868 [00:34<02:52,  9.32it/s]/Users/ssangha/Downloads/snap_setup/stable_oct5_2021/envs/s1-enumerator/lib/python3.9/site-packages/s1_enumerator/formatter.py:17: UserWarning: Dataframe is empty! Check inputs.\n",
      "  warn('Dataframe is empty! Check inputs.')\n",
      "/Users/ssangha/Downloads/snap_setup/stable_oct5_2021/envs/s1-enumerator/lib/python3.9/site-packages/s1_enumerator/formatter.py:17: UserWarning: Dataframe is empty! Check inputs.\n",
      "  warn('Dataframe is empty! Check inputs.')\n",
      "/Users/ssangha/Downloads/snap_setup/stable_oct5_2021/envs/s1-enumerator/lib/python3.9/site-packages/s1_enumerator/formatter.py:17: UserWarning: Dataframe is empty! Check inputs.\n",
      "  warn('Dataframe is empty! Check inputs.')\n",
      " 14%|█▍        | 265/1868 [00:34<02:17, 11.64it/s]/Users/ssangha/Downloads/snap_setup/stable_oct5_2021/envs/s1-enumerator/lib/python3.9/site-packages/s1_enumerator/formatter.py:17: UserWarning: Dataframe is empty! Check inputs.\n",
      "  warn('Dataframe is empty! Check inputs.')\n",
      " 14%|█▍        | 267/1868 [00:34<02:38, 10.10it/s]/Users/ssangha/Downloads/snap_setup/stable_oct5_2021/envs/s1-enumerator/lib/python3.9/site-packages/s1_enumerator/formatter.py:17: UserWarning: Dataframe is empty! Check inputs.\n",
      "  warn('Dataframe is empty! Check inputs.')\n",
      "/Users/ssangha/Downloads/snap_setup/stable_oct5_2021/envs/s1-enumerator/lib/python3.9/site-packages/s1_enumerator/formatter.py:17: UserWarning: Dataframe is empty! Check inputs.\n",
      "  warn('Dataframe is empty! Check inputs.')\n",
      "/Users/ssangha/Downloads/snap_setup/stable_oct5_2021/envs/s1-enumerator/lib/python3.9/site-packages/s1_enumerator/formatter.py:17: UserWarning: Dataframe is empty! Check inputs.\n",
      "  warn('Dataframe is empty! Check inputs.')\n",
      " 14%|█▍        | 270/1868 [00:34<02:27, 10.85it/s]/Users/ssangha/Downloads/snap_setup/stable_oct5_2021/envs/s1-enumerator/lib/python3.9/site-packages/s1_enumerator/formatter.py:17: UserWarning: Dataframe is empty! Check inputs.\n",
      "  warn('Dataframe is empty! Check inputs.')\n",
      "/Users/ssangha/Downloads/snap_setup/stable_oct5_2021/envs/s1-enumerator/lib/python3.9/site-packages/s1_enumerator/formatter.py:17: UserWarning: Dataframe is empty! Check inputs.\n",
      "  warn('Dataframe is empty! Check inputs.')\n",
      " 15%|█▍        | 272/1868 [00:35<02:44,  9.68it/s]/Users/ssangha/Downloads/snap_setup/stable_oct5_2021/envs/s1-enumerator/lib/python3.9/site-packages/s1_enumerator/formatter.py:17: UserWarning: Dataframe is empty! Check inputs.\n",
      "  warn('Dataframe is empty! Check inputs.')\n",
      "/Users/ssangha/Downloads/snap_setup/stable_oct5_2021/envs/s1-enumerator/lib/python3.9/site-packages/s1_enumerator/formatter.py:17: UserWarning: Dataframe is empty! Check inputs.\n",
      "  warn('Dataframe is empty! Check inputs.')\n",
      "/Users/ssangha/Downloads/snap_setup/stable_oct5_2021/envs/s1-enumerator/lib/python3.9/site-packages/s1_enumerator/formatter.py:17: UserWarning: Dataframe is empty! Check inputs.\n",
      "  warn('Dataframe is empty! Check inputs.')\n",
      " 15%|█▍        | 274/1868 [00:35<02:48,  9.46it/s]/Users/ssangha/Downloads/snap_setup/stable_oct5_2021/envs/s1-enumerator/lib/python3.9/site-packages/s1_enumerator/formatter.py:17: UserWarning: Dataframe is empty! Check inputs.\n",
      "  warn('Dataframe is empty! Check inputs.')\n",
      "/Users/ssangha/Downloads/snap_setup/stable_oct5_2021/envs/s1-enumerator/lib/python3.9/site-packages/s1_enumerator/formatter.py:17: UserWarning: Dataframe is empty! Check inputs.\n",
      "  warn('Dataframe is empty! Check inputs.')\n",
      " 15%|█▍        | 276/1868 [00:35<03:44,  7.09it/s]/Users/ssangha/Downloads/snap_setup/stable_oct5_2021/envs/s1-enumerator/lib/python3.9/site-packages/s1_enumerator/formatter.py:17: UserWarning: Dataframe is empty! Check inputs.\n",
      "  warn('Dataframe is empty! Check inputs.')\n",
      " 15%|█▍        | 278/1868 [00:35<03:03,  8.64it/s]/Users/ssangha/Downloads/snap_setup/stable_oct5_2021/envs/s1-enumerator/lib/python3.9/site-packages/s1_enumerator/formatter.py:17: UserWarning: Dataframe is empty! Check inputs.\n",
      "  warn('Dataframe is empty! Check inputs.')\n",
      "/Users/ssangha/Downloads/snap_setup/stable_oct5_2021/envs/s1-enumerator/lib/python3.9/site-packages/s1_enumerator/formatter.py:17: UserWarning: Dataframe is empty! Check inputs.\n",
      "  warn('Dataframe is empty! Check inputs.')\n",
      "/Users/ssangha/Downloads/snap_setup/stable_oct5_2021/envs/s1-enumerator/lib/python3.9/site-packages/s1_enumerator/formatter.py:17: UserWarning: Dataframe is empty! Check inputs.\n",
      "  warn('Dataframe is empty! Check inputs.')\n",
      " 15%|█▍        | 280/1868 [00:36<02:57,  8.97it/s]/Users/ssangha/Downloads/snap_setup/stable_oct5_2021/envs/s1-enumerator/lib/python3.9/site-packages/s1_enumerator/formatter.py:17: UserWarning: Dataframe is empty! Check inputs.\n",
      "  warn('Dataframe is empty! Check inputs.')\n",
      "/Users/ssangha/Downloads/snap_setup/stable_oct5_2021/envs/s1-enumerator/lib/python3.9/site-packages/s1_enumerator/formatter.py:17: UserWarning: Dataframe is empty! Check inputs.\n",
      "  warn('Dataframe is empty! Check inputs.')\n",
      "/Users/ssangha/Downloads/snap_setup/stable_oct5_2021/envs/s1-enumerator/lib/python3.9/site-packages/s1_enumerator/formatter.py:17: UserWarning: Dataframe is empty! Check inputs.\n",
      "  warn('Dataframe is empty! Check inputs.')\n",
      "/Users/ssangha/Downloads/snap_setup/stable_oct5_2021/envs/s1-enumerator/lib/python3.9/site-packages/s1_enumerator/formatter.py:17: UserWarning: Dataframe is empty! Check inputs.\n",
      "  warn('Dataframe is empty! Check inputs.')\n",
      " 15%|█▌        | 284/1868 [00:36<02:23, 11.06it/s]/Users/ssangha/Downloads/snap_setup/stable_oct5_2021/envs/s1-enumerator/lib/python3.9/site-packages/s1_enumerator/formatter.py:17: UserWarning: Dataframe is empty! Check inputs.\n",
      "  warn('Dataframe is empty! Check inputs.')\n",
      "/Users/ssangha/Downloads/snap_setup/stable_oct5_2021/envs/s1-enumerator/lib/python3.9/site-packages/s1_enumerator/formatter.py:17: UserWarning: Dataframe is empty! Check inputs.\n",
      "  warn('Dataframe is empty! Check inputs.')\n",
      " 15%|█▌        | 286/1868 [00:36<02:31, 10.46it/s]/Users/ssangha/Downloads/snap_setup/stable_oct5_2021/envs/s1-enumerator/lib/python3.9/site-packages/s1_enumerator/formatter.py:17: UserWarning: Dataframe is empty! Check inputs.\n",
      "  warn('Dataframe is empty! Check inputs.')\n",
      "/Users/ssangha/Downloads/snap_setup/stable_oct5_2021/envs/s1-enumerator/lib/python3.9/site-packages/s1_enumerator/formatter.py:17: UserWarning: Dataframe is empty! Check inputs.\n",
      "  warn('Dataframe is empty! Check inputs.')\n",
      "/Users/ssangha/Downloads/snap_setup/stable_oct5_2021/envs/s1-enumerator/lib/python3.9/site-packages/s1_enumerator/formatter.py:17: UserWarning: Dataframe is empty! Check inputs.\n",
      "  warn('Dataframe is empty! Check inputs.')\n",
      " 15%|█▌        | 288/1868 [00:37<03:42,  7.10it/s]/Users/ssangha/Downloads/snap_setup/stable_oct5_2021/envs/s1-enumerator/lib/python3.9/site-packages/s1_enumerator/formatter.py:17: UserWarning: Dataframe is empty! Check inputs.\n",
      "  warn('Dataframe is empty! Check inputs.')\n",
      " 16%|█▌        | 291/1868 [00:37<02:47,  9.42it/s]/Users/ssangha/Downloads/snap_setup/stable_oct5_2021/envs/s1-enumerator/lib/python3.9/site-packages/s1_enumerator/formatter.py:17: UserWarning: Dataframe is empty! Check inputs.\n",
      "  warn('Dataframe is empty! Check inputs.')\n",
      "/Users/ssangha/Downloads/snap_setup/stable_oct5_2021/envs/s1-enumerator/lib/python3.9/site-packages/s1_enumerator/formatter.py:17: UserWarning: Dataframe is empty! Check inputs.\n",
      "  warn('Dataframe is empty! Check inputs.')\n",
      " 16%|█▌        | 293/1868 [00:37<02:24, 10.87it/s]/Users/ssangha/Downloads/snap_setup/stable_oct5_2021/envs/s1-enumerator/lib/python3.9/site-packages/s1_enumerator/formatter.py:17: UserWarning: Dataframe is empty! Check inputs.\n",
      "  warn('Dataframe is empty! Check inputs.')\n",
      "/Users/ssangha/Downloads/snap_setup/stable_oct5_2021/envs/s1-enumerator/lib/python3.9/site-packages/s1_enumerator/formatter.py:17: UserWarning: Dataframe is empty! Check inputs.\n",
      "  warn('Dataframe is empty! Check inputs.')\n",
      "/Users/ssangha/Downloads/snap_setup/stable_oct5_2021/envs/s1-enumerator/lib/python3.9/site-packages/s1_enumerator/formatter.py:17: UserWarning: Dataframe is empty! Check inputs.\n",
      "  warn('Dataframe is empty! Check inputs.')\n",
      "/Users/ssangha/Downloads/snap_setup/stable_oct5_2021/envs/s1-enumerator/lib/python3.9/site-packages/s1_enumerator/formatter.py:17: UserWarning: Dataframe is empty! Check inputs.\n",
      "  warn('Dataframe is empty! Check inputs.')\n",
      " 16%|█▌        | 295/1868 [00:37<03:29,  7.53it/s]/Users/ssangha/Downloads/snap_setup/stable_oct5_2021/envs/s1-enumerator/lib/python3.9/site-packages/s1_enumerator/formatter.py:17: UserWarning: Dataframe is empty! Check inputs.\n",
      "  warn('Dataframe is empty! Check inputs.')\n",
      "/Users/ssangha/Downloads/snap_setup/stable_oct5_2021/envs/s1-enumerator/lib/python3.9/site-packages/s1_enumerator/formatter.py:17: UserWarning: Dataframe is empty! Check inputs.\n",
      "  warn('Dataframe is empty! Check inputs.')\n",
      "/Users/ssangha/Downloads/snap_setup/stable_oct5_2021/envs/s1-enumerator/lib/python3.9/site-packages/s1_enumerator/formatter.py:17: UserWarning: Dataframe is empty! Check inputs.\n",
      "  warn('Dataframe is empty! Check inputs.')\n",
      "/Users/ssangha/Downloads/snap_setup/stable_oct5_2021/envs/s1-enumerator/lib/python3.9/site-packages/s1_enumerator/formatter.py:17: UserWarning: Dataframe is empty! Check inputs.\n",
      "  warn('Dataframe is empty! Check inputs.')\n",
      "/Users/ssangha/Downloads/snap_setup/stable_oct5_2021/envs/s1-enumerator/lib/python3.9/site-packages/s1_enumerator/formatter.py:17: UserWarning: Dataframe is empty! Check inputs.\n",
      "  warn('Dataframe is empty! Check inputs.')\n",
      " 16%|█▌        | 299/1868 [00:38<03:13,  8.11it/s]/Users/ssangha/Downloads/snap_setup/stable_oct5_2021/envs/s1-enumerator/lib/python3.9/site-packages/s1_enumerator/formatter.py:17: UserWarning: Dataframe is empty! Check inputs.\n",
      "  warn('Dataframe is empty! Check inputs.')\n",
      "/Users/ssangha/Downloads/snap_setup/stable_oct5_2021/envs/s1-enumerator/lib/python3.9/site-packages/s1_enumerator/formatter.py:17: UserWarning: Dataframe is empty! Check inputs.\n",
      "  warn('Dataframe is empty! Check inputs.')\n",
      " 16%|█▌        | 301/1868 [00:38<03:20,  7.82it/s]/Users/ssangha/Downloads/snap_setup/stable_oct5_2021/envs/s1-enumerator/lib/python3.9/site-packages/s1_enumerator/formatter.py:17: UserWarning: Dataframe is empty! Check inputs.\n",
      "  warn('Dataframe is empty! Check inputs.')\n",
      " 16%|█▋        | 305/1868 [00:39<02:56,  8.84it/s]/Users/ssangha/Downloads/snap_setup/stable_oct5_2021/envs/s1-enumerator/lib/python3.9/site-packages/s1_enumerator/formatter.py:17: UserWarning: Dataframe is empty! Check inputs.\n",
      "  warn('Dataframe is empty! Check inputs.')\n",
      "/Users/ssangha/Downloads/snap_setup/stable_oct5_2021/envs/s1-enumerator/lib/python3.9/site-packages/s1_enumerator/formatter.py:17: UserWarning: Dataframe is empty! Check inputs.\n",
      "  warn('Dataframe is empty! Check inputs.')\n",
      "/Users/ssangha/Downloads/snap_setup/stable_oct5_2021/envs/s1-enumerator/lib/python3.9/site-packages/s1_enumerator/formatter.py:17: UserWarning: Dataframe is empty! Check inputs.\n",
      "  warn('Dataframe is empty! Check inputs.')\n",
      "/Users/ssangha/Downloads/snap_setup/stable_oct5_2021/envs/s1-enumerator/lib/python3.9/site-packages/s1_enumerator/formatter.py:17: UserWarning: Dataframe is empty! Check inputs.\n",
      "  warn('Dataframe is empty! Check inputs.')\n",
      "/Users/ssangha/Downloads/snap_setup/stable_oct5_2021/envs/s1-enumerator/lib/python3.9/site-packages/s1_enumerator/formatter.py:17: UserWarning: Dataframe is empty! Check inputs.\n",
      "  warn('Dataframe is empty! Check inputs.')\n",
      " 16%|█▋        | 307/1868 [00:39<03:00,  8.66it/s]/Users/ssangha/Downloads/snap_setup/stable_oct5_2021/envs/s1-enumerator/lib/python3.9/site-packages/s1_enumerator/formatter.py:17: UserWarning: Dataframe is empty! Check inputs.\n",
      "  warn('Dataframe is empty! Check inputs.')\n",
      "/Users/ssangha/Downloads/snap_setup/stable_oct5_2021/envs/s1-enumerator/lib/python3.9/site-packages/s1_enumerator/formatter.py:17: UserWarning: Dataframe is empty! Check inputs.\n",
      "  warn('Dataframe is empty! Check inputs.')\n",
      "/Users/ssangha/Downloads/snap_setup/stable_oct5_2021/envs/s1-enumerator/lib/python3.9/site-packages/s1_enumerator/formatter.py:17: UserWarning: Dataframe is empty! Check inputs.\n",
      "  warn('Dataframe is empty! Check inputs.')\n",
      " 17%|█▋        | 311/1868 [00:39<02:28, 10.48it/s]/Users/ssangha/Downloads/snap_setup/stable_oct5_2021/envs/s1-enumerator/lib/python3.9/site-packages/s1_enumerator/formatter.py:17: UserWarning: Dataframe is empty! Check inputs.\n",
      "  warn('Dataframe is empty! Check inputs.')\n",
      "/Users/ssangha/Downloads/snap_setup/stable_oct5_2021/envs/s1-enumerator/lib/python3.9/site-packages/s1_enumerator/formatter.py:17: UserWarning: Dataframe is empty! Check inputs.\n",
      "  warn('Dataframe is empty! Check inputs.')\n",
      "/Users/ssangha/Downloads/snap_setup/stable_oct5_2021/envs/s1-enumerator/lib/python3.9/site-packages/s1_enumerator/formatter.py:17: UserWarning: Dataframe is empty! Check inputs.\n",
      "  warn('Dataframe is empty! Check inputs.')\n",
      "/Users/ssangha/Downloads/snap_setup/stable_oct5_2021/envs/s1-enumerator/lib/python3.9/site-packages/s1_enumerator/formatter.py:17: UserWarning: Dataframe is empty! Check inputs.\n",
      "  warn('Dataframe is empty! Check inputs.')\n",
      " 17%|█▋        | 315/1868 [00:39<02:30, 10.32it/s]/Users/ssangha/Downloads/snap_setup/stable_oct5_2021/envs/s1-enumerator/lib/python3.9/site-packages/s1_enumerator/formatter.py:17: UserWarning: Dataframe is empty! Check inputs.\n",
      "  warn('Dataframe is empty! Check inputs.')\n",
      " 17%|█▋        | 318/1868 [00:40<02:15, 11.48it/s]/Users/ssangha/Downloads/snap_setup/stable_oct5_2021/envs/s1-enumerator/lib/python3.9/site-packages/s1_enumerator/formatter.py:17: UserWarning: Dataframe is empty! Check inputs.\n",
      "  warn('Dataframe is empty! Check inputs.')\n",
      "/Users/ssangha/Downloads/snap_setup/stable_oct5_2021/envs/s1-enumerator/lib/python3.9/site-packages/s1_enumerator/formatter.py:17: UserWarning: Dataframe is empty! Check inputs.\n",
      "  warn('Dataframe is empty! Check inputs.')\n",
      " 17%|█▋        | 320/1868 [00:42<06:57,  3.71it/s]/Users/ssangha/Downloads/snap_setup/stable_oct5_2021/envs/s1-enumerator/lib/python3.9/site-packages/s1_enumerator/formatter.py:17: UserWarning: Dataframe is empty! Check inputs.\n",
      "  warn('Dataframe is empty! Check inputs.')\n",
      "/Users/ssangha/Downloads/snap_setup/stable_oct5_2021/envs/s1-enumerator/lib/python3.9/site-packages/s1_enumerator/formatter.py:17: UserWarning: Dataframe is empty! Check inputs.\n",
      "  warn('Dataframe is empty! Check inputs.')\n",
      "/Users/ssangha/Downloads/snap_setup/stable_oct5_2021/envs/s1-enumerator/lib/python3.9/site-packages/s1_enumerator/formatter.py:17: UserWarning: Dataframe is empty! Check inputs.\n",
      "  warn('Dataframe is empty! Check inputs.')\n",
      " 17%|█▋        | 321/1868 [00:42<07:33,  3.41it/s]/Users/ssangha/Downloads/snap_setup/stable_oct5_2021/envs/s1-enumerator/lib/python3.9/site-packages/s1_enumerator/formatter.py:17: UserWarning: Dataframe is empty! Check inputs.\n",
      "  warn('Dataframe is empty! Check inputs.')\n",
      "/Users/ssangha/Downloads/snap_setup/stable_oct5_2021/envs/s1-enumerator/lib/python3.9/site-packages/s1_enumerator/formatter.py:17: UserWarning: Dataframe is empty! Check inputs.\n",
      "  warn('Dataframe is empty! Check inputs.')\n",
      "/Users/ssangha/Downloads/snap_setup/stable_oct5_2021/envs/s1-enumerator/lib/python3.9/site-packages/s1_enumerator/formatter.py:17: UserWarning: Dataframe is empty! Check inputs.\n",
      "  warn('Dataframe is empty! Check inputs.')\n",
      "/Users/ssangha/Downloads/snap_setup/stable_oct5_2021/envs/s1-enumerator/lib/python3.9/site-packages/s1_enumerator/formatter.py:17: UserWarning: Dataframe is empty! Check inputs.\n",
      "  warn('Dataframe is empty! Check inputs.')\n",
      "/Users/ssangha/Downloads/snap_setup/stable_oct5_2021/envs/s1-enumerator/lib/python3.9/site-packages/s1_enumerator/formatter.py:17: UserWarning: Dataframe is empty! Check inputs.\n",
      "  warn('Dataframe is empty! Check inputs.')\n",
      "/Users/ssangha/Downloads/snap_setup/stable_oct5_2021/envs/s1-enumerator/lib/python3.9/site-packages/s1_enumerator/formatter.py:17: UserWarning: Dataframe is empty! Check inputs.\n",
      "  warn('Dataframe is empty! Check inputs.')\n",
      "/Users/ssangha/Downloads/snap_setup/stable_oct5_2021/envs/s1-enumerator/lib/python3.9/site-packages/s1_enumerator/formatter.py:17: UserWarning: Dataframe is empty! Check inputs.\n",
      "  warn('Dataframe is empty! Check inputs.')\n",
      "/Users/ssangha/Downloads/snap_setup/stable_oct5_2021/envs/s1-enumerator/lib/python3.9/site-packages/s1_enumerator/formatter.py:17: UserWarning: Dataframe is empty! Check inputs.\n",
      "  warn('Dataframe is empty! Check inputs.')\n",
      "/Users/ssangha/Downloads/snap_setup/stable_oct5_2021/envs/s1-enumerator/lib/python3.9/site-packages/s1_enumerator/formatter.py:17: UserWarning: Dataframe is empty! Check inputs.\n",
      "  warn('Dataframe is empty! Check inputs.')\n",
      "/Users/ssangha/Downloads/snap_setup/stable_oct5_2021/envs/s1-enumerator/lib/python3.9/site-packages/s1_enumerator/formatter.py:17: UserWarning: Dataframe is empty! Check inputs.\n",
      "  warn('Dataframe is empty! Check inputs.')\n",
      " 18%|█▊        | 333/1868 [00:44<04:49,  5.31it/s]/Users/ssangha/Downloads/snap_setup/stable_oct5_2021/envs/s1-enumerator/lib/python3.9/site-packages/s1_enumerator/formatter.py:17: UserWarning: Dataframe is empty! Check inputs.\n",
      "  warn('Dataframe is empty! Check inputs.')\n",
      " 18%|█▊        | 334/1868 [00:44<05:49,  4.38it/s]/Users/ssangha/Downloads/snap_setup/stable_oct5_2021/envs/s1-enumerator/lib/python3.9/site-packages/s1_enumerator/formatter.py:17: UserWarning: Dataframe is empty! Check inputs.\n",
      "  warn('Dataframe is empty! Check inputs.')\n",
      "/Users/ssangha/Downloads/snap_setup/stable_oct5_2021/envs/s1-enumerator/lib/python3.9/site-packages/s1_enumerator/formatter.py:17: UserWarning: Dataframe is empty! Check inputs.\n",
      "  warn('Dataframe is empty! Check inputs.')\n",
      "/Users/ssangha/Downloads/snap_setup/stable_oct5_2021/envs/s1-enumerator/lib/python3.9/site-packages/s1_enumerator/formatter.py:17: UserWarning: Dataframe is empty! Check inputs.\n",
      "  warn('Dataframe is empty! Check inputs.')\n",
      "/Users/ssangha/Downloads/snap_setup/stable_oct5_2021/envs/s1-enumerator/lib/python3.9/site-packages/s1_enumerator/formatter.py:17: UserWarning: Dataframe is empty! Check inputs.\n",
      "  warn('Dataframe is empty! Check inputs.')\n",
      "/Users/ssangha/Downloads/snap_setup/stable_oct5_2021/envs/s1-enumerator/lib/python3.9/site-packages/s1_enumerator/formatter.py:17: UserWarning: Dataframe is empty! Check inputs.\n",
      "  warn('Dataframe is empty! Check inputs.')\n",
      " 18%|█▊        | 335/1868 [00:47<10:57,  2.33it/s]/Users/ssangha/Downloads/snap_setup/stable_oct5_2021/envs/s1-enumerator/lib/python3.9/site-packages/s1_enumerator/formatter.py:17: UserWarning: Dataframe is empty! Check inputs.\n",
      "  warn('Dataframe is empty! Check inputs.')\n",
      "/Users/ssangha/Downloads/snap_setup/stable_oct5_2021/envs/s1-enumerator/lib/python3.9/site-packages/s1_enumerator/formatter.py:17: UserWarning: Dataframe is empty! Check inputs.\n",
      "  warn('Dataframe is empty! Check inputs.')\n",
      "/Users/ssangha/Downloads/snap_setup/stable_oct5_2021/envs/s1-enumerator/lib/python3.9/site-packages/s1_enumerator/formatter.py:17: UserWarning: Dataframe is empty! Check inputs.\n",
      "  warn('Dataframe is empty! Check inputs.')\n",
      "/Users/ssangha/Downloads/snap_setup/stable_oct5_2021/envs/s1-enumerator/lib/python3.9/site-packages/s1_enumerator/formatter.py:17: UserWarning: Dataframe is empty! Check inputs.\n",
      "  warn('Dataframe is empty! Check inputs.')\n",
      "/Users/ssangha/Downloads/snap_setup/stable_oct5_2021/envs/s1-enumerator/lib/python3.9/site-packages/s1_enumerator/formatter.py:17: UserWarning: Dataframe is empty! Check inputs.\n",
      "  warn('Dataframe is empty! Check inputs.')\n",
      "/Users/ssangha/Downloads/snap_setup/stable_oct5_2021/envs/s1-enumerator/lib/python3.9/site-packages/s1_enumerator/formatter.py:17: UserWarning: Dataframe is empty! Check inputs.\n",
      "  warn('Dataframe is empty! Check inputs.')\n",
      " 18%|█▊        | 336/1868 [00:47<10:12,  2.50it/s]/Users/ssangha/Downloads/snap_setup/stable_oct5_2021/envs/s1-enumerator/lib/python3.9/site-packages/s1_enumerator/formatter.py:17: UserWarning: Dataframe is empty! Check inputs.\n",
      "  warn('Dataframe is empty! Check inputs.')\n",
      "/Users/ssangha/Downloads/snap_setup/stable_oct5_2021/envs/s1-enumerator/lib/python3.9/site-packages/s1_enumerator/formatter.py:17: UserWarning: Dataframe is empty! Check inputs.\n",
      "  warn('Dataframe is empty! Check inputs.')\n",
      "/Users/ssangha/Downloads/snap_setup/stable_oct5_2021/envs/s1-enumerator/lib/python3.9/site-packages/s1_enumerator/formatter.py:17: UserWarning: Dataframe is empty! Check inputs.\n",
      "  warn('Dataframe is empty! Check inputs.')\n",
      " 18%|█▊        | 342/1868 [00:47<05:11,  4.90it/s]/Users/ssangha/Downloads/snap_setup/stable_oct5_2021/envs/s1-enumerator/lib/python3.9/site-packages/s1_enumerator/formatter.py:17: UserWarning: Dataframe is empty! Check inputs.\n",
      "  warn('Dataframe is empty! Check inputs.')\n",
      "/Users/ssangha/Downloads/snap_setup/stable_oct5_2021/envs/s1-enumerator/lib/python3.9/site-packages/s1_enumerator/formatter.py:17: UserWarning: Dataframe is empty! Check inputs.\n",
      "  warn('Dataframe is empty! Check inputs.')\n",
      " 19%|█▊        | 350/1868 [00:47<03:22,  7.49it/s]/Users/ssangha/Downloads/snap_setup/stable_oct5_2021/envs/s1-enumerator/lib/python3.9/site-packages/s1_enumerator/formatter.py:17: UserWarning: Dataframe is empty! Check inputs.\n",
      "  warn('Dataframe is empty! Check inputs.')\n",
      "/Users/ssangha/Downloads/snap_setup/stable_oct5_2021/envs/s1-enumerator/lib/python3.9/site-packages/s1_enumerator/formatter.py:17: UserWarning: Dataframe is empty! Check inputs.\n",
      "  warn('Dataframe is empty! Check inputs.')\n",
      " 19%|█▉        | 352/1868 [00:48<04:07,  6.13it/s]/Users/ssangha/Downloads/snap_setup/stable_oct5_2021/envs/s1-enumerator/lib/python3.9/site-packages/s1_enumerator/formatter.py:17: UserWarning: Dataframe is empty! Check inputs.\n",
      "  warn('Dataframe is empty! Check inputs.')\n",
      "/Users/ssangha/Downloads/snap_setup/stable_oct5_2021/envs/s1-enumerator/lib/python3.9/site-packages/s1_enumerator/formatter.py:17: UserWarning: Dataframe is empty! Check inputs.\n",
      "  warn('Dataframe is empty! Check inputs.')\n",
      "/Users/ssangha/Downloads/snap_setup/stable_oct5_2021/envs/s1-enumerator/lib/python3.9/site-packages/s1_enumerator/formatter.py:17: UserWarning: Dataframe is empty! Check inputs.\n",
      "  warn('Dataframe is empty! Check inputs.')\n",
      "/Users/ssangha/Downloads/snap_setup/stable_oct5_2021/envs/s1-enumerator/lib/python3.9/site-packages/s1_enumerator/formatter.py:17: UserWarning: Dataframe is empty! Check inputs.\n",
      "  warn('Dataframe is empty! Check inputs.')\n",
      "/Users/ssangha/Downloads/snap_setup/stable_oct5_2021/envs/s1-enumerator/lib/python3.9/site-packages/s1_enumerator/formatter.py:17: UserWarning: Dataframe is empty! Check inputs.\n",
      "  warn('Dataframe is empty! Check inputs.')\n",
      "/Users/ssangha/Downloads/snap_setup/stable_oct5_2021/envs/s1-enumerator/lib/python3.9/site-packages/s1_enumerator/formatter.py:17: UserWarning: Dataframe is empty! Check inputs.\n",
      "  warn('Dataframe is empty! Check inputs.')\n",
      " 19%|█▉        | 355/1868 [00:49<04:07,  6.12it/s]/Users/ssangha/Downloads/snap_setup/stable_oct5_2021/envs/s1-enumerator/lib/python3.9/site-packages/s1_enumerator/formatter.py:17: UserWarning: Dataframe is empty! Check inputs.\n",
      "  warn('Dataframe is empty! Check inputs.')\n",
      "/Users/ssangha/Downloads/snap_setup/stable_oct5_2021/envs/s1-enumerator/lib/python3.9/site-packages/s1_enumerator/formatter.py:17: UserWarning: Dataframe is empty! Check inputs.\n",
      "  warn('Dataframe is empty! Check inputs.')\n",
      "/Users/ssangha/Downloads/snap_setup/stable_oct5_2021/envs/s1-enumerator/lib/python3.9/site-packages/s1_enumerator/formatter.py:17: UserWarning: Dataframe is empty! Check inputs.\n",
      "  warn('Dataframe is empty! Check inputs.')\n",
      "/Users/ssangha/Downloads/snap_setup/stable_oct5_2021/envs/s1-enumerator/lib/python3.9/site-packages/s1_enumerator/formatter.py:17: UserWarning: Dataframe is empty! Check inputs.\n",
      "  warn('Dataframe is empty! Check inputs.')\n",
      "/Users/ssangha/Downloads/snap_setup/stable_oct5_2021/envs/s1-enumerator/lib/python3.9/site-packages/s1_enumerator/formatter.py:17: UserWarning: Dataframe is empty! Check inputs.\n",
      "  warn('Dataframe is empty! Check inputs.')\n",
      " 19%|█▉        | 357/1868 [00:49<03:43,  6.77it/s]/Users/ssangha/Downloads/snap_setup/stable_oct5_2021/envs/s1-enumerator/lib/python3.9/site-packages/s1_enumerator/formatter.py:17: UserWarning: Dataframe is empty! Check inputs.\n",
      "  warn('Dataframe is empty! Check inputs.')\n",
      " 19%|█▉        | 362/1868 [00:49<02:29, 10.08it/s]/Users/ssangha/Downloads/snap_setup/stable_oct5_2021/envs/s1-enumerator/lib/python3.9/site-packages/s1_enumerator/formatter.py:17: UserWarning: Dataframe is empty! Check inputs.\n",
      "  warn('Dataframe is empty! Check inputs.')\n",
      "/Users/ssangha/Downloads/snap_setup/stable_oct5_2021/envs/s1-enumerator/lib/python3.9/site-packages/s1_enumerator/formatter.py:17: UserWarning: Dataframe is empty! Check inputs.\n",
      "  warn('Dataframe is empty! Check inputs.')\n",
      " 20%|█▉        | 365/1868 [00:49<02:12, 11.38it/s]/Users/ssangha/Downloads/snap_setup/stable_oct5_2021/envs/s1-enumerator/lib/python3.9/site-packages/s1_enumerator/formatter.py:17: UserWarning: Dataframe is empty! Check inputs.\n",
      "  warn('Dataframe is empty! Check inputs.')\n",
      " 20%|█▉        | 367/1868 [00:49<02:28, 10.12it/s]/Users/ssangha/Downloads/snap_setup/stable_oct5_2021/envs/s1-enumerator/lib/python3.9/site-packages/s1_enumerator/formatter.py:17: UserWarning: Dataframe is empty! Check inputs.\n",
      "  warn('Dataframe is empty! Check inputs.')\n",
      "/Users/ssangha/Downloads/snap_setup/stable_oct5_2021/envs/s1-enumerator/lib/python3.9/site-packages/s1_enumerator/formatter.py:17: UserWarning: Dataframe is empty! Check inputs.\n",
      "  warn('Dataframe is empty! Check inputs.')\n",
      " 20%|█▉        | 369/1868 [00:50<03:18,  7.55it/s]/Users/ssangha/Downloads/snap_setup/stable_oct5_2021/envs/s1-enumerator/lib/python3.9/site-packages/s1_enumerator/formatter.py:17: UserWarning: Dataframe is empty! Check inputs.\n",
      "  warn('Dataframe is empty! Check inputs.')\n",
      "/Users/ssangha/Downloads/snap_setup/stable_oct5_2021/envs/s1-enumerator/lib/python3.9/site-packages/s1_enumerator/formatter.py:17: UserWarning: Dataframe is empty! Check inputs.\n",
      "  warn('Dataframe is empty! Check inputs.')\n",
      "/Users/ssangha/Downloads/snap_setup/stable_oct5_2021/envs/s1-enumerator/lib/python3.9/site-packages/s1_enumerator/formatter.py:17: UserWarning: Dataframe is empty! Check inputs.\n",
      "  warn('Dataframe is empty! Check inputs.')\n",
      "/Users/ssangha/Downloads/snap_setup/stable_oct5_2021/envs/s1-enumerator/lib/python3.9/site-packages/s1_enumerator/formatter.py:17: UserWarning: Dataframe is empty! Check inputs.\n",
      "  warn('Dataframe is empty! Check inputs.')\n",
      "/Users/ssangha/Downloads/snap_setup/stable_oct5_2021/envs/s1-enumerator/lib/python3.9/site-packages/s1_enumerator/formatter.py:17: UserWarning: Dataframe is empty! Check inputs.\n",
      "  warn('Dataframe is empty! Check inputs.')\n",
      "/Users/ssangha/Downloads/snap_setup/stable_oct5_2021/envs/s1-enumerator/lib/python3.9/site-packages/s1_enumerator/formatter.py:17: UserWarning: Dataframe is empty! Check inputs.\n",
      "  warn('Dataframe is empty! Check inputs.')\n",
      " 20%|█▉        | 371/1868 [00:50<04:20,  5.74it/s]/Users/ssangha/Downloads/snap_setup/stable_oct5_2021/envs/s1-enumerator/lib/python3.9/site-packages/s1_enumerator/formatter.py:17: UserWarning: Dataframe is empty! Check inputs.\n",
      "  warn('Dataframe is empty! Check inputs.')\n",
      "/Users/ssangha/Downloads/snap_setup/stable_oct5_2021/envs/s1-enumerator/lib/python3.9/site-packages/s1_enumerator/formatter.py:17: UserWarning: Dataframe is empty! Check inputs.\n",
      "  warn('Dataframe is empty! Check inputs.')\n",
      "/Users/ssangha/Downloads/snap_setup/stable_oct5_2021/envs/s1-enumerator/lib/python3.9/site-packages/s1_enumerator/formatter.py:17: UserWarning: Dataframe is empty! Check inputs.\n",
      "  warn('Dataframe is empty! Check inputs.')\n",
      " 20%|█▉        | 373/1868 [00:51<03:39,  6.80it/s]/Users/ssangha/Downloads/snap_setup/stable_oct5_2021/envs/s1-enumerator/lib/python3.9/site-packages/s1_enumerator/formatter.py:17: UserWarning: Dataframe is empty! Check inputs.\n",
      "  warn('Dataframe is empty! Check inputs.')\n",
      " 20%|██        | 379/1868 [00:51<02:04, 11.96it/s]/Users/ssangha/Downloads/snap_setup/stable_oct5_2021/envs/s1-enumerator/lib/python3.9/site-packages/s1_enumerator/formatter.py:17: UserWarning: Dataframe is empty! Check inputs.\n",
      "  warn('Dataframe is empty! Check inputs.')\n",
      " 20%|██        | 381/1868 [00:51<02:08, 11.62it/s]/Users/ssangha/Downloads/snap_setup/stable_oct5_2021/envs/s1-enumerator/lib/python3.9/site-packages/s1_enumerator/formatter.py:17: UserWarning: Dataframe is empty! Check inputs.\n",
      "  warn('Dataframe is empty! Check inputs.')\n",
      "/Users/ssangha/Downloads/snap_setup/stable_oct5_2021/envs/s1-enumerator/lib/python3.9/site-packages/s1_enumerator/formatter.py:17: UserWarning: Dataframe is empty! Check inputs.\n",
      "  warn('Dataframe is empty! Check inputs.')\n",
      " 21%|██        | 383/1868 [00:51<02:24, 10.31it/s]/Users/ssangha/Downloads/snap_setup/stable_oct5_2021/envs/s1-enumerator/lib/python3.9/site-packages/s1_enumerator/formatter.py:17: UserWarning: Dataframe is empty! Check inputs.\n",
      "  warn('Dataframe is empty! Check inputs.')\n",
      "/Users/ssangha/Downloads/snap_setup/stable_oct5_2021/envs/s1-enumerator/lib/python3.9/site-packages/s1_enumerator/formatter.py:17: UserWarning: Dataframe is empty! Check inputs.\n",
      "  warn('Dataframe is empty! Check inputs.')\n",
      " 21%|██        | 385/1868 [00:51<02:25, 10.17it/s]/Users/ssangha/Downloads/snap_setup/stable_oct5_2021/envs/s1-enumerator/lib/python3.9/site-packages/s1_enumerator/formatter.py:17: UserWarning: Dataframe is empty! Check inputs.\n",
      "  warn('Dataframe is empty! Check inputs.')\n",
      "/Users/ssangha/Downloads/snap_setup/stable_oct5_2021/envs/s1-enumerator/lib/python3.9/site-packages/s1_enumerator/formatter.py:17: UserWarning: Dataframe is empty! Check inputs.\n",
      "  warn('Dataframe is empty! Check inputs.')\n",
      " 21%|██        | 387/1868 [00:52<03:58,  6.21it/s]/Users/ssangha/Downloads/snap_setup/stable_oct5_2021/envs/s1-enumerator/lib/python3.9/site-packages/s1_enumerator/formatter.py:17: UserWarning: Dataframe is empty! Check inputs.\n",
      "  warn('Dataframe is empty! Check inputs.')\n",
      "/Users/ssangha/Downloads/snap_setup/stable_oct5_2021/envs/s1-enumerator/lib/python3.9/site-packages/s1_enumerator/formatter.py:17: UserWarning: Dataframe is empty! Check inputs.\n",
      "  warn('Dataframe is empty! Check inputs.')\n",
      "/Users/ssangha/Downloads/snap_setup/stable_oct5_2021/envs/s1-enumerator/lib/python3.9/site-packages/s1_enumerator/formatter.py:17: UserWarning: Dataframe is empty! Check inputs.\n",
      "  warn('Dataframe is empty! Check inputs.')\n",
      "/Users/ssangha/Downloads/snap_setup/stable_oct5_2021/envs/s1-enumerator/lib/python3.9/site-packages/s1_enumerator/formatter.py:17: UserWarning: Dataframe is empty! Check inputs.\n",
      "  warn('Dataframe is empty! Check inputs.')\n",
      "/Users/ssangha/Downloads/snap_setup/stable_oct5_2021/envs/s1-enumerator/lib/python3.9/site-packages/s1_enumerator/formatter.py:17: UserWarning: Dataframe is empty! Check inputs.\n",
      "  warn('Dataframe is empty! Check inputs.')\n",
      "/Users/ssangha/Downloads/snap_setup/stable_oct5_2021/envs/s1-enumerator/lib/python3.9/site-packages/s1_enumerator/formatter.py:17: UserWarning: Dataframe is empty! Check inputs.\n",
      "  warn('Dataframe is empty! Check inputs.')\n",
      "/Users/ssangha/Downloads/snap_setup/stable_oct5_2021/envs/s1-enumerator/lib/python3.9/site-packages/s1_enumerator/formatter.py:17: UserWarning: Dataframe is empty! Check inputs.\n",
      "  warn('Dataframe is empty! Check inputs.')\n",
      "/Users/ssangha/Downloads/snap_setup/stable_oct5_2021/envs/s1-enumerator/lib/python3.9/site-packages/s1_enumerator/formatter.py:17: UserWarning: Dataframe is empty! Check inputs.\n",
      "  warn('Dataframe is empty! Check inputs.')\n",
      " 21%|██        | 388/1868 [00:53<05:23,  4.58it/s]/Users/ssangha/Downloads/snap_setup/stable_oct5_2021/envs/s1-enumerator/lib/python3.9/site-packages/s1_enumerator/formatter.py:17: UserWarning: Dataframe is empty! Check inputs.\n",
      "  warn('Dataframe is empty! Check inputs.')\n",
      "/Users/ssangha/Downloads/snap_setup/stable_oct5_2021/envs/s1-enumerator/lib/python3.9/site-packages/s1_enumerator/formatter.py:17: UserWarning: Dataframe is empty! Check inputs.\n",
      "  warn('Dataframe is empty! Check inputs.')\n",
      "/Users/ssangha/Downloads/snap_setup/stable_oct5_2021/envs/s1-enumerator/lib/python3.9/site-packages/s1_enumerator/formatter.py:17: UserWarning: Dataframe is empty! Check inputs.\n",
      "  warn('Dataframe is empty! Check inputs.')\n",
      " 21%|██▏       | 398/1868 [00:53<01:56, 12.58it/s]/Users/ssangha/Downloads/snap_setup/stable_oct5_2021/envs/s1-enumerator/lib/python3.9/site-packages/s1_enumerator/formatter.py:17: UserWarning: Dataframe is empty! Check inputs.\n",
      "  warn('Dataframe is empty! Check inputs.')\n",
      "/Users/ssangha/Downloads/snap_setup/stable_oct5_2021/envs/s1-enumerator/lib/python3.9/site-packages/s1_enumerator/formatter.py:17: UserWarning: Dataframe is empty! Check inputs.\n",
      "  warn('Dataframe is empty! Check inputs.')\n",
      "/Users/ssangha/Downloads/snap_setup/stable_oct5_2021/envs/s1-enumerator/lib/python3.9/site-packages/s1_enumerator/formatter.py:17: UserWarning: Dataframe is empty! Check inputs.\n",
      "  warn('Dataframe is empty! Check inputs.')\n",
      "/Users/ssangha/Downloads/snap_setup/stable_oct5_2021/envs/s1-enumerator/lib/python3.9/site-packages/s1_enumerator/formatter.py:17: UserWarning: Dataframe is empty! Check inputs.\n",
      "  warn('Dataframe is empty! Check inputs.')\n",
      " 21%|██▏       | 401/1868 [00:54<03:15,  7.50it/s]/Users/ssangha/Downloads/snap_setup/stable_oct5_2021/envs/s1-enumerator/lib/python3.9/site-packages/s1_enumerator/formatter.py:17: UserWarning: Dataframe is empty! Check inputs.\n",
      "  warn('Dataframe is empty! Check inputs.')\n",
      "/Users/ssangha/Downloads/snap_setup/stable_oct5_2021/envs/s1-enumerator/lib/python3.9/site-packages/s1_enumerator/formatter.py:17: UserWarning: Dataframe is empty! Check inputs.\n",
      "  warn('Dataframe is empty! Check inputs.')\n",
      " 22%|██▏       | 403/1868 [00:54<03:24,  7.15it/s]/Users/ssangha/Downloads/snap_setup/stable_oct5_2021/envs/s1-enumerator/lib/python3.9/site-packages/s1_enumerator/formatter.py:17: UserWarning: Dataframe is empty! Check inputs.\n",
      "  warn('Dataframe is empty! Check inputs.')\n",
      "/Users/ssangha/Downloads/snap_setup/stable_oct5_2021/envs/s1-enumerator/lib/python3.9/site-packages/s1_enumerator/formatter.py:17: UserWarning: Dataframe is empty! Check inputs.\n",
      "  warn('Dataframe is empty! Check inputs.')\n",
      "/Users/ssangha/Downloads/snap_setup/stable_oct5_2021/envs/s1-enumerator/lib/python3.9/site-packages/s1_enumerator/formatter.py:17: UserWarning: Dataframe is empty! Check inputs.\n",
      "  warn('Dataframe is empty! Check inputs.')\n",
      "/Users/ssangha/Downloads/snap_setup/stable_oct5_2021/envs/s1-enumerator/lib/python3.9/site-packages/s1_enumerator/formatter.py:17: UserWarning: Dataframe is empty! Check inputs.\n",
      "  warn('Dataframe is empty! Check inputs.')\n",
      " 22%|██▏       | 407/1868 [00:54<02:42,  9.01it/s]/Users/ssangha/Downloads/snap_setup/stable_oct5_2021/envs/s1-enumerator/lib/python3.9/site-packages/s1_enumerator/formatter.py:17: UserWarning: Dataframe is empty! Check inputs.\n",
      "  warn('Dataframe is empty! Check inputs.')\n",
      "/Users/ssangha/Downloads/snap_setup/stable_oct5_2021/envs/s1-enumerator/lib/python3.9/site-packages/s1_enumerator/formatter.py:17: UserWarning: Dataframe is empty! Check inputs.\n",
      "  warn('Dataframe is empty! Check inputs.')\n",
      " 22%|██▏       | 409/1868 [00:54<02:24, 10.06it/s]/Users/ssangha/Downloads/snap_setup/stable_oct5_2021/envs/s1-enumerator/lib/python3.9/site-packages/s1_enumerator/formatter.py:17: UserWarning: Dataframe is empty! Check inputs.\n",
      "  warn('Dataframe is empty! Check inputs.')\n",
      " 22%|██▏       | 411/1868 [00:55<02:29,  9.73it/s]/Users/ssangha/Downloads/snap_setup/stable_oct5_2021/envs/s1-enumerator/lib/python3.9/site-packages/s1_enumerator/formatter.py:17: UserWarning: Dataframe is empty! Check inputs.\n",
      "  warn('Dataframe is empty! Check inputs.')\n",
      "/Users/ssangha/Downloads/snap_setup/stable_oct5_2021/envs/s1-enumerator/lib/python3.9/site-packages/s1_enumerator/formatter.py:17: UserWarning: Dataframe is empty! Check inputs.\n",
      "  warn('Dataframe is empty! Check inputs.')\n",
      "/Users/ssangha/Downloads/snap_setup/stable_oct5_2021/envs/s1-enumerator/lib/python3.9/site-packages/s1_enumerator/formatter.py:17: UserWarning: Dataframe is empty! Check inputs.\n",
      "  warn('Dataframe is empty! Check inputs.')\n",
      " 22%|██▏       | 413/1868 [00:55<02:45,  8.78it/s]/Users/ssangha/Downloads/snap_setup/stable_oct5_2021/envs/s1-enumerator/lib/python3.9/site-packages/s1_enumerator/formatter.py:17: UserWarning: Dataframe is empty! Check inputs.\n",
      "  warn('Dataframe is empty! Check inputs.')\n",
      " 22%|██▏       | 415/1868 [00:55<02:22, 10.23it/s]/Users/ssangha/Downloads/snap_setup/stable_oct5_2021/envs/s1-enumerator/lib/python3.9/site-packages/s1_enumerator/formatter.py:17: UserWarning: Dataframe is empty! Check inputs.\n",
      "  warn('Dataframe is empty! Check inputs.')\n",
      "/Users/ssangha/Downloads/snap_setup/stable_oct5_2021/envs/s1-enumerator/lib/python3.9/site-packages/s1_enumerator/formatter.py:17: UserWarning: Dataframe is empty! Check inputs.\n",
      "  warn('Dataframe is empty! Check inputs.')\n",
      " 22%|██▏       | 417/1868 [00:55<03:05,  7.83it/s]/Users/ssangha/Downloads/snap_setup/stable_oct5_2021/envs/s1-enumerator/lib/python3.9/site-packages/s1_enumerator/formatter.py:17: UserWarning: Dataframe is empty! Check inputs.\n",
      "  warn('Dataframe is empty! Check inputs.')\n",
      "/Users/ssangha/Downloads/snap_setup/stable_oct5_2021/envs/s1-enumerator/lib/python3.9/site-packages/s1_enumerator/formatter.py:17: UserWarning: Dataframe is empty! Check inputs.\n",
      "  warn('Dataframe is empty! Check inputs.')\n",
      "/Users/ssangha/Downloads/snap_setup/stable_oct5_2021/envs/s1-enumerator/lib/python3.9/site-packages/s1_enumerator/formatter.py:17: UserWarning: Dataframe is empty! Check inputs.\n",
      "  warn('Dataframe is empty! Check inputs.')\n",
      " 22%|██▏       | 419/1868 [00:56<03:51,  6.26it/s]/Users/ssangha/Downloads/snap_setup/stable_oct5_2021/envs/s1-enumerator/lib/python3.9/site-packages/s1_enumerator/formatter.py:17: UserWarning: Dataframe is empty! Check inputs.\n",
      "  warn('Dataframe is empty! Check inputs.')\n",
      "/Users/ssangha/Downloads/snap_setup/stable_oct5_2021/envs/s1-enumerator/lib/python3.9/site-packages/s1_enumerator/formatter.py:17: UserWarning: Dataframe is empty! Check inputs.\n",
      "  warn('Dataframe is empty! Check inputs.')\n",
      "/Users/ssangha/Downloads/snap_setup/stable_oct5_2021/envs/s1-enumerator/lib/python3.9/site-packages/s1_enumerator/formatter.py:17: UserWarning: Dataframe is empty! Check inputs.\n",
      "  warn('Dataframe is empty! Check inputs.')\n",
      " 23%|██▎       | 421/1868 [00:56<03:06,  7.76it/s]/Users/ssangha/Downloads/snap_setup/stable_oct5_2021/envs/s1-enumerator/lib/python3.9/site-packages/s1_enumerator/formatter.py:17: UserWarning: Dataframe is empty! Check inputs.\n",
      "  warn('Dataframe is empty! Check inputs.')\n",
      "/Users/ssangha/Downloads/snap_setup/stable_oct5_2021/envs/s1-enumerator/lib/python3.9/site-packages/s1_enumerator/formatter.py:17: UserWarning: Dataframe is empty! Check inputs.\n",
      "  warn('Dataframe is empty! Check inputs.')\n",
      " 23%|██▎       | 424/1868 [00:56<02:27,  9.77it/s]/Users/ssangha/Downloads/snap_setup/stable_oct5_2021/envs/s1-enumerator/lib/python3.9/site-packages/s1_enumerator/formatter.py:17: UserWarning: Dataframe is empty! Check inputs.\n",
      "  warn('Dataframe is empty! Check inputs.')\n",
      "/Users/ssangha/Downloads/snap_setup/stable_oct5_2021/envs/s1-enumerator/lib/python3.9/site-packages/s1_enumerator/formatter.py:17: UserWarning: Dataframe is empty! Check inputs.\n",
      "  warn('Dataframe is empty! Check inputs.')\n",
      " 23%|██▎       | 426/1868 [00:57<02:58,  8.09it/s]/Users/ssangha/Downloads/snap_setup/stable_oct5_2021/envs/s1-enumerator/lib/python3.9/site-packages/s1_enumerator/formatter.py:17: UserWarning: Dataframe is empty! Check inputs.\n",
      "  warn('Dataframe is empty! Check inputs.')\n",
      "/Users/ssangha/Downloads/snap_setup/stable_oct5_2021/envs/s1-enumerator/lib/python3.9/site-packages/s1_enumerator/formatter.py:17: UserWarning: Dataframe is empty! Check inputs.\n",
      "  warn('Dataframe is empty! Check inputs.')\n",
      " 23%|██▎       | 430/1868 [00:57<02:09, 11.08it/s]/Users/ssangha/Downloads/snap_setup/stable_oct5_2021/envs/s1-enumerator/lib/python3.9/site-packages/s1_enumerator/formatter.py:17: UserWarning: Dataframe is empty! Check inputs.\n",
      "  warn('Dataframe is empty! Check inputs.')\n",
      "/Users/ssangha/Downloads/snap_setup/stable_oct5_2021/envs/s1-enumerator/lib/python3.9/site-packages/s1_enumerator/formatter.py:17: UserWarning: Dataframe is empty! Check inputs.\n",
      "  warn('Dataframe is empty! Check inputs.')\n",
      " 23%|██▎       | 432/1868 [00:57<03:36,  6.64it/s]/Users/ssangha/Downloads/snap_setup/stable_oct5_2021/envs/s1-enumerator/lib/python3.9/site-packages/s1_enumerator/formatter.py:17: UserWarning: Dataframe is empty! Check inputs.\n",
      "  warn('Dataframe is empty! Check inputs.')\n",
      "/Users/ssangha/Downloads/snap_setup/stable_oct5_2021/envs/s1-enumerator/lib/python3.9/site-packages/s1_enumerator/formatter.py:17: UserWarning: Dataframe is empty! Check inputs.\n",
      "  warn('Dataframe is empty! Check inputs.')\n",
      "/Users/ssangha/Downloads/snap_setup/stable_oct5_2021/envs/s1-enumerator/lib/python3.9/site-packages/s1_enumerator/formatter.py:17: UserWarning: Dataframe is empty! Check inputs.\n",
      "  warn('Dataframe is empty! Check inputs.')\n",
      " 23%|██▎       | 434/1868 [00:58<03:51,  6.20it/s]/Users/ssangha/Downloads/snap_setup/stable_oct5_2021/envs/s1-enumerator/lib/python3.9/site-packages/s1_enumerator/formatter.py:17: UserWarning: Dataframe is empty! Check inputs.\n",
      "  warn('Dataframe is empty! Check inputs.')\n",
      "/Users/ssangha/Downloads/snap_setup/stable_oct5_2021/envs/s1-enumerator/lib/python3.9/site-packages/s1_enumerator/formatter.py:17: UserWarning: Dataframe is empty! Check inputs.\n",
      "  warn('Dataframe is empty! Check inputs.')\n",
      "/Users/ssangha/Downloads/snap_setup/stable_oct5_2021/envs/s1-enumerator/lib/python3.9/site-packages/s1_enumerator/formatter.py:17: UserWarning: Dataframe is empty! Check inputs.\n",
      "  warn('Dataframe is empty! Check inputs.')\n",
      "/Users/ssangha/Downloads/snap_setup/stable_oct5_2021/envs/s1-enumerator/lib/python3.9/site-packages/s1_enumerator/formatter.py:17: UserWarning: Dataframe is empty! Check inputs.\n",
      "  warn('Dataframe is empty! Check inputs.')\n",
      "/Users/ssangha/Downloads/snap_setup/stable_oct5_2021/envs/s1-enumerator/lib/python3.9/site-packages/s1_enumerator/formatter.py:17: UserWarning: Dataframe is empty! Check inputs.\n",
      "  warn('Dataframe is empty! Check inputs.')\n",
      "/Users/ssangha/Downloads/snap_setup/stable_oct5_2021/envs/s1-enumerator/lib/python3.9/site-packages/s1_enumerator/formatter.py:17: UserWarning: Dataframe is empty! Check inputs.\n",
      "  warn('Dataframe is empty! Check inputs.')\n",
      "/Users/ssangha/Downloads/snap_setup/stable_oct5_2021/envs/s1-enumerator/lib/python3.9/site-packages/s1_enumerator/formatter.py:17: UserWarning: Dataframe is empty! Check inputs.\n",
      "  warn('Dataframe is empty! Check inputs.')\n",
      "/Users/ssangha/Downloads/snap_setup/stable_oct5_2021/envs/s1-enumerator/lib/python3.9/site-packages/s1_enumerator/formatter.py:17: UserWarning: Dataframe is empty! Check inputs.\n",
      "  warn('Dataframe is empty! Check inputs.')\n",
      " 23%|██▎       | 436/1868 [01:00<09:55,  2.40it/s]/Users/ssangha/Downloads/snap_setup/stable_oct5_2021/envs/s1-enumerator/lib/python3.9/site-packages/s1_enumerator/formatter.py:17: UserWarning: Dataframe is empty! Check inputs.\n",
      "  warn('Dataframe is empty! Check inputs.')\n",
      "/Users/ssangha/Downloads/snap_setup/stable_oct5_2021/envs/s1-enumerator/lib/python3.9/site-packages/s1_enumerator/formatter.py:17: UserWarning: Dataframe is empty! Check inputs.\n",
      "  warn('Dataframe is empty! Check inputs.')\n",
      " 24%|██▍       | 447/1868 [01:02<05:25,  4.36it/s]/Users/ssangha/Downloads/snap_setup/stable_oct5_2021/envs/s1-enumerator/lib/python3.9/site-packages/s1_enumerator/formatter.py:17: UserWarning: Dataframe is empty! Check inputs.\n",
      "  warn('Dataframe is empty! Check inputs.')\n",
      "/Users/ssangha/Downloads/snap_setup/stable_oct5_2021/envs/s1-enumerator/lib/python3.9/site-packages/s1_enumerator/formatter.py:17: UserWarning: Dataframe is empty! Check inputs.\n",
      "  warn('Dataframe is empty! Check inputs.')\n",
      "/Users/ssangha/Downloads/snap_setup/stable_oct5_2021/envs/s1-enumerator/lib/python3.9/site-packages/s1_enumerator/formatter.py:17: UserWarning: Dataframe is empty! Check inputs.\n",
      "  warn('Dataframe is empty! Check inputs.')\n",
      "/Users/ssangha/Downloads/snap_setup/stable_oct5_2021/envs/s1-enumerator/lib/python3.9/site-packages/s1_enumerator/formatter.py:17: UserWarning: Dataframe is empty! Check inputs.\n",
      "  warn('Dataframe is empty! Check inputs.')\n",
      " 24%|██▍       | 448/1868 [01:02<06:02,  3.92it/s]/Users/ssangha/Downloads/snap_setup/stable_oct5_2021/envs/s1-enumerator/lib/python3.9/site-packages/s1_enumerator/formatter.py:17: UserWarning: Dataframe is empty! Check inputs.\n",
      "  warn('Dataframe is empty! Check inputs.')\n",
      "/Users/ssangha/Downloads/snap_setup/stable_oct5_2021/envs/s1-enumerator/lib/python3.9/site-packages/s1_enumerator/formatter.py:17: UserWarning: Dataframe is empty! Check inputs.\n",
      "  warn('Dataframe is empty! Check inputs.')\n",
      "/Users/ssangha/Downloads/snap_setup/stable_oct5_2021/envs/s1-enumerator/lib/python3.9/site-packages/s1_enumerator/formatter.py:17: UserWarning: Dataframe is empty! Check inputs.\n",
      "  warn('Dataframe is empty! Check inputs.')\n",
      "/Users/ssangha/Downloads/snap_setup/stable_oct5_2021/envs/s1-enumerator/lib/python3.9/site-packages/s1_enumerator/formatter.py:17: UserWarning: Dataframe is empty! Check inputs.\n",
      "  warn('Dataframe is empty! Check inputs.')\n",
      "/Users/ssangha/Downloads/snap_setup/stable_oct5_2021/envs/s1-enumerator/lib/python3.9/site-packages/s1_enumerator/formatter.py:17: UserWarning: Dataframe is empty! Check inputs.\n",
      "  warn('Dataframe is empty! Check inputs.')\n",
      "/Users/ssangha/Downloads/snap_setup/stable_oct5_2021/envs/s1-enumerator/lib/python3.9/site-packages/s1_enumerator/formatter.py:17: UserWarning: Dataframe is empty! Check inputs.\n",
      "  warn('Dataframe is empty! Check inputs.')\n",
      "/Users/ssangha/Downloads/snap_setup/stable_oct5_2021/envs/s1-enumerator/lib/python3.9/site-packages/s1_enumerator/formatter.py:17: UserWarning: Dataframe is empty! Check inputs.\n",
      "  warn('Dataframe is empty! Check inputs.')\n",
      " 24%|██▍       | 449/1868 [01:02<05:56,  3.98it/s]/Users/ssangha/Downloads/snap_setup/stable_oct5_2021/envs/s1-enumerator/lib/python3.9/site-packages/s1_enumerator/formatter.py:17: UserWarning: Dataframe is empty! Check inputs.\n",
      "  warn('Dataframe is empty! Check inputs.')\n",
      "/Users/ssangha/Downloads/snap_setup/stable_oct5_2021/envs/s1-enumerator/lib/python3.9/site-packages/s1_enumerator/formatter.py:17: UserWarning: Dataframe is empty! Check inputs.\n",
      "  warn('Dataframe is empty! Check inputs.')\n",
      "/Users/ssangha/Downloads/snap_setup/stable_oct5_2021/envs/s1-enumerator/lib/python3.9/site-packages/s1_enumerator/formatter.py:17: UserWarning: Dataframe is empty! Check inputs.\n",
      "  warn('Dataframe is empty! Check inputs.')\n",
      "/Users/ssangha/Downloads/snap_setup/stable_oct5_2021/envs/s1-enumerator/lib/python3.9/site-packages/s1_enumerator/formatter.py:17: UserWarning: Dataframe is empty! Check inputs.\n",
      "  warn('Dataframe is empty! Check inputs.')\n",
      " 25%|██▍       | 462/1868 [01:03<03:04,  7.62it/s]/Users/ssangha/Downloads/snap_setup/stable_oct5_2021/envs/s1-enumerator/lib/python3.9/site-packages/s1_enumerator/formatter.py:17: UserWarning: Dataframe is empty! Check inputs.\n",
      "  warn('Dataframe is empty! Check inputs.')\n",
      "/Users/ssangha/Downloads/snap_setup/stable_oct5_2021/envs/s1-enumerator/lib/python3.9/site-packages/s1_enumerator/formatter.py:17: UserWarning: Dataframe is empty! Check inputs.\n",
      "  warn('Dataframe is empty! Check inputs.')\n",
      " 25%|██▍       | 463/1868 [01:04<03:52,  6.03it/s]/Users/ssangha/Downloads/snap_setup/stable_oct5_2021/envs/s1-enumerator/lib/python3.9/site-packages/s1_enumerator/formatter.py:17: UserWarning: Dataframe is empty! Check inputs.\n",
      "  warn('Dataframe is empty! Check inputs.')\n",
      "/Users/ssangha/Downloads/snap_setup/stable_oct5_2021/envs/s1-enumerator/lib/python3.9/site-packages/s1_enumerator/formatter.py:17: UserWarning: Dataframe is empty! Check inputs.\n",
      "  warn('Dataframe is empty! Check inputs.')\n",
      "/Users/ssangha/Downloads/snap_setup/stable_oct5_2021/envs/s1-enumerator/lib/python3.9/site-packages/s1_enumerator/formatter.py:17: UserWarning: Dataframe is empty! Check inputs.\n",
      "  warn('Dataframe is empty! Check inputs.')\n",
      "/Users/ssangha/Downloads/snap_setup/stable_oct5_2021/envs/s1-enumerator/lib/python3.9/site-packages/s1_enumerator/formatter.py:17: UserWarning: Dataframe is empty! Check inputs.\n",
      "  warn('Dataframe is empty! Check inputs.')\n",
      "/Users/ssangha/Downloads/snap_setup/stable_oct5_2021/envs/s1-enumerator/lib/python3.9/site-packages/s1_enumerator/formatter.py:17: UserWarning: Dataframe is empty! Check inputs.\n",
      "  warn('Dataframe is empty! Check inputs.')\n",
      " 25%|██▍       | 464/1868 [01:04<04:04,  5.74it/s]/Users/ssangha/Downloads/snap_setup/stable_oct5_2021/envs/s1-enumerator/lib/python3.9/site-packages/s1_enumerator/formatter.py:17: UserWarning: Dataframe is empty! Check inputs.\n",
      "  warn('Dataframe is empty! Check inputs.')\n",
      "/Users/ssangha/Downloads/snap_setup/stable_oct5_2021/envs/s1-enumerator/lib/python3.9/site-packages/s1_enumerator/formatter.py:17: UserWarning: Dataframe is empty! Check inputs.\n",
      "  warn('Dataframe is empty! Check inputs.')\n",
      "/Users/ssangha/Downloads/snap_setup/stable_oct5_2021/envs/s1-enumerator/lib/python3.9/site-packages/s1_enumerator/formatter.py:17: UserWarning: Dataframe is empty! Check inputs.\n",
      "  warn('Dataframe is empty! Check inputs.')\n",
      "/Users/ssangha/Downloads/snap_setup/stable_oct5_2021/envs/s1-enumerator/lib/python3.9/site-packages/s1_enumerator/formatter.py:17: UserWarning: Dataframe is empty! Check inputs.\n",
      "  warn('Dataframe is empty! Check inputs.')\n",
      "/Users/ssangha/Downloads/snap_setup/stable_oct5_2021/envs/s1-enumerator/lib/python3.9/site-packages/s1_enumerator/formatter.py:17: UserWarning: Dataframe is empty! Check inputs.\n",
      "  warn('Dataframe is empty! Check inputs.')\n",
      " 25%|██▌       | 469/1868 [01:04<03:00,  7.75it/s]/Users/ssangha/Downloads/snap_setup/stable_oct5_2021/envs/s1-enumerator/lib/python3.9/site-packages/s1_enumerator/formatter.py:17: UserWarning: Dataframe is empty! Check inputs.\n",
      "  warn('Dataframe is empty! Check inputs.')\n",
      "/Users/ssangha/Downloads/snap_setup/stable_oct5_2021/envs/s1-enumerator/lib/python3.9/site-packages/s1_enumerator/formatter.py:17: UserWarning: Dataframe is empty! Check inputs.\n",
      "  warn('Dataframe is empty! Check inputs.')\n",
      " 26%|██▌       | 477/1868 [01:05<01:45, 13.22it/s]/Users/ssangha/Downloads/snap_setup/stable_oct5_2021/envs/s1-enumerator/lib/python3.9/site-packages/s1_enumerator/formatter.py:17: UserWarning: Dataframe is empty! Check inputs.\n",
      "  warn('Dataframe is empty! Check inputs.')\n",
      "/Users/ssangha/Downloads/snap_setup/stable_oct5_2021/envs/s1-enumerator/lib/python3.9/site-packages/s1_enumerator/formatter.py:17: UserWarning: Dataframe is empty! Check inputs.\n",
      "  warn('Dataframe is empty! Check inputs.')\n",
      "/Users/ssangha/Downloads/snap_setup/stable_oct5_2021/envs/s1-enumerator/lib/python3.9/site-packages/s1_enumerator/formatter.py:17: UserWarning: Dataframe is empty! Check inputs.\n",
      "  warn('Dataframe is empty! Check inputs.')\n",
      "/Users/ssangha/Downloads/snap_setup/stable_oct5_2021/envs/s1-enumerator/lib/python3.9/site-packages/s1_enumerator/formatter.py:17: UserWarning: Dataframe is empty! Check inputs.\n",
      "  warn('Dataframe is empty! Check inputs.')\n",
      "/Users/ssangha/Downloads/snap_setup/stable_oct5_2021/envs/s1-enumerator/lib/python3.9/site-packages/s1_enumerator/formatter.py:17: UserWarning: Dataframe is empty! Check inputs.\n",
      "  warn('Dataframe is empty! Check inputs.')\n",
      "/Users/ssangha/Downloads/snap_setup/stable_oct5_2021/envs/s1-enumerator/lib/python3.9/site-packages/s1_enumerator/formatter.py:17: UserWarning: Dataframe is empty! Check inputs.\n",
      "  warn('Dataframe is empty! Check inputs.')\n",
      "/Users/ssangha/Downloads/snap_setup/stable_oct5_2021/envs/s1-enumerator/lib/python3.9/site-packages/s1_enumerator/formatter.py:17: UserWarning: Dataframe is empty! Check inputs.\n",
      "  warn('Dataframe is empty! Check inputs.')\n",
      "/Users/ssangha/Downloads/snap_setup/stable_oct5_2021/envs/s1-enumerator/lib/python3.9/site-packages/s1_enumerator/formatter.py:17: UserWarning: Dataframe is empty! Check inputs.\n",
      "  warn('Dataframe is empty! Check inputs.')\n",
      "/Users/ssangha/Downloads/snap_setup/stable_oct5_2021/envs/s1-enumerator/lib/python3.9/site-packages/s1_enumerator/formatter.py:17: UserWarning: Dataframe is empty! Check inputs.\n",
      "  warn('Dataframe is empty! Check inputs.')\n",
      " 26%|██▌       | 480/1868 [01:06<03:55,  5.90it/s]/Users/ssangha/Downloads/snap_setup/stable_oct5_2021/envs/s1-enumerator/lib/python3.9/site-packages/s1_enumerator/formatter.py:17: UserWarning: Dataframe is empty! Check inputs.\n",
      "  warn('Dataframe is empty! Check inputs.')\n",
      "/Users/ssangha/Downloads/snap_setup/stable_oct5_2021/envs/s1-enumerator/lib/python3.9/site-packages/s1_enumerator/formatter.py:17: UserWarning: Dataframe is empty! Check inputs.\n",
      "  warn('Dataframe is empty! Check inputs.')\n",
      "/Users/ssangha/Downloads/snap_setup/stable_oct5_2021/envs/s1-enumerator/lib/python3.9/site-packages/s1_enumerator/formatter.py:17: UserWarning: Dataframe is empty! Check inputs.\n",
      "  warn('Dataframe is empty! Check inputs.')\n",
      "/Users/ssangha/Downloads/snap_setup/stable_oct5_2021/envs/s1-enumerator/lib/python3.9/site-packages/s1_enumerator/formatter.py:17: UserWarning: Dataframe is empty! Check inputs.\n",
      "  warn('Dataframe is empty! Check inputs.')\n",
      "/Users/ssangha/Downloads/snap_setup/stable_oct5_2021/envs/s1-enumerator/lib/python3.9/site-packages/s1_enumerator/formatter.py:17: UserWarning: Dataframe is empty! Check inputs.\n",
      "  warn('Dataframe is empty! Check inputs.')\n",
      "/Users/ssangha/Downloads/snap_setup/stable_oct5_2021/envs/s1-enumerator/lib/python3.9/site-packages/s1_enumerator/formatter.py:17: UserWarning: Dataframe is empty! Check inputs.\n",
      "  warn('Dataframe is empty! Check inputs.')\n",
      " 26%|██▌       | 484/1868 [01:07<03:24,  6.76it/s]/Users/ssangha/Downloads/snap_setup/stable_oct5_2021/envs/s1-enumerator/lib/python3.9/site-packages/s1_enumerator/formatter.py:17: UserWarning: Dataframe is empty! Check inputs.\n",
      "  warn('Dataframe is empty! Check inputs.')\n",
      "/Users/ssangha/Downloads/snap_setup/stable_oct5_2021/envs/s1-enumerator/lib/python3.9/site-packages/s1_enumerator/formatter.py:17: UserWarning: Dataframe is empty! Check inputs.\n",
      "  warn('Dataframe is empty! Check inputs.')\n",
      "/Users/ssangha/Downloads/snap_setup/stable_oct5_2021/envs/s1-enumerator/lib/python3.9/site-packages/s1_enumerator/formatter.py:17: UserWarning: Dataframe is empty! Check inputs.\n",
      "  warn('Dataframe is empty! Check inputs.')\n",
      " 26%|██▋       | 494/1868 [01:08<03:14,  7.08it/s]/Users/ssangha/Downloads/snap_setup/stable_oct5_2021/envs/s1-enumerator/lib/python3.9/site-packages/s1_enumerator/formatter.py:17: UserWarning: Dataframe is empty! Check inputs.\n",
      "  warn('Dataframe is empty! Check inputs.')\n",
      "/Users/ssangha/Downloads/snap_setup/stable_oct5_2021/envs/s1-enumerator/lib/python3.9/site-packages/s1_enumerator/formatter.py:17: UserWarning: Dataframe is empty! Check inputs.\n",
      "  warn('Dataframe is empty! Check inputs.')\n",
      "/Users/ssangha/Downloads/snap_setup/stable_oct5_2021/envs/s1-enumerator/lib/python3.9/site-packages/s1_enumerator/formatter.py:17: UserWarning: Dataframe is empty! Check inputs.\n",
      "  warn('Dataframe is empty! Check inputs.')\n",
      "/Users/ssangha/Downloads/snap_setup/stable_oct5_2021/envs/s1-enumerator/lib/python3.9/site-packages/s1_enumerator/formatter.py:17: UserWarning: Dataframe is empty! Check inputs.\n",
      "  warn('Dataframe is empty! Check inputs.')\n",
      "/Users/ssangha/Downloads/snap_setup/stable_oct5_2021/envs/s1-enumerator/lib/python3.9/site-packages/s1_enumerator/formatter.py:17: UserWarning: Dataframe is empty! Check inputs.\n",
      "  warn('Dataframe is empty! Check inputs.')\n",
      "/Users/ssangha/Downloads/snap_setup/stable_oct5_2021/envs/s1-enumerator/lib/python3.9/site-packages/s1_enumerator/formatter.py:17: UserWarning: Dataframe is empty! Check inputs.\n",
      "  warn('Dataframe is empty! Check inputs.')\n",
      "/Users/ssangha/Downloads/snap_setup/stable_oct5_2021/envs/s1-enumerator/lib/python3.9/site-packages/s1_enumerator/formatter.py:17: UserWarning: Dataframe is empty! Check inputs.\n",
      "  warn('Dataframe is empty! Check inputs.')\n",
      "/Users/ssangha/Downloads/snap_setup/stable_oct5_2021/envs/s1-enumerator/lib/python3.9/site-packages/s1_enumerator/formatter.py:17: UserWarning: Dataframe is empty! Check inputs.\n",
      "  warn('Dataframe is empty! Check inputs.')\n",
      "/Users/ssangha/Downloads/snap_setup/stable_oct5_2021/envs/s1-enumerator/lib/python3.9/site-packages/s1_enumerator/formatter.py:17: UserWarning: Dataframe is empty! Check inputs.\n",
      "  warn('Dataframe is empty! Check inputs.')\n",
      "/Users/ssangha/Downloads/snap_setup/stable_oct5_2021/envs/s1-enumerator/lib/python3.9/site-packages/s1_enumerator/formatter.py:17: UserWarning: Dataframe is empty! Check inputs.\n",
      "  warn('Dataframe is empty! Check inputs.')\n",
      "/Users/ssangha/Downloads/snap_setup/stable_oct5_2021/envs/s1-enumerator/lib/python3.9/site-packages/s1_enumerator/formatter.py:17: UserWarning: Dataframe is empty! Check inputs.\n",
      "  warn('Dataframe is empty! Check inputs.')\n",
      " 27%|██▋       | 496/1868 [01:09<03:42,  6.16it/s]/Users/ssangha/Downloads/snap_setup/stable_oct5_2021/envs/s1-enumerator/lib/python3.9/site-packages/s1_enumerator/formatter.py:17: UserWarning: Dataframe is empty! Check inputs.\n",
      "  warn('Dataframe is empty! Check inputs.')\n",
      " 27%|██▋       | 506/1868 [01:09<02:07, 10.68it/s]/Users/ssangha/Downloads/snap_setup/stable_oct5_2021/envs/s1-enumerator/lib/python3.9/site-packages/s1_enumerator/formatter.py:17: UserWarning: Dataframe is empty! Check inputs.\n",
      "  warn('Dataframe is empty! Check inputs.')\n",
      "/Users/ssangha/Downloads/snap_setup/stable_oct5_2021/envs/s1-enumerator/lib/python3.9/site-packages/s1_enumerator/formatter.py:17: UserWarning: Dataframe is empty! Check inputs.\n",
      "  warn('Dataframe is empty! Check inputs.')\n",
      " 27%|██▋       | 509/1868 [01:09<02:20,  9.68it/s]/Users/ssangha/Downloads/snap_setup/stable_oct5_2021/envs/s1-enumerator/lib/python3.9/site-packages/s1_enumerator/formatter.py:17: UserWarning: Dataframe is empty! Check inputs.\n",
      "  warn('Dataframe is empty! Check inputs.')\n",
      "/Users/ssangha/Downloads/snap_setup/stable_oct5_2021/envs/s1-enumerator/lib/python3.9/site-packages/s1_enumerator/formatter.py:17: UserWarning: Dataframe is empty! Check inputs.\n",
      "  warn('Dataframe is empty! Check inputs.')\n",
      "/Users/ssangha/Downloads/snap_setup/stable_oct5_2021/envs/s1-enumerator/lib/python3.9/site-packages/s1_enumerator/formatter.py:17: UserWarning: Dataframe is empty! Check inputs.\n",
      "  warn('Dataframe is empty! Check inputs.')\n",
      "/Users/ssangha/Downloads/snap_setup/stable_oct5_2021/envs/s1-enumerator/lib/python3.9/site-packages/s1_enumerator/formatter.py:17: UserWarning: Dataframe is empty! Check inputs.\n",
      "  warn('Dataframe is empty! Check inputs.')\n",
      "/Users/ssangha/Downloads/snap_setup/stable_oct5_2021/envs/s1-enumerator/lib/python3.9/site-packages/s1_enumerator/formatter.py:17: UserWarning: Dataframe is empty! Check inputs.\n",
      "  warn('Dataframe is empty! Check inputs.')\n",
      "/Users/ssangha/Downloads/snap_setup/stable_oct5_2021/envs/s1-enumerator/lib/python3.9/site-packages/s1_enumerator/formatter.py:17: UserWarning: Dataframe is empty! Check inputs.\n",
      "  warn('Dataframe is empty! Check inputs.')\n",
      "/Users/ssangha/Downloads/snap_setup/stable_oct5_2021/envs/s1-enumerator/lib/python3.9/site-packages/s1_enumerator/formatter.py:17: UserWarning: Dataframe is empty! Check inputs.\n",
      "  warn('Dataframe is empty! Check inputs.')\n",
      "/Users/ssangha/Downloads/snap_setup/stable_oct5_2021/envs/s1-enumerator/lib/python3.9/site-packages/s1_enumerator/formatter.py:17: UserWarning: Dataframe is empty! Check inputs.\n",
      "  warn('Dataframe is empty! Check inputs.')\n",
      "/Users/ssangha/Downloads/snap_setup/stable_oct5_2021/envs/s1-enumerator/lib/python3.9/site-packages/s1_enumerator/formatter.py:17: UserWarning: Dataframe is empty! Check inputs.\n",
      "  warn('Dataframe is empty! Check inputs.')\n",
      "/Users/ssangha/Downloads/snap_setup/stable_oct5_2021/envs/s1-enumerator/lib/python3.9/site-packages/s1_enumerator/formatter.py:17: UserWarning: Dataframe is empty! Check inputs.\n",
      "  warn('Dataframe is empty! Check inputs.')\n",
      "/Users/ssangha/Downloads/snap_setup/stable_oct5_2021/envs/s1-enumerator/lib/python3.9/site-packages/s1_enumerator/formatter.py:17: UserWarning: Dataframe is empty! Check inputs.\n",
      "  warn('Dataframe is empty! Check inputs.')\n",
      "/Users/ssangha/Downloads/snap_setup/stable_oct5_2021/envs/s1-enumerator/lib/python3.9/site-packages/s1_enumerator/formatter.py:17: UserWarning: Dataframe is empty! Check inputs.\n",
      "  warn('Dataframe is empty! Check inputs.')\n",
      " 27%|██▋       | 512/1868 [01:11<05:07,  4.41it/s]/Users/ssangha/Downloads/snap_setup/stable_oct5_2021/envs/s1-enumerator/lib/python3.9/site-packages/s1_enumerator/formatter.py:17: UserWarning: Dataframe is empty! Check inputs.\n",
      "  warn('Dataframe is empty! Check inputs.')\n",
      "/Users/ssangha/Downloads/snap_setup/stable_oct5_2021/envs/s1-enumerator/lib/python3.9/site-packages/s1_enumerator/formatter.py:17: UserWarning: Dataframe is empty! Check inputs.\n",
      "  warn('Dataframe is empty! Check inputs.')\n",
      "/Users/ssangha/Downloads/snap_setup/stable_oct5_2021/envs/s1-enumerator/lib/python3.9/site-packages/s1_enumerator/formatter.py:17: UserWarning: Dataframe is empty! Check inputs.\n",
      "  warn('Dataframe is empty! Check inputs.')\n",
      " 28%|██▊       | 517/1868 [01:12<03:45,  5.99it/s]/Users/ssangha/Downloads/snap_setup/stable_oct5_2021/envs/s1-enumerator/lib/python3.9/site-packages/s1_enumerator/formatter.py:17: UserWarning: Dataframe is empty! Check inputs.\n",
      "  warn('Dataframe is empty! Check inputs.')\n",
      " 28%|██▊       | 525/1868 [01:12<02:58,  7.50it/s]/Users/ssangha/Downloads/snap_setup/stable_oct5_2021/envs/s1-enumerator/lib/python3.9/site-packages/s1_enumerator/formatter.py:17: UserWarning: Dataframe is empty! Check inputs.\n",
      "  warn('Dataframe is empty! Check inputs.')\n",
      "/Users/ssangha/Downloads/snap_setup/stable_oct5_2021/envs/s1-enumerator/lib/python3.9/site-packages/s1_enumerator/formatter.py:17: UserWarning: Dataframe is empty! Check inputs.\n",
      "  warn('Dataframe is empty! Check inputs.')\n",
      " 28%|██▊       | 527/1868 [01:12<02:52,  7.78it/s]/Users/ssangha/Downloads/snap_setup/stable_oct5_2021/envs/s1-enumerator/lib/python3.9/site-packages/s1_enumerator/formatter.py:17: UserWarning: Dataframe is empty! Check inputs.\n",
      "  warn('Dataframe is empty! Check inputs.')\n",
      "/Users/ssangha/Downloads/snap_setup/stable_oct5_2021/envs/s1-enumerator/lib/python3.9/site-packages/s1_enumerator/formatter.py:17: UserWarning: Dataframe is empty! Check inputs.\n",
      "  warn('Dataframe is empty! Check inputs.')\n",
      "/Users/ssangha/Downloads/snap_setup/stable_oct5_2021/envs/s1-enumerator/lib/python3.9/site-packages/s1_enumerator/formatter.py:17: UserWarning: Dataframe is empty! Check inputs.\n",
      "  warn('Dataframe is empty! Check inputs.')\n",
      "/Users/ssangha/Downloads/snap_setup/stable_oct5_2021/envs/s1-enumerator/lib/python3.9/site-packages/s1_enumerator/formatter.py:17: UserWarning: Dataframe is empty! Check inputs.\n",
      "  warn('Dataframe is empty! Check inputs.')\n",
      " 76%|███████▌  | 1423/1868 [05:34<01:44,  4.26it/s]\n"
     ]
    },
    {
     "output_type": "error",
     "ename": "ASFSearch4xxError",
     "evalue": "HTTP 429: Rate limited, please reduce your request rate to 250/minute or less",
     "traceback": [
      "\u001b[0;31m---------------------------------------------------------------------------\u001b[0m",
      "\u001b[0;31mHTTPError\u001b[0m                                 Traceback (most recent call last)",
      "\u001b[0;32m~/Downloads/snap_setup/stable_oct5_2021/envs/s1-enumerator/lib/python3.9/site-packages/asf_search/search/search.py\u001b[0m in \u001b[0;36msearch\u001b[0;34m(absoluteOrbit, asfFrame, beamMode, collectionName, maxDoppler, minDoppler, end, maxFaradayRotation, minFaradayRotation, flightDirection, flightLine, frame, granule_list, groupID, insarStackId, instrument, intersectsWith, lookDirection, offNadirAngle, platform, polarization, processingDate, processingLevel, product_list, relativeOrbit, season, start, maxResults, host, cmr_token, cmr_provider)\u001b[0m\n\u001b[1;32m    141\u001b[0m     \u001b[0;32mtry\u001b[0m\u001b[0;34m:\u001b[0m\u001b[0;34m\u001b[0m\u001b[0;34m\u001b[0m\u001b[0m\n\u001b[0;32m--> 142\u001b[0;31m         \u001b[0mresponse\u001b[0m\u001b[0;34m.\u001b[0m\u001b[0mraise_for_status\u001b[0m\u001b[0;34m(\u001b[0m\u001b[0;34m)\u001b[0m\u001b[0;34m\u001b[0m\u001b[0;34m\u001b[0m\u001b[0m\n\u001b[0m\u001b[1;32m    143\u001b[0m     \u001b[0;32mexcept\u001b[0m \u001b[0mHTTPError\u001b[0m\u001b[0;34m:\u001b[0m\u001b[0;34m\u001b[0m\u001b[0;34m\u001b[0m\u001b[0m\n",
      "\u001b[0;32m~/Downloads/snap_setup/stable_oct5_2021/envs/s1-enumerator/lib/python3.9/site-packages/requests/models.py\u001b[0m in \u001b[0;36mraise_for_status\u001b[0;34m(self)\u001b[0m\n\u001b[1;32m    952\u001b[0m         \u001b[0;32mif\u001b[0m \u001b[0mhttp_error_msg\u001b[0m\u001b[0;34m:\u001b[0m\u001b[0;34m\u001b[0m\u001b[0;34m\u001b[0m\u001b[0m\n\u001b[0;32m--> 953\u001b[0;31m             \u001b[0;32mraise\u001b[0m \u001b[0mHTTPError\u001b[0m\u001b[0;34m(\u001b[0m\u001b[0mhttp_error_msg\u001b[0m\u001b[0;34m,\u001b[0m \u001b[0mresponse\u001b[0m\u001b[0;34m=\u001b[0m\u001b[0mself\u001b[0m\u001b[0;34m)\u001b[0m\u001b[0;34m\u001b[0m\u001b[0;34m\u001b[0m\u001b[0m\n\u001b[0m\u001b[1;32m    954\u001b[0m \u001b[0;34m\u001b[0m\u001b[0m\n",
      "\u001b[0;31mHTTPError\u001b[0m: 429 Client Error: Too Many Requests for url: https://api.daac.asf.alaska.edu/services/search/param",
      "\nDuring handling of the above exception, another exception occurred:\n",
      "\u001b[0;31mASFSearch4xxError\u001b[0m                         Traceback (most recent call last)",
      "\u001b[0;32m/var/folders/13/168512yn66d8nmvt7g6jsybh0000gq/T/ipykernel_12151/1060704234.py\u001b[0m in \u001b[0;36m<module>\u001b[0;34m\u001b[0m\n\u001b[1;32m      5\u001b[0m \u001b[0mn\u001b[0m \u001b[0;34m=\u001b[0m \u001b[0mdf_pairs\u001b[0m\u001b[0;34m.\u001b[0m\u001b[0mshape\u001b[0m\u001b[0;34m[\u001b[0m\u001b[0;36m0\u001b[0m\u001b[0;34m]\u001b[0m\u001b[0;34m\u001b[0m\u001b[0;34m\u001b[0m\u001b[0m\n\u001b[1;32m      6\u001b[0m \u001b[0;32mwith\u001b[0m \u001b[0mconcurrent\u001b[0m\u001b[0;34m.\u001b[0m\u001b[0mfutures\u001b[0m\u001b[0;34m.\u001b[0m\u001b[0mThreadPoolExecutor\u001b[0m\u001b[0;34m(\u001b[0m\u001b[0mmax_workers\u001b[0m\u001b[0;34m=\u001b[0m\u001b[0;36m15\u001b[0m\u001b[0;34m)\u001b[0m \u001b[0;32mas\u001b[0m \u001b[0mexecutor\u001b[0m\u001b[0;34m:\u001b[0m\u001b[0;34m\u001b[0m\u001b[0;34m\u001b[0m\u001b[0m\n\u001b[0;32m----> 7\u001b[0;31m     \u001b[0mresults\u001b[0m \u001b[0;34m=\u001b[0m \u001b[0mlist\u001b[0m\u001b[0;34m(\u001b[0m\u001b[0mtqdm\u001b[0m\u001b[0;34m(\u001b[0m\u001b[0mexecutor\u001b[0m\u001b[0;34m.\u001b[0m\u001b[0mmap\u001b[0m\u001b[0;34m(\u001b[0m\u001b[0mduplicate_gunw_found\u001b[0m\u001b[0;34m,\u001b[0m \u001b[0mdf_pairs\u001b[0m\u001b[0;34m.\u001b[0m\u001b[0mto_dict\u001b[0m\u001b[0;34m(\u001b[0m\u001b[0;34m'records'\u001b[0m\u001b[0;34m)\u001b[0m\u001b[0;34m)\u001b[0m\u001b[0;34m,\u001b[0m \u001b[0mtotal\u001b[0m\u001b[0;34m=\u001b[0m\u001b[0mn\u001b[0m\u001b[0;34m)\u001b[0m\u001b[0;34m)\u001b[0m\u001b[0;34m\u001b[0m\u001b[0;34m\u001b[0m\u001b[0m\n\u001b[0m",
      "\u001b[0;32m~/Downloads/snap_setup/stable_oct5_2021/envs/s1-enumerator/lib/python3.9/site-packages/tqdm/std.py\u001b[0m in \u001b[0;36m__iter__\u001b[0;34m(self)\u001b[0m\n\u001b[1;32m   1178\u001b[0m \u001b[0;34m\u001b[0m\u001b[0m\n\u001b[1;32m   1179\u001b[0m         \u001b[0;32mtry\u001b[0m\u001b[0;34m:\u001b[0m\u001b[0;34m\u001b[0m\u001b[0;34m\u001b[0m\u001b[0m\n\u001b[0;32m-> 1180\u001b[0;31m             \u001b[0;32mfor\u001b[0m \u001b[0mobj\u001b[0m \u001b[0;32min\u001b[0m \u001b[0miterable\u001b[0m\u001b[0;34m:\u001b[0m\u001b[0;34m\u001b[0m\u001b[0;34m\u001b[0m\u001b[0m\n\u001b[0m\u001b[1;32m   1181\u001b[0m                 \u001b[0;32myield\u001b[0m \u001b[0mobj\u001b[0m\u001b[0;34m\u001b[0m\u001b[0;34m\u001b[0m\u001b[0m\n\u001b[1;32m   1182\u001b[0m                 \u001b[0;31m# Update and possibly print the progressbar.\u001b[0m\u001b[0;34m\u001b[0m\u001b[0;34m\u001b[0m\u001b[0m\n",
      "\u001b[0;32m~/Downloads/snap_setup/stable_oct5_2021/envs/s1-enumerator/lib/python3.9/concurrent/futures/_base.py\u001b[0m in \u001b[0;36mresult_iterator\u001b[0;34m()\u001b[0m\n\u001b[1;32m    606\u001b[0m                     \u001b[0;31m# Careful not to keep a reference to the popped future\u001b[0m\u001b[0;34m\u001b[0m\u001b[0;34m\u001b[0m\u001b[0m\n\u001b[1;32m    607\u001b[0m                     \u001b[0;32mif\u001b[0m \u001b[0mtimeout\u001b[0m \u001b[0;32mis\u001b[0m \u001b[0;32mNone\u001b[0m\u001b[0;34m:\u001b[0m\u001b[0;34m\u001b[0m\u001b[0;34m\u001b[0m\u001b[0m\n\u001b[0;32m--> 608\u001b[0;31m                         \u001b[0;32myield\u001b[0m \u001b[0mfs\u001b[0m\u001b[0;34m.\u001b[0m\u001b[0mpop\u001b[0m\u001b[0;34m(\u001b[0m\u001b[0;34m)\u001b[0m\u001b[0;34m.\u001b[0m\u001b[0mresult\u001b[0m\u001b[0;34m(\u001b[0m\u001b[0;34m)\u001b[0m\u001b[0;34m\u001b[0m\u001b[0;34m\u001b[0m\u001b[0m\n\u001b[0m\u001b[1;32m    609\u001b[0m                     \u001b[0;32melse\u001b[0m\u001b[0;34m:\u001b[0m\u001b[0;34m\u001b[0m\u001b[0;34m\u001b[0m\u001b[0m\n\u001b[1;32m    610\u001b[0m                         \u001b[0;32myield\u001b[0m \u001b[0mfs\u001b[0m\u001b[0;34m.\u001b[0m\u001b[0mpop\u001b[0m\u001b[0;34m(\u001b[0m\u001b[0;34m)\u001b[0m\u001b[0;34m.\u001b[0m\u001b[0mresult\u001b[0m\u001b[0;34m(\u001b[0m\u001b[0mend_time\u001b[0m \u001b[0;34m-\u001b[0m \u001b[0mtime\u001b[0m\u001b[0;34m.\u001b[0m\u001b[0mmonotonic\u001b[0m\u001b[0;34m(\u001b[0m\u001b[0;34m)\u001b[0m\u001b[0;34m)\u001b[0m\u001b[0;34m\u001b[0m\u001b[0;34m\u001b[0m\u001b[0m\n",
      "\u001b[0;32m~/Downloads/snap_setup/stable_oct5_2021/envs/s1-enumerator/lib/python3.9/concurrent/futures/_base.py\u001b[0m in \u001b[0;36mresult\u001b[0;34m(self, timeout)\u001b[0m\n\u001b[1;32m    436\u001b[0m                     \u001b[0;32mraise\u001b[0m \u001b[0mCancelledError\u001b[0m\u001b[0;34m(\u001b[0m\u001b[0;34m)\u001b[0m\u001b[0;34m\u001b[0m\u001b[0;34m\u001b[0m\u001b[0m\n\u001b[1;32m    437\u001b[0m                 \u001b[0;32melif\u001b[0m \u001b[0mself\u001b[0m\u001b[0;34m.\u001b[0m\u001b[0m_state\u001b[0m \u001b[0;34m==\u001b[0m \u001b[0mFINISHED\u001b[0m\u001b[0;34m:\u001b[0m\u001b[0;34m\u001b[0m\u001b[0;34m\u001b[0m\u001b[0m\n\u001b[0;32m--> 438\u001b[0;31m                     \u001b[0;32mreturn\u001b[0m \u001b[0mself\u001b[0m\u001b[0;34m.\u001b[0m\u001b[0m__get_result\u001b[0m\u001b[0;34m(\u001b[0m\u001b[0;34m)\u001b[0m\u001b[0;34m\u001b[0m\u001b[0;34m\u001b[0m\u001b[0m\n\u001b[0m\u001b[1;32m    439\u001b[0m \u001b[0;34m\u001b[0m\u001b[0m\n\u001b[1;32m    440\u001b[0m                 \u001b[0mself\u001b[0m\u001b[0;34m.\u001b[0m\u001b[0m_condition\u001b[0m\u001b[0;34m.\u001b[0m\u001b[0mwait\u001b[0m\u001b[0;34m(\u001b[0m\u001b[0mtimeout\u001b[0m\u001b[0;34m)\u001b[0m\u001b[0;34m\u001b[0m\u001b[0;34m\u001b[0m\u001b[0m\n",
      "\u001b[0;32m~/Downloads/snap_setup/stable_oct5_2021/envs/s1-enumerator/lib/python3.9/concurrent/futures/_base.py\u001b[0m in \u001b[0;36m__get_result\u001b[0;34m(self)\u001b[0m\n\u001b[1;32m    388\u001b[0m         \u001b[0;32mif\u001b[0m \u001b[0mself\u001b[0m\u001b[0;34m.\u001b[0m\u001b[0m_exception\u001b[0m\u001b[0;34m:\u001b[0m\u001b[0;34m\u001b[0m\u001b[0;34m\u001b[0m\u001b[0m\n\u001b[1;32m    389\u001b[0m             \u001b[0;32mtry\u001b[0m\u001b[0;34m:\u001b[0m\u001b[0;34m\u001b[0m\u001b[0;34m\u001b[0m\u001b[0m\n\u001b[0;32m--> 390\u001b[0;31m                 \u001b[0;32mraise\u001b[0m \u001b[0mself\u001b[0m\u001b[0;34m.\u001b[0m\u001b[0m_exception\u001b[0m\u001b[0;34m\u001b[0m\u001b[0;34m\u001b[0m\u001b[0m\n\u001b[0m\u001b[1;32m    391\u001b[0m             \u001b[0;32mfinally\u001b[0m\u001b[0;34m:\u001b[0m\u001b[0;34m\u001b[0m\u001b[0;34m\u001b[0m\u001b[0m\n\u001b[1;32m    392\u001b[0m                 \u001b[0;31m# Break a reference cycle with the exception in self._exception\u001b[0m\u001b[0;34m\u001b[0m\u001b[0;34m\u001b[0m\u001b[0m\n",
      "\u001b[0;32m~/Downloads/snap_setup/stable_oct5_2021/envs/s1-enumerator/lib/python3.9/concurrent/futures/thread.py\u001b[0m in \u001b[0;36mrun\u001b[0;34m(self)\u001b[0m\n\u001b[1;32m     50\u001b[0m \u001b[0;34m\u001b[0m\u001b[0m\n\u001b[1;32m     51\u001b[0m         \u001b[0;32mtry\u001b[0m\u001b[0;34m:\u001b[0m\u001b[0;34m\u001b[0m\u001b[0;34m\u001b[0m\u001b[0m\n\u001b[0;32m---> 52\u001b[0;31m             \u001b[0mresult\u001b[0m \u001b[0;34m=\u001b[0m \u001b[0mself\u001b[0m\u001b[0;34m.\u001b[0m\u001b[0mfn\u001b[0m\u001b[0;34m(\u001b[0m\u001b[0;34m*\u001b[0m\u001b[0mself\u001b[0m\u001b[0;34m.\u001b[0m\u001b[0margs\u001b[0m\u001b[0;34m,\u001b[0m \u001b[0;34m**\u001b[0m\u001b[0mself\u001b[0m\u001b[0;34m.\u001b[0m\u001b[0mkwargs\u001b[0m\u001b[0;34m)\u001b[0m\u001b[0;34m\u001b[0m\u001b[0;34m\u001b[0m\u001b[0m\n\u001b[0m\u001b[1;32m     53\u001b[0m         \u001b[0;32mexcept\u001b[0m \u001b[0mBaseException\u001b[0m \u001b[0;32mas\u001b[0m \u001b[0mexc\u001b[0m\u001b[0;34m:\u001b[0m\u001b[0;34m\u001b[0m\u001b[0;34m\u001b[0m\u001b[0m\n\u001b[1;32m     54\u001b[0m             \u001b[0mself\u001b[0m\u001b[0;34m.\u001b[0m\u001b[0mfuture\u001b[0m\u001b[0;34m.\u001b[0m\u001b[0mset_exception\u001b[0m\u001b[0;34m(\u001b[0m\u001b[0mexc\u001b[0m\u001b[0;34m)\u001b[0m\u001b[0;34m\u001b[0m\u001b[0;34m\u001b[0m\u001b[0m\n",
      "\u001b[0;32m~/Downloads/snap_setup/stable_oct5_2021/envs/s1-enumerator/lib/python3.9/site-packages/s1_enumerator/cmr.py\u001b[0m in \u001b[0;36mduplicate_gunw_found\u001b[0;34m(gunw_input_data, min_percent_intersection)\u001b[0m\n\u001b[1;32m     55\u001b[0m         \u001b[0;34m-\u001b[0m \u001b[0mGUNW\u001b[0m \u001b[0mid\u001b[0m \u001b[0;32mif\u001b[0m \u001b[0msame\u001b[0m \u001b[0mreference\u001b[0m\u001b[0;34m/\u001b[0m\u001b[0msecondary\u001b[0m \u001b[0mdates\u001b[0m \u001b[0;32mwith\u001b[0m \u001b[0mspecified\u001b[0m \u001b[0moverlap\u001b[0m \u001b[0mGUNW\u001b[0m \u001b[0mfound\u001b[0m\u001b[0;34m\u001b[0m\u001b[0;34m\u001b[0m\u001b[0m\n\u001b[1;32m     56\u001b[0m     \"\"\"\n\u001b[0;32m---> 57\u001b[0;31m     df = approximate_cmr_lookup(gunw_input_data['reference_date'],\n\u001b[0m\u001b[1;32m     58\u001b[0m                                 \u001b[0mgunw_input_data\u001b[0m\u001b[0;34m[\u001b[0m\u001b[0;34m'secondary_date'\u001b[0m\u001b[0;34m]\u001b[0m\u001b[0;34m,\u001b[0m\u001b[0;34m\u001b[0m\u001b[0;34m\u001b[0m\u001b[0m\n\u001b[1;32m     59\u001b[0m                                 \u001b[0mgunw_input_data\u001b[0m\u001b[0;34m[\u001b[0m\u001b[0;34m'path_number'\u001b[0m\u001b[0;34m]\u001b[0m\u001b[0;34m,\u001b[0m\u001b[0;34m\u001b[0m\u001b[0;34m\u001b[0m\u001b[0m\n",
      "\u001b[0;32m~/Downloads/snap_setup/stable_oct5_2021/envs/s1-enumerator/lib/python3.9/site-packages/s1_enumerator/cmr.py\u001b[0m in \u001b[0;36mapproximate_cmr_lookup\u001b[0;34m(reference_date, secondary_date, path_number, geometry)\u001b[0m\n\u001b[1;32m     23\u001b[0m     \"\"\"\n\u001b[1;32m     24\u001b[0m \u001b[0;34m\u001b[0m\u001b[0m\n\u001b[0;32m---> 25\u001b[0;31m     results = asf.geo_search(intersectsWith=geometry.wkt,\n\u001b[0m\u001b[1;32m     26\u001b[0m                              \u001b[0mmaxResults\u001b[0m\u001b[0;34m=\u001b[0m\u001b[0;36m100\u001b[0m\u001b[0;34m,\u001b[0m\u001b[0;34m\u001b[0m\u001b[0;34m\u001b[0m\u001b[0m\n\u001b[1;32m     27\u001b[0m                              \u001b[0mstart\u001b[0m\u001b[0;34m=\u001b[0m\u001b[0mreference_date\u001b[0m\u001b[0;34m,\u001b[0m\u001b[0;34m\u001b[0m\u001b[0;34m\u001b[0m\u001b[0m\n",
      "\u001b[0;32m~/Downloads/snap_setup/stable_oct5_2021/envs/s1-enumerator/lib/python3.9/site-packages/asf_search/search/geo_search.py\u001b[0m in \u001b[0;36mgeo_search\u001b[0;34m(absoluteOrbit, asfFrame, beamMode, collectionName, end, flightDirection, frame, instrument, intersectsWith, lookDirection, platform, polarization, processingDate, processingLevel, relativeOrbit, start, maxResults, host, cmr_token, cmr_provider)\u001b[0m\n\u001b[1;32m     59\u001b[0m     \u001b[0mdata\u001b[0m \u001b[0;34m=\u001b[0m \u001b[0mdict\u001b[0m\u001b[0;34m(\u001b[0m\u001b[0;34m(\u001b[0m\u001b[0mk\u001b[0m\u001b[0;34m,\u001b[0m\u001b[0mv\u001b[0m\u001b[0;34m)\u001b[0m \u001b[0;32mfor\u001b[0m \u001b[0mk\u001b[0m\u001b[0;34m,\u001b[0m\u001b[0mv\u001b[0m \u001b[0;32min\u001b[0m \u001b[0mkwargs\u001b[0m\u001b[0;34m.\u001b[0m\u001b[0mitems\u001b[0m\u001b[0;34m(\u001b[0m\u001b[0;34m)\u001b[0m \u001b[0;32mif\u001b[0m \u001b[0mv\u001b[0m \u001b[0;32mis\u001b[0m \u001b[0;32mnot\u001b[0m \u001b[0;32mNone\u001b[0m \u001b[0;32mand\u001b[0m \u001b[0mv\u001b[0m \u001b[0;34m!=\u001b[0m \u001b[0;34m''\u001b[0m\u001b[0;34m)\u001b[0m\u001b[0;34m\u001b[0m\u001b[0;34m\u001b[0m\u001b[0m\n\u001b[1;32m     60\u001b[0m \u001b[0;34m\u001b[0m\u001b[0m\n\u001b[0;32m---> 61\u001b[0;31m     \u001b[0;32mreturn\u001b[0m \u001b[0msearch\u001b[0m\u001b[0;34m(\u001b[0m\u001b[0;34m**\u001b[0m\u001b[0mdata\u001b[0m\u001b[0;34m)\u001b[0m\u001b[0;34m\u001b[0m\u001b[0;34m\u001b[0m\u001b[0m\n\u001b[0m",
      "\u001b[0;32m~/Downloads/snap_setup/stable_oct5_2021/envs/s1-enumerator/lib/python3.9/site-packages/asf_search/search/search.py\u001b[0m in \u001b[0;36msearch\u001b[0;34m(absoluteOrbit, asfFrame, beamMode, collectionName, maxDoppler, minDoppler, end, maxFaradayRotation, minFaradayRotation, flightDirection, flightLine, frame, granule_list, groupID, insarStackId, instrument, intersectsWith, lookDirection, offNadirAngle, platform, polarization, processingDate, processingLevel, product_list, relativeOrbit, season, start, maxResults, host, cmr_token, cmr_provider)\u001b[0m\n\u001b[1;32m    143\u001b[0m     \u001b[0;32mexcept\u001b[0m \u001b[0mHTTPError\u001b[0m\u001b[0;34m:\u001b[0m\u001b[0;34m\u001b[0m\u001b[0;34m\u001b[0m\u001b[0m\n\u001b[1;32m    144\u001b[0m         \u001b[0;32mif\u001b[0m \u001b[0;36m400\u001b[0m \u001b[0;34m<=\u001b[0m \u001b[0mresponse\u001b[0m\u001b[0;34m.\u001b[0m\u001b[0mstatus_code\u001b[0m \u001b[0;34m<=\u001b[0m \u001b[0;36m499\u001b[0m\u001b[0;34m:\u001b[0m\u001b[0;34m\u001b[0m\u001b[0;34m\u001b[0m\u001b[0m\n\u001b[0;32m--> 145\u001b[0;31m             \u001b[0;32mraise\u001b[0m \u001b[0mASFSearch4xxError\u001b[0m\u001b[0;34m(\u001b[0m\u001b[0;34mf'HTTP {response.status_code}: {response.json()[\"error\"][\"report\"]}'\u001b[0m\u001b[0;34m)\u001b[0m\u001b[0;34m\u001b[0m\u001b[0;34m\u001b[0m\u001b[0m\n\u001b[0m\u001b[1;32m    146\u001b[0m         \u001b[0;32mif\u001b[0m \u001b[0;36m500\u001b[0m \u001b[0;34m<=\u001b[0m \u001b[0mresponse\u001b[0m\u001b[0;34m.\u001b[0m\u001b[0mstatus_code\u001b[0m \u001b[0;34m<=\u001b[0m \u001b[0;36m599\u001b[0m\u001b[0;34m:\u001b[0m\u001b[0;34m\u001b[0m\u001b[0;34m\u001b[0m\u001b[0m\n\u001b[1;32m    147\u001b[0m             \u001b[0;32mraise\u001b[0m \u001b[0mASFSearch5xxError\u001b[0m\u001b[0;34m(\u001b[0m\u001b[0;34mf'HTTP {response.status_code}: {response.json()[\"error\"][\"report\"]}'\u001b[0m\u001b[0;34m)\u001b[0m\u001b[0;34m\u001b[0m\u001b[0;34m\u001b[0m\u001b[0m\n",
      "\u001b[0;31mASFSearch4xxError\u001b[0m: HTTP 429: Rate limited, please reduce your request rate to 250/minute or less"
     ]
    }
   ],
   "metadata": {
    "ExecuteTime": {
     "end_time": "2022-01-26T20:35:13.714569Z",
     "start_time": "2022-01-26T20:34:51.844710Z"
    }
   }
  },
  {
   "cell_type": "code",
   "execution_count": null,
   "source": [
    "df_pairs['existing_gunw'] = [r != '' for r in results]\n",
    "df_pairs['existing_gunw_id'] = results\n",
    "total_existing_gunws = df_pairs['existing_gunw'].sum()\n",
    "print('existing_gunws: ', total_existing_gunws)\n",
    "print('Total pairs', df_pairs.shape[0])"
   ],
   "outputs": [
    {
     "output_type": "stream",
     "name": "stdout",
     "text": [
      "existing_gunws:  0\n",
      "Total pairs 1868\n"
     ]
    }
   ],
   "metadata": {
    "ExecuteTime": {
     "end_time": "2022-01-26T20:35:13.765308Z",
     "start_time": "2022-01-26T20:35:13.717055Z"
    }
   }
  },
  {
   "cell_type": "code",
   "execution_count": null,
   "source": [
    "df_pairs_filtered = df_pairs[~df_pairs['existing_gunw']].reset_index(drop=True)\n",
    "# df_pairs_filtered.drop_duplicates(subset=['hash_id'], inplace=True)\n",
    "print('after filtering, total pairs: ', df_pairs_filtered.shape[0])"
   ],
   "outputs": [
    {
     "output_type": "stream",
     "name": "stdout",
     "text": [
      "after filtering, total pairs:  1868\n"
     ]
    }
   ],
   "metadata": {
    "ExecuteTime": {
     "end_time": "2022-01-26T20:35:13.808278Z",
     "start_time": "2022-01-26T20:35:13.767884Z"
    }
   }
  },
  {
   "cell_type": "markdown",
   "source": [
    "# Check Hyp3 Account\n",
    "\n",
    "We are now going to check\n",
    "\n",
    "1. check products in the open s3 bucket\n",
    "2. check running/pending jobs\n",
    "\n",
    "Notes:\n",
    "\n",
    "1. Above, to accomplish step 1., there is some verbose code (see below). Once we automate delivery, this step will be obsolete. However, until we have delivery, we have to make sure that there are no existing products. Additionally, if we are using a separate (non-operational account), then would be good to use this.\n",
    "2. If we are debugging products and some of our previously generated products were made incorrectly, we will want to ignore this step."
   ],
   "metadata": {}
  },
  {
   "cell_type": "code",
   "execution_count": null,
   "source": [
    "import hyp3_sdk\n",
    "\n",
    "# uses .netrc; add `prompt=True` to prompt for credentials; \n",
    "hyp3_isce = hyp3_sdk.HyP3('https://hyp3-isce.asf.alaska.edu/')\n",
    "pending_jobs = hyp3_isce.find_jobs(status_code='PENDING') +  hyp3_isce.find_jobs(status_code='RUNNING')\n",
    "all_jobs = hyp3_isce.find_jobs()"
   ],
   "outputs": [],
   "metadata": {
    "ExecuteTime": {
     "end_time": "2022-01-26T20:35:22.029890Z",
     "start_time": "2022-01-26T20:35:13.809788Z"
    }
   }
  },
  {
   "cell_type": "code",
   "execution_count": null,
   "source": [
    "print(all_jobs)"
   ],
   "outputs": [],
   "metadata": {
    "ExecuteTime": {
     "end_time": "2022-01-26T20:35:22.059552Z",
     "start_time": "2022-01-26T20:35:22.031459Z"
    }
   }
  },
  {
   "cell_type": "markdown",
   "source": [
    "## 1. Get existing products in s3 bucket"
   ],
   "metadata": {}
  },
  {
   "cell_type": "code",
   "execution_count": null,
   "source": [
    "job_data = [j.to_dict() for j in all_jobs]\n",
    "job_data[0]"
   ],
   "outputs": [],
   "metadata": {
    "ExecuteTime": {
     "end_time": "2022-01-26T20:35:22.093502Z",
     "start_time": "2022-01-26T20:35:22.061212Z"
    }
   }
  },
  {
   "cell_type": "markdown",
   "source": [
    "Get bucket (there is only one)"
   ],
   "metadata": {}
  },
  {
   "cell_type": "code",
   "execution_count": null,
   "source": [
    "job_data_s3 = list(filter(lambda job: 'files' in job.keys(), job_data))\n",
    "len(job_data_s3)"
   ],
   "outputs": [],
   "metadata": {
    "ExecuteTime": {
     "end_time": "2022-01-26T20:35:22.124585Z",
     "start_time": "2022-01-26T20:35:22.095318Z"
    }
   }
  },
  {
   "cell_type": "code",
   "execution_count": null,
   "source": [
    "bucket = job_data_s3[0]['files'][0]['s3']['bucket']\n",
    "bucket"
   ],
   "outputs": [],
   "metadata": {
    "ExecuteTime": {
     "end_time": "2022-01-26T20:35:22.155223Z",
     "start_time": "2022-01-26T20:35:22.126087Z"
    }
   }
  },
  {
   "cell_type": "markdown",
   "source": [
    "Get all keys"
   ],
   "metadata": {}
  },
  {
   "cell_type": "code",
   "execution_count": null,
   "source": [
    "job_keys = [job['files'][0]['s3']['key'] for job in job_data_s3]\n",
    "job_keys[0]"
   ],
   "outputs": [],
   "metadata": {
    "ExecuteTime": {
     "end_time": "2022-01-26T20:35:22.187071Z",
     "start_time": "2022-01-26T20:35:22.156852Z"
    }
   }
  },
  {
   "cell_type": "code",
   "execution_count": null,
   "source": [
    "from botocore import UNSIGNED\n",
    "from botocore.config import Config\n",
    "s3 = boto3.resource('s3',config=Config(signature_version=UNSIGNED))\n",
    "prod_bucket = s3.Bucket(bucket)\n",
    "\n",
    "objects = list(prod_bucket.objects.all())\n",
    "ncs = list(filter(lambda x: x.key.endswith('.nc'), objects))\n",
    "ncs[:10]"
   ],
   "outputs": [],
   "metadata": {
    "ExecuteTime": {
     "end_time": "2022-01-26T20:35:27.044608Z",
     "start_time": "2022-01-26T20:35:22.188601Z"
    }
   }
  },
  {
   "cell_type": "markdown",
   "source": [
    "Need to physically check if the products are not there (could have been deleted!)"
   ],
   "metadata": {}
  },
  {
   "cell_type": "code",
   "execution_count": null,
   "source": [
    "nc_keys = [nc_ob.key for nc_ob in ncs]\n",
    "jobs_with_prods_in_s3 = [job for (k, job) in enumerate(job_data_s3) if job_keys[k] in nc_keys]\n",
    "len(jobs_with_prods_in_s3)"
   ],
   "outputs": [],
   "metadata": {
    "ExecuteTime": {
     "end_time": "2022-01-26T20:35:27.077867Z",
     "start_time": "2022-01-26T20:35:27.046163Z"
    }
   }
  },
  {
   "cell_type": "code",
   "execution_count": null,
   "source": [
    "slcs = [(job['job_parameters']['granules'],\n",
    "         job['job_parameters']['secondary_granules']) \n",
    "        for job in jobs_with_prods_in_s3]\n",
    "slcs[:2]"
   ],
   "outputs": [],
   "metadata": {
    "ExecuteTime": {
     "end_time": "2022-01-26T20:35:27.110124Z",
     "start_time": "2022-01-26T20:35:27.079518Z"
    }
   }
  },
  {
   "cell_type": "code",
   "execution_count": null,
   "source": [
    "hash_ids_of_prods_in_s3 = [get_gunw_hash_id(*slc) for slc in slcs]\n",
    "hash_ids_of_prods_in_s3[0]"
   ],
   "outputs": [],
   "metadata": {
    "ExecuteTime": {
     "end_time": "2022-01-26T20:35:27.142225Z",
     "start_time": "2022-01-26T20:35:27.111632Z"
    }
   }
  },
  {
   "cell_type": "code",
   "execution_count": null,
   "source": [
    "f\"We are removing {df_pairs_filtered['hash_id'].isin(hash_ids_of_prods_in_s3).sum()} GUNWs for submission\""
   ],
   "outputs": [],
   "metadata": {
    "ExecuteTime": {
     "end_time": "2022-01-26T20:35:27.174758Z",
     "start_time": "2022-01-26T20:35:27.143742Z"
    }
   }
  },
  {
   "cell_type": "code",
   "execution_count": null,
   "source": [
    "items = hash_ids_of_prods_in_s3\n",
    "df_pairs_filtered = df_pairs_filtered[~df_pairs_filtered['hash_id'].isin(items)].reset_index(drop=True)\n",
    "f\"Current # of GUNWs: {df_pairs_filtered.shape[0]}\""
   ],
   "outputs": [],
   "metadata": {
    "ExecuteTime": {
     "end_time": "2022-01-26T20:35:27.207821Z",
     "start_time": "2022-01-26T20:35:27.176177Z"
    }
   }
  },
  {
   "cell_type": "markdown",
   "source": [
    "## 2. Running or Pending Jobs"
   ],
   "metadata": {}
  },
  {
   "cell_type": "code",
   "execution_count": null,
   "source": [
    "pending_job_data = [j.to_dict() for j in pending_jobs]\n",
    "pending_slcs = [(job['job_parameters']['granules'],\n",
    "                 job['job_parameters']['secondary_granules']) \n",
    "                 for job in pending_job_data]"
   ],
   "outputs": [],
   "metadata": {
    "ExecuteTime": {
     "end_time": "2022-01-26T20:35:27.237660Z",
     "start_time": "2022-01-26T20:35:27.209164Z"
    }
   }
  },
  {
   "cell_type": "code",
   "execution_count": null,
   "source": [
    "hash_ids_of_pending_jobs = [get_gunw_hash_id(*slc) for slc in pending_slcs]\n",
    "hash_ids_of_pending_jobs[:4]"
   ],
   "outputs": [],
   "metadata": {
    "ExecuteTime": {
     "end_time": "2022-01-26T20:35:27.268653Z",
     "start_time": "2022-01-26T20:35:27.239313Z"
    }
   }
  },
  {
   "cell_type": "code",
   "execution_count": null,
   "source": [
    "items = hash_ids_of_pending_jobs\n",
    "f\"We are removing {df_pairs_filtered['hash_id'].isin(items).sum()} GUNWs for submission\""
   ],
   "outputs": [],
   "metadata": {
    "ExecuteTime": {
     "end_time": "2022-01-26T20:35:27.299781Z",
     "start_time": "2022-01-26T20:35:27.270417Z"
    }
   }
  },
  {
   "cell_type": "code",
   "execution_count": null,
   "source": [
    "items = hash_ids_of_pending_jobs\n",
    "df_pairs_filtered = df_pairs_filtered[~df_pairs_filtered['hash_id'].isin(items)].reset_index(drop=True)\n",
    "f\"Current # of GUNWs: {df_pairs_filtered.shape[0]}\""
   ],
   "outputs": [],
   "metadata": {
    "ExecuteTime": {
     "end_time": "2022-01-26T20:35:27.333433Z",
     "start_time": "2022-01-26T20:35:27.301301Z"
    }
   }
  },
  {
   "cell_type": "markdown",
   "source": [
    "# Submit jobs to Hyp3"
   ],
   "metadata": {}
  },
  {
   "cell_type": "code",
   "execution_count": null,
   "source": [
    "records_to_submit = df_pairs_filtered.to_dict('records')\n",
    "records_to_submit[0]"
   ],
   "outputs": [],
   "metadata": {
    "ExecuteTime": {
     "end_time": "2022-01-26T20:35:27.366597Z",
     "start_time": "2022-01-26T20:35:27.335100Z"
    }
   }
  },
  {
   "cell_type": "code",
   "execution_count": null,
   "source": [
    "import hyp3_sdk\n",
    "\n",
    "# uses .netrc; add `prompt=True` to prompt for credentials; \n",
    "hyp3_isce = hyp3_sdk.HyP3('https://hyp3-isce.asf.alaska.edu/')"
   ],
   "outputs": [],
   "metadata": {
    "ExecuteTime": {
     "end_time": "2022-01-26T20:35:30.283588Z",
     "start_time": "2022-01-26T20:35:27.368244Z"
    }
   }
  },
  {
   "cell_type": "markdown",
   "source": [
    "The below puts the records in a format that we can submit to the Hyp3 API.\n",
    "\n",
    "**Note 1**: there is an index in the records to submit to ensure we don't over submit jobs for generating GUNWs. \\\n",
    "**Note 2**: uncomment the code to *actually* submit the jobs."
   ],
   "metadata": {}
  },
  {
   "cell_type": "code",
   "execution_count": null,
   "source": [
    "import hyp3_sdk\n",
    "\n",
    "# uses .netrc; add `prompt=True` to prompt for credentials; \n",
    "hyp3_isce = hyp3_sdk.HyP3('https://hyp3-isce.asf.alaska.edu/')\n",
    "\n",
    "job_dicts = [{'name': job_name,\n",
    "              # NOTE: we are still using the `dev` branch. Change this to \"INSAR_ISCE\" to use the `main` branch.\n",
    "              'job_type': 'INSAR_ISCE_TEST',\n",
    "              'job_parameters': {'granules': r['reference'],\n",
    "                                 'secondary_granules': r['secondary']}} \n",
    "             # NOTE THERE IS AN INDEX - this is to submit only a subset of Jobs\n",
    "             for r in records_to_submit]\n",
    "\n",
    "\n",
    "# UNCOMMENT TO SUBMIT\n",
    "# submitted_jobs = hyp3_isce.submit_prepared_jobs(job_dicts)"
   ],
   "outputs": [],
   "metadata": {
    "ExecuteTime": {
     "end_time": "2022-01-26T20:35:33.012813Z",
     "start_time": "2022-01-26T20:35:30.285294Z"
    }
   }
  },
  {
   "cell_type": "markdown",
   "source": [
    "Query all jobs on the server"
   ],
   "metadata": {}
  },
  {
   "cell_type": "code",
   "execution_count": null,
   "source": [
    "jobs = hyp3_isce.find_jobs()\n",
    "print(jobs)"
   ],
   "outputs": [],
   "metadata": {
    "ExecuteTime": {
     "end_time": "2022-01-26T20:35:34.044675Z",
     "start_time": "2022-01-26T20:35:33.014286Z"
    }
   }
  },
  {
   "cell_type": "markdown",
   "source": [
    "Query your particular job"
   ],
   "metadata": {}
  },
  {
   "cell_type": "code",
   "execution_count": null,
   "source": [
    "job = hyp3_isce.find_jobs(name=job_name)\n",
    "print(job)"
   ],
   "outputs": [],
   "metadata": {
    "ExecuteTime": {
     "end_time": "2022-01-26T20:35:34.044675Z",
     "start_time": "2022-01-26T20:35:33.014286Z"
    }
   }
  },
  {
   "cell_type": "code",
   "execution_count": null,
   "source": [
    "# create clean directory to deposit products in\n",
    "if os.path.exists(prod_dir):\n",
    "    os.remove(prod_dir)\n",
    "\n",
    "os.mkdir(prod_dir)"
   ],
   "outputs": [],
   "metadata": {
    "ExecuteTime": {
     "end_time": "2022-01-26T20:35:34.044675Z",
     "start_time": "2022-01-26T20:35:33.014286Z"
    }
   }
  },
  {
   "cell_type": "markdown",
   "source": [
    "Below, we show how to download files. The multi-threading example will download products in parallel much faster than `jobs.download_files()`."
   ],
   "metadata": {}
  },
  {
   "cell_type": "code",
   "execution_count": null,
   "source": [
    "# import concurrent.futures\n",
    "# from tqdm import tqdm\n",
    "\n",
    "# with concurrent.futures.ThreadPoolExecutor(max_workers=10) as executor:\n",
    "#     results = list(tqdm(executor.map(lambda job: job.download_files(), jobs), total=len(jobs)))"
   ],
   "outputs": [],
   "metadata": {
    "ExecuteTime": {
     "end_time": "2022-01-26T20:35:34.076047Z",
     "start_time": "2022-01-26T20:35:34.046251Z"
    }
   }
  }
 ],
 "metadata": {
  "interpreter": {
   "hash": "d5caced1b6f6328ebf252ee0289534035286b1269cd2adef619b938e0a9fdf27"
  },
  "kernelspec": {
   "name": "python3",
   "display_name": "Python 3.9.7 64-bit ('s1-enumerator': conda)"
  },
  "language_info": {
   "name": "python",
   "version": "3.9.7",
   "mimetype": "text/x-python",
   "codemirror_mode": {
    "name": "ipython",
    "version": 3
   },
   "pygments_lexer": "ipython3",
   "nbconvert_exporter": "python",
   "file_extension": ".py"
  }
 },
 "nbformat": 4,
 "nbformat_minor": 2
}