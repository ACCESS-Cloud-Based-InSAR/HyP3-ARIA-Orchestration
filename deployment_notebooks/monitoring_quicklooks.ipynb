{
 "cells": [
  {
   "cell_type": "markdown",
   "metadata": {},
   "source": [
    "Simple notebook to obtain processing metrics on a set of AOIs. This is just for status retrieval -- use the `realunch_failed_jobs.ipynb` notebook for resubmissions."
   ]
  },
  {
   "cell_type": "code",
   "execution_count": 6,
   "metadata": {},
   "outputs": [],
   "source": [
    "import hyp3_sdk\n",
    "\n",
    "tibet_deploy_url = 'https://hyp3-tibet.asf.alaska.edu'\n",
    "access_deploy_url = 'https://hyp3-isce.asf.alaska.edu'\n",
    "\n",
    "## add the job_names for the AOIs you want processing statuses of\n",
    "tibet_job_names = ['TibetA_114', 'TibetA_121']\n",
    "access_job_names = ['GulfCoast_107', 'GulfCoast_121', 'GulfCoast_136']"
   ]
  },
  {
   "cell_type": "code",
   "execution_count": 8,
   "metadata": {},
   "outputs": [
    {
     "name": "stdout",
     "output_type": "stream",
     "text": [
      "TibetA_114: 10362 HyP3 Jobs: 2366 succeeded, 7 failed, 209 running, 7780 pending.\n",
      "TibetA_121: 2880 HyP3 Jobs: 651 succeeded, 1 failed, 47 running, 2181 pending.\n",
      "GulfCoast_107: 2967 HyP3 Jobs: 2937 succeeded, 30 failed, 0 running, 0 pending.\n",
      "GulfCoast_121: 3402 HyP3 Jobs: 3402 succeeded, 0 failed, 0 running, 0 pending.\n"
     ]
    }
   ],
   "source": [
    "hyp3_tibet = hyp3_sdk.HyP3(tibet_deploy_url)\n",
    "for job_name in tibet_job_names:\n",
    "    jobs = hyp3_tibet.find_jobs(name=job_name)\n",
    "    print(f'{job_name}: {jobs}')\n",
    "hyp3_access = hyp3_sdk.HyP3(access_deploy_url)\n",
    "for job_name in access_job_names:\n",
    "    jobs = hyp3_access.find_jobs(name=job_name)\n",
    "    print(f'{job_name}: {jobs}')"
   ]
  },
  {
   "cell_type": "code",
   "execution_count": null,
   "metadata": {},
   "outputs": [],
   "source": []
  }
 ],
 "metadata": {
  "interpreter": {
   "hash": "aee8b7b246df8f9039afb4144a1f6fd8d2ca17a180786b69acc140d282b71a49"
  },
  "kernelspec": {
   "display_name": "Python 3.9.12 64-bit",
   "language": "python",
   "name": "python3"
  },
  "language_info": {
   "codemirror_mode": {
    "name": "ipython",
    "version": 3
   },
   "file_extension": ".py",
   "mimetype": "text/x-python",
   "name": "python",
   "nbconvert_exporter": "python",
   "pygments_lexer": "ipython3",
   "version": "3.9.12"
  },
  "orig_nbformat": 4
 },
 "nbformat": 4,
 "nbformat_minor": 2
}
