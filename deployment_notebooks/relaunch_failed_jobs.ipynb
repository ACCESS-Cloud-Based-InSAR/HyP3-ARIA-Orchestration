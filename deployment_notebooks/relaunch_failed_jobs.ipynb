{
 "cells": [
  {
   "cell_type": "markdown",
   "source": [
    "This is to demonstrate how to relaunch failed jobs given the name of the deployment (e.g. ```TibetA_165```)."
   ],
   "metadata": {}
  },
  {
   "cell_type": "code",
   "execution_count": null,
   "source": [
    "import hyp3_sdk\n",
    "\n",
    "# Define job-name\n",
    "job_name = 'TibetA_165'\n",
    "\n",
    "# Specify deployment URL (uncomment one of the lines below as appropriate)\n",
    "#deploy_url = 'https://hyp3-tibet.asf.alaska.edu' #for Tibet\n",
    "#deploy_url = 'https://hyp3-isce.asf.alaska.edu' #for access"
   ],
   "outputs": [],
   "metadata": {}
  },
  {
   "cell_type": "code",
   "execution_count": null,
   "source": [
    "# parse failed jobs\n",
    "hyp3 = hyp3_sdk.HyP3(deploy_url)\n",
    "jobs = hyp3.find_jobs(status_code='FAILED', name=job_name)"
   ],
   "outputs": [],
   "metadata": {}
  },
  {
   "cell_type": "code",
   "execution_count": null,
   "source": [
    "# print URLs for log output\n",
    "for job in jobs:\n",
    "    print(job.logs[0])"
   ],
   "outputs": [],
   "metadata": {}
  },
  {
   "cell_type": "code",
   "execution_count": null,
   "source": [
    "#UNCOMMENT TO SUBMIT\n",
    "# resubmit these failed jobs\n",
    "#for job in jobs:\n",
    "#    prepared_job = job.to_dict(for_resubmit=True)\n",
    "#    hyp3.submit_prepared_jobs(prepared_job)"
   ],
   "outputs": [],
   "metadata": {}
  }
 ],
 "metadata": {
  "kernelspec": {
   "name": "python3",
   "display_name": "Python 3.9.7 64-bit ('s1-enumerator': conda)"
  },
  "language_info": {
   "codemirror_mode": {
    "name": "ipython",
    "version": 3
   },
   "file_extension": ".py",
   "mimetype": "text/x-python",
   "name": "python",
   "nbconvert_exporter": "python",
   "pygments_lexer": "ipython3",
   "version": "3.9.7"
  },
  "interpreter": {
   "hash": "d5caced1b6f6328ebf252ee0289534035286b1269cd2adef619b938e0a9fdf27"
  }
 },
 "nbformat": 4,
 "nbformat_minor": 5
}