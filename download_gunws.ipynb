{
 "cells": [
  {
   "cell_type": "markdown",
   "id": "2a2c5702-728e-4e6b-a0bc-6b11ec1643e8",
   "metadata": {},
   "source": [
    "This is to demonstrate how to download files given a list of job_ids from a json file (e.g. ```CA-test-71_job.json```)."
   ]
  },
  {
   "cell_type": "code",
   "execution_count": null,
   "id": "872c570a-c586-4c0a-b192-1500f23df6e4",
   "metadata": {},
   "outputs": [],
   "source": [
    "%load_ext autoreload\n",
    "%autoreload 2"
   ]
  },
  {
   "cell_type": "code",
   "execution_count": null,
   "id": "362a9092-0216-4c74-82a6-bb2186aef3cd",
   "metadata": {},
   "outputs": [],
   "source": [
    "# Json file that lists the datasets to be downloaded\n",
    "df = '/Users/bato/work/HyP3-ARIA-Orchestration/CA-test-71_job.json'\n",
    "\n",
    "# Save directory\n",
    "savedir = '/Users/bato/work/HyP3-ARIA-Orchestration/'"
   ]
  },
  {
   "cell_type": "code",
   "execution_count": null,
   "id": "94dd0480-49e2-4f4c-81c9-90a169ffae12",
   "metadata": {},
   "outputs": [],
   "source": [
    "import hyp3_sdk\n",
    "import json\n",
    "from pathlib import Path\n",
    "import concurrent.futures\n",
    "from tqdm import tqdm\n",
    "\n",
    "# uses .netrc; add `prompt=True` to prompt for credentials; \n",
    "hyp3_isce = hyp3_sdk.HyP3('https://hyp3-isce.asf.alaska.edu/')\n",
    "job_ids = json.loads(Path(df).read_text())\n",
    "\n",
    "jobs = hyp3_sdk.Batch()\n",
    "for ii in job_ids:\n",
    "    jobs += hyp3_isce.get_job_by_id(ii)"
   ]
  },
  {
   "cell_type": "code",
   "execution_count": null,
   "id": "5f553eb9-7818-4cde-9341-70cd182e93af",
   "metadata": {},
   "outputs": [],
   "source": [
    "# Download files in parallel\n",
    "with concurrent.futures.ThreadPoolExecutor(max_workers=10) as executor:\n",
    "    results = list(tqdm(executor.map(lambda job: job.download_files(savedir), jobs), total=len(jobs)))"
   ]
  }
 ],
 "metadata": {
  "kernelspec": {
   "display_name": "s1-enumerator",
   "language": "python",
   "name": "s1-enumerator"
  },
  "language_info": {
   "codemirror_mode": {
    "name": "ipython",
    "version": 3
   },
   "file_extension": ".py",
   "mimetype": "text/x-python",
   "name": "python",
   "nbconvert_exporter": "python",
   "pygments_lexer": "ipython3",
   "version": "3.9.7"
  }
 },
 "nbformat": 4,
 "nbformat_minor": 5
}
