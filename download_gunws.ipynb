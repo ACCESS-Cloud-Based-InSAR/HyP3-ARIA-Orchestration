{
 "cells": [
  {
   "cell_type": "markdown",
   "source": [
    "This is to demonstrate how to download files given the name of the deployment (e.g. ```test-dem-95-sim```)."
   ],
   "metadata": {}
  },
  {
   "cell_type": "code",
   "execution_count": null,
   "source": [
    "import hyp3_sdk\n",
    "import os\n",
    "\n",
    "# Define job-name\n",
    "job_name = 'test-dem-95-sim'"
   ],
   "outputs": [],
   "metadata": {}
  },
  {
   "cell_type": "code",
   "execution_count": null,
   "source": [
    "# uses .netrc; add `prompt=True` to prompt for credentials; \n",
    "hyp3_isce = hyp3_sdk.HyP3('https://hyp3-isce.asf.alaska.edu/')\n",
    "jobs = hyp3_isce.find_jobs(name=job_name)\n",
    "\n",
    "job_ids = [job.job_id for job in jobs]\n",
    "\n",
    "import json\n",
    "from pathlib import Path\n",
    "Path(job_name+'json').write_text(json.dumps(job_ids))"
   ],
   "outputs": [],
   "metadata": {}
  },
  {
   "cell_type": "code",
   "execution_count": null,
   "source": [
    "# Generate json file that lists the datasets to be downloaded\n",
    "df = str(Path(job_name+'json').absolute())\n",
    "\n",
    "# Save directory\n",
    "savedir = os.path.join(os.path.abspath(os.getcwd()),'deployment')\n",
    "if not os.path.exists(savedir):\n",
    "    os.mkdir(savedir)"
   ],
   "outputs": [],
   "metadata": {}
  },
  {
   "cell_type": "code",
   "execution_count": null,
   "source": [
    "import hyp3_sdk\n",
    "import json\n",
    "from pathlib import Path\n",
    "import concurrent.futures\n",
    "from tqdm import tqdm\n",
    "\n",
    "# uses .netrc; add `prompt=True` to prompt for credentials; \n",
    "hyp3_isce = hyp3_sdk.HyP3('https://hyp3-isce.asf.alaska.edu/')\n",
    "job_ids = json.loads(Path(df).read_text())\n",
    "\n",
    "jobs = hyp3_sdk.Batch()\n",
    "for ii in job_ids:\n",
    "    jobs += hyp3_isce.get_job_by_id(ii)"
   ],
   "outputs": [],
   "metadata": {}
  },
  {
   "cell_type": "code",
   "execution_count": null,
   "source": [
    "# Download files in parallel\n",
    "with concurrent.futures.ThreadPoolExecutor(max_workers=10) as executor:\n",
    "    results = list(tqdm(executor.map(lambda job: job.download_files(savedir), jobs), total=len(jobs)))"
   ],
   "outputs": [],
   "metadata": {}
  }
 ],
 "metadata": {
  "kernelspec": {
   "name": "python3",
   "display_name": "Python 3.9.7 64-bit ('s1-enumerator': conda)"
  },
  "language_info": {
   "codemirror_mode": {
    "name": "ipython",
    "version": 3
   },
   "file_extension": ".py",
   "mimetype": "text/x-python",
   "name": "python",
   "nbconvert_exporter": "python",
   "pygments_lexer": "ipython3",
   "version": "3.9.7"
  },
  "interpreter": {
   "hash": "d5caced1b6f6328ebf252ee0289534035286b1269cd2adef619b938e0a9fdf27"
  }
 },
 "nbformat": 4,
 "nbformat_minor": 5
}