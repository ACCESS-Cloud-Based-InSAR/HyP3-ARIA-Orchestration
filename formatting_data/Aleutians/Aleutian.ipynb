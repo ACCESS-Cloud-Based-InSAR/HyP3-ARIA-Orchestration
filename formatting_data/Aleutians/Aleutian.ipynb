{
 "cells": [
  {
   "cell_type": "code",
   "execution_count": 1,
   "id": "optional-circumstances",
   "metadata": {
    "ExecuteTime": {
     "end_time": "2021-12-02T18:58:52.292598Z",
     "start_time": "2021-12-02T18:58:50.735225Z"
    }
   },
   "outputs": [],
   "source": [
    "from zipfile import ZipFile\n",
    "from pathlib import Path\n",
    "import geopandas as gpd\n",
    "import fiona\n",
    "import pandas as pd\n",
    "import shutil\n",
    "from itertools import starmap\n",
    "from rasterio.crs import CRS\n",
    "\n",
    "fiona.drvsupport.supported_drivers['kml'] = 'rw' # enable KML support which is disabled by default\n",
    "fiona.drvsupport.supported_drivers['KML'] = 'rw' # enable KML support which is disabled by default"
   ]
  },
  {
   "cell_type": "code",
   "execution_count": 2,
   "id": "oriental-alexander",
   "metadata": {
    "ExecuteTime": {
     "end_time": "2021-12-02T18:58:52.304887Z",
     "start_time": "2021-12-02T18:58:52.296800Z"
    }
   },
   "outputs": [
    {
     "data": {
      "text/plain": [
       "[PosixPath('kmz/track_161_Aleutians.kmz'),\n",
       " PosixPath('kmz/track_088_Aleutians.kmz'),\n",
       " PosixPath('kmz/track_095_Aleutians.kmz'),\n",
       " PosixPath('kmz/track_015_Aleutians.kmz'),\n",
       " PosixPath('kmz/track_168_Aleutians.kmz'),\n",
       " PosixPath('kmz/track_066_Aleutians.kmz'),\n",
       " PosixPath('kmz/track_124_Aleutians.kmz'),\n",
       " PosixPath('kmz/track_073_Aleutians.kmz'),\n",
       " PosixPath('kmz/track_059_Aleutians.kmz'),\n",
       " PosixPath('kmz/track_153_Aleutians.kmz'),\n",
       " PosixPath('kmz/track_044_Aleutians.kmz'),\n",
       " PosixPath('kmz/track_117_Aleutians.kmz'),\n",
       " PosixPath('kmz/track_037_Aleutians.kmz')]"
      ]
     },
     "execution_count": 2,
     "metadata": {},
     "output_type": "execute_result"
    }
   ],
   "source": [
    "kmzs = list(Path('.').glob('kmz/*.kmz'))\n",
    "kmzs"
   ]
  },
  {
   "cell_type": "code",
   "execution_count": 3,
   "id": "supposed-boxing",
   "metadata": {
    "ExecuteTime": {
     "end_time": "2021-12-02T18:58:52.779950Z",
     "start_time": "2021-12-02T18:58:52.775621Z"
    }
   },
   "outputs": [],
   "source": [
    "def read_one(kmz_path, **kwargs):\n",
    "    kmz_zip = ZipFile(kmz_path, 'r')\n",
    "    temp_dir = Path(f'tmp_{kmz_path.stem}')\n",
    "    temp_dir.mkdir(exist_ok=True)\n",
    "    kml_path = kmz_zip.extract('doc.kml', temp_dir)\n",
    "    df = gpd.read_file(kml_path)\n",
    "\n",
    "    df = gpd.GeoDataFrame(geometry=[df.geometry.unary_union],\n",
    "                          crs=CRS.from_epsg(4326))\n",
    "    n = len(kwargs['min_days_backward']) - 1\n",
    "    if n:\n",
    "        df = df.append([df]*n).reset_index(drop=True)\n",
    "    \n",
    "    for key in list(kwargs):\n",
    "        df[key] = kwargs[key]\n",
    "        \n",
    "    tokens = str(kmz_path.stem).split('_')\n",
    "    df['aoi_name'] = tokens[-1]\n",
    "    df['path_number'] = int(tokens[1])\n",
    "    \n",
    "    columns = ['aoi_name','path_number'] + list(kwargs.keys()) + ['geometry']\n",
    "    df = df[columns]\n",
    "    shutil.rmtree(temp_dir)\n",
    "    return df"
   ]
  },
  {
   "cell_type": "code",
   "execution_count": 4,
   "id": "italic-appendix",
   "metadata": {
    "ExecuteTime": {
     "end_time": "2021-12-02T18:58:53.345709Z",
     "start_time": "2021-12-02T18:58:53.343450Z"
    }
   },
   "outputs": [],
   "source": [
    "kwargs = {'min_days_backward': [364, 0],\n",
    "          'month_range_lower': 6,\n",
    "          'month_range_upper': 10,\n",
    "          'num_neighbors_ref': 3}"
   ]
  },
  {
   "cell_type": "code",
   "execution_count": 5,
   "id": "japanese-intensity",
   "metadata": {
    "ExecuteTime": {
     "end_time": "2021-12-02T18:58:54.478697Z",
     "start_time": "2021-12-02T18:58:53.815416Z"
    }
   },
   "outputs": [
    {
     "name": "stderr",
     "output_type": "stream",
     "text": [
      "/Users/cmarshak/opt/anaconda3/lib/python3.8/site-packages/geopandas/geodataframe.py:422: RuntimeWarning: Sequential read of iterator was interrupted. Resetting iterator. This can negatively impact the performance.\n",
      "  for feature in features_lst:\n"
     ]
    },
    {
     "data": {
      "text/html": [
       "<div>\n",
       "<style scoped>\n",
       "    .dataframe tbody tr th:only-of-type {\n",
       "        vertical-align: middle;\n",
       "    }\n",
       "\n",
       "    .dataframe tbody tr th {\n",
       "        vertical-align: top;\n",
       "    }\n",
       "\n",
       "    .dataframe thead th {\n",
       "        text-align: right;\n",
       "    }\n",
       "</style>\n",
       "<table border=\"1\" class=\"dataframe\">\n",
       "  <thead>\n",
       "    <tr style=\"text-align: right;\">\n",
       "      <th></th>\n",
       "      <th>aoi_name</th>\n",
       "      <th>path_number</th>\n",
       "      <th>min_days_backward</th>\n",
       "      <th>month_range_lower</th>\n",
       "      <th>month_range_upper</th>\n",
       "      <th>num_neighbors_ref</th>\n",
       "      <th>geometry</th>\n",
       "    </tr>\n",
       "  </thead>\n",
       "  <tbody>\n",
       "    <tr>\n",
       "      <th>0</th>\n",
       "      <td>Aleutians</td>\n",
       "      <td>161</td>\n",
       "      <td>364</td>\n",
       "      <td>6</td>\n",
       "      <td>10</td>\n",
       "      <td>3</td>\n",
       "      <td>POLYGON Z ((-173.04266 52.61615 0.00000, -176....</td>\n",
       "    </tr>\n",
       "    <tr>\n",
       "      <th>1</th>\n",
       "      <td>Aleutians</td>\n",
       "      <td>161</td>\n",
       "      <td>0</td>\n",
       "      <td>6</td>\n",
       "      <td>10</td>\n",
       "      <td>3</td>\n",
       "      <td>POLYGON Z ((-173.04266 52.61615 0.00000, -176....</td>\n",
       "    </tr>\n",
       "  </tbody>\n",
       "</table>\n",
       "</div>"
      ],
      "text/plain": [
       "    aoi_name  path_number  min_days_backward  month_range_lower  \\\n",
       "0  Aleutians          161                364                  6   \n",
       "1  Aleutians          161                  0                  6   \n",
       "\n",
       "   month_range_upper  num_neighbors_ref  \\\n",
       "0                 10                  3   \n",
       "1                 10                  3   \n",
       "\n",
       "                                            geometry  \n",
       "0  POLYGON Z ((-173.04266 52.61615 0.00000, -176....  \n",
       "1  POLYGON Z ((-173.04266 52.61615 0.00000, -176....  "
      ]
     },
     "execution_count": 5,
     "metadata": {},
     "output_type": "execute_result"
    }
   ],
   "source": [
    "read_one_p = lambda path: read_one(path, **kwargs)\n",
    "dfs = list(map(read_one_p, kmzs))\n",
    "dfs[0]"
   ]
  },
  {
   "cell_type": "code",
   "execution_count": 6,
   "id": "little-component",
   "metadata": {
    "ExecuteTime": {
     "end_time": "2021-12-02T18:58:57.157689Z",
     "start_time": "2021-12-02T18:58:56.799470Z"
    }
   },
   "outputs": [
    {
     "data": {
      "text/plain": [
       "<AxesSubplot:>"
      ]
     },
     "execution_count": 6,
     "metadata": {},
     "output_type": "execute_result"
    },
    {
     "data": {
      "image/png": "[encoded data removed]",
      "text/plain": [
       "<Figure size 432x288 with 1 Axes>"
      ]
     },
     "metadata": {
      "needs_background": "light"
     },
     "output_type": "display_data"
    }
   ],
   "source": [
    "df = pd.concat(dfs, axis=0)\n",
    "df.exterior.plot()"
   ]
  },
  {
   "cell_type": "code",
   "execution_count": 7,
   "id": "stretch-quantity",
   "metadata": {
    "ExecuteTime": {
     "end_time": "2021-12-02T18:58:57.794039Z",
     "start_time": "2021-12-02T18:58:57.791337Z"
    }
   },
   "outputs": [],
   "source": [
    "def write_one(df):\n",
    "    out_dir = Path('out')\n",
    "    out_dir.mkdir(exist_ok=True)\n",
    "    path_number = df.path_number.tolist()[0]\n",
    "    aoi_name = df.aoi_name[0]\n",
    "    out_path = out_dir/f'{aoi_name}_pathNumber{path_number}.geojson'\n",
    "    df.to_file(out_path, driver='GeoJSON')\n",
    "    return out_path"
   ]
  },
  {
   "cell_type": "code",
   "execution_count": 8,
   "id": "operational-thumb",
   "metadata": {
    "ExecuteTime": {
     "end_time": "2021-12-02T18:58:58.337926Z",
     "start_time": "2021-12-02T18:58:58.255069Z"
    }
   },
   "outputs": [
    {
     "data": {
      "text/plain": [
       "[PosixPath('out/Aleutians_pathNumber161.geojson'),\n",
       " PosixPath('out/Aleutians_pathNumber88.geojson'),\n",
       " PosixPath('out/Aleutians_pathNumber95.geojson'),\n",
       " PosixPath('out/Aleutians_pathNumber15.geojson'),\n",
       " PosixPath('out/Aleutians_pathNumber168.geojson'),\n",
       " PosixPath('out/Aleutians_pathNumber66.geojson'),\n",
       " PosixPath('out/Aleutians_pathNumber124.geojson'),\n",
       " PosixPath('out/Aleutians_pathNumber73.geojson'),\n",
       " PosixPath('out/Aleutians_pathNumber59.geojson'),\n",
       " PosixPath('out/Aleutians_pathNumber153.geojson'),\n",
       " PosixPath('out/Aleutians_pathNumber44.geojson'),\n",
       " PosixPath('out/Aleutians_pathNumber117.geojson'),\n",
       " PosixPath('out/Aleutians_pathNumber37.geojson')]"
      ]
     },
     "execution_count": 8,
     "metadata": {},
     "output_type": "execute_result"
    }
   ],
   "source": [
    "list(map(write_one, dfs))"
   ]
  },
  {
   "cell_type": "code",
   "execution_count": 9,
   "id": "closed-communist",
   "metadata": {
    "ExecuteTime": {
     "end_time": "2021-12-02T18:58:58.810704Z",
     "start_time": "2021-12-02T18:58:58.807127Z"
    }
   },
   "outputs": [
    {
     "data": {
      "text/plain": [
       "'Aleutians'"
      ]
     },
     "execution_count": 9,
     "metadata": {},
     "output_type": "execute_result"
    }
   ],
   "source": [
    "dfs[0].path_number[0]\n",
    "dfs[0].aoi_name[0]"
   ]
  }
 ],
 "metadata": {
  "kernelspec": {
   "display_name": "Python 3",
   "language": "python",
   "name": "python3"
  },
  "language_info": {
   "codemirror_mode": {
    "name": "ipython",
    "version": 3
   },
   "file_extension": ".py",
   "mimetype": "text/x-python",
   "name": "python",
   "nbconvert_exporter": "python",
   "pygments_lexer": "ipython3",
   "version": "3.8.5"
  }
 },
 "nbformat": 4,
 "nbformat_minor": 5
}
